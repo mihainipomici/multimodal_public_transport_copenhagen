{
 "cells": [
  {
   "cell_type": "code",
   "execution_count": 1,
   "metadata": {},
   "outputs": [],
   "source": [
    "import matplotlib.pyplot as plt\n",
    "import seaborn as sns\n",
    "import pandas as pd\n",
    "import numpy as np\n",
    "import pandas as pd\n",
    "import numpy as np\n",
    "import matplotlib.pyplot as plt\n",
    "import seaborn as sns\n",
    "import geopandas as gpd\n",
    "from sklearn.cluster import DBSCAN\n",
    "# from haversine import haversine as hs\n",
    "import requests\n",
    "%matplotlib inline\n",
    "# from pydantic_settings import BaseSettings\n",
    "#from ydata_profiling import ProfileReport\n",
    "\n",
    "import sys\n",
    "import os\n",
    "# see all columns\n",
    "pd.set_option('display.max_columns', None)\n",
    "sys.path.append('../utils/')\n",
    "#sys.path.append('..\\\\utils\\\\')\n",
    "from functions import *"
   ]
  },
  {
   "cell_type": "code",
   "execution_count": 2,
   "metadata": {},
   "outputs": [],
   "source": [
    "gm = pd.read_csv('../data/processed/gm_cleaned.csv', parse_dates=[\"StartTime\", \"EndTime\"])"
   ]
  },
  {
   "cell_type": "code",
   "execution_count": 3,
   "metadata": {},
   "outputs": [
    {
     "data": {
      "text/html": [
       "<div>\n",
       "<style scoped>\n",
       "    .dataframe tbody tr th:only-of-type {\n",
       "        vertical-align: middle;\n",
       "    }\n",
       "\n",
       "    .dataframe tbody tr th {\n",
       "        vertical-align: top;\n",
       "    }\n",
       "\n",
       "    .dataframe thead th {\n",
       "        text-align: right;\n",
       "    }\n",
       "</style>\n",
       "<table border=\"1\" class=\"dataframe\">\n",
       "  <thead>\n",
       "    <tr style=\"text-align: right;\">\n",
       "      <th></th>\n",
       "      <th>FromZoneID</th>\n",
       "      <th>ToZoneID</th>\n",
       "      <th>DriveLength</th>\n",
       "      <th>FreeTime</th>\n",
       "      <th>CongTime</th>\n",
       "      <th>CarGenCost</th>\n",
       "      <th>NoOfChange</th>\n",
       "      <th>WaitT</th>\n",
       "      <th>ZoneWaitT</th>\n",
       "      <th>ZoneConT</th>\n",
       "      <th>InVehicleT</th>\n",
       "      <th>PubDist</th>\n",
       "      <th>PubGenCost</th>\n",
       "      <th>OBJECTID</th>\n",
       "      <th>id</th>\n",
       "      <th>StartTime</th>\n",
       "      <th>EndTime</th>\n",
       "      <th>vehicleId</th>\n",
       "      <th>LatitudeStart</th>\n",
       "      <th>LongitudeStart</th>\n",
       "      <th>LatitudeEnd</th>\n",
       "      <th>LongitudeEnd</th>\n",
       "      <th>age</th>\n",
       "      <th>sex</th>\n",
       "      <th>Month</th>\n",
       "      <th>Weekday</th>\n",
       "      <th>StartHour</th>\n",
       "      <th>ZoneTransition</th>\n",
       "      <th>age_group</th>\n",
       "    </tr>\n",
       "  </thead>\n",
       "  <tbody>\n",
       "    <tr>\n",
       "      <th>0</th>\n",
       "      <td>102110</td>\n",
       "      <td>102110</td>\n",
       "      <td>1.259823</td>\n",
       "      <td>5.519646</td>\n",
       "      <td>0.0</td>\n",
       "      <td>0.0</td>\n",
       "      <td>0.0</td>\n",
       "      <td>0.0</td>\n",
       "      <td>15.0</td>\n",
       "      <td>3.0</td>\n",
       "      <td>0.779469</td>\n",
       "      <td>0.459823</td>\n",
       "      <td>0.0</td>\n",
       "      <td>-1.0</td>\n",
       "      <td>88666.0</td>\n",
       "      <td>2017-07-05 13:11:18</td>\n",
       "      <td>2017-07-05 14:43:05</td>\n",
       "      <td>254.0</td>\n",
       "      <td>55.67551</td>\n",
       "      <td>12.58333</td>\n",
       "      <td>55.67555</td>\n",
       "      <td>12.58313</td>\n",
       "      <td>36.0</td>\n",
       "      <td>M</td>\n",
       "      <td>July</td>\n",
       "      <td>Wednesday</td>\n",
       "      <td>13</td>\n",
       "      <td>102110 to 102110</td>\n",
       "      <td>35-50</td>\n",
       "    </tr>\n",
       "    <tr>\n",
       "      <th>1</th>\n",
       "      <td>102110</td>\n",
       "      <td>102110</td>\n",
       "      <td>1.259823</td>\n",
       "      <td>5.519646</td>\n",
       "      <td>0.0</td>\n",
       "      <td>0.0</td>\n",
       "      <td>0.0</td>\n",
       "      <td>0.0</td>\n",
       "      <td>15.0</td>\n",
       "      <td>3.0</td>\n",
       "      <td>0.779469</td>\n",
       "      <td>0.459823</td>\n",
       "      <td>0.0</td>\n",
       "      <td>-1.0</td>\n",
       "      <td>95281.0</td>\n",
       "      <td>2017-07-10 08:43:57</td>\n",
       "      <td>2017-07-10 08:49:17</td>\n",
       "      <td>206.0</td>\n",
       "      <td>55.67511</td>\n",
       "      <td>12.58435</td>\n",
       "      <td>55.67533</td>\n",
       "      <td>12.58326</td>\n",
       "      <td>22.0</td>\n",
       "      <td>M</td>\n",
       "      <td>July</td>\n",
       "      <td>Monday</td>\n",
       "      <td>8</td>\n",
       "      <td>102110 to 102110</td>\n",
       "      <td>0-25</td>\n",
       "    </tr>\n",
       "    <tr>\n",
       "      <th>2</th>\n",
       "      <td>102110</td>\n",
       "      <td>102110</td>\n",
       "      <td>1.259823</td>\n",
       "      <td>5.519646</td>\n",
       "      <td>0.0</td>\n",
       "      <td>0.0</td>\n",
       "      <td>0.0</td>\n",
       "      <td>0.0</td>\n",
       "      <td>15.0</td>\n",
       "      <td>3.0</td>\n",
       "      <td>0.779469</td>\n",
       "      <td>0.459823</td>\n",
       "      <td>0.0</td>\n",
       "      <td>-1.0</td>\n",
       "      <td>103791.0</td>\n",
       "      <td>2017-07-16 08:13:52</td>\n",
       "      <td>2017-07-16 08:35:48</td>\n",
       "      <td>30.0</td>\n",
       "      <td>55.67554</td>\n",
       "      <td>12.58329</td>\n",
       "      <td>55.67537</td>\n",
       "      <td>12.58320</td>\n",
       "      <td>21.0</td>\n",
       "      <td>M</td>\n",
       "      <td>July</td>\n",
       "      <td>Sunday</td>\n",
       "      <td>8</td>\n",
       "      <td>102110 to 102110</td>\n",
       "      <td>0-25</td>\n",
       "    </tr>\n",
       "    <tr>\n",
       "      <th>3</th>\n",
       "      <td>102110</td>\n",
       "      <td>102110</td>\n",
       "      <td>1.259823</td>\n",
       "      <td>5.519646</td>\n",
       "      <td>0.0</td>\n",
       "      <td>0.0</td>\n",
       "      <td>0.0</td>\n",
       "      <td>0.0</td>\n",
       "      <td>15.0</td>\n",
       "      <td>3.0</td>\n",
       "      <td>0.779469</td>\n",
       "      <td>0.459823</td>\n",
       "      <td>0.0</td>\n",
       "      <td>-1.0</td>\n",
       "      <td>104956.0</td>\n",
       "      <td>2017-07-17 01:17:30</td>\n",
       "      <td>2017-07-17 01:19:22</td>\n",
       "      <td>194.0</td>\n",
       "      <td>55.67540</td>\n",
       "      <td>12.58367</td>\n",
       "      <td>55.67541</td>\n",
       "      <td>12.58369</td>\n",
       "      <td>20.0</td>\n",
       "      <td>F</td>\n",
       "      <td>July</td>\n",
       "      <td>Monday</td>\n",
       "      <td>1</td>\n",
       "      <td>102110 to 102110</td>\n",
       "      <td>0-25</td>\n",
       "    </tr>\n",
       "    <tr>\n",
       "      <th>4</th>\n",
       "      <td>102110</td>\n",
       "      <td>102110</td>\n",
       "      <td>1.259823</td>\n",
       "      <td>5.519646</td>\n",
       "      <td>0.0</td>\n",
       "      <td>0.0</td>\n",
       "      <td>0.0</td>\n",
       "      <td>0.0</td>\n",
       "      <td>15.0</td>\n",
       "      <td>3.0</td>\n",
       "      <td>0.779469</td>\n",
       "      <td>0.459823</td>\n",
       "      <td>0.0</td>\n",
       "      <td>-1.0</td>\n",
       "      <td>132487.0</td>\n",
       "      <td>2017-08-05 14:46:51</td>\n",
       "      <td>2017-08-05 14:48:09</td>\n",
       "      <td>203.0</td>\n",
       "      <td>55.67312</td>\n",
       "      <td>12.57928</td>\n",
       "      <td>55.67292</td>\n",
       "      <td>12.57949</td>\n",
       "      <td>27.0</td>\n",
       "      <td>M</td>\n",
       "      <td>August</td>\n",
       "      <td>Saturday</td>\n",
       "      <td>14</td>\n",
       "      <td>102110 to 102110</td>\n",
       "      <td>26-35</td>\n",
       "    </tr>\n",
       "  </tbody>\n",
       "</table>\n",
       "</div>"
      ],
      "text/plain": [
       "   FromZoneID  ToZoneID  DriveLength  FreeTime  CongTime  CarGenCost  \\\n",
       "0      102110    102110     1.259823  5.519646       0.0         0.0   \n",
       "1      102110    102110     1.259823  5.519646       0.0         0.0   \n",
       "2      102110    102110     1.259823  5.519646       0.0         0.0   \n",
       "3      102110    102110     1.259823  5.519646       0.0         0.0   \n",
       "4      102110    102110     1.259823  5.519646       0.0         0.0   \n",
       "\n",
       "   NoOfChange  WaitT  ZoneWaitT  ZoneConT  InVehicleT   PubDist  PubGenCost  \\\n",
       "0         0.0    0.0       15.0       3.0    0.779469  0.459823         0.0   \n",
       "1         0.0    0.0       15.0       3.0    0.779469  0.459823         0.0   \n",
       "2         0.0    0.0       15.0       3.0    0.779469  0.459823         0.0   \n",
       "3         0.0    0.0       15.0       3.0    0.779469  0.459823         0.0   \n",
       "4         0.0    0.0       15.0       3.0    0.779469  0.459823         0.0   \n",
       "\n",
       "   OBJECTID        id           StartTime             EndTime  vehicleId  \\\n",
       "0      -1.0   88666.0 2017-07-05 13:11:18 2017-07-05 14:43:05      254.0   \n",
       "1      -1.0   95281.0 2017-07-10 08:43:57 2017-07-10 08:49:17      206.0   \n",
       "2      -1.0  103791.0 2017-07-16 08:13:52 2017-07-16 08:35:48       30.0   \n",
       "3      -1.0  104956.0 2017-07-17 01:17:30 2017-07-17 01:19:22      194.0   \n",
       "4      -1.0  132487.0 2017-08-05 14:46:51 2017-08-05 14:48:09      203.0   \n",
       "\n",
       "   LatitudeStart  LongitudeStart  LatitudeEnd  LongitudeEnd   age sex   Month  \\\n",
       "0       55.67551        12.58333     55.67555      12.58313  36.0   M    July   \n",
       "1       55.67511        12.58435     55.67533      12.58326  22.0   M    July   \n",
       "2       55.67554        12.58329     55.67537      12.58320  21.0   M    July   \n",
       "3       55.67540        12.58367     55.67541      12.58369  20.0   F    July   \n",
       "4       55.67312        12.57928     55.67292      12.57949  27.0   M  August   \n",
       "\n",
       "     Weekday  StartHour    ZoneTransition age_group  \n",
       "0  Wednesday         13  102110 to 102110     35-50  \n",
       "1     Monday          8  102110 to 102110      0-25  \n",
       "2     Sunday          8  102110 to 102110      0-25  \n",
       "3     Monday          1  102110 to 102110      0-25  \n",
       "4   Saturday         14  102110 to 102110     26-35  "
      ]
     },
     "execution_count": 3,
     "metadata": {},
     "output_type": "execute_result"
    }
   ],
   "source": [
    "gm.head()"
   ]
  },
  {
   "cell_type": "code",
   "execution_count": 4,
   "metadata": {},
   "outputs": [],
   "source": [
    "# create the StartTimeUpdated column\n",
    "gm.loc[:, 'StartTimeUpdated'] = update_start_date_vectorized(gm['Weekday'], gm['StartTime'])"
   ]
  },
  {
   "cell_type": "code",
   "execution_count": 5,
   "metadata": {},
   "outputs": [
    {
     "name": "stdout",
     "output_type": "stream",
     "text": [
      "<class 'pandas.core.frame.DataFrame'>\n",
      "RangeIndex: 110390 entries, 0 to 110389\n",
      "Data columns (total 30 columns):\n",
      " #   Column            Non-Null Count   Dtype         \n",
      "---  ------            --------------   -----         \n",
      " 0   FromZoneID        110390 non-null  int64         \n",
      " 1   ToZoneID          110390 non-null  int64         \n",
      " 2   DriveLength       110390 non-null  float64       \n",
      " 3   FreeTime          110390 non-null  float64       \n",
      " 4   CongTime          110390 non-null  float64       \n",
      " 5   CarGenCost        110390 non-null  float64       \n",
      " 6   NoOfChange        110390 non-null  float64       \n",
      " 7   WaitT             110390 non-null  float64       \n",
      " 8   ZoneWaitT         110390 non-null  float64       \n",
      " 9   ZoneConT          110390 non-null  float64       \n",
      " 10  InVehicleT        110390 non-null  float64       \n",
      " 11  PubDist           110390 non-null  float64       \n",
      " 12  PubGenCost        110390 non-null  float64       \n",
      " 13  OBJECTID          110390 non-null  float64       \n",
      " 14  id                110390 non-null  float64       \n",
      " 15  StartTime         110390 non-null  datetime64[ns]\n",
      " 16  EndTime           110390 non-null  datetime64[ns]\n",
      " 17  vehicleId         110390 non-null  float64       \n",
      " 18  LatitudeStart     110390 non-null  float64       \n",
      " 19  LongitudeStart    110390 non-null  float64       \n",
      " 20  LatitudeEnd       110390 non-null  float64       \n",
      " 21  LongitudeEnd      110390 non-null  float64       \n",
      " 22  age               110390 non-null  float64       \n",
      " 23  sex               108143 non-null  object        \n",
      " 24  Month             110390 non-null  object        \n",
      " 25  Weekday           110390 non-null  object        \n",
      " 26  StartHour         110390 non-null  int64         \n",
      " 27  ZoneTransition    110390 non-null  object        \n",
      " 28  age_group         110390 non-null  object        \n",
      " 29  StartTimeUpdated  110390 non-null  datetime64[ns]\n",
      "dtypes: datetime64[ns](3), float64(19), int64(3), object(5)\n",
      "memory usage: 25.3+ MB\n"
     ]
    }
   ],
   "source": [
    "gm.info()"
   ]
  },
  {
   "cell_type": "code",
   "execution_count": 6,
   "metadata": {},
   "outputs": [
    {
     "name": "stderr",
     "output_type": "stream",
     "text": [
      "Processing itineraries:   0%|          | 252/110390 [00:00<03:26, 533.82it/s]"
     ]
    },
    {
     "name": "stdout",
     "output_type": "stream",
     "text": [
      "Row 274 generated an exception: min() arg is an empty sequence\n",
      "Row 281 generated an exception: min() arg is an empty sequence\n",
      "Row 292 generated an exception: min() arg is an empty sequence\n",
      "Row 302 generated an exception: min() arg is an empty sequence\n"
     ]
    },
    {
     "name": "stderr",
     "output_type": "stream",
     "text": [
      "Processing itineraries:   2%|▏         | 2035/110390 [03:00<4:17:23,  7.02it/s]"
     ]
    },
    {
     "name": "stdout",
     "output_type": "stream",
     "text": [
      "Row 2039 generated an exception: min() arg is an empty sequence\n"
     ]
    },
    {
     "name": "stderr",
     "output_type": "stream",
     "text": [
      "Processing itineraries:   2%|▏         | 2332/110390 [03:31<4:02:43,  7.42it/s]"
     ]
    },
    {
     "name": "stdout",
     "output_type": "stream",
     "text": [
      "Row 2342 generated an exception: min() arg is an empty sequence\n"
     ]
    },
    {
     "name": "stderr",
     "output_type": "stream",
     "text": [
      "Processing itineraries:   2%|▏         | 2360/110390 [03:34<2:45:22, 10.89it/s]"
     ]
    },
    {
     "name": "stdout",
     "output_type": "stream",
     "text": [
      "Row 2368 generated an exception: min() arg is an empty sequence\n"
     ]
    },
    {
     "name": "stderr",
     "output_type": "stream",
     "text": [
      "Processing itineraries:   2%|▏         | 2390/110390 [03:37<2:22:01, 12.67it/s]"
     ]
    },
    {
     "name": "stdout",
     "output_type": "stream",
     "text": [
      "Row 2398 generated an exception: min() arg is an empty sequence\n"
     ]
    },
    {
     "name": "stderr",
     "output_type": "stream",
     "text": [
      "Processing itineraries:   2%|▏         | 2394/110390 [03:37<2:17:04, 13.13it/s]"
     ]
    },
    {
     "name": "stdout",
     "output_type": "stream",
     "text": [
      "Row 2403 generated an exception: min() arg is an empty sequence\n"
     ]
    },
    {
     "name": "stderr",
     "output_type": "stream",
     "text": [
      "Processing itineraries:   2%|▏         | 2408/110390 [03:38<1:49:56, 16.37it/s]"
     ]
    },
    {
     "name": "stdout",
     "output_type": "stream",
     "text": [
      "Row 2407 generated an exception: min() arg is an empty sequence\n",
      "Row 2412 generated an exception: min() arg is an empty sequence\n",
      "Row 2414 generated an exception: min() arg is an empty sequence\n"
     ]
    },
    {
     "name": "stderr",
     "output_type": "stream",
     "text": [
      "Processing itineraries:   4%|▎         | 4006/110390 [06:16<2:43:43, 10.83it/s]"
     ]
    },
    {
     "name": "stdout",
     "output_type": "stream",
     "text": [
      "Row 4012 generated an exception: min() arg is an empty sequence\n"
     ]
    },
    {
     "name": "stderr",
     "output_type": "stream",
     "text": [
      "Processing itineraries:   4%|▎         | 4058/110390 [06:21<2:04:03, 14.29it/s]"
     ]
    },
    {
     "name": "stdout",
     "output_type": "stream",
     "text": [
      "Row 4061 generated an exception: min() arg is an empty sequence\n",
      "Row 4064 generated an exception: min() arg is an empty sequence\n"
     ]
    },
    {
     "name": "stderr",
     "output_type": "stream",
     "text": [
      "Processing itineraries:   4%|▎         | 4078/110390 [06:24<3:36:39,  8.18it/s]"
     ]
    },
    {
     "name": "stdout",
     "output_type": "stream",
     "text": [
      "Row 4085 generated an exception: min() arg is an empty sequence\n"
     ]
    },
    {
     "name": "stderr",
     "output_type": "stream",
     "text": [
      "Processing itineraries:   4%|▎         | 4087/110390 [06:25<3:26:28,  8.58it/s]"
     ]
    },
    {
     "name": "stdout",
     "output_type": "stream",
     "text": [
      "Row 4096 generated an exception: min() arg is an empty sequence\n"
     ]
    },
    {
     "name": "stderr",
     "output_type": "stream",
     "text": [
      "Processing itineraries:   4%|▎         | 4107/110390 [06:27<2:58:48,  9.91it/s]"
     ]
    },
    {
     "name": "stdout",
     "output_type": "stream",
     "text": [
      "Row 4116 generated an exception: min() arg is an empty sequence\n"
     ]
    },
    {
     "name": "stderr",
     "output_type": "stream",
     "text": [
      "Processing itineraries:   5%|▌         | 5657/110390 [09:00<2:23:00, 12.21it/s]"
     ]
    },
    {
     "name": "stdout",
     "output_type": "stream",
     "text": [
      "Row 5663 generated an exception: min() arg is an empty sequence\n"
     ]
    },
    {
     "name": "stderr",
     "output_type": "stream",
     "text": [
      "Processing itineraries:   5%|▌         | 5669/110390 [09:02<3:58:03,  7.33it/s]"
     ]
    },
    {
     "name": "stdout",
     "output_type": "stream",
     "text": [
      "Row 5677 generated an exception: min() arg is an empty sequence\n"
     ]
    },
    {
     "name": "stderr",
     "output_type": "stream",
     "text": [
      "Processing itineraries:   5%|▌         | 5675/110390 [09:03<3:31:33,  8.25it/s]"
     ]
    },
    {
     "name": "stdout",
     "output_type": "stream",
     "text": [
      "Row 5683 generated an exception: min() arg is an empty sequence\n"
     ]
    },
    {
     "name": "stderr",
     "output_type": "stream",
     "text": [
      "Processing itineraries:   5%|▌         | 5729/110390 [09:08<2:17:17, 12.70it/s]"
     ]
    },
    {
     "name": "stdout",
     "output_type": "stream",
     "text": [
      "Row 5734 generated an exception: min() arg is an empty sequence\n"
     ]
    },
    {
     "name": "stderr",
     "output_type": "stream",
     "text": [
      "Processing itineraries:   5%|▌         | 5744/110390 [09:10<3:48:06,  7.65it/s]"
     ]
    },
    {
     "name": "stdout",
     "output_type": "stream",
     "text": [
      "Row 5753 generated an exception: min() arg is an empty sequence\n"
     ]
    },
    {
     "name": "stderr",
     "output_type": "stream",
     "text": [
      "Processing itineraries:   6%|▌         | 6415/110390 [10:15<3:40:15,  7.87it/s]"
     ]
    },
    {
     "name": "stdout",
     "output_type": "stream",
     "text": [
      "Row 6422 generated an exception: min() arg is an empty sequence\n"
     ]
    },
    {
     "name": "stderr",
     "output_type": "stream",
     "text": [
      "Processing itineraries:   6%|▋         | 6998/110390 [11:08<3:00:32,  9.54it/s]"
     ]
    },
    {
     "name": "stdout",
     "output_type": "stream",
     "text": [
      "Row 7001 generated an exception: min() arg is an empty sequence\n"
     ]
    },
    {
     "name": "stderr",
     "output_type": "stream",
     "text": [
      "Processing itineraries:   6%|▋         | 7059/110390 [11:15<2:36:24, 11.01it/s]"
     ]
    },
    {
     "name": "stdout",
     "output_type": "stream",
     "text": [
      "Row 7064 generated an exception: min() arg is an empty sequence\n",
      "Row 7066 generated an exception: min() arg is an empty sequence\n",
      "Row 7067 generated an exception: min() arg is an empty sequence\n",
      "Row 7068 generated an exception: min() arg is an empty sequence\n"
     ]
    },
    {
     "name": "stderr",
     "output_type": "stream",
     "text": [
      "Processing itineraries:   6%|▋         | 7065/110390 [11:15<1:28:38, 19.43it/s]"
     ]
    },
    {
     "name": "stdout",
     "output_type": "stream",
     "text": [
      "Row 7070 generated an exception: min() arg is an empty sequence\n"
     ]
    },
    {
     "name": "stderr",
     "output_type": "stream",
     "text": [
      "Processing itineraries:   6%|▋         | 7073/110390 [11:16<2:31:20, 11.38it/s]"
     ]
    },
    {
     "name": "stdout",
     "output_type": "stream",
     "text": [
      "Row 7078 generated an exception: min() arg is an empty sequence\n"
     ]
    },
    {
     "name": "stderr",
     "output_type": "stream",
     "text": [
      "Processing itineraries:   6%|▋         | 7098/110390 [11:18<2:08:10, 13.43it/s]"
     ]
    },
    {
     "name": "stdout",
     "output_type": "stream",
     "text": [
      "Row 7103 generated an exception: min() arg is an empty sequence\n"
     ]
    },
    {
     "name": "stderr",
     "output_type": "stream",
     "text": [
      "Processing itineraries:   6%|▋         | 7100/110390 [11:18<2:19:02, 12.38it/s]"
     ]
    },
    {
     "name": "stdout",
     "output_type": "stream",
     "text": [
      "Row 7108 generated an exception: min() arg is an empty sequence\n"
     ]
    },
    {
     "name": "stderr",
     "output_type": "stream",
     "text": [
      "Processing itineraries:   6%|▋         | 7110/110390 [11:19<2:17:18, 12.54it/s]"
     ]
    },
    {
     "name": "stdout",
     "output_type": "stream",
     "text": [
      "Row 7116 generated an exception: min() arg is an empty sequence\n"
     ]
    },
    {
     "name": "stderr",
     "output_type": "stream",
     "text": [
      "Processing itineraries:   6%|▋         | 7122/110390 [11:21<2:47:05, 10.30it/s]"
     ]
    },
    {
     "name": "stdout",
     "output_type": "stream",
     "text": [
      "Row 7130 generated an exception: min() arg is an empty sequence\n",
      "Row 7131 generated an exception: min() arg is an empty sequence\n"
     ]
    },
    {
     "name": "stderr",
     "output_type": "stream",
     "text": [
      "Processing itineraries:   7%|▋         | 7929/110390 [12:37<2:48:57, 10.11it/s]"
     ]
    },
    {
     "name": "stdout",
     "output_type": "stream",
     "text": [
      "Row 7936 generated an exception: min() arg is an empty sequence\n"
     ]
    },
    {
     "name": "stderr",
     "output_type": "stream",
     "text": [
      "Processing itineraries:   7%|▋         | 8056/110390 [12:49<1:54:30, 14.89it/s]"
     ]
    },
    {
     "name": "stdout",
     "output_type": "stream",
     "text": [
      "Row 8061 generated an exception: min() arg is an empty sequence\n",
      "Row 8062 generated an exception: min() arg is an empty sequence\n"
     ]
    },
    {
     "name": "stderr",
     "output_type": "stream",
     "text": [
      "Processing itineraries:   8%|▊         | 9335/110390 [15:00<2:44:01, 10.27it/s]"
     ]
    },
    {
     "name": "stdout",
     "output_type": "stream",
     "text": [
      "Row 9343 generated an exception: min() arg is an empty sequence\n"
     ]
    },
    {
     "name": "stderr",
     "output_type": "stream",
     "text": [
      "Processing itineraries:   8%|▊         | 9344/110390 [15:01<2:42:52, 10.34it/s]"
     ]
    },
    {
     "name": "stdout",
     "output_type": "stream",
     "text": [
      "Row 9353 generated an exception: min() arg is an empty sequence\n",
      "Row 9354 generated an exception: min() arg is an empty sequence\n"
     ]
    },
    {
     "name": "stderr",
     "output_type": "stream",
     "text": [
      "Processing itineraries:  10%|█         | 11119/110390 [17:57<3:04:05,  8.99it/s]"
     ]
    },
    {
     "name": "stdout",
     "output_type": "stream",
     "text": [
      "Row 11128 generated an exception: min() arg is an empty sequence\n"
     ]
    },
    {
     "name": "stderr",
     "output_type": "stream",
     "text": [
      "Processing itineraries:  10%|█         | 11125/110390 [17:57<2:47:14,  9.89it/s]"
     ]
    },
    {
     "name": "stdout",
     "output_type": "stream",
     "text": [
      "Row 11131 generated an exception: min() arg is an empty sequence\n",
      "Row 11132 generated an exception: min() arg is an empty sequence\n"
     ]
    },
    {
     "name": "stderr",
     "output_type": "stream",
     "text": [
      "Processing itineraries:  10%|█         | 11168/110390 [18:01<2:56:10,  9.39it/s]"
     ]
    },
    {
     "name": "stdout",
     "output_type": "stream",
     "text": [
      "Row 11177 generated an exception: min() arg is an empty sequence\n",
      "Row 11180 generated an exception: min() arg is an empty sequence\n"
     ]
    },
    {
     "name": "stderr",
     "output_type": "stream",
     "text": [
      "Processing itineraries:  10%|█         | 11188/110390 [18:03<2:34:50, 10.68it/s]"
     ]
    },
    {
     "name": "stdout",
     "output_type": "stream",
     "text": [
      "Row 11195 generated an exception: min() arg is an empty sequence\n"
     ]
    },
    {
     "name": "stderr",
     "output_type": "stream",
     "text": [
      "Processing itineraries:  10%|█         | 11190/110390 [18:04<2:26:23, 11.29it/s]"
     ]
    },
    {
     "name": "stdout",
     "output_type": "stream",
     "text": [
      "Row 11197 generated an exception: min() arg is an empty sequence\n"
     ]
    },
    {
     "name": "stderr",
     "output_type": "stream",
     "text": [
      "Processing itineraries:  10%|█         | 11211/110390 [18:05<1:38:31, 16.78it/s]"
     ]
    },
    {
     "name": "stdout",
     "output_type": "stream",
     "text": [
      "Row 11216 generated an exception: min() arg is an empty sequence\n",
      "Row 11218 generated an exception: min() arg is an empty sequence\n"
     ]
    },
    {
     "name": "stderr",
     "output_type": "stream",
     "text": [
      "Processing itineraries:  10%|█         | 11233/110390 [18:07<1:51:19, 14.84it/s]"
     ]
    },
    {
     "name": "stdout",
     "output_type": "stream",
     "text": [
      "Row 11241 generated an exception: min() arg is an empty sequence\n"
     ]
    },
    {
     "name": "stderr",
     "output_type": "stream",
     "text": [
      "Processing itineraries:  10%|█         | 11244/110390 [18:09<2:39:54, 10.33it/s]"
     ]
    },
    {
     "name": "stdout",
     "output_type": "stream",
     "text": [
      "Row 11251 generated an exception: min() arg is an empty sequence\n"
     ]
    },
    {
     "name": "stderr",
     "output_type": "stream",
     "text": [
      "Processing itineraries:  10%|█         | 11246/110390 [18:09<2:29:41, 11.04it/s]"
     ]
    },
    {
     "name": "stdout",
     "output_type": "stream",
     "text": [
      "Row 11255 generated an exception: min() arg is an empty sequence\n"
     ]
    },
    {
     "name": "stderr",
     "output_type": "stream",
     "text": [
      "Processing itineraries:  10%|█         | 11276/110390 [18:12<1:58:56, 13.89it/s]"
     ]
    },
    {
     "name": "stdout",
     "output_type": "stream",
     "text": [
      "Row 11284 generated an exception: min() arg is an empty sequence\n",
      "Row 11285 generated an exception: min() arg is an empty sequence\n"
     ]
    },
    {
     "name": "stderr",
     "output_type": "stream",
     "text": [
      "Processing itineraries:  10%|█         | 11284/110390 [18:13<2:21:48, 11.65it/s]"
     ]
    },
    {
     "name": "stdout",
     "output_type": "stream",
     "text": [
      "Row 11289 generated an exception: min() arg is an empty sequence\n"
     ]
    },
    {
     "name": "stderr",
     "output_type": "stream",
     "text": [
      "Processing itineraries:  10%|█         | 11288/110390 [18:13<1:59:20, 13.84it/s]"
     ]
    },
    {
     "name": "stdout",
     "output_type": "stream",
     "text": [
      "Row 11294 generated an exception: min() arg is an empty sequence\n"
     ]
    },
    {
     "name": "stderr",
     "output_type": "stream",
     "text": [
      "Processing itineraries:  10%|█         | 11334/110390 [18:18<1:27:06, 18.95it/s]"
     ]
    },
    {
     "name": "stdout",
     "output_type": "stream",
     "text": [
      "Row 11335 generated an exception: min() arg is an empty sequence\n",
      "Row 11336 generated an exception: min() arg is an empty sequence\n",
      "Row 11338 generated an exception: min() arg is an empty sequence\n",
      "Row 11339 generated an exception: min() arg is an empty sequence\n",
      "Row 11341 generated an exception: min() arg is an empty sequence\n",
      "Row 11342 generated an exception: min() arg is an empty sequence\n"
     ]
    },
    {
     "name": "stderr",
     "output_type": "stream",
     "text": [
      "Processing itineraries:  10%|█         | 11359/110390 [18:20<1:54:34, 14.40it/s]"
     ]
    },
    {
     "name": "stdout",
     "output_type": "stream",
     "text": [
      "Row 11365 generated an exception: min() arg is an empty sequence\n"
     ]
    },
    {
     "name": "stderr",
     "output_type": "stream",
     "text": [
      "Processing itineraries:  10%|█         | 11367/110390 [18:21<2:07:08, 12.98it/s]"
     ]
    },
    {
     "name": "stdout",
     "output_type": "stream",
     "text": [
      "Row 11374 generated an exception: min() arg is an empty sequence\n"
     ]
    },
    {
     "name": "stderr",
     "output_type": "stream",
     "text": [
      "Processing itineraries:  10%|█         | 11371/110390 [18:22<2:55:49,  9.39it/s]"
     ]
    },
    {
     "name": "stdout",
     "output_type": "stream",
     "text": [
      "Row 11380 generated an exception: min() arg is an empty sequence\n"
     ]
    },
    {
     "name": "stderr",
     "output_type": "stream",
     "text": [
      "Processing itineraries:  10%|█         | 11377/110390 [18:22<2:39:53, 10.32it/s]"
     ]
    },
    {
     "name": "stdout",
     "output_type": "stream",
     "text": [
      "Row 11384 generated an exception: min() arg is an empty sequence\n"
     ]
    },
    {
     "name": "stderr",
     "output_type": "stream",
     "text": [
      "Processing itineraries:  10%|█         | 11381/110390 [18:22<2:31:41, 10.88it/s]"
     ]
    },
    {
     "name": "stdout",
     "output_type": "stream",
     "text": [
      "Row 11388 generated an exception: min() arg is an empty sequence\n"
     ]
    },
    {
     "name": "stderr",
     "output_type": "stream",
     "text": [
      "Processing itineraries:  10%|█         | 11387/110390 [18:23<2:58:50,  9.23it/s]"
     ]
    },
    {
     "name": "stdout",
     "output_type": "stream",
     "text": [
      "Row 11393 generated an exception: min() arg is an empty sequence\n"
     ]
    },
    {
     "name": "stderr",
     "output_type": "stream",
     "text": [
      "Processing itineraries:  10%|█         | 11399/110390 [18:25<2:45:48,  9.95it/s]"
     ]
    },
    {
     "name": "stdout",
     "output_type": "stream",
     "text": [
      "Row 11404 generated an exception: min() arg is an empty sequence\n"
     ]
    },
    {
     "name": "stderr",
     "output_type": "stream",
     "text": [
      "Processing itineraries:  10%|█         | 11403/110390 [18:25<3:01:35,  9.09it/s]"
     ]
    },
    {
     "name": "stdout",
     "output_type": "stream",
     "text": [
      "Row 11409 generated an exception: min() arg is an empty sequence\n",
      "Row 11411 generated an exception: min() arg is an empty sequence\n"
     ]
    },
    {
     "name": "stderr",
     "output_type": "stream",
     "text": [
      "Processing itineraries:  10%|█         | 11412/110390 [18:26<2:08:32, 12.83it/s]"
     ]
    },
    {
     "name": "stdout",
     "output_type": "stream",
     "text": [
      "Row 11418 generated an exception: min() arg is an empty sequence\n",
      "Row 11419 generated an exception: min() arg is an empty sequence\n",
      "Row 11420 generated an exception: min() arg is an empty sequence\n"
     ]
    },
    {
     "name": "stderr",
     "output_type": "stream",
     "text": [
      "Processing itineraries:  10%|█         | 11429/110390 [18:27<1:40:50, 16.36it/s]"
     ]
    },
    {
     "name": "stdout",
     "output_type": "stream",
     "text": [
      "Row 11433 generated an exception: min() arg is an empty sequence\n",
      "Row 11434 generated an exception: min() arg is an empty sequence\n",
      "Row 11437 generated an exception: min() arg is an empty sequence\n"
     ]
    },
    {
     "name": "stderr",
     "output_type": "stream",
     "text": [
      "Processing itineraries:  10%|█         | 11431/110390 [18:27<1:36:32, 17.08it/s]"
     ]
    },
    {
     "name": "stdout",
     "output_type": "stream",
     "text": [
      "Row 11440 generated an exception: min() arg is an empty sequence\n"
     ]
    },
    {
     "name": "stderr",
     "output_type": "stream",
     "text": [
      "Processing itineraries:  10%|█         | 11447/110390 [18:29<1:44:57, 15.71it/s]"
     ]
    },
    {
     "name": "stdout",
     "output_type": "stream",
     "text": [
      "Row 11448 generated an exception: min() arg is an empty sequence\n",
      "Row 11450 generated an exception: min() arg is an empty sequence\n",
      "Row 11449 generated an exception: min() arg is an empty sequence\n",
      "Row 11452 generated an exception: min() arg is an empty sequence\n",
      "Row 11451 generated an exception: min() arg is an empty sequence\n",
      "Row 11456 generated an exception: min() arg is an empty sequence\n"
     ]
    },
    {
     "name": "stderr",
     "output_type": "stream",
     "text": [
      "Processing itineraries:  10%|█         | 11461/110390 [18:30<1:56:48, 14.12it/s]"
     ]
    },
    {
     "name": "stdout",
     "output_type": "stream",
     "text": [
      "Row 11466 generated an exception: min() arg is an empty sequence\n",
      "Row 11467 generated an exception: min() arg is an empty sequence\n"
     ]
    },
    {
     "name": "stderr",
     "output_type": "stream",
     "text": [
      "Processing itineraries:  10%|█         | 11469/110390 [18:30<2:04:27, 13.25it/s]"
     ]
    },
    {
     "name": "stdout",
     "output_type": "stream",
     "text": [
      "Row 11475 generated an exception: min() arg is an empty sequence\n",
      "Row 11476 generated an exception: min() arg is an empty sequence\n"
     ]
    },
    {
     "name": "stderr",
     "output_type": "stream",
     "text": [
      "Processing itineraries:  10%|█         | 11475/110390 [18:31<2:08:32, 12.83it/s]"
     ]
    },
    {
     "name": "stdout",
     "output_type": "stream",
     "text": [
      "Row 11481 generated an exception: min() arg is an empty sequence\n",
      "Row 11482 generated an exception: min() arg is an empty sequence\n",
      "Row 11484 generated an exception: min() arg is an empty sequence\n",
      "Row 11485 generated an exception: min() arg is an empty sequence\n",
      "Row 11486 generated an exception: min() arg is an empty sequence\n",
      "Row 11487 generated an exception: min() arg is an empty sequence\n",
      "Row 11488 generated an exception: min() arg is an empty sequence\n"
     ]
    },
    {
     "name": "stderr",
     "output_type": "stream",
     "text": [
      "Processing itineraries:  10%|█         | 11488/110390 [18:31<1:20:05, 20.58it/s]"
     ]
    },
    {
     "name": "stdout",
     "output_type": "stream",
     "text": [
      "Row 11493 generated an exception: min() arg is an empty sequence\n",
      "Row 11495 generated an exception: min() arg is an empty sequence\n",
      "Row 11496 generated an exception: min() arg is an empty sequence\n"
     ]
    },
    {
     "name": "stderr",
     "output_type": "stream",
     "text": [
      "Processing itineraries:  10%|█         | 11495/110390 [18:32<1:43:43, 15.89it/s]"
     ]
    },
    {
     "name": "stdout",
     "output_type": "stream",
     "text": [
      "Row 11500 generated an exception: min() arg is an empty sequence\n"
     ]
    },
    {
     "name": "stderr",
     "output_type": "stream",
     "text": [
      "Processing itineraries:  10%|█         | 11520/110390 [18:35<1:37:33, 16.89it/s]"
     ]
    },
    {
     "name": "stdout",
     "output_type": "stream",
     "text": [
      "Row 11524 generated an exception: min() arg is an empty sequence\n",
      "Row 11525 generated an exception: min() arg is an empty sequence\n",
      "Row 11526 generated an exception: min() arg is an empty sequence\n",
      "Row 11528 generated an exception: min() arg is an empty sequence\n"
     ]
    },
    {
     "name": "stderr",
     "output_type": "stream",
     "text": [
      "Processing itineraries:  10%|█         | 11526/110390 [18:36<2:36:21, 10.54it/s]"
     ]
    },
    {
     "name": "stdout",
     "output_type": "stream",
     "text": [
      "Row 11533 generated an exception: min() arg is an empty sequence\n"
     ]
    },
    {
     "name": "stderr",
     "output_type": "stream",
     "text": [
      "Processing itineraries:  10%|█         | 11531/110390 [18:36<2:15:30, 12.16it/s]"
     ]
    },
    {
     "name": "stdout",
     "output_type": "stream",
     "text": [
      "Row 11538 generated an exception: min() arg is an empty sequence\n"
     ]
    },
    {
     "name": "stderr",
     "output_type": "stream",
     "text": [
      "Processing itineraries:  10%|█         | 11563/110390 [18:39<2:14:18, 12.26it/s]"
     ]
    },
    {
     "name": "stdout",
     "output_type": "stream",
     "text": [
      "Row 11569 generated an exception: min() arg is an empty sequence\n",
      "Row 11573 generated an exception: min() arg is an empty sequence\n"
     ]
    },
    {
     "name": "stderr",
     "output_type": "stream",
     "text": [
      "Processing itineraries:  10%|█         | 11572/110390 [18:40<3:04:10,  8.94it/s]"
     ]
    },
    {
     "name": "stdout",
     "output_type": "stream",
     "text": [
      "Row 11579 generated an exception: min() arg is an empty sequence\n"
     ]
    },
    {
     "name": "stderr",
     "output_type": "stream",
     "text": [
      "Processing itineraries:  10%|█         | 11581/110390 [18:41<2:15:17, 12.17it/s]"
     ]
    },
    {
     "name": "stdout",
     "output_type": "stream",
     "text": [
      "Row 11586 generated an exception: min() arg is an empty sequence\n",
      "Row 11588 generated an exception: min() arg is an empty sequence\n",
      "Row 11589 generated an exception: min() arg is an empty sequence\n",
      "Row 11591 generated an exception: min() arg is an empty sequence\n"
     ]
    },
    {
     "name": "stderr",
     "output_type": "stream",
     "text": [
      "Processing itineraries:  10%|█         | 11586/110390 [18:42<3:00:59,  9.10it/s]"
     ]
    },
    {
     "name": "stdout",
     "output_type": "stream",
     "text": [
      "Row 11593 generated an exception: min() arg is an empty sequence\n"
     ]
    },
    {
     "name": "stderr",
     "output_type": "stream",
     "text": [
      "Processing itineraries:  10%|█         | 11590/110390 [18:42<3:48:32,  7.21it/s]"
     ]
    },
    {
     "name": "stdout",
     "output_type": "stream",
     "text": [
      "Row 11601 generated an exception: min() arg is an empty sequence\n"
     ]
    },
    {
     "name": "stderr",
     "output_type": "stream",
     "text": [
      "Processing itineraries:  11%|█         | 11605/110390 [18:44<2:21:12, 11.66it/s]"
     ]
    },
    {
     "name": "stdout",
     "output_type": "stream",
     "text": [
      "Row 11611 generated an exception: min() arg is an empty sequence\n",
      "Row 11614 generated an exception: min() arg is an empty sequence\n",
      "Row 11616 generated an exception: min() arg is an empty sequence\n"
     ]
    },
    {
     "name": "stderr",
     "output_type": "stream",
     "text": [
      "Processing itineraries:  11%|█         | 11613/110390 [18:44<2:09:50, 12.68it/s]"
     ]
    },
    {
     "name": "stdout",
     "output_type": "stream",
     "text": [
      "Row 11619 generated an exception: min() arg is an empty sequence\n",
      "Row 11620 generated an exception: min() arg is an empty sequence\n",
      "Row 11621 generated an exception: min() arg is an empty sequence\n",
      "Row 11623 generated an exception: min() arg is an empty sequence\n",
      "Row 11624 generated an exception: min() arg is an empty sequence\n",
      "Row 11625 generated an exception: min() arg is an empty sequence\n",
      "Row 11622 generated an exception: min() arg is an empty sequence\n"
     ]
    },
    {
     "name": "stderr",
     "output_type": "stream",
     "text": [
      "Processing itineraries:  11%|█         | 11623/110390 [18:45<1:29:47, 18.33it/s]"
     ]
    },
    {
     "name": "stdout",
     "output_type": "stream",
     "text": [
      "Row 11630 generated an exception: min() arg is an empty sequence\n",
      "Row 11631 generated an exception: min() arg is an empty sequence\n"
     ]
    },
    {
     "name": "stderr",
     "output_type": "stream",
     "text": [
      "Processing itineraries:  11%|█         | 11629/110390 [18:45<1:50:23, 14.91it/s]"
     ]
    },
    {
     "name": "stdout",
     "output_type": "stream",
     "text": [
      "Row 11635 generated an exception: min() arg is an empty sequence\n",
      "Row 11636 generated an exception: min() arg is an empty sequence\n"
     ]
    },
    {
     "name": "stderr",
     "output_type": "stream",
     "text": [
      "Processing itineraries:  11%|█         | 11635/110390 [18:46<2:35:58, 10.55it/s]"
     ]
    },
    {
     "name": "stdout",
     "output_type": "stream",
     "text": [
      "Row 11643 generated an exception: min() arg is an empty sequence\n"
     ]
    },
    {
     "name": "stderr",
     "output_type": "stream",
     "text": [
      "Processing itineraries:  11%|█         | 11647/110390 [18:48<3:06:22,  8.83it/s]"
     ]
    },
    {
     "name": "stdout",
     "output_type": "stream",
     "text": [
      "Row 11653 generated an exception: min() arg is an empty sequence\n",
      "Row 11654 generated an exception: min() arg is an empty sequence\n"
     ]
    },
    {
     "name": "stderr",
     "output_type": "stream",
     "text": [
      "Processing itineraries:  11%|█         | 11649/110390 [18:48<2:43:06, 10.09it/s]"
     ]
    },
    {
     "name": "stdout",
     "output_type": "stream",
     "text": [
      "Row 11656 generated an exception: min() arg is an empty sequence\n"
     ]
    },
    {
     "name": "stderr",
     "output_type": "stream",
     "text": [
      "Processing itineraries:  11%|█         | 11657/110390 [18:49<2:57:39,  9.26it/s]"
     ]
    },
    {
     "name": "stdout",
     "output_type": "stream",
     "text": [
      "Row 11663 generated an exception: min() arg is an empty sequence\n",
      "Row 11665 generated an exception: min() arg is an empty sequence\n"
     ]
    },
    {
     "name": "stderr",
     "output_type": "stream",
     "text": [
      "Processing itineraries:  11%|█         | 11663/110390 [18:49<2:27:19, 11.17it/s]"
     ]
    },
    {
     "name": "stdout",
     "output_type": "stream",
     "text": [
      "Row 11669 generated an exception: min() arg is an empty sequence\n",
      "Row 11671 generated an exception: min() arg is an empty sequence\n",
      "Row 11672 generated an exception: min() arg is an empty sequence\n"
     ]
    },
    {
     "name": "stderr",
     "output_type": "stream",
     "text": [
      "Processing itineraries:  11%|█         | 11669/110390 [18:49<1:26:08, 19.10it/s]"
     ]
    },
    {
     "name": "stdout",
     "output_type": "stream",
     "text": [
      "Row 11673 generated an exception: min() arg is an empty sequence\n",
      "Row 11675 generated an exception: min() arg is an empty sequence\n",
      "Row 11678 generated an exception: min() arg is an empty sequence\n",
      "Row 11679 generated an exception: min() arg is an empty sequence\n"
     ]
    },
    {
     "name": "stderr",
     "output_type": "stream",
     "text": [
      "Processing itineraries:  11%|█         | 11676/110390 [18:50<1:54:41, 14.35it/s]"
     ]
    },
    {
     "name": "stdout",
     "output_type": "stream",
     "text": [
      "Row 11683 generated an exception: min() arg is an empty sequence\n",
      "Row 11685 generated an exception: min() arg is an empty sequence\n"
     ]
    },
    {
     "name": "stderr",
     "output_type": "stream",
     "text": [
      "Processing itineraries:  11%|█         | 11685/110390 [18:51<1:53:49, 14.45it/s]"
     ]
    },
    {
     "name": "stdout",
     "output_type": "stream",
     "text": [
      "Row 11690 generated an exception: min() arg is an empty sequence\n",
      "Row 11692 generated an exception: min() arg is an empty sequence\n"
     ]
    },
    {
     "name": "stderr",
     "output_type": "stream",
     "text": [
      "Processing itineraries:  11%|█         | 11691/110390 [18:51<2:37:17, 10.46it/s]"
     ]
    },
    {
     "name": "stdout",
     "output_type": "stream",
     "text": [
      "Row 11697 generated an exception: min() arg is an empty sequence\n",
      "Row 11699 generated an exception: min() arg is an empty sequence\n"
     ]
    },
    {
     "name": "stderr",
     "output_type": "stream",
     "text": [
      "Processing itineraries:  11%|█         | 11698/110390 [18:52<2:05:45, 13.08it/s]"
     ]
    },
    {
     "name": "stdout",
     "output_type": "stream",
     "text": [
      "Row 11704 generated an exception: min() arg is an empty sequence\n"
     ]
    },
    {
     "name": "stderr",
     "output_type": "stream",
     "text": [
      "Processing itineraries:  13%|█▎        | 14754/110390 [23:54<2:01:08, 13.16it/s]"
     ]
    },
    {
     "name": "stdout",
     "output_type": "stream",
     "text": [
      "Row 14760 generated an exception: min() arg is an empty sequence\n"
     ]
    },
    {
     "name": "stderr",
     "output_type": "stream",
     "text": [
      "Processing itineraries:  14%|█▍        | 15276/110390 [24:44<2:13:07, 11.91it/s]"
     ]
    },
    {
     "name": "stdout",
     "output_type": "stream",
     "text": [
      "Row 15283 generated an exception: min() arg is an empty sequence\n"
     ]
    },
    {
     "name": "stderr",
     "output_type": "stream",
     "text": [
      "Processing itineraries:  14%|█▍        | 15292/110390 [24:45<1:19:49, 19.86it/s]"
     ]
    },
    {
     "name": "stdout",
     "output_type": "stream",
     "text": [
      "Row 15299 generated an exception: min() arg is an empty sequence\n"
     ]
    },
    {
     "name": "stderr",
     "output_type": "stream",
     "text": [
      "Processing itineraries:  15%|█▍        | 16421/110390 [26:06<1:01:36, 25.42it/s]"
     ]
    },
    {
     "name": "stdout",
     "output_type": "stream",
     "text": [
      "Row 16425 generated an exception: min() arg is an empty sequence\n"
     ]
    },
    {
     "name": "stderr",
     "output_type": "stream",
     "text": [
      "Processing itineraries:  15%|█▍        | 16430/110390 [26:06<1:19:02, 19.81it/s]"
     ]
    },
    {
     "name": "stdout",
     "output_type": "stream",
     "text": [
      "Row 16435 generated an exception: min() arg is an empty sequence\n"
     ]
    },
    {
     "name": "stderr",
     "output_type": "stream",
     "text": [
      "Processing itineraries:  15%|█▍        | 16456/110390 [26:07<56:39, 27.63it/s]  "
     ]
    },
    {
     "name": "stdout",
     "output_type": "stream",
     "text": [
      "Row 16463 generated an exception: min() arg is an empty sequence\n"
     ]
    },
    {
     "name": "stderr",
     "output_type": "stream",
     "text": [
      "Processing itineraries:  16%|█▌        | 17885/110390 [28:02<1:20:11, 19.23it/s]"
     ]
    },
    {
     "name": "stdout",
     "output_type": "stream",
     "text": [
      "Row 17891 generated an exception: min() arg is an empty sequence\n"
     ]
    },
    {
     "name": "stderr",
     "output_type": "stream",
     "text": [
      "Processing itineraries:  16%|█▌        | 17923/110390 [28:05<1:11:45, 21.48it/s]"
     ]
    },
    {
     "name": "stdout",
     "output_type": "stream",
     "text": [
      "Row 17931 generated an exception: min() arg is an empty sequence\n"
     ]
    },
    {
     "name": "stderr",
     "output_type": "stream",
     "text": [
      "Processing itineraries:  16%|█▋        | 17944/110390 [28:06<1:25:54, 17.93it/s]"
     ]
    },
    {
     "name": "stdout",
     "output_type": "stream",
     "text": [
      "Row 17951 generated an exception: min() arg is an empty sequence\n"
     ]
    },
    {
     "name": "stderr",
     "output_type": "stream",
     "text": [
      "Processing itineraries:  16%|█▋        | 18042/110390 [28:12<1:07:11, 22.90it/s]"
     ]
    },
    {
     "name": "stdout",
     "output_type": "stream",
     "text": [
      "Row 18047 generated an exception: min() arg is an empty sequence\n"
     ]
    },
    {
     "name": "stderr",
     "output_type": "stream",
     "text": [
      "Processing itineraries:  18%|█▊        | 19622/110390 [30:39<1:47:53, 14.02it/s]"
     ]
    },
    {
     "name": "stdout",
     "output_type": "stream",
     "text": [
      "Row 19628 generated an exception: min() arg is an empty sequence\n"
     ]
    },
    {
     "name": "stderr",
     "output_type": "stream",
     "text": [
      "Processing itineraries:  18%|█▊        | 19697/110390 [30:45<1:42:29, 14.75it/s]"
     ]
    },
    {
     "name": "stdout",
     "output_type": "stream",
     "text": [
      "Row 19702 generated an exception: min() arg is an empty sequence\n"
     ]
    },
    {
     "name": "stderr",
     "output_type": "stream",
     "text": [
      "Processing itineraries:  18%|█▊        | 19735/110390 [30:48<1:27:41, 17.23it/s]"
     ]
    },
    {
     "name": "stdout",
     "output_type": "stream",
     "text": [
      "Row 19744 generated an exception: min() arg is an empty sequence\n"
     ]
    },
    {
     "name": "stderr",
     "output_type": "stream",
     "text": [
      "Processing itineraries:  18%|█▊        | 19749/110390 [30:49<1:35:37, 15.80it/s]"
     ]
    },
    {
     "name": "stdout",
     "output_type": "stream",
     "text": [
      "Row 19756 generated an exception: min() arg is an empty sequence\n"
     ]
    },
    {
     "name": "stderr",
     "output_type": "stream",
     "text": [
      "Processing itineraries:  18%|█▊        | 19758/110390 [30:50<1:24:34, 17.86it/s]"
     ]
    },
    {
     "name": "stdout",
     "output_type": "stream",
     "text": [
      "Row 19765 generated an exception: min() arg is an empty sequence\n"
     ]
    },
    {
     "name": "stderr",
     "output_type": "stream",
     "text": [
      "Processing itineraries:  18%|█▊        | 19812/110390 [30:54<1:40:57, 14.95it/s]"
     ]
    },
    {
     "name": "stdout",
     "output_type": "stream",
     "text": [
      "Row 19819 generated an exception: min() arg is an empty sequence\n"
     ]
    },
    {
     "name": "stderr",
     "output_type": "stream",
     "text": [
      "Processing itineraries:  18%|█▊        | 19906/110390 [31:01<1:29:38, 16.82it/s]"
     ]
    },
    {
     "name": "stdout",
     "output_type": "stream",
     "text": [
      "Row 19912 generated an exception: min() arg is an empty sequence\n",
      "Row 19915 generated an exception: min() arg is an empty sequence\n"
     ]
    },
    {
     "name": "stderr",
     "output_type": "stream",
     "text": [
      "Processing itineraries:  20%|█▉        | 21986/110390 [33:54<2:16:51, 10.77it/s]"
     ]
    },
    {
     "name": "stdout",
     "output_type": "stream",
     "text": [
      "Row 21992 generated an exception: min() arg is an empty sequence\n"
     ]
    },
    {
     "name": "stderr",
     "output_type": "stream",
     "text": [
      "Processing itineraries:  21%|██        | 23266/110390 [35:47<1:47:07, 13.56it/s]"
     ]
    },
    {
     "name": "stdout",
     "output_type": "stream",
     "text": [
      "Row 23274 generated an exception: min() arg is an empty sequence\n"
     ]
    },
    {
     "name": "stderr",
     "output_type": "stream",
     "text": [
      "Processing itineraries:  21%|██        | 23314/110390 [35:51<1:27:37, 16.56it/s]"
     ]
    },
    {
     "name": "stdout",
     "output_type": "stream",
     "text": [
      "Row 23320 generated an exception: min() arg is an empty sequence\n"
     ]
    },
    {
     "name": "stderr",
     "output_type": "stream",
     "text": [
      "Processing itineraries:  21%|██        | 23349/110390 [35:53<1:07:21, 21.54it/s]"
     ]
    },
    {
     "name": "stdout",
     "output_type": "stream",
     "text": [
      "Row 23354 generated an exception: min() arg is an empty sequence\n"
     ]
    },
    {
     "name": "stderr",
     "output_type": "stream",
     "text": [
      "Processing itineraries:  21%|██        | 23370/110390 [35:54<1:16:40, 18.91it/s]"
     ]
    },
    {
     "name": "stdout",
     "output_type": "stream",
     "text": [
      "Row 23377 generated an exception: min() arg is an empty sequence\n"
     ]
    },
    {
     "name": "stderr",
     "output_type": "stream",
     "text": [
      "Processing itineraries:  21%|██        | 23427/110390 [35:58<1:32:36, 15.65it/s]"
     ]
    },
    {
     "name": "stdout",
     "output_type": "stream",
     "text": [
      "Row 23433 generated an exception: min() arg is an empty sequence\n"
     ]
    },
    {
     "name": "stderr",
     "output_type": "stream",
     "text": [
      "Processing itineraries:  23%|██▎       | 24881/110390 [38:06<1:33:36, 15.22it/s]"
     ]
    },
    {
     "name": "stdout",
     "output_type": "stream",
     "text": [
      "Row 24885 generated an exception: min() arg is an empty sequence\n",
      "Row 24886 generated an exception: min() arg is an empty sequence\n"
     ]
    },
    {
     "name": "stderr",
     "output_type": "stream",
     "text": [
      "Processing itineraries:  24%|██▎       | 26145/110390 [39:49<52:18, 26.84it/s]  "
     ]
    },
    {
     "name": "stdout",
     "output_type": "stream",
     "text": [
      "Row 26146 generated an exception: min() arg is an empty sequence\n",
      "Row 26147 generated an exception: min() arg is an empty sequence\n",
      "Row 26148 generated an exception: min() arg is an empty sequence\n",
      "Row 26149 generated an exception: min() arg is an empty sequence\n",
      "Row 26153 generated an exception: min() arg is an empty sequence\n"
     ]
    },
    {
     "name": "stderr",
     "output_type": "stream",
     "text": [
      "Processing itineraries:  24%|██▎       | 26149/110390 [39:49<1:02:43, 22.38it/s]"
     ]
    },
    {
     "name": "stdout",
     "output_type": "stream",
     "text": [
      "Row 26152 generated an exception: min() arg is an empty sequence\n",
      "Row 26156 generated an exception: min() arg is an empty sequence\n"
     ]
    },
    {
     "name": "stderr",
     "output_type": "stream",
     "text": [
      "Processing itineraries:  24%|██▎       | 26199/110390 [39:53<1:38:51, 14.19it/s]"
     ]
    },
    {
     "name": "stdout",
     "output_type": "stream",
     "text": [
      "Row 26205 generated an exception: min() arg is an empty sequence\n"
     ]
    },
    {
     "name": "stderr",
     "output_type": "stream",
     "text": [
      "Processing itineraries:  25%|██▌       | 28056/110390 [42:32<1:40:33, 13.65it/s]"
     ]
    },
    {
     "name": "stdout",
     "output_type": "stream",
     "text": [
      "Row 28063 generated an exception: min() arg is an empty sequence\n"
     ]
    },
    {
     "name": "stderr",
     "output_type": "stream",
     "text": [
      "Processing itineraries:  25%|██▌       | 28067/110390 [42:33<1:41:52, 13.47it/s]"
     ]
    },
    {
     "name": "stdout",
     "output_type": "stream",
     "text": [
      "Row 28075 generated an exception: min() arg is an empty sequence\n"
     ]
    },
    {
     "name": "stderr",
     "output_type": "stream",
     "text": [
      "Processing itineraries:  25%|██▌       | 28069/110390 [42:33<1:49:05, 12.58it/s]"
     ]
    },
    {
     "name": "stdout",
     "output_type": "stream",
     "text": [
      "Row 28078 generated an exception: min() arg is an empty sequence\n"
     ]
    },
    {
     "name": "stderr",
     "output_type": "stream",
     "text": [
      "Processing itineraries:  25%|██▌       | 28078/110390 [42:34<1:44:41, 13.10it/s]"
     ]
    },
    {
     "name": "stdout",
     "output_type": "stream",
     "text": [
      "Row 28087 generated an exception: min() arg is an empty sequence\n"
     ]
    },
    {
     "name": "stderr",
     "output_type": "stream",
     "text": [
      "Processing itineraries:  26%|██▌       | 28157/110390 [42:40<1:28:31, 15.48it/s]"
     ]
    },
    {
     "name": "stdout",
     "output_type": "stream",
     "text": [
      "Row 28164 generated an exception: min() arg is an empty sequence\n"
     ]
    },
    {
     "name": "stderr",
     "output_type": "stream",
     "text": [
      "Processing itineraries:  26%|██▌       | 28222/110390 [42:45<1:30:27, 15.14it/s]"
     ]
    },
    {
     "name": "stdout",
     "output_type": "stream",
     "text": [
      "Row 28231 generated an exception: min() arg is an empty sequence\n"
     ]
    },
    {
     "name": "stderr",
     "output_type": "stream",
     "text": [
      "Processing itineraries:  26%|██▌       | 28237/110390 [42:47<1:20:58, 16.91it/s]"
     ]
    },
    {
     "name": "stdout",
     "output_type": "stream",
     "text": [
      "Row 28243 generated an exception: min() arg is an empty sequence\n"
     ]
    },
    {
     "name": "stderr",
     "output_type": "stream",
     "text": [
      "Processing itineraries:  26%|██▌       | 28246/110390 [42:47<1:16:52, 17.81it/s]"
     ]
    },
    {
     "name": "stdout",
     "output_type": "stream",
     "text": [
      "Row 28252 generated an exception: min() arg is an empty sequence\n"
     ]
    },
    {
     "name": "stderr",
     "output_type": "stream",
     "text": [
      "Processing itineraries:  26%|██▌       | 28282/110390 [42:50<1:35:06, 14.39it/s]"
     ]
    },
    {
     "name": "stdout",
     "output_type": "stream",
     "text": [
      "Row 28290 generated an exception: min() arg is an empty sequence\n"
     ]
    },
    {
     "name": "stderr",
     "output_type": "stream",
     "text": [
      "Processing itineraries:  27%|██▋       | 29909/110390 [45:11<1:18:31, 17.08it/s]"
     ]
    },
    {
     "name": "stdout",
     "output_type": "stream",
     "text": [
      "Row 29904 generated an exception: min() arg is an empty sequence\n"
     ]
    },
    {
     "name": "stderr",
     "output_type": "stream",
     "text": [
      "Processing itineraries:  28%|██▊       | 31149/110390 [46:57<1:09:32, 18.99it/s]"
     ]
    },
    {
     "name": "stdout",
     "output_type": "stream",
     "text": [
      "Row 31156 generated an exception: min() arg is an empty sequence\n"
     ]
    },
    {
     "name": "stderr",
     "output_type": "stream",
     "text": [
      "Processing itineraries:  28%|██▊       | 31165/110390 [46:58<1:10:21, 18.77it/s]"
     ]
    },
    {
     "name": "stdout",
     "output_type": "stream",
     "text": [
      "Row 31170 generated an exception: min() arg is an empty sequence\n"
     ]
    },
    {
     "name": "stderr",
     "output_type": "stream",
     "text": [
      "Processing itineraries:  28%|██▊       | 31201/110390 [47:00<1:09:45, 18.92it/s]"
     ]
    },
    {
     "name": "stdout",
     "output_type": "stream",
     "text": [
      "Row 31206 generated an exception: min() arg is an empty sequence\n"
     ]
    },
    {
     "name": "stderr",
     "output_type": "stream",
     "text": [
      "Processing itineraries:  28%|██▊       | 31299/110390 [47:06<53:01, 24.86it/s]  "
     ]
    },
    {
     "name": "stdout",
     "output_type": "stream",
     "text": [
      "Row 31303 generated an exception: min() arg is an empty sequence\n"
     ]
    },
    {
     "name": "stderr",
     "output_type": "stream",
     "text": [
      "Processing itineraries:  28%|██▊       | 31309/110390 [47:07<52:33, 25.08it/s]  "
     ]
    },
    {
     "name": "stdout",
     "output_type": "stream",
     "text": [
      "Row 31312 generated an exception: min() arg is an empty sequence\n"
     ]
    },
    {
     "name": "stderr",
     "output_type": "stream",
     "text": [
      "Processing itineraries:  28%|██▊       | 31351/110390 [47:09<1:07:33, 19.50it/s]"
     ]
    },
    {
     "name": "stdout",
     "output_type": "stream",
     "text": [
      "Row 31355 generated an exception: min() arg is an empty sequence\n"
     ]
    },
    {
     "name": "stderr",
     "output_type": "stream",
     "text": [
      "Processing itineraries:  28%|██▊       | 31417/110390 [47:13<1:10:02, 18.79it/s]"
     ]
    },
    {
     "name": "stdout",
     "output_type": "stream",
     "text": [
      "Row 31422 generated an exception: min() arg is an empty sequence\n"
     ]
    },
    {
     "name": "stderr",
     "output_type": "stream",
     "text": [
      "Processing itineraries:  28%|██▊       | 31430/110390 [47:14<1:10:47, 18.59it/s]"
     ]
    },
    {
     "name": "stdout",
     "output_type": "stream",
     "text": [
      "Row 31439 generated an exception: min() arg is an empty sequence\n"
     ]
    },
    {
     "name": "stderr",
     "output_type": "stream",
     "text": [
      "Processing itineraries:  29%|██▉       | 32552/110390 [48:35<1:27:09, 14.89it/s]"
     ]
    },
    {
     "name": "stdout",
     "output_type": "stream",
     "text": [
      "Row 32551 generated an exception: min() arg is an empty sequence\n"
     ]
    },
    {
     "name": "stderr",
     "output_type": "stream",
     "text": [
      "Processing itineraries:  30%|██▉       | 32682/110390 [48:44<1:21:33, 15.88it/s]"
     ]
    },
    {
     "name": "stdout",
     "output_type": "stream",
     "text": [
      "Row 32679 generated an exception: min() arg is an empty sequence\n"
     ]
    },
    {
     "name": "stderr",
     "output_type": "stream",
     "text": [
      "Processing itineraries:  30%|███       | 33217/110390 [49:31<59:53, 21.48it/s]  "
     ]
    },
    {
     "name": "stdout",
     "output_type": "stream",
     "text": [
      "Row 33222 generated an exception: min() arg is an empty sequence\n"
     ]
    },
    {
     "name": "stderr",
     "output_type": "stream",
     "text": [
      "Processing itineraries:  31%|███       | 33835/110390 [50:25<1:23:14, 15.33it/s]"
     ]
    },
    {
     "name": "stdout",
     "output_type": "stream",
     "text": [
      "Row 33842 generated an exception: min() arg is an empty sequence\n"
     ]
    },
    {
     "name": "stderr",
     "output_type": "stream",
     "text": [
      "Processing itineraries:  32%|███▏      | 34982/110390 [52:03<1:20:50, 15.55it/s]"
     ]
    },
    {
     "name": "stdout",
     "output_type": "stream",
     "text": [
      "Row 34988 generated an exception: min() arg is an empty sequence\n"
     ]
    },
    {
     "name": "stderr",
     "output_type": "stream",
     "text": [
      "Processing itineraries:  32%|███▏      | 35050/110390 [52:07<1:08:11, 18.41it/s]"
     ]
    },
    {
     "name": "stdout",
     "output_type": "stream",
     "text": [
      "Row 35058 generated an exception: min() arg is an empty sequence\n"
     ]
    },
    {
     "name": "stderr",
     "output_type": "stream",
     "text": [
      "Processing itineraries:  32%|███▏      | 35064/110390 [52:08<1:18:50, 15.92it/s]"
     ]
    },
    {
     "name": "stdout",
     "output_type": "stream",
     "text": [
      "Row 35070 generated an exception: min() arg is an empty sequence\n"
     ]
    },
    {
     "name": "stderr",
     "output_type": "stream",
     "text": [
      "Processing itineraries:  32%|███▏      | 35099/110390 [52:10<1:13:34, 17.05it/s]"
     ]
    },
    {
     "name": "stdout",
     "output_type": "stream",
     "text": [
      "Row 35103 generated an exception: min() arg is an empty sequence\n"
     ]
    },
    {
     "name": "stderr",
     "output_type": "stream",
     "text": [
      "Processing itineraries:  32%|███▏      | 35103/110390 [52:10<1:01:07, 20.53it/s]"
     ]
    },
    {
     "name": "stdout",
     "output_type": "stream",
     "text": [
      "Row 35109 generated an exception: min() arg is an empty sequence\n"
     ]
    },
    {
     "name": "stderr",
     "output_type": "stream",
     "text": [
      "Processing itineraries:  32%|███▏      | 35135/110390 [52:12<59:09, 21.20it/s]  "
     ]
    },
    {
     "name": "stdout",
     "output_type": "stream",
     "text": [
      "Row 35141 generated an exception: min() arg is an empty sequence\n"
     ]
    },
    {
     "name": "stderr",
     "output_type": "stream",
     "text": [
      "Processing itineraries:  35%|███▍      | 38235/110390 [56:25<52:24, 22.95it/s]  "
     ]
    },
    {
     "name": "stdout",
     "output_type": "stream",
     "text": [
      "Row 38240 generated an exception: min() arg is an empty sequence\n"
     ]
    },
    {
     "name": "stderr",
     "output_type": "stream",
     "text": [
      "Processing itineraries:  36%|███▌      | 39252/110390 [57:49<1:19:35, 14.90it/s]"
     ]
    },
    {
     "name": "stdout",
     "output_type": "stream",
     "text": [
      "Row 39259 generated an exception: min() arg is an empty sequence\n"
     ]
    },
    {
     "name": "stderr",
     "output_type": "stream",
     "text": [
      "Processing itineraries:  36%|███▌      | 39479/110390 [58:04<55:55, 21.13it/s]  "
     ]
    },
    {
     "name": "stdout",
     "output_type": "stream",
     "text": [
      "Row 39484 generated an exception: min() arg is an empty sequence\n"
     ]
    },
    {
     "name": "stderr",
     "output_type": "stream",
     "text": [
      "Processing itineraries:  36%|███▌      | 39491/110390 [58:05<1:09:11, 17.08it/s]"
     ]
    },
    {
     "name": "stdout",
     "output_type": "stream",
     "text": [
      "Row 39498 generated an exception: min() arg is an empty sequence\n",
      "Row 39497 generated an exception: min() arg is an empty sequence\n"
     ]
    },
    {
     "name": "stderr",
     "output_type": "stream",
     "text": [
      "Processing itineraries:  37%|███▋      | 40326/110390 [59:17<3:09:08,  6.17it/s]"
     ]
    },
    {
     "name": "stdout",
     "output_type": "stream",
     "text": [
      "Row 40331 generated an exception: min() arg is an empty sequence\n"
     ]
    },
    {
     "name": "stderr",
     "output_type": "stream",
     "text": [
      "Processing itineraries:  37%|███▋      | 40789/110390 [59:59<48:20, 23.99it/s]  "
     ]
    },
    {
     "name": "stdout",
     "output_type": "stream",
     "text": [
      "Row 40793 generated an exception: min() arg is an empty sequence\n"
     ]
    },
    {
     "name": "stderr",
     "output_type": "stream",
     "text": [
      "Processing itineraries:  37%|███▋      | 40861/110390 [1:00:03<59:51, 19.36it/s]  "
     ]
    },
    {
     "name": "stdout",
     "output_type": "stream",
     "text": [
      "Row 40866 generated an exception: min() arg is an empty sequence\n"
     ]
    },
    {
     "name": "stderr",
     "output_type": "stream",
     "text": [
      "Processing itineraries:  37%|███▋      | 40877/110390 [1:00:04<1:05:24, 17.71it/s]"
     ]
    },
    {
     "name": "stdout",
     "output_type": "stream",
     "text": [
      "Row 40882 generated an exception: min() arg is an empty sequence\n"
     ]
    },
    {
     "name": "stderr",
     "output_type": "stream",
     "text": [
      "Processing itineraries:  38%|███▊      | 41587/110390 [1:01:11<50:50, 22.55it/s]  "
     ]
    },
    {
     "name": "stdout",
     "output_type": "stream",
     "text": [
      "Row 41591 generated an exception: min() arg is an empty sequence\n"
     ]
    },
    {
     "name": "stderr",
     "output_type": "stream",
     "text": [
      "Processing itineraries:  38%|███▊      | 41999/110390 [1:01:48<45:16, 25.17it/s]  "
     ]
    },
    {
     "name": "stdout",
     "output_type": "stream",
     "text": [
      "Row 42004 generated an exception: min() arg is an empty sequence\n"
     ]
    },
    {
     "name": "stderr",
     "output_type": "stream",
     "text": [
      "Processing itineraries:  38%|███▊      | 42031/110390 [1:01:50<59:43, 19.08it/s]  "
     ]
    },
    {
     "name": "stdout",
     "output_type": "stream",
     "text": [
      "Row 42040 generated an exception: min() arg is an empty sequence\n"
     ]
    },
    {
     "name": "stderr",
     "output_type": "stream",
     "text": [
      "Processing itineraries:  39%|███▊      | 42576/110390 [1:02:37<54:12, 20.85it/s]  "
     ]
    },
    {
     "name": "stdout",
     "output_type": "stream",
     "text": [
      "Row 42582 generated an exception: min() arg is an empty sequence\n"
     ]
    },
    {
     "name": "stderr",
     "output_type": "stream",
     "text": [
      "Processing itineraries:  39%|███▉      | 42908/110390 [1:03:09<53:25, 21.05it/s]  "
     ]
    },
    {
     "name": "stdout",
     "output_type": "stream",
     "text": [
      "Row 42914 generated an exception: min() arg is an empty sequence\n"
     ]
    },
    {
     "name": "stderr",
     "output_type": "stream",
     "text": [
      "Processing itineraries:  39%|███▉      | 43340/110390 [1:03:51<43:42, 25.57it/s]  "
     ]
    },
    {
     "name": "stdout",
     "output_type": "stream",
     "text": [
      "Row 43347 generated an exception: min() arg is an empty sequence\n"
     ]
    },
    {
     "name": "stderr",
     "output_type": "stream",
     "text": [
      "Processing itineraries:  39%|███▉      | 43391/110390 [1:03:53<43:20, 25.76it/s]  "
     ]
    },
    {
     "name": "stdout",
     "output_type": "stream",
     "text": [
      "Row 43395 generated an exception: min() arg is an empty sequence\n"
     ]
    },
    {
     "name": "stderr",
     "output_type": "stream",
     "text": [
      "Processing itineraries:  40%|████      | 44705/110390 [1:05:48<1:23:48, 13.06it/s]"
     ]
    },
    {
     "name": "stdout",
     "output_type": "stream",
     "text": [
      "Row 44700 generated an exception: min() arg is an empty sequence\n"
     ]
    },
    {
     "name": "stderr",
     "output_type": "stream",
     "text": [
      "Processing itineraries:  42%|████▏     | 45896/110390 [1:07:36<1:05:13, 16.48it/s]"
     ]
    },
    {
     "name": "stdout",
     "output_type": "stream",
     "text": [
      "Row 45901 generated an exception: min() arg is an empty sequence\n"
     ]
    },
    {
     "name": "stderr",
     "output_type": "stream",
     "text": [
      "Processing itineraries:  42%|████▏     | 45945/110390 [1:07:41<1:13:05, 14.70it/s]"
     ]
    },
    {
     "name": "stdout",
     "output_type": "stream",
     "text": [
      "Row 45949 generated an exception: min() arg is an empty sequence\n"
     ]
    },
    {
     "name": "stderr",
     "output_type": "stream",
     "text": [
      "Processing itineraries:  43%|████▎     | 47044/110390 [1:09:14<48:27, 21.78it/s]  "
     ]
    },
    {
     "name": "stdout",
     "output_type": "stream",
     "text": [
      "Row 47048 generated an exception: min() arg is an empty sequence\n"
     ]
    },
    {
     "name": "stderr",
     "output_type": "stream",
     "text": [
      "Processing itineraries:  43%|████▎     | 47056/110390 [1:09:15<59:14, 17.82it/s]  "
     ]
    },
    {
     "name": "stdout",
     "output_type": "stream",
     "text": [
      "Row 47062 generated an exception: min() arg is an empty sequence\n"
     ]
    },
    {
     "name": "stderr",
     "output_type": "stream",
     "text": [
      "Processing itineraries:  43%|████▎     | 47065/110390 [1:09:16<1:02:42, 16.83it/s]"
     ]
    },
    {
     "name": "stdout",
     "output_type": "stream",
     "text": [
      "Row 47071 generated an exception: min() arg is an empty sequence\n"
     ]
    },
    {
     "name": "stderr",
     "output_type": "stream",
     "text": [
      "Processing itineraries:  45%|████▍     | 49221/110390 [1:12:45<46:08, 22.09it/s]  "
     ]
    },
    {
     "name": "stdout",
     "output_type": "stream",
     "text": [
      "Row 49227 generated an exception: min() arg is an empty sequence\n"
     ]
    },
    {
     "name": "stderr",
     "output_type": "stream",
     "text": [
      "Processing itineraries:  45%|████▌     | 49919/110390 [1:13:48<1:02:48, 16.04it/s]"
     ]
    },
    {
     "name": "stdout",
     "output_type": "stream",
     "text": [
      "Row 49916 generated an exception: min() arg is an empty sequence\n"
     ]
    },
    {
     "name": "stderr",
     "output_type": "stream",
     "text": [
      "Processing itineraries:  46%|████▌     | 50862/110390 [1:15:18<1:00:09, 16.49it/s]"
     ]
    },
    {
     "name": "stdout",
     "output_type": "stream",
     "text": [
      "Row 50867 generated an exception: min() arg is an empty sequence\n"
     ]
    },
    {
     "name": "stderr",
     "output_type": "stream",
     "text": [
      "Processing itineraries:  48%|████▊     | 52481/110390 [1:18:12<1:08:37, 14.06it/s]"
     ]
    },
    {
     "name": "stdout",
     "output_type": "stream",
     "text": [
      "Row 52488 generated an exception: min() arg is an empty sequence\n"
     ]
    },
    {
     "name": "stderr",
     "output_type": "stream",
     "text": [
      "Processing itineraries:  48%|████▊     | 52484/110390 [1:18:13<1:04:58, 14.85it/s]"
     ]
    },
    {
     "name": "stdout",
     "output_type": "stream",
     "text": [
      "Row 52490 generated an exception: min() arg is an empty sequence\n"
     ]
    },
    {
     "name": "stderr",
     "output_type": "stream",
     "text": [
      "Processing itineraries:  48%|████▊     | 52504/110390 [1:18:14<1:01:42, 15.63it/s]"
     ]
    },
    {
     "name": "stdout",
     "output_type": "stream",
     "text": [
      "Row 52512 generated an exception: min() arg is an empty sequence\n",
      "Row 52513 generated an exception: min() arg is an empty sequence\n"
     ]
    },
    {
     "name": "stderr",
     "output_type": "stream",
     "text": [
      "Processing itineraries:  48%|████▊     | 52513/110390 [1:18:15<1:01:28, 15.69it/s]"
     ]
    },
    {
     "name": "stdout",
     "output_type": "stream",
     "text": [
      "Row 52518 generated an exception: min() arg is an empty sequence\n"
     ]
    },
    {
     "name": "stderr",
     "output_type": "stream",
     "text": [
      "Processing itineraries:  48%|████▊     | 52534/110390 [1:18:16<47:51, 20.14it/s]  "
     ]
    },
    {
     "name": "stdout",
     "output_type": "stream",
     "text": [
      "Row 52536 generated an exception: min() arg is an empty sequence\n",
      "Row 52542 generated an exception: min() arg is an empty sequence\n"
     ]
    },
    {
     "name": "stderr",
     "output_type": "stream",
     "text": [
      "Processing itineraries:  48%|████▊     | 53174/110390 [1:19:35<55:46, 17.10it/s]  "
     ]
    },
    {
     "name": "stdout",
     "output_type": "stream",
     "text": [
      "Row 53183 generated an exception: min() arg is an empty sequence\n"
     ]
    },
    {
     "name": "stderr",
     "output_type": "stream",
     "text": [
      "Processing itineraries:  49%|████▉     | 54099/110390 [1:21:38<39:28, 23.76it/s]  "
     ]
    },
    {
     "name": "stdout",
     "output_type": "stream",
     "text": [
      "Row 54102 generated an exception: min() arg is an empty sequence\n"
     ]
    },
    {
     "name": "stderr",
     "output_type": "stream",
     "text": [
      "Processing itineraries:  49%|████▉     | 54114/110390 [1:21:39<35:26, 26.47it/s]"
     ]
    },
    {
     "name": "stdout",
     "output_type": "stream",
     "text": [
      "Row 54117 generated an exception: min() arg is an empty sequence\n"
     ]
    },
    {
     "name": "stderr",
     "output_type": "stream",
     "text": [
      "Processing itineraries:  49%|████▉     | 54137/110390 [1:21:40<36:00, 26.04it/s]"
     ]
    },
    {
     "name": "stdout",
     "output_type": "stream",
     "text": [
      "Row 54140 generated an exception: min() arg is an empty sequence\n"
     ]
    },
    {
     "name": "stderr",
     "output_type": "stream",
     "text": [
      "Processing itineraries:  50%|████▉     | 54766/110390 [1:22:28<1:08:58, 13.44it/s]"
     ]
    },
    {
     "name": "stdout",
     "output_type": "stream",
     "text": [
      "Row 54770 generated an exception: min() arg is an empty sequence\n",
      "Row 54771 generated an exception: min() arg is an empty sequence\n"
     ]
    },
    {
     "name": "stderr",
     "output_type": "stream",
     "text": [
      "Processing itineraries:  50%|█████     | 55690/110390 [1:24:10<1:13:46, 12.36it/s]"
     ]
    },
    {
     "name": "stdout",
     "output_type": "stream",
     "text": [
      "Row 55697 generated an exception: min() arg is an empty sequence\n"
     ]
    },
    {
     "name": "stderr",
     "output_type": "stream",
     "text": [
      "Processing itineraries:  51%|█████     | 55749/110390 [1:24:16<1:06:15, 13.75it/s]"
     ]
    },
    {
     "name": "stdout",
     "output_type": "stream",
     "text": [
      "Row 55755 generated an exception: min() arg is an empty sequence\n"
     ]
    },
    {
     "name": "stderr",
     "output_type": "stream",
     "text": [
      "Processing itineraries:  51%|█████     | 56520/110390 [1:25:43<1:14:28, 12.05it/s]"
     ]
    },
    {
     "name": "stdout",
     "output_type": "stream",
     "text": [
      "Row 56529 generated an exception: min() arg is an empty sequence\n"
     ]
    },
    {
     "name": "stderr",
     "output_type": "stream",
     "text": [
      "Processing itineraries:  51%|█████     | 56551/110390 [1:25:44<40:04, 22.39it/s]  "
     ]
    },
    {
     "name": "stdout",
     "output_type": "stream",
     "text": [
      "Row 56557 generated an exception: min() arg is an empty sequence\n"
     ]
    },
    {
     "name": "stderr",
     "output_type": "stream",
     "text": [
      "Processing itineraries:  52%|█████▏    | 57148/110390 [1:26:42<40:51, 21.72it/s]  "
     ]
    },
    {
     "name": "stdout",
     "output_type": "stream",
     "text": [
      "Row 57155 generated an exception: min() arg is an empty sequence\n"
     ]
    },
    {
     "name": "stderr",
     "output_type": "stream",
     "text": [
      "Processing itineraries:  53%|█████▎    | 58342/110390 [1:28:47<51:36, 16.81it/s]  "
     ]
    },
    {
     "name": "stdout",
     "output_type": "stream",
     "text": [
      "Row 58349 generated an exception: min() arg is an empty sequence\n"
     ]
    },
    {
     "name": "stderr",
     "output_type": "stream",
     "text": [
      "Processing itineraries:  53%|█████▎    | 58352/110390 [1:28:48<1:04:12, 13.51it/s]"
     ]
    },
    {
     "name": "stdout",
     "output_type": "stream",
     "text": [
      "Row 58352 generated an exception: min() arg is an empty sequence\n"
     ]
    },
    {
     "name": "stderr",
     "output_type": "stream",
     "text": [
      "Processing itineraries:  53%|█████▎    | 58366/110390 [1:28:49<1:04:18, 13.48it/s]"
     ]
    },
    {
     "name": "stdout",
     "output_type": "stream",
     "text": [
      "Row 58373 generated an exception: min() arg is an empty sequence\n"
     ]
    },
    {
     "name": "stderr",
     "output_type": "stream",
     "text": [
      "Processing itineraries:  53%|█████▎    | 58394/110390 [1:28:51<1:03:34, 13.63it/s]"
     ]
    },
    {
     "name": "stdout",
     "output_type": "stream",
     "text": [
      "Row 58400 generated an exception: min() arg is an empty sequence\n"
     ]
    },
    {
     "name": "stderr",
     "output_type": "stream",
     "text": [
      "Processing itineraries:  53%|█████▎    | 58455/110390 [1:28:56<1:04:08, 13.50it/s]"
     ]
    },
    {
     "name": "stdout",
     "output_type": "stream",
     "text": [
      "Row 58461 generated an exception: min() arg is an empty sequence\n"
     ]
    },
    {
     "name": "stderr",
     "output_type": "stream",
     "text": [
      "Processing itineraries:  53%|█████▎    | 58459/110390 [1:28:57<1:21:19, 10.64it/s]"
     ]
    },
    {
     "name": "stdout",
     "output_type": "stream",
     "text": [
      "Row 58460 generated an exception: min() arg is an empty sequence\n"
     ]
    },
    {
     "name": "stderr",
     "output_type": "stream",
     "text": [
      "Processing itineraries:  53%|█████▎    | 58475/110390 [1:28:58<1:16:15, 11.35it/s]"
     ]
    },
    {
     "name": "stdout",
     "output_type": "stream",
     "text": [
      "Row 58481 generated an exception: min() arg is an empty sequence\n"
     ]
    },
    {
     "name": "stderr",
     "output_type": "stream",
     "text": [
      "Processing itineraries:  53%|█████▎    | 58482/110390 [1:28:59<53:59, 16.02it/s]  "
     ]
    },
    {
     "name": "stdout",
     "output_type": "stream",
     "text": [
      "Row 58480 generated an exception: min() arg is an empty sequence\n"
     ]
    },
    {
     "name": "stderr",
     "output_type": "stream",
     "text": [
      "Processing itineraries:  55%|█████▍    | 60260/110390 [1:32:03<54:51, 15.23it/s]  "
     ]
    },
    {
     "name": "stdout",
     "output_type": "stream",
     "text": [
      "Row 60264 generated an exception: min() arg is an empty sequence\n"
     ]
    },
    {
     "name": "stderr",
     "output_type": "stream",
     "text": [
      "Processing itineraries:  55%|█████▍    | 60275/110390 [1:32:05<1:22:56, 10.07it/s]"
     ]
    },
    {
     "name": "stdout",
     "output_type": "stream",
     "text": [
      "Row 60283 generated an exception: min() arg is an empty sequence\n"
     ]
    },
    {
     "name": "stderr",
     "output_type": "stream",
     "text": [
      "Processing itineraries:  55%|█████▍    | 60297/110390 [1:32:07<1:09:46, 11.97it/s]"
     ]
    },
    {
     "name": "stdout",
     "output_type": "stream",
     "text": [
      "Row 60304 generated an exception: min() arg is an empty sequence\n"
     ]
    },
    {
     "name": "stderr",
     "output_type": "stream",
     "text": [
      "Processing itineraries:  55%|█████▍    | 60327/110390 [1:32:09<48:46, 17.10it/s]  "
     ]
    },
    {
     "name": "stdout",
     "output_type": "stream",
     "text": [
      "Row 60333 generated an exception: min() arg is an empty sequence\n"
     ]
    },
    {
     "name": "stderr",
     "output_type": "stream",
     "text": [
      "Processing itineraries:  55%|█████▌    | 61068/110390 [1:33:22<32:28, 25.31it/s]  "
     ]
    },
    {
     "name": "stdout",
     "output_type": "stream",
     "text": [
      "Row 61076 generated an exception: min() arg is an empty sequence\n"
     ]
    },
    {
     "name": "stderr",
     "output_type": "stream",
     "text": [
      "Processing itineraries:  55%|█████▌    | 61104/110390 [1:33:23<31:36, 25.99it/s]"
     ]
    },
    {
     "name": "stdout",
     "output_type": "stream",
     "text": [
      "Row 61110 generated an exception: min() arg is an empty sequence\n"
     ]
    },
    {
     "name": "stderr",
     "output_type": "stream",
     "text": [
      "Processing itineraries:  55%|█████▌    | 61172/110390 [1:33:26<25:45, 31.85it/s]"
     ]
    },
    {
     "name": "stdout",
     "output_type": "stream",
     "text": [
      "Row 61176 generated an exception: min() arg is an empty sequence\n"
     ]
    },
    {
     "name": "stderr",
     "output_type": "stream",
     "text": [
      "Processing itineraries:  56%|█████▌    | 61885/110390 [1:34:25<35:33, 22.73it/s]  "
     ]
    },
    {
     "name": "stdout",
     "output_type": "stream",
     "text": [
      "Row 61890 generated an exception: min() arg is an empty sequence\n",
      "Row 61893 generated an exception: min() arg is an empty sequence\n"
     ]
    },
    {
     "name": "stderr",
     "output_type": "stream",
     "text": [
      "Processing itineraries:  56%|█████▋    | 62305/110390 [1:35:00<46:14, 17.33it/s]  "
     ]
    },
    {
     "name": "stdout",
     "output_type": "stream",
     "text": [
      "Row 62314 generated an exception: min() arg is an empty sequence\n"
     ]
    },
    {
     "name": "stderr",
     "output_type": "stream",
     "text": [
      "Processing itineraries:  57%|█████▋    | 62422/110390 [1:35:08<33:11, 24.09it/s]  "
     ]
    },
    {
     "name": "stdout",
     "output_type": "stream",
     "text": [
      "Row 62420 generated an exception: min() arg is an empty sequence\n"
     ]
    },
    {
     "name": "stderr",
     "output_type": "stream",
     "text": [
      "Processing itineraries:  57%|█████▋    | 62651/110390 [1:35:34<2:07:56,  6.22it/s]"
     ]
    },
    {
     "name": "stdout",
     "output_type": "stream",
     "text": [
      "Row 62648 generated an exception: min() arg is an empty sequence\n"
     ]
    },
    {
     "name": "stderr",
     "output_type": "stream",
     "text": [
      "Processing itineraries:  57%|█████▋    | 62999/110390 [1:36:02<38:16, 20.63it/s]  "
     ]
    },
    {
     "name": "stdout",
     "output_type": "stream",
     "text": [
      "Row 63005 generated an exception: min() arg is an empty sequence\n"
     ]
    },
    {
     "name": "stderr",
     "output_type": "stream",
     "text": [
      "Processing itineraries:  57%|█████▋    | 63026/110390 [1:36:04<34:43, 22.73it/s]"
     ]
    },
    {
     "name": "stdout",
     "output_type": "stream",
     "text": [
      "Row 63028 generated an exception: min() arg is an empty sequence\n"
     ]
    },
    {
     "name": "stderr",
     "output_type": "stream",
     "text": [
      "Processing itineraries:  58%|█████▊    | 63659/110390 [1:37:02<28:09, 27.65it/s]  "
     ]
    },
    {
     "name": "stdout",
     "output_type": "stream",
     "text": [
      "Row 63665 generated an exception: min() arg is an empty sequence\n"
     ]
    },
    {
     "name": "stderr",
     "output_type": "stream",
     "text": [
      "Processing itineraries:  58%|█████▊    | 63662/110390 [1:37:02<31:05, 25.05it/s]"
     ]
    },
    {
     "name": "stdout",
     "output_type": "stream",
     "text": [
      "Row 63670 generated an exception: min() arg is an empty sequence\n"
     ]
    },
    {
     "name": "stderr",
     "output_type": "stream",
     "text": [
      "Processing itineraries:  58%|█████▊    | 63703/110390 [1:37:04<25:56, 29.99it/s]"
     ]
    },
    {
     "name": "stdout",
     "output_type": "stream",
     "text": [
      "Row 63704 generated an exception: min() arg is an empty sequence\n"
     ]
    },
    {
     "name": "stderr",
     "output_type": "stream",
     "text": [
      "Processing itineraries:  58%|█████▊    | 63915/110390 [1:37:20<32:03, 24.16it/s]  "
     ]
    },
    {
     "name": "stdout",
     "output_type": "stream",
     "text": [
      "Row 63919 generated an exception: min() arg is an empty sequence\n"
     ]
    },
    {
     "name": "stderr",
     "output_type": "stream",
     "text": [
      "Processing itineraries:  58%|█████▊    | 64119/110390 [1:37:37<34:47, 22.16it/s]  "
     ]
    },
    {
     "name": "stdout",
     "output_type": "stream",
     "text": [
      "Row 64124 generated an exception: min() arg is an empty sequence\n"
     ]
    },
    {
     "name": "stderr",
     "output_type": "stream",
     "text": [
      "Processing itineraries:  59%|█████▊    | 64695/110390 [1:38:26<32:13, 23.63it/s]  "
     ]
    },
    {
     "name": "stdout",
     "output_type": "stream",
     "text": [
      "Row 64700 generated an exception: min() arg is an empty sequence\n"
     ]
    },
    {
     "name": "stderr",
     "output_type": "stream",
     "text": [
      "Processing itineraries:  59%|█████▊    | 64705/110390 [1:38:26<46:39, 16.32it/s]"
     ]
    },
    {
     "name": "stdout",
     "output_type": "stream",
     "text": [
      "Row 64711 generated an exception: min() arg is an empty sequence\n"
     ]
    },
    {
     "name": "stderr",
     "output_type": "stream",
     "text": [
      "Processing itineraries:  59%|█████▊    | 64711/110390 [1:38:27<52:21, 14.54it/s]"
     ]
    },
    {
     "name": "stdout",
     "output_type": "stream",
     "text": [
      "Row 64720 generated an exception: min() arg is an empty sequence\n"
     ]
    },
    {
     "name": "stderr",
     "output_type": "stream",
     "text": [
      "Processing itineraries:  59%|█████▊    | 64724/110390 [1:38:28<45:53, 16.59it/s]  "
     ]
    },
    {
     "name": "stdout",
     "output_type": "stream",
     "text": [
      "Row 64727 generated an exception: min() arg is an empty sequence\n"
     ]
    },
    {
     "name": "stderr",
     "output_type": "stream",
     "text": [
      "Processing itineraries:  59%|█████▊    | 64735/110390 [1:38:28<36:02, 21.11it/s]"
     ]
    },
    {
     "name": "stdout",
     "output_type": "stream",
     "text": [
      "Row 64741 generated an exception: min() arg is an empty sequence\n"
     ]
    },
    {
     "name": "stderr",
     "output_type": "stream",
     "text": [
      "Processing itineraries:  60%|█████▉    | 66056/110390 [1:40:30<18:05, 40.85it/s]  "
     ]
    },
    {
     "name": "stdout",
     "output_type": "stream",
     "text": [
      "Row 66058 generated an exception: min() arg is an empty sequence\n",
      "Row 66062 generated an exception: min() arg is an empty sequence\n",
      "Row 66064 generated an exception: min() arg is an empty sequence\n",
      "Row 66065 generated an exception: min() arg is an empty sequence\n",
      "Row 66066 generated an exception: min() arg is an empty sequence\n",
      "Row 66068 generated an exception: min() arg is an empty sequence\n"
     ]
    },
    {
     "name": "stderr",
     "output_type": "stream",
     "text": [
      "Processing itineraries:  60%|█████▉    | 66063/110390 [1:40:30<15:36, 47.33it/s]"
     ]
    },
    {
     "name": "stdout",
     "output_type": "stream",
     "text": [
      "Row 66072 generated an exception: min() arg is an empty sequence\n"
     ]
    },
    {
     "name": "stderr",
     "output_type": "stream",
     "text": [
      "Processing itineraries:  60%|█████▉    | 66083/110390 [1:40:31<23:57, 30.81it/s]"
     ]
    },
    {
     "name": "stdout",
     "output_type": "stream",
     "text": [
      "Row 66086 generated an exception: min() arg is an empty sequence\n"
     ]
    },
    {
     "name": "stderr",
     "output_type": "stream",
     "text": [
      "Processing itineraries:  60%|█████▉    | 66095/110390 [1:40:31<23:44, 31.08it/s]"
     ]
    },
    {
     "name": "stdout",
     "output_type": "stream",
     "text": [
      "Row 66101 generated an exception: min() arg is an empty sequence\n"
     ]
    },
    {
     "name": "stderr",
     "output_type": "stream",
     "text": [
      "Processing itineraries:  60%|█████▉    | 66108/110390 [1:40:31<24:38, 29.96it/s]"
     ]
    },
    {
     "name": "stdout",
     "output_type": "stream",
     "text": [
      "Row 66112 generated an exception: min() arg is an empty sequence\n"
     ]
    },
    {
     "name": "stderr",
     "output_type": "stream",
     "text": [
      "Processing itineraries:  60%|█████▉    | 66119/110390 [1:40:32<25:00, 29.50it/s]"
     ]
    },
    {
     "name": "stdout",
     "output_type": "stream",
     "text": [
      "Row 66122 generated an exception: min() arg is an empty sequence\n"
     ]
    },
    {
     "name": "stderr",
     "output_type": "stream",
     "text": [
      "Processing itineraries:  60%|██████    | 66253/110390 [1:40:37<24:58, 29.46it/s]"
     ]
    },
    {
     "name": "stdout",
     "output_type": "stream",
     "text": [
      "Row 66258 generated an exception: min() arg is an empty sequence\n"
     ]
    },
    {
     "name": "stderr",
     "output_type": "stream",
     "text": [
      "Processing itineraries:  60%|██████    | 66600/110390 [1:41:20<32:09, 22.69it/s]  "
     ]
    },
    {
     "name": "stdout",
     "output_type": "stream",
     "text": [
      "Row 66597 generated an exception: min() arg is an empty sequence\n"
     ]
    },
    {
     "name": "stderr",
     "output_type": "stream",
     "text": [
      "Processing itineraries:  61%|██████    | 67223/110390 [1:42:20<46:12, 15.57it/s]  "
     ]
    },
    {
     "name": "stdout",
     "output_type": "stream",
     "text": [
      "Row 67229 generated an exception: min() arg is an empty sequence\n"
     ]
    },
    {
     "name": "stderr",
     "output_type": "stream",
     "text": [
      "Processing itineraries:  61%|██████    | 67274/110390 [1:42:24<42:21, 16.96it/s]  "
     ]
    },
    {
     "name": "stdout",
     "output_type": "stream",
     "text": [
      "Row 67278 generated an exception: min() arg is an empty sequence\n"
     ]
    },
    {
     "name": "stderr",
     "output_type": "stream",
     "text": [
      "Processing itineraries:  62%|██████▏   | 68658/110390 [1:44:24<41:00, 16.96it/s]  "
     ]
    },
    {
     "name": "stdout",
     "output_type": "stream",
     "text": [
      "Row 68664 generated an exception: min() arg is an empty sequence\n"
     ]
    },
    {
     "name": "stderr",
     "output_type": "stream",
     "text": [
      "Processing itineraries:  62%|██████▏   | 68676/110390 [1:44:25<39:29, 17.61it/s]  "
     ]
    },
    {
     "name": "stdout",
     "output_type": "stream",
     "text": [
      "Row 68682 generated an exception: min() arg is an empty sequence\n"
     ]
    },
    {
     "name": "stderr",
     "output_type": "stream",
     "text": [
      "Processing itineraries:  62%|██████▏   | 68679/110390 [1:44:25<50:23, 13.80it/s]"
     ]
    },
    {
     "name": "stdout",
     "output_type": "stream",
     "text": [
      "Row 68690 generated an exception: min() arg is an empty sequence\n"
     ]
    },
    {
     "name": "stderr",
     "output_type": "stream",
     "text": [
      "Processing itineraries:  62%|██████▏   | 68703/110390 [1:44:26<34:42, 20.01it/s]"
     ]
    },
    {
     "name": "stdout",
     "output_type": "stream",
     "text": [
      "Row 68711 generated an exception: min() arg is an empty sequence\n"
     ]
    },
    {
     "name": "stderr",
     "output_type": "stream",
     "text": [
      "Processing itineraries:  62%|██████▏   | 68723/110390 [1:44:28<45:01, 15.43it/s]"
     ]
    },
    {
     "name": "stdout",
     "output_type": "stream",
     "text": [
      "Row 68730 generated an exception: min() arg is an empty sequence\n"
     ]
    },
    {
     "name": "stderr",
     "output_type": "stream",
     "text": [
      "Processing itineraries:  62%|██████▏   | 68746/110390 [1:44:29<36:37, 18.95it/s]"
     ]
    },
    {
     "name": "stdout",
     "output_type": "stream",
     "text": [
      "Row 68751 generated an exception: min() arg is an empty sequence\n"
     ]
    },
    {
     "name": "stderr",
     "output_type": "stream",
     "text": [
      "Processing itineraries:  63%|██████▎   | 69710/110390 [1:45:57<31:01, 21.85it/s]  "
     ]
    },
    {
     "name": "stdout",
     "output_type": "stream",
     "text": [
      "Row 69716 generated an exception: min() arg is an empty sequence\n"
     ]
    },
    {
     "name": "stderr",
     "output_type": "stream",
     "text": [
      "Processing itineraries:  64%|██████▍   | 70771/110390 [1:47:18<27:43, 23.81it/s]  "
     ]
    },
    {
     "name": "stdout",
     "output_type": "stream",
     "text": [
      "Row 70776 generated an exception: min() arg is an empty sequence\n"
     ]
    },
    {
     "name": "stderr",
     "output_type": "stream",
     "text": [
      "Processing itineraries:  66%|██████▌   | 72633/110390 [1:49:39<28:29, 22.09it/s]  "
     ]
    },
    {
     "name": "stdout",
     "output_type": "stream",
     "text": [
      "Row 72638 generated an exception: min() arg is an empty sequence\n"
     ]
    },
    {
     "name": "stderr",
     "output_type": "stream",
     "text": [
      "Processing itineraries:  66%|██████▌   | 72653/110390 [1:49:40<33:31, 18.76it/s]"
     ]
    },
    {
     "name": "stdout",
     "output_type": "stream",
     "text": [
      "Row 72659 generated an exception: min() arg is an empty sequence\n"
     ]
    },
    {
     "name": "stderr",
     "output_type": "stream",
     "text": [
      "Processing itineraries:  66%|██████▌   | 72663/110390 [1:49:41<37:12, 16.90it/s]"
     ]
    },
    {
     "name": "stdout",
     "output_type": "stream",
     "text": [
      "Row 72670 generated an exception: min() arg is an empty sequence\n",
      "Row 72672 generated an exception: min() arg is an empty sequence\n",
      "Row 72673 generated an exception: min() arg is an empty sequence\n"
     ]
    },
    {
     "name": "stderr",
     "output_type": "stream",
     "text": [
      "Processing itineraries:  66%|██████▌   | 72690/110390 [1:49:42<26:45, 23.49it/s]"
     ]
    },
    {
     "name": "stdout",
     "output_type": "stream",
     "text": [
      "Row 72694 generated an exception: min() arg is an empty sequence\n"
     ]
    },
    {
     "name": "stderr",
     "output_type": "stream",
     "text": [
      "Processing itineraries:  66%|██████▌   | 72746/110390 [1:49:45<23:22, 26.84it/s]"
     ]
    },
    {
     "name": "stdout",
     "output_type": "stream",
     "text": [
      "Row 72752 generated an exception: min() arg is an empty sequence\n"
     ]
    },
    {
     "name": "stderr",
     "output_type": "stream",
     "text": [
      "Processing itineraries:  66%|██████▌   | 72779/110390 [1:49:46<28:58, 21.63it/s]"
     ]
    },
    {
     "name": "stdout",
     "output_type": "stream",
     "text": [
      "Row 72786 generated an exception: min() arg is an empty sequence\n"
     ]
    },
    {
     "name": "stderr",
     "output_type": "stream",
     "text": [
      "Processing itineraries:  67%|██████▋   | 73625/110390 [1:50:49<34:42, 17.65it/s]  "
     ]
    },
    {
     "name": "stdout",
     "output_type": "stream",
     "text": [
      "Row 73629 generated an exception: min() arg is an empty sequence\n"
     ]
    },
    {
     "name": "stderr",
     "output_type": "stream",
     "text": [
      "Processing itineraries:  67%|██████▋   | 74373/110390 [1:51:50<36:32, 16.43it/s]  "
     ]
    },
    {
     "name": "stdout",
     "output_type": "stream",
     "text": [
      "Row 74380 generated an exception: min() arg is an empty sequence\n"
     ]
    },
    {
     "name": "stderr",
     "output_type": "stream",
     "text": [
      "Processing itineraries:  67%|██████▋   | 74397/110390 [1:51:52<31:55, 18.79it/s]"
     ]
    },
    {
     "name": "stdout",
     "output_type": "stream",
     "text": [
      "Row 74404 generated an exception: min() arg is an empty sequence\n"
     ]
    },
    {
     "name": "stderr",
     "output_type": "stream",
     "text": [
      "Processing itineraries:  67%|██████▋   | 74437/110390 [1:51:54<34:15, 17.49it/s]"
     ]
    },
    {
     "name": "stdout",
     "output_type": "stream",
     "text": [
      "Row 74443 generated an exception: min() arg is an empty sequence\n"
     ]
    },
    {
     "name": "stderr",
     "output_type": "stream",
     "text": [
      "Processing itineraries:  68%|██████▊   | 74590/110390 [1:52:04<1:15:14,  7.93it/s]"
     ]
    },
    {
     "name": "stdout",
     "output_type": "stream",
     "text": [
      "Row 74590 generated an exception: min() arg is an empty sequence\n"
     ]
    },
    {
     "name": "stderr",
     "output_type": "stream",
     "text": [
      "Processing itineraries:  69%|██████▊   | 75652/110390 [1:53:42<43:53, 13.19it/s]  "
     ]
    },
    {
     "name": "stdout",
     "output_type": "stream",
     "text": [
      "Row 75652 generated an exception: min() arg is an empty sequence\n"
     ]
    },
    {
     "name": "stderr",
     "output_type": "stream",
     "text": [
      "Processing itineraries:  69%|██████▊   | 75678/110390 [1:53:46<58:58,  9.81it/s]  "
     ]
    },
    {
     "name": "stdout",
     "output_type": "stream",
     "text": [
      "Row 75675 generated an exception: min() arg is an empty sequence\n"
     ]
    },
    {
     "name": "stderr",
     "output_type": "stream",
     "text": [
      "Processing itineraries:  69%|██████▊   | 75776/110390 [1:54:01<1:30:40,  6.36it/s]"
     ]
    },
    {
     "name": "stdout",
     "output_type": "stream",
     "text": [
      "Row 75777 generated an exception: min() arg is an empty sequence\n"
     ]
    },
    {
     "name": "stderr",
     "output_type": "stream",
     "text": [
      "Processing itineraries:  69%|██████▊   | 75798/110390 [1:54:06<1:53:41,  5.07it/s]"
     ]
    },
    {
     "name": "stdout",
     "output_type": "stream",
     "text": [
      "Row 75798 generated an exception: min() arg is an empty sequence\n"
     ]
    },
    {
     "name": "stderr",
     "output_type": "stream",
     "text": [
      "Processing itineraries:  69%|██████▉   | 75901/110390 [1:54:19<16:18, 35.24it/s]  "
     ]
    },
    {
     "name": "stdout",
     "output_type": "stream",
     "text": [
      "Row 75904 generated an exception: min() arg is an empty sequence\n",
      "Row 75906 generated an exception: min() arg is an empty sequence\n"
     ]
    },
    {
     "name": "stderr",
     "output_type": "stream",
     "text": [
      "Processing itineraries:  69%|██████▉   | 76288/110390 [1:54:32<23:18, 24.38it/s]"
     ]
    },
    {
     "name": "stdout",
     "output_type": "stream",
     "text": [
      "Row 76281 generated an exception: min() arg is an empty sequence\n"
     ]
    },
    {
     "name": "stderr",
     "output_type": "stream",
     "text": [
      "Processing itineraries:  69%|██████▉   | 76568/110390 [1:54:53<1:30:04,  6.26it/s]"
     ]
    },
    {
     "name": "stdout",
     "output_type": "stream",
     "text": [
      "Row 76567 generated an exception: min() arg is an empty sequence\n"
     ]
    },
    {
     "name": "stderr",
     "output_type": "stream",
     "text": [
      "Processing itineraries:  69%|██████▉   | 76575/110390 [1:54:54<1:09:20,  8.13it/s]"
     ]
    },
    {
     "name": "stdout",
     "output_type": "stream",
     "text": [
      "Row 76570 generated an exception: min() arg is an empty sequence\n"
     ]
    },
    {
     "name": "stderr",
     "output_type": "stream",
     "text": [
      "Processing itineraries:  69%|██████▉   | 76584/110390 [1:54:56<1:37:42,  5.77it/s]"
     ]
    },
    {
     "name": "stdout",
     "output_type": "stream",
     "text": [
      "Row 76584 generated an exception: min() arg is an empty sequence\n"
     ]
    },
    {
     "name": "stderr",
     "output_type": "stream",
     "text": [
      "Processing itineraries:  69%|██████▉   | 76638/110390 [1:55:04<1:08:53,  8.17it/s]"
     ]
    },
    {
     "name": "stdout",
     "output_type": "stream",
     "text": [
      "Row 76635 generated an exception: min() arg is an empty sequence\n"
     ]
    },
    {
     "name": "stderr",
     "output_type": "stream",
     "text": [
      "Processing itineraries:  70%|██████▉   | 76732/110390 [1:55:18<1:40:32,  5.58it/s]"
     ]
    },
    {
     "name": "stdout",
     "output_type": "stream",
     "text": [
      "Row 76730 generated an exception: min() arg is an empty sequence\n"
     ]
    },
    {
     "name": "stderr",
     "output_type": "stream",
     "text": [
      "Processing itineraries:  70%|██████▉   | 76847/110390 [1:55:33<1:13:18,  7.63it/s]"
     ]
    },
    {
     "name": "stdout",
     "output_type": "stream",
     "text": [
      "Row 76844 generated an exception: min() arg is an empty sequence\n"
     ]
    },
    {
     "name": "stderr",
     "output_type": "stream",
     "text": [
      "Processing itineraries:  70%|██████▉   | 76862/110390 [1:55:36<1:38:45,  5.66it/s]"
     ]
    },
    {
     "name": "stdout",
     "output_type": "stream",
     "text": [
      "Row 76863 generated an exception: min() arg is an empty sequence\n"
     ]
    },
    {
     "name": "stderr",
     "output_type": "stream",
     "text": [
      "Processing itineraries:  70%|██████▉   | 76920/110390 [1:55:45<1:19:00,  7.06it/s]"
     ]
    },
    {
     "name": "stdout",
     "output_type": "stream",
     "text": [
      "Row 76919 generated an exception: min() arg is an empty sequence\n"
     ]
    },
    {
     "name": "stderr",
     "output_type": "stream",
     "text": [
      "Processing itineraries:  70%|██████▉   | 77003/110390 [1:55:57<55:08, 10.09it/s]  "
     ]
    },
    {
     "name": "stdout",
     "output_type": "stream",
     "text": [
      "Row 77000 generated an exception: min() arg is an empty sequence\n"
     ]
    },
    {
     "name": "stderr",
     "output_type": "stream",
     "text": [
      "Processing itineraries:  70%|██████▉   | 77014/110390 [1:55:58<47:04, 11.82it/s]  "
     ]
    },
    {
     "name": "stdout",
     "output_type": "stream",
     "text": [
      "Row 77016 generated an exception: min() arg is an empty sequence\n"
     ]
    },
    {
     "name": "stderr",
     "output_type": "stream",
     "text": [
      "Processing itineraries:  70%|██████▉   | 77024/110390 [1:56:00<48:28, 11.47it/s]  "
     ]
    },
    {
     "name": "stdout",
     "output_type": "stream",
     "text": [
      "Row 77020 generated an exception: min() arg is an empty sequence\n"
     ]
    },
    {
     "name": "stderr",
     "output_type": "stream",
     "text": [
      "Processing itineraries:  70%|██████▉   | 77250/110390 [1:56:14<44:51, 12.31it/s]"
     ]
    },
    {
     "name": "stdout",
     "output_type": "stream",
     "text": [
      "Row 77245 generated an exception: min() arg is an empty sequence\n"
     ]
    },
    {
     "name": "stderr",
     "output_type": "stream",
     "text": [
      "Processing itineraries:  70%|██████▉   | 77267/110390 [1:56:16<43:19, 12.74it/s]"
     ]
    },
    {
     "name": "stdout",
     "output_type": "stream",
     "text": [
      "Row 77260 generated an exception: min() arg is an empty sequence\n"
     ]
    },
    {
     "name": "stderr",
     "output_type": "stream",
     "text": [
      "Processing itineraries:  70%|███████   | 77345/110390 [1:56:21<50:49, 10.84it/s]  "
     ]
    },
    {
     "name": "stdout",
     "output_type": "stream",
     "text": [
      "Row 77344 generated an exception: min() arg is an empty sequence\n"
     ]
    },
    {
     "name": "stderr",
     "output_type": "stream",
     "text": [
      "Processing itineraries:  70%|███████   | 77771/110390 [1:57:15<1:02:39,  8.68it/s]"
     ]
    },
    {
     "name": "stdout",
     "output_type": "stream",
     "text": [
      "Row 77767 generated an exception: min() arg is an empty sequence\n"
     ]
    },
    {
     "name": "stderr",
     "output_type": "stream",
     "text": [
      "Processing itineraries:  71%|███████   | 77853/110390 [1:57:31<1:34:55,  5.71it/s]"
     ]
    },
    {
     "name": "stdout",
     "output_type": "stream",
     "text": [
      "Row 77851 generated an exception: min() arg is an empty sequence\n"
     ]
    },
    {
     "name": "stderr",
     "output_type": "stream",
     "text": [
      "Processing itineraries:  71%|███████   | 77922/110390 [1:57:44<1:33:07,  5.81it/s]"
     ]
    },
    {
     "name": "stdout",
     "output_type": "stream",
     "text": [
      "Row 77922 generated an exception: min() arg is an empty sequence\n"
     ]
    },
    {
     "name": "stderr",
     "output_type": "stream",
     "text": [
      "Processing itineraries:  71%|███████   | 78283/110390 [1:58:06<13:53, 38.52it/s]  "
     ]
    },
    {
     "name": "stdout",
     "output_type": "stream",
     "text": [
      "Row 78285 generated an exception: min() arg is an empty sequence\n"
     ]
    },
    {
     "name": "stderr",
     "output_type": "stream",
     "text": [
      "Processing itineraries:  71%|███████   | 78385/110390 [1:58:09<15:40, 34.03it/s]"
     ]
    },
    {
     "name": "stdout",
     "output_type": "stream",
     "text": [
      "Row 78389 generated an exception: min() arg is an empty sequence\n"
     ]
    },
    {
     "name": "stderr",
     "output_type": "stream",
     "text": [
      "Processing itineraries:  71%|███████   | 78440/110390 [1:58:11<15:58, 33.35it/s]"
     ]
    },
    {
     "name": "stdout",
     "output_type": "stream",
     "text": [
      "Row 78442 generated an exception: min() arg is an empty sequence\n",
      "Row 78443 generated an exception: min() arg is an empty sequence\n",
      "Row 78450 generated an exception: min() arg is an empty sequence\n",
      "Row 78451 generated an exception: min() arg is an empty sequence\n"
     ]
    },
    {
     "name": "stderr",
     "output_type": "stream",
     "text": [
      "Processing itineraries:  71%|███████   | 78592/110390 [1:58:16<15:17, 34.67it/s]"
     ]
    },
    {
     "name": "stdout",
     "output_type": "stream",
     "text": [
      "Row 78593 generated an exception: min() arg is an empty sequence\n"
     ]
    },
    {
     "name": "stderr",
     "output_type": "stream",
     "text": [
      "Processing itineraries:  71%|███████▏  | 78890/110390 [1:58:25<14:37, 35.88it/s]"
     ]
    },
    {
     "name": "stdout",
     "output_type": "stream",
     "text": [
      "Row 78895 generated an exception: min() arg is an empty sequence\n",
      "Row 78900 generated an exception: min() arg is an empty sequence\n"
     ]
    },
    {
     "name": "stderr",
     "output_type": "stream",
     "text": [
      "Processing itineraries:  72%|███████▏  | 78956/110390 [1:58:26<11:36, 45.15it/s]"
     ]
    },
    {
     "name": "stdout",
     "output_type": "stream",
     "text": [
      "Row 78958 generated an exception: min() arg is an empty sequence\n"
     ]
    },
    {
     "name": "stderr",
     "output_type": "stream",
     "text": [
      "Processing itineraries:  72%|███████▏  | 78976/110390 [1:58:27<12:30, 41.86it/s]"
     ]
    },
    {
     "name": "stdout",
     "output_type": "stream",
     "text": [
      "Row 78983 generated an exception: min() arg is an empty sequence\n"
     ]
    },
    {
     "name": "stderr",
     "output_type": "stream",
     "text": [
      "Processing itineraries:  73%|███████▎  | 80373/110390 [1:59:29<1:00:17,  8.30it/s]"
     ]
    },
    {
     "name": "stdout",
     "output_type": "stream",
     "text": [
      "Row 80373 generated an exception: min() arg is an empty sequence\n"
     ]
    },
    {
     "name": "stderr",
     "output_type": "stream",
     "text": [
      "Processing itineraries:  73%|███████▎  | 80399/110390 [1:59:33<1:10:28,  7.09it/s]"
     ]
    },
    {
     "name": "stdout",
     "output_type": "stream",
     "text": [
      "Row 80396 generated an exception: min() arg is an empty sequence\n"
     ]
    },
    {
     "name": "stderr",
     "output_type": "stream",
     "text": [
      "Processing itineraries:  73%|███████▎  | 80492/110390 [1:59:50<1:23:26,  5.97it/s]"
     ]
    },
    {
     "name": "stdout",
     "output_type": "stream",
     "text": [
      "Row 80492 generated an exception: min() arg is an empty sequence\n"
     ]
    },
    {
     "name": "stderr",
     "output_type": "stream",
     "text": [
      "Processing itineraries:  73%|███████▎  | 80623/110390 [2:00:09<1:03:30,  7.81it/s]"
     ]
    },
    {
     "name": "stdout",
     "output_type": "stream",
     "text": [
      "Row 80619 generated an exception: min() arg is an empty sequence\n"
     ]
    },
    {
     "name": "stderr",
     "output_type": "stream",
     "text": [
      "Processing itineraries:  73%|███████▎  | 80646/110390 [2:00:12<57:19,  8.65it/s]  "
     ]
    },
    {
     "name": "stdout",
     "output_type": "stream",
     "text": [
      "Row 80644 generated an exception: min() arg is an empty sequence\n"
     ]
    },
    {
     "name": "stderr",
     "output_type": "stream",
     "text": [
      "Processing itineraries:  74%|███████▎  | 81351/110390 [2:01:28<59:59,  8.07it/s]  "
     ]
    },
    {
     "name": "stdout",
     "output_type": "stream",
     "text": [
      "Row 81351 generated an exception: min() arg is an empty sequence\n"
     ]
    },
    {
     "name": "stderr",
     "output_type": "stream",
     "text": [
      "Processing itineraries:  74%|███████▍  | 81770/110390 [2:01:54<15:42, 30.38it/s]  "
     ]
    },
    {
     "name": "stdout",
     "output_type": "stream",
     "text": [
      "Row 81777 generated an exception: min() arg is an empty sequence\n"
     ]
    },
    {
     "name": "stderr",
     "output_type": "stream",
     "text": [
      "Processing itineraries:  74%|███████▍  | 81818/110390 [2:01:55<14:48, 32.14it/s]"
     ]
    },
    {
     "name": "stdout",
     "output_type": "stream",
     "text": [
      "Row 81821 generated an exception: min() arg is an empty sequence\n"
     ]
    },
    {
     "name": "stderr",
     "output_type": "stream",
     "text": [
      "Processing itineraries:  78%|███████▊  | 85704/110390 [2:07:27<15:52, 25.92it/s]  "
     ]
    },
    {
     "name": "stdout",
     "output_type": "stream",
     "text": [
      "Row 85700 generated an exception: min() arg is an empty sequence\n"
     ]
    },
    {
     "name": "stderr",
     "output_type": "stream",
     "text": [
      "Processing itineraries:  78%|███████▊  | 86496/110390 [2:08:09<16:10, 24.61it/s]"
     ]
    },
    {
     "name": "stdout",
     "output_type": "stream",
     "text": [
      "Row 86499 generated an exception: min() arg is an empty sequence\n"
     ]
    },
    {
     "name": "stderr",
     "output_type": "stream",
     "text": [
      "Processing itineraries:  78%|███████▊  | 86599/110390 [2:08:14<16:45, 23.66it/s]"
     ]
    },
    {
     "name": "stdout",
     "output_type": "stream",
     "text": [
      "Row 86604 generated an exception: min() arg is an empty sequence\n"
     ]
    },
    {
     "name": "stderr",
     "output_type": "stream",
     "text": [
      "Processing itineraries:  79%|███████▊  | 86900/110390 [2:08:30<18:54, 20.70it/s]"
     ]
    },
    {
     "name": "stdout",
     "output_type": "stream",
     "text": [
      "Row 86907 generated an exception: min() arg is an empty sequence\n"
     ]
    },
    {
     "name": "stderr",
     "output_type": "stream",
     "text": [
      "Processing itineraries:  79%|███████▉  | 87028/110390 [2:08:38<24:07, 16.14it/s]"
     ]
    },
    {
     "name": "stdout",
     "output_type": "stream",
     "text": [
      "Row 87034 generated an exception: min() arg is an empty sequence\n"
     ]
    },
    {
     "name": "stderr",
     "output_type": "stream",
     "text": [
      "Processing itineraries:  81%|████████  | 89628/110390 [2:11:45<14:13, 24.31it/s]  "
     ]
    },
    {
     "name": "stdout",
     "output_type": "stream",
     "text": [
      "Row 89632 generated an exception: min() arg is an empty sequence\n"
     ]
    },
    {
     "name": "stderr",
     "output_type": "stream",
     "text": [
      "Processing itineraries:  81%|████████  | 89644/110390 [2:11:46<13:25, 25.75it/s]"
     ]
    },
    {
     "name": "stdout",
     "output_type": "stream",
     "text": [
      "Row 89648 generated an exception: min() arg is an empty sequence\n"
     ]
    },
    {
     "name": "stderr",
     "output_type": "stream",
     "text": [
      "Processing itineraries:  83%|████████▎ | 91704/110390 [2:15:00<13:11, 23.60it/s]  "
     ]
    },
    {
     "name": "stdout",
     "output_type": "stream",
     "text": [
      "Row 91706 generated an exception: min() arg is an empty sequence\n"
     ]
    },
    {
     "name": "stderr",
     "output_type": "stream",
     "text": [
      "Processing itineraries:  83%|████████▎ | 91711/110390 [2:15:00<15:10, 20.52it/s]"
     ]
    },
    {
     "name": "stdout",
     "output_type": "stream",
     "text": [
      "Row 91717 generated an exception: min() arg is an empty sequence\n"
     ]
    },
    {
     "name": "stderr",
     "output_type": "stream",
     "text": [
      "Processing itineraries:  83%|████████▎ | 91789/110390 [2:15:04<10:41, 29.02it/s]"
     ]
    },
    {
     "name": "stdout",
     "output_type": "stream",
     "text": [
      "Row 91792 generated an exception: min() arg is an empty sequence\n"
     ]
    },
    {
     "name": "stderr",
     "output_type": "stream",
     "text": [
      "Processing itineraries:  83%|████████▎ | 91852/110390 [2:15:06<12:31, 24.68it/s]"
     ]
    },
    {
     "name": "stdout",
     "output_type": "stream",
     "text": [
      "Row 91849 generated an exception: min() arg is an empty sequence\n"
     ]
    },
    {
     "name": "stderr",
     "output_type": "stream",
     "text": [
      "Processing itineraries:  83%|████████▎ | 91882/110390 [2:15:07<11:10, 27.60it/s]"
     ]
    },
    {
     "name": "stdout",
     "output_type": "stream",
     "text": [
      "Row 91884 generated an exception: min() arg is an empty sequence\n",
      "Row 91888 generated an exception: min() arg is an empty sequence\n"
     ]
    },
    {
     "name": "stderr",
     "output_type": "stream",
     "text": [
      "Processing itineraries:  83%|████████▎ | 91894/110390 [2:15:08<10:35, 29.10it/s]"
     ]
    },
    {
     "name": "stdout",
     "output_type": "stream",
     "text": [
      "Row 91899 generated an exception: min() arg is an empty sequence\n"
     ]
    },
    {
     "name": "stderr",
     "output_type": "stream",
     "text": [
      "Processing itineraries:  83%|████████▎ | 91910/110390 [2:15:08<09:36, 32.08it/s]"
     ]
    },
    {
     "name": "stdout",
     "output_type": "stream",
     "text": [
      "Row 91912 generated an exception: min() arg is an empty sequence\n",
      "Row 91913 generated an exception: min() arg is an empty sequence\n",
      "Row 91915 generated an exception: min() arg is an empty sequence\n"
     ]
    },
    {
     "name": "stderr",
     "output_type": "stream",
     "text": [
      "Processing itineraries:  83%|████████▎ | 91926/110390 [2:15:09<11:10, 27.54it/s]"
     ]
    },
    {
     "name": "stdout",
     "output_type": "stream",
     "text": [
      "Row 91930 generated an exception: min() arg is an empty sequence\n"
     ]
    },
    {
     "name": "stderr",
     "output_type": "stream",
     "text": [
      "Processing itineraries:  83%|████████▎ | 92059/110390 [2:15:14<11:58, 25.50it/s]"
     ]
    },
    {
     "name": "stdout",
     "output_type": "stream",
     "text": [
      "Row 92065 generated an exception: min() arg is an empty sequence\n"
     ]
    },
    {
     "name": "stderr",
     "output_type": "stream",
     "text": [
      "Processing itineraries:  83%|████████▎ | 92107/110390 [2:15:16<09:36, 31.72it/s]"
     ]
    },
    {
     "name": "stdout",
     "output_type": "stream",
     "text": [
      "Row 92113 generated an exception: min() arg is an empty sequence\n"
     ]
    },
    {
     "name": "stderr",
     "output_type": "stream",
     "text": [
      "Processing itineraries:  85%|████████▍ | 93604/110390 [2:17:17<07:38, 36.61it/s]  "
     ]
    },
    {
     "name": "stdout",
     "output_type": "stream",
     "text": [
      "Row 93605 generated an exception: min() arg is an empty sequence\n"
     ]
    },
    {
     "name": "stderr",
     "output_type": "stream",
     "text": [
      "Processing itineraries:  86%|████████▋ | 95329/110390 [2:19:16<11:53, 21.12it/s]  "
     ]
    },
    {
     "name": "stdout",
     "output_type": "stream",
     "text": [
      "Row 95335 generated an exception: min() arg is an empty sequence\n"
     ]
    },
    {
     "name": "stderr",
     "output_type": "stream",
     "text": [
      "Processing itineraries:  87%|████████▋ | 95568/110390 [2:19:26<11:36, 21.27it/s]"
     ]
    },
    {
     "name": "stdout",
     "output_type": "stream",
     "text": [
      "Row 95574 generated an exception: min() arg is an empty sequence\n"
     ]
    },
    {
     "name": "stderr",
     "output_type": "stream",
     "text": [
      "Processing itineraries:  87%|████████▋ | 95600/110390 [2:19:28<10:09, 24.28it/s]"
     ]
    },
    {
     "name": "stdout",
     "output_type": "stream",
     "text": [
      "Row 95607 generated an exception: min() arg is an empty sequence\n"
     ]
    },
    {
     "name": "stderr",
     "output_type": "stream",
     "text": [
      "Processing itineraries:  88%|████████▊ | 96946/110390 [2:21:05<08:53, 25.22it/s]  "
     ]
    },
    {
     "name": "stdout",
     "output_type": "stream",
     "text": [
      "Row 96953 generated an exception: min() arg is an empty sequence\n"
     ]
    },
    {
     "name": "stderr",
     "output_type": "stream",
     "text": [
      "Processing itineraries:  90%|█████████ | 99486/110390 [2:25:07<30:39,  5.93it/s]"
     ]
    },
    {
     "name": "stdout",
     "output_type": "stream",
     "text": [
      "Row 99494 generated an exception: min() arg is an empty sequence\n"
     ]
    },
    {
     "name": "stderr",
     "output_type": "stream",
     "text": [
      "Processing itineraries:  91%|█████████ | 100657/110390 [2:27:06<07:06, 22.81it/s] "
     ]
    },
    {
     "name": "stdout",
     "output_type": "stream",
     "text": [
      "Row 100663 generated an exception: min() arg is an empty sequence\n"
     ]
    },
    {
     "name": "stderr",
     "output_type": "stream",
     "text": [
      "Processing itineraries:  91%|█████████▏| 100753/110390 [2:27:12<07:38, 21.00it/s]"
     ]
    },
    {
     "name": "stdout",
     "output_type": "stream",
     "text": [
      "Row 100756 generated an exception: min() arg is an empty sequence\n"
     ]
    },
    {
     "name": "stderr",
     "output_type": "stream",
     "text": [
      "Processing itineraries:  91%|█████████▏| 100922/110390 [2:27:19<07:45, 20.34it/s]"
     ]
    },
    {
     "name": "stdout",
     "output_type": "stream",
     "text": [
      "Row 100927 generated an exception: min() arg is an empty sequence\n"
     ]
    },
    {
     "name": "stderr",
     "output_type": "stream",
     "text": [
      "Processing itineraries:  92%|█████████▏| 102023/110390 [2:29:20<05:19, 26.20it/s]"
     ]
    },
    {
     "name": "stdout",
     "output_type": "stream",
     "text": [
      "Row 102029 generated an exception: min() arg is an empty sequence\n"
     ]
    },
    {
     "name": "stderr",
     "output_type": "stream",
     "text": [
      "Processing itineraries:  93%|█████████▎| 102400/110390 [2:29:48<16:32,  8.05it/s]"
     ]
    },
    {
     "name": "stdout",
     "output_type": "stream",
     "text": [
      "Row 102408 generated an exception: min() arg is an empty sequence\n"
     ]
    },
    {
     "name": "stderr",
     "output_type": "stream",
     "text": [
      "Processing itineraries:  93%|█████████▎| 102650/110390 [2:30:23<05:02, 25.60it/s]"
     ]
    },
    {
     "name": "stdout",
     "output_type": "stream",
     "text": [
      "Row 102653 generated an exception: min() arg is an empty sequence\n",
      "Row 102654 generated an exception: min() arg is an empty sequence\n",
      "Row 102659 generated an exception: min() arg is an empty sequence\n"
     ]
    },
    {
     "name": "stderr",
     "output_type": "stream",
     "text": [
      "Processing itineraries:  93%|█████████▎| 102818/110390 [2:30:38<10:13, 12.35it/s]"
     ]
    },
    {
     "name": "stdout",
     "output_type": "stream",
     "text": [
      "Row 102824 generated an exception: min() arg is an empty sequence\n"
     ]
    },
    {
     "name": "stderr",
     "output_type": "stream",
     "text": [
      "Processing itineraries:  93%|█████████▎| 103181/110390 [2:31:26<05:01, 23.89it/s]"
     ]
    },
    {
     "name": "stdout",
     "output_type": "stream",
     "text": [
      "Row 103184 generated an exception: min() arg is an empty sequence\n"
     ]
    },
    {
     "name": "stderr",
     "output_type": "stream",
     "text": [
      "Processing itineraries:  94%|█████████▎| 103217/110390 [2:31:27<03:07, 38.33it/s]"
     ]
    },
    {
     "name": "stdout",
     "output_type": "stream",
     "text": [
      "Row 103218 generated an exception: min() arg is an empty sequence\n"
     ]
    },
    {
     "name": "stderr",
     "output_type": "stream",
     "text": [
      "Processing itineraries:  94%|█████████▎| 103257/110390 [2:31:33<27:51,  4.27it/s]"
     ]
    },
    {
     "name": "stdout",
     "output_type": "stream",
     "text": [
      "Row 103266 generated an exception: min() arg is an empty sequence\n"
     ]
    },
    {
     "name": "stderr",
     "output_type": "stream",
     "text": [
      "Processing itineraries:  94%|█████████▎| 103387/110390 [2:31:50<18:05,  6.45it/s]"
     ]
    },
    {
     "name": "stdout",
     "output_type": "stream",
     "text": [
      "Row 103396 generated an exception: min() arg is an empty sequence\n"
     ]
    },
    {
     "name": "stderr",
     "output_type": "stream",
     "text": [
      "Processing itineraries:  94%|█████████▎| 103397/110390 [2:31:50<07:49, 14.91it/s]"
     ]
    },
    {
     "name": "stdout",
     "output_type": "stream",
     "text": [
      "Row 103400 generated an exception: min() arg is an empty sequence\n",
      "Row 103401 generated an exception: min() arg is an empty sequence\n",
      "Row 103403 generated an exception: min() arg is an empty sequence\n"
     ]
    },
    {
     "name": "stderr",
     "output_type": "stream",
     "text": [
      "Processing itineraries:  94%|█████████▍| 103730/110390 [2:32:54<06:05, 18.21it/s]"
     ]
    },
    {
     "name": "stdout",
     "output_type": "stream",
     "text": [
      "Row 103734 generated an exception: min() arg is an empty sequence\n",
      "Row 103736 generated an exception: min() arg is an empty sequence\n"
     ]
    },
    {
     "name": "stderr",
     "output_type": "stream",
     "text": [
      "Processing itineraries:  94%|█████████▍| 103760/110390 [2:32:55<08:32, 12.93it/s]"
     ]
    },
    {
     "name": "stdout",
     "output_type": "stream",
     "text": [
      "Row 103767 generated an exception: min() arg is an empty sequence\n"
     ]
    },
    {
     "name": "stderr",
     "output_type": "stream",
     "text": [
      "Processing itineraries:  96%|█████████▌| 105675/110390 [2:37:01<02:49, 27.88it/s]"
     ]
    },
    {
     "name": "stdout",
     "output_type": "stream",
     "text": [
      "Row 105678 generated an exception: min() arg is an empty sequence\n"
     ]
    },
    {
     "name": "stderr",
     "output_type": "stream",
     "text": [
      "Processing itineraries:  96%|█████████▌| 105897/110390 [2:37:12<03:57, 18.96it/s]"
     ]
    },
    {
     "name": "stdout",
     "output_type": "stream",
     "text": [
      "Row 105901 generated an exception: min() arg is an empty sequence\n",
      "Row 105903 generated an exception: min() arg is an empty sequence\n"
     ]
    },
    {
     "name": "stderr",
     "output_type": "stream",
     "text": [
      "Processing itineraries:  96%|█████████▌| 106033/110390 [2:37:18<02:50, 25.62it/s]"
     ]
    },
    {
     "name": "stdout",
     "output_type": "stream",
     "text": [
      "Row 106035 generated an exception: min() arg is an empty sequence\n"
     ]
    },
    {
     "name": "stderr",
     "output_type": "stream",
     "text": [
      "Processing itineraries:  96%|█████████▌| 106064/110390 [2:37:20<03:30, 20.59it/s]"
     ]
    },
    {
     "name": "stdout",
     "output_type": "stream",
     "text": [
      "Row 106068 generated an exception: min() arg is an empty sequence\n",
      "Row 106070 generated an exception: min() arg is an empty sequence\n"
     ]
    },
    {
     "name": "stderr",
     "output_type": "stream",
     "text": [
      "Processing itineraries:  96%|█████████▌| 106086/110390 [2:37:20<02:21, 30.34it/s]"
     ]
    },
    {
     "name": "stdout",
     "output_type": "stream",
     "text": [
      "Row 106089 generated an exception: min() arg is an empty sequence\n",
      "Row 106092 generated an exception: min() arg is an empty sequence\n"
     ]
    },
    {
     "name": "stderr",
     "output_type": "stream",
     "text": [
      "Processing itineraries:  96%|█████████▌| 106098/110390 [2:37:21<02:55, 24.42it/s]"
     ]
    },
    {
     "name": "stdout",
     "output_type": "stream",
     "text": [
      "Row 106109 generated an exception: min() arg is an empty sequence\n"
     ]
    },
    {
     "name": "stderr",
     "output_type": "stream",
     "text": [
      "Processing itineraries:  96%|█████████▌| 106164/110390 [2:37:24<03:23, 20.74it/s]"
     ]
    },
    {
     "name": "stdout",
     "output_type": "stream",
     "text": [
      "Row 106169 generated an exception: min() arg is an empty sequence\n"
     ]
    },
    {
     "name": "stderr",
     "output_type": "stream",
     "text": [
      "Processing itineraries:  96%|█████████▌| 106174/110390 [2:37:25<02:27, 28.52it/s]"
     ]
    },
    {
     "name": "stdout",
     "output_type": "stream",
     "text": [
      "Row 106179 generated an exception: min() arg is an empty sequence\n",
      "Row 106180 generated an exception: min() arg is an empty sequence\n",
      "Row 106182 generated an exception: min() arg is an empty sequence\n"
     ]
    },
    {
     "name": "stderr",
     "output_type": "stream",
     "text": [
      "Processing itineraries:  96%|█████████▌| 106185/110390 [2:37:25<02:27, 28.59it/s]"
     ]
    },
    {
     "name": "stdout",
     "output_type": "stream",
     "text": [
      "Row 106185 generated an exception: min() arg is an empty sequence\n"
     ]
    },
    {
     "name": "stderr",
     "output_type": "stream",
     "text": [
      "Processing itineraries:  96%|█████████▋| 106266/110390 [2:37:29<02:20, 29.34it/s]"
     ]
    },
    {
     "name": "stdout",
     "output_type": "stream",
     "text": [
      "Row 106272 generated an exception: min() arg is an empty sequence\n"
     ]
    },
    {
     "name": "stderr",
     "output_type": "stream",
     "text": [
      "Processing itineraries:  96%|█████████▋| 106299/110390 [2:37:31<02:43, 25.00it/s]"
     ]
    },
    {
     "name": "stdout",
     "output_type": "stream",
     "text": [
      "Row 106304 generated an exception: min() arg is an empty sequence\n"
     ]
    },
    {
     "name": "stderr",
     "output_type": "stream",
     "text": [
      "Processing itineraries:  96%|█████████▋| 106394/110390 [2:37:42<07:27,  8.92it/s]"
     ]
    },
    {
     "name": "stdout",
     "output_type": "stream",
     "text": [
      "Row 106400 generated an exception: min() arg is an empty sequence\n"
     ]
    },
    {
     "name": "stderr",
     "output_type": "stream",
     "text": [
      "Processing itineraries:  96%|█████████▋| 106408/110390 [2:37:43<04:25, 15.00it/s]"
     ]
    },
    {
     "name": "stdout",
     "output_type": "stream",
     "text": [
      "Row 106414 generated an exception: min() arg is an empty sequence\n"
     ]
    },
    {
     "name": "stderr",
     "output_type": "stream",
     "text": [
      "Processing itineraries:  97%|█████████▋| 106656/110390 [2:38:13<07:16,  8.55it/s]"
     ]
    },
    {
     "name": "stdout",
     "output_type": "stream",
     "text": [
      "Row 106662 generated an exception: min() arg is an empty sequence\n"
     ]
    },
    {
     "name": "stderr",
     "output_type": "stream",
     "text": [
      "Processing itineraries:  97%|█████████▋| 106658/110390 [2:38:13<08:38,  7.20it/s]"
     ]
    },
    {
     "name": "stdout",
     "output_type": "stream",
     "text": [
      "Row 106668 generated an exception: min() arg is an empty sequence\n"
     ]
    },
    {
     "name": "stderr",
     "output_type": "stream",
     "text": [
      "Processing itineraries:  97%|█████████▋| 106712/110390 [2:38:16<02:22, 25.74it/s]"
     ]
    },
    {
     "name": "stdout",
     "output_type": "stream",
     "text": [
      "Row 106705 generated an exception: min() arg is an empty sequence\n",
      "Row 106716 generated an exception: min() arg is an empty sequence\n"
     ]
    },
    {
     "name": "stderr",
     "output_type": "stream",
     "text": [
      "Processing itineraries:  97%|█████████▋| 107056/110390 [2:39:03<07:00,  7.93it/s]"
     ]
    },
    {
     "name": "stdout",
     "output_type": "stream",
     "text": [
      "Row 107058 generated an exception: min() arg is an empty sequence\n"
     ]
    },
    {
     "name": "stderr",
     "output_type": "stream",
     "text": [
      "Processing itineraries:  97%|█████████▋| 107130/110390 [2:39:15<08:01,  6.77it/s]"
     ]
    },
    {
     "name": "stdout",
     "output_type": "stream",
     "text": [
      "Row 107127 generated an exception: min() arg is an empty sequence\n"
     ]
    },
    {
     "name": "stderr",
     "output_type": "stream",
     "text": [
      "Processing itineraries:  97%|█████████▋| 107308/110390 [2:39:50<12:33,  4.09it/s]"
     ]
    },
    {
     "name": "stdout",
     "output_type": "stream",
     "text": [
      "Row 107308 generated an exception: min() arg is an empty sequence\n"
     ]
    },
    {
     "name": "stderr",
     "output_type": "stream",
     "text": [
      "Processing itineraries:  98%|█████████▊| 107800/110390 [2:40:56<02:04, 20.88it/s]"
     ]
    },
    {
     "name": "stdout",
     "output_type": "stream",
     "text": [
      "Row 107793 generated an exception: min() arg is an empty sequence\n"
     ]
    },
    {
     "name": "stderr",
     "output_type": "stream",
     "text": [
      "Processing itineraries:  98%|█████████▊| 108141/110390 [2:41:14<01:33, 24.04it/s]"
     ]
    },
    {
     "name": "stdout",
     "output_type": "stream",
     "text": [
      "Row 108133 generated an exception: min() arg is an empty sequence\n"
     ]
    },
    {
     "name": "stderr",
     "output_type": "stream",
     "text": [
      "Processing itineraries:  98%|█████████▊| 108333/110390 [2:41:25<01:46, 19.35it/s]"
     ]
    },
    {
     "name": "stdout",
     "output_type": "stream",
     "text": [
      "Row 108331 generated an exception: min() arg is an empty sequence\n"
     ]
    },
    {
     "name": "stderr",
     "output_type": "stream",
     "text": [
      "Processing itineraries:  98%|█████████▊| 108446/110390 [2:41:42<05:29,  5.91it/s]"
     ]
    },
    {
     "name": "stdout",
     "output_type": "stream",
     "text": [
      "Row 108445 generated an exception: min() arg is an empty sequence\n"
     ]
    },
    {
     "name": "stderr",
     "output_type": "stream",
     "text": [
      "Processing itineraries:  98%|█████████▊| 108494/110390 [2:41:51<06:04,  5.21it/s]"
     ]
    },
    {
     "name": "stdout",
     "output_type": "stream",
     "text": [
      "Row 108495 generated an exception: min() arg is an empty sequence\n"
     ]
    },
    {
     "name": "stderr",
     "output_type": "stream",
     "text": [
      "Processing itineraries:  98%|█████████▊| 108519/110390 [2:41:55<05:29,  5.67it/s]"
     ]
    },
    {
     "name": "stdout",
     "output_type": "stream",
     "text": [
      "Row 108518 generated an exception: min() arg is an empty sequence\n"
     ]
    },
    {
     "name": "stderr",
     "output_type": "stream",
     "text": [
      "Processing itineraries:  98%|█████████▊| 108522/110390 [2:41:56<05:24,  5.76it/s]"
     ]
    },
    {
     "name": "stdout",
     "output_type": "stream",
     "text": [
      "Row 108519 generated an exception: min() arg is an empty sequence\n",
      "Row 108517 generated an exception: min() arg is an empty sequence\n"
     ]
    },
    {
     "name": "stderr",
     "output_type": "stream",
     "text": [
      "Processing itineraries:  98%|█████████▊| 108540/110390 [2:41:59<03:27,  8.91it/s]"
     ]
    },
    {
     "name": "stdout",
     "output_type": "stream",
     "text": [
      "Row 108537 generated an exception: min() arg is an empty sequence\n"
     ]
    },
    {
     "name": "stderr",
     "output_type": "stream",
     "text": [
      "Processing itineraries:  98%|█████████▊| 108542/110390 [2:41:59<03:10,  9.68it/s]"
     ]
    },
    {
     "name": "stdout",
     "output_type": "stream",
     "text": [
      "Row 108538 generated an exception: min() arg is an empty sequence\n"
     ]
    },
    {
     "name": "stderr",
     "output_type": "stream",
     "text": [
      "Processing itineraries:  98%|█████████▊| 108559/110390 [2:42:03<04:29,  6.79it/s]"
     ]
    },
    {
     "name": "stdout",
     "output_type": "stream",
     "text": [
      "Row 108560 generated an exception: min() arg is an empty sequence\n"
     ]
    },
    {
     "name": "stderr",
     "output_type": "stream",
     "text": [
      "Processing itineraries:  99%|█████████▉| 109056/110390 [2:43:35<04:35,  4.84it/s]"
     ]
    },
    {
     "name": "stdout",
     "output_type": "stream",
     "text": [
      "Row 109060 generated an exception: min() arg is an empty sequence\n"
     ]
    },
    {
     "name": "stderr",
     "output_type": "stream",
     "text": [
      "Processing itineraries:  99%|█████████▉| 109456/110390 [2:44:41<00:27, 34.19it/s]"
     ]
    },
    {
     "name": "stdout",
     "output_type": "stream",
     "text": [
      "Row 109457 generated an exception: min() arg is an empty sequence\n"
     ]
    },
    {
     "name": "stderr",
     "output_type": "stream",
     "text": [
      "Processing itineraries:  99%|█████████▉| 109475/110390 [2:44:42<00:25, 35.53it/s]"
     ]
    },
    {
     "name": "stdout",
     "output_type": "stream",
     "text": [
      "Row 109478 generated an exception: min() arg is an empty sequence\n",
      "Row 109483 generated an exception: min() arg is an empty sequence\n",
      "Row 109484 generated an exception: min() arg is an empty sequence\n"
     ]
    },
    {
     "name": "stderr",
     "output_type": "stream",
     "text": [
      "Processing itineraries:  99%|█████████▉| 109527/110390 [2:44:43<00:18, 47.75it/s]"
     ]
    },
    {
     "name": "stdout",
     "output_type": "stream",
     "text": [
      "Row 109528 generated an exception: min() arg is an empty sequence\n"
     ]
    },
    {
     "name": "stderr",
     "output_type": "stream",
     "text": [
      "Processing itineraries:  99%|█████████▉| 109552/110390 [2:44:44<00:18, 44.94it/s]"
     ]
    },
    {
     "name": "stdout",
     "output_type": "stream",
     "text": [
      "Row 109556 generated an exception: min() arg is an empty sequence\n"
     ]
    },
    {
     "name": "stderr",
     "output_type": "stream",
     "text": [
      "Processing itineraries:  99%|█████████▉| 109583/110390 [2:44:44<00:14, 54.02it/s]"
     ]
    },
    {
     "name": "stdout",
     "output_type": "stream",
     "text": [
      "Row 109581 generated an exception: min() arg is an empty sequence\n",
      "Row 109588 generated an exception: min() arg is an empty sequence\n",
      "Row 109592 generated an exception: min() arg is an empty sequence\n",
      "Row 109594 generated an exception: min() arg is an empty sequence\n"
     ]
    },
    {
     "name": "stderr",
     "output_type": "stream",
     "text": [
      "Processing itineraries:  99%|█████████▉| 109607/110390 [2:44:45<00:13, 58.42it/s]"
     ]
    },
    {
     "name": "stdout",
     "output_type": "stream",
     "text": [
      "Row 109610 generated an exception: min() arg is an empty sequence\n"
     ]
    },
    {
     "name": "stderr",
     "output_type": "stream",
     "text": [
      "Processing itineraries:  99%|█████████▉| 109620/110390 [2:44:45<00:15, 48.31it/s]"
     ]
    },
    {
     "name": "stdout",
     "output_type": "stream",
     "text": [
      "Row 109623 generated an exception: min() arg is an empty sequence\n",
      "Row 109628 generated an exception: min() arg is an empty sequence\n"
     ]
    },
    {
     "name": "stderr",
     "output_type": "stream",
     "text": [
      "Processing itineraries:  99%|█████████▉| 109641/110390 [2:44:45<00:13, 53.54it/s]"
     ]
    },
    {
     "name": "stdout",
     "output_type": "stream",
     "text": [
      "Row 109639 generated an exception: min() arg is an empty sequence\n",
      "Row 109640 generated an exception: min() arg is an empty sequence\n",
      "Row 109644 generated an exception: min() arg is an empty sequence\n",
      "Row 109647 generated an exception: min() arg is an empty sequence\n"
     ]
    },
    {
     "name": "stderr",
     "output_type": "stream",
     "text": [
      "Processing itineraries:  99%|█████████▉| 109684/110390 [2:44:46<00:14, 47.40it/s]"
     ]
    },
    {
     "name": "stdout",
     "output_type": "stream",
     "text": [
      "Row 109685 generated an exception: min() arg is an empty sequence\n"
     ]
    },
    {
     "name": "stderr",
     "output_type": "stream",
     "text": [
      "Processing itineraries:  99%|█████████▉| 109751/110390 [2:44:48<00:16, 38.34it/s]"
     ]
    },
    {
     "name": "stdout",
     "output_type": "stream",
     "text": [
      "Row 109753 generated an exception: min() arg is an empty sequence\n",
      "Row 109761 generated an exception: min() arg is an empty sequence\n"
     ]
    },
    {
     "name": "stderr",
     "output_type": "stream",
     "text": [
      "Processing itineraries:  99%|█████████▉| 109760/110390 [2:44:48<00:16, 38.93it/s]"
     ]
    },
    {
     "name": "stdout",
     "output_type": "stream",
     "text": [
      "Row 109767 generated an exception: min() arg is an empty sequence\n"
     ]
    },
    {
     "name": "stderr",
     "output_type": "stream",
     "text": [
      "Processing itineraries:  99%|█████████▉| 109799/110390 [2:44:49<00:12, 46.02it/s]"
     ]
    },
    {
     "name": "stdout",
     "output_type": "stream",
     "text": [
      "Row 109803 generated an exception: min() arg is an empty sequence\n"
     ]
    },
    {
     "name": "stderr",
     "output_type": "stream",
     "text": [
      "Processing itineraries:  99%|█████████▉| 109828/110390 [2:44:50<00:13, 41.45it/s]"
     ]
    },
    {
     "name": "stdout",
     "output_type": "stream",
     "text": [
      "Row 109831 generated an exception: min() arg is an empty sequence\n"
     ]
    },
    {
     "name": "stderr",
     "output_type": "stream",
     "text": [
      "Processing itineraries: 100%|█████████▉| 109871/110390 [2:44:51<00:11, 43.76it/s]"
     ]
    },
    {
     "name": "stdout",
     "output_type": "stream",
     "text": [
      "Row 109871 generated an exception: min() arg is an empty sequence\n"
     ]
    },
    {
     "name": "stderr",
     "output_type": "stream",
     "text": [
      "Processing itineraries: 100%|█████████▉| 109896/110390 [2:44:52<00:10, 47.09it/s]"
     ]
    },
    {
     "name": "stdout",
     "output_type": "stream",
     "text": [
      "Row 109900 generated an exception: min() arg is an empty sequence\n",
      "Row 109902 generated an exception: min() arg is an empty sequence\n"
     ]
    },
    {
     "name": "stderr",
     "output_type": "stream",
     "text": [
      "Processing itineraries: 100%|█████████▉| 109936/110390 [2:44:52<00:09, 48.15it/s]"
     ]
    },
    {
     "name": "stdout",
     "output_type": "stream",
     "text": [
      "Row 109932 generated an exception: min() arg is an empty sequence\n",
      "Row 109935 generated an exception: min() arg is an empty sequence\n",
      "Row 109937 generated an exception: min() arg is an empty sequence\n"
     ]
    },
    {
     "name": "stderr",
     "output_type": "stream",
     "text": [
      "Processing itineraries: 100%|█████████▉| 109955/110390 [2:44:53<00:09, 47.30it/s]"
     ]
    },
    {
     "name": "stdout",
     "output_type": "stream",
     "text": [
      "Row 109957 generated an exception: min() arg is an empty sequence\n"
     ]
    },
    {
     "name": "stderr",
     "output_type": "stream",
     "text": [
      "Processing itineraries: 100%|█████████▉| 110002/110390 [2:44:54<00:10, 38.39it/s]"
     ]
    },
    {
     "name": "stdout",
     "output_type": "stream",
     "text": [
      "Row 110006 generated an exception: min() arg is an empty sequence\n",
      "Row 110008 generated an exception: min() arg is an empty sequence\n"
     ]
    },
    {
     "name": "stderr",
     "output_type": "stream",
     "text": [
      "Processing itineraries: 100%|█████████▉| 110043/110390 [2:44:56<00:10, 32.50it/s]"
     ]
    },
    {
     "name": "stdout",
     "output_type": "stream",
     "text": [
      "Row 110046 generated an exception: min() arg is an empty sequence\n"
     ]
    },
    {
     "name": "stderr",
     "output_type": "stream",
     "text": [
      "Processing itineraries: 100%|█████████▉| 110081/110390 [2:44:57<00:05, 53.73it/s]"
     ]
    },
    {
     "name": "stdout",
     "output_type": "stream",
     "text": [
      "Row 110084 generated an exception: min() arg is an empty sequence\n",
      "Row 110086 generated an exception: min() arg is an empty sequence\n",
      "Row 110087 generated an exception: min() arg is an empty sequence\n"
     ]
    },
    {
     "name": "stderr",
     "output_type": "stream",
     "text": [
      "Processing itineraries: 100%|█████████▉| 110122/110390 [2:44:57<00:05, 45.65it/s]"
     ]
    },
    {
     "name": "stdout",
     "output_type": "stream",
     "text": [
      "Row 110122 generated an exception: min() arg is an empty sequence\n",
      "Row 110121 generated an exception: min() arg is an empty sequence\n"
     ]
    },
    {
     "name": "stderr",
     "output_type": "stream",
     "text": [
      "Processing itineraries: 100%|█████████▉| 110127/110390 [2:44:58<00:06, 43.49it/s]"
     ]
    },
    {
     "name": "stdout",
     "output_type": "stream",
     "text": [
      "Row 110132 generated an exception: min() arg is an empty sequence\n"
     ]
    },
    {
     "name": "stderr",
     "output_type": "stream",
     "text": [
      "Processing itineraries: 100%|█████████▉| 110137/110390 [2:44:58<00:07, 34.07it/s]"
     ]
    },
    {
     "name": "stdout",
     "output_type": "stream",
     "text": [
      "Row 110144 generated an exception: min() arg is an empty sequence\n",
      "Row 110146 generated an exception: min() arg is an empty sequence\n"
     ]
    },
    {
     "name": "stderr",
     "output_type": "stream",
     "text": [
      "Processing itineraries: 100%|█████████▉| 110163/110390 [2:44:58<00:04, 49.54it/s]"
     ]
    },
    {
     "name": "stdout",
     "output_type": "stream",
     "text": [
      "Row 110161 generated an exception: min() arg is an empty sequence\n",
      "Row 110163 generated an exception: min() arg is an empty sequence\n"
     ]
    },
    {
     "name": "stderr",
     "output_type": "stream",
     "text": [
      "Processing itineraries: 100%|█████████▉| 110182/110390 [2:44:59<00:04, 45.45it/s]"
     ]
    },
    {
     "name": "stdout",
     "output_type": "stream",
     "text": [
      "Row 110183 generated an exception: min() arg is an empty sequence\n"
     ]
    },
    {
     "name": "stderr",
     "output_type": "stream",
     "text": [
      "Processing itineraries: 100%|█████████▉| 110193/110390 [2:44:59<00:04, 45.55it/s]"
     ]
    },
    {
     "name": "stdout",
     "output_type": "stream",
     "text": [
      "Row 110192 generated an exception: min() arg is an empty sequence\n",
      "Row 110201 generated an exception: min() arg is an empty sequence\n"
     ]
    },
    {
     "name": "stderr",
     "output_type": "stream",
     "text": [
      "Processing itineraries: 100%|█████████▉| 110215/110390 [2:45:00<00:04, 41.80it/s]"
     ]
    },
    {
     "name": "stdout",
     "output_type": "stream",
     "text": [
      "Row 110217 generated an exception: min() arg is an empty sequence\n",
      "Row 110216 generated an exception: min() arg is an empty sequence\n",
      "Row 110220 generated an exception: min() arg is an empty sequence\n",
      "Row 110223 generated an exception: min() arg is an empty sequence\n"
     ]
    },
    {
     "name": "stderr",
     "output_type": "stream",
     "text": [
      "Processing itineraries: 100%|█████████▉| 110227/110390 [2:45:00<00:04, 38.14it/s]"
     ]
    },
    {
     "name": "stdout",
     "output_type": "stream",
     "text": [
      "Row 110230 generated an exception: min() arg is an empty sequence\n"
     ]
    },
    {
     "name": "stderr",
     "output_type": "stream",
     "text": [
      "Processing itineraries: 100%|█████████▉| 110240/110390 [2:45:01<00:04, 33.88it/s]"
     ]
    },
    {
     "name": "stdout",
     "output_type": "stream",
     "text": [
      "Row 110246 generated an exception: min() arg is an empty sequence\n"
     ]
    },
    {
     "name": "stderr",
     "output_type": "stream",
     "text": [
      "Processing itineraries: 100%|█████████▉| 110256/110390 [2:45:01<00:03, 37.71it/s]"
     ]
    },
    {
     "name": "stdout",
     "output_type": "stream",
     "text": [
      "Row 110260 generated an exception: min() arg is an empty sequence\n"
     ]
    },
    {
     "name": "stderr",
     "output_type": "stream",
     "text": [
      "Processing itineraries: 100%|█████████▉| 110273/110390 [2:45:01<00:03, 38.69it/s]"
     ]
    },
    {
     "name": "stdout",
     "output_type": "stream",
     "text": [
      "Row 110274 generated an exception: min() arg is an empty sequence\n",
      "Row 110279 generated an exception: min() arg is an empty sequence\n"
     ]
    },
    {
     "name": "stderr",
     "output_type": "stream",
     "text": [
      "Processing itineraries: 100%|█████████▉| 110299/110390 [2:45:02<00:02, 37.81it/s]"
     ]
    },
    {
     "name": "stdout",
     "output_type": "stream",
     "text": [
      "Row 110305 generated an exception: min() arg is an empty sequence\n",
      "Row 110310 generated an exception: min() arg is an empty sequence\n",
      "Row 110311 generated an exception: min() arg is an empty sequence\n",
      "Row 110312 generated an exception: min() arg is an empty sequence\n"
     ]
    },
    {
     "name": "stderr",
     "output_type": "stream",
     "text": [
      "Processing itineraries: 100%|█████████▉| 110336/110390 [2:45:03<00:00, 60.79it/s]"
     ]
    },
    {
     "name": "stdout",
     "output_type": "stream",
     "text": [
      "Row 110337 generated an exception: min() arg is an empty sequence\n",
      "Row 110339 generated an exception: min() arg is an empty sequence\n",
      "Row 110342 generated an exception: min() arg is an empty sequence\n"
     ]
    },
    {
     "name": "stderr",
     "output_type": "stream",
     "text": [
      "Processing itineraries: 100%|█████████▉| 110374/110390 [2:45:04<00:00, 51.70it/s]"
     ]
    },
    {
     "name": "stdout",
     "output_type": "stream",
     "text": [
      "Row 110373 generated an exception: min() arg is an empty sequence\n",
      "Row 110376 generated an exception: min() arg is an empty sequence\n",
      "Row 110378 generated an exception: min() arg is an empty sequence\n"
     ]
    },
    {
     "name": "stderr",
     "output_type": "stream",
     "text": [
      "Processing itineraries: 100%|█████████▉| 110380/110390 [2:45:04<00:00, 49.57it/s]"
     ]
    },
    {
     "name": "stdout",
     "output_type": "stream",
     "text": [
      "Row 110384 generated an exception: min() arg is an empty sequence\n"
     ]
    },
    {
     "name": "stderr",
     "output_type": "stream",
     "text": [
      "Processing itineraries: 100%|██████████| 110390/110390 [2:45:04<00:00, 11.14it/s]\n"
     ]
    }
   ],
   "source": [
    "# obtain the itineraries using the function from functions.py\n",
    "\n",
    "main_concurrent_sn_gm(gm, num_itineraries=3)"
   ]
  },
  {
   "cell_type": "code",
   "execution_count": 9,
   "metadata": {},
   "outputs": [
    {
     "name": "stdout",
     "output_type": "stream",
     "text": [
      "<class 'pandas.core.frame.DataFrame'>\n",
      "RangeIndex: 110390 entries, 0 to 110389\n",
      "Data columns (total 37 columns):\n",
      " #   Column                   Non-Null Count   Dtype         \n",
      "---  ------                   --------------   -----         \n",
      " 0   FromZoneID               110390 non-null  int64         \n",
      " 1   ToZoneID                 110390 non-null  int64         \n",
      " 2   DriveLength              110390 non-null  float64       \n",
      " 3   FreeTime                 110390 non-null  float64       \n",
      " 4   CongTime                 110390 non-null  float64       \n",
      " 5   CarGenCost               110390 non-null  float64       \n",
      " 6   NoOfChange               110390 non-null  float64       \n",
      " 7   WaitT                    110390 non-null  float64       \n",
      " 8   ZoneWaitT                110390 non-null  float64       \n",
      " 9   ZoneConT                 110390 non-null  float64       \n",
      " 10  InVehicleT               110390 non-null  float64       \n",
      " 11  PubDist                  110390 non-null  float64       \n",
      " 12  PubGenCost               110390 non-null  float64       \n",
      " 13  OBJECTID                 110390 non-null  float64       \n",
      " 14  id                       110390 non-null  float64       \n",
      " 15  StartTime                110390 non-null  datetime64[ns]\n",
      " 16  EndTime                  110390 non-null  datetime64[ns]\n",
      " 17  vehicleId                110390 non-null  float64       \n",
      " 18  LatitudeStart            110390 non-null  float64       \n",
      " 19  LongitudeStart           110390 non-null  float64       \n",
      " 20  LatitudeEnd              110390 non-null  float64       \n",
      " 21  LongitudeEnd             110390 non-null  float64       \n",
      " 22  age                      110390 non-null  float64       \n",
      " 23  sex                      108143 non-null  object        \n",
      " 24  Month                    110390 non-null  object        \n",
      " 25  Weekday                  110390 non-null  object        \n",
      " 26  StartHour                110390 non-null  int64         \n",
      " 27  ZoneTransition           110390 non-null  object        \n",
      " 28  age_group                110390 non-null  object        \n",
      " 29  StartTimeUpdated         110390 non-null  datetime64[ns]\n",
      " 30  TotalDurationMin         109876 non-null  float64       \n",
      " 31  TripDistanceKm           109876 non-null  float64       \n",
      " 32  TotalWalkingTimeMin      109876 non-null  float64       \n",
      " 33  TotalTransitTimeMin      109876 non-null  float64       \n",
      " 34  Changes                  109876 non-null  float64       \n",
      " 35  PickupStationProximity   109876 non-null  float64       \n",
      " 36  DropoffStationProximity  109876 non-null  float64       \n",
      "dtypes: datetime64[ns](3), float64(26), int64(3), object(5)\n",
      "memory usage: 31.2+ MB\n"
     ]
    }
   ],
   "source": [
    "gm.info(verbose=True, max_cols=1000)"
   ]
  },
  {
   "cell_type": "code",
   "execution_count": 10,
   "metadata": {},
   "outputs": [],
   "source": [
    "# save the dataframe to csv\n",
    "gm.to_csv('../data/processed/gm_accessibility_transit.csv', index=False)\n"
   ]
  },
  {
   "cell_type": "code",
   "execution_count": 11,
   "metadata": {},
   "outputs": [],
   "source": [
    "from concurrent.futures import ThreadPoolExecutor, as_completed\n",
    "# function to get the fastest itinerary\n",
    "# function to get the fastest itinerary\n",
    "def fetch_and_process_fastest_itinerary(response):\n",
    "    \"\"\"\n",
    "    Fetches and processes the fastest itinerary from the response.\n",
    "\n",
    "    Args:\n",
    "        response (dict): The response containing itinerary information.\n",
    "\n",
    "    Returns:\n",
    "        dict: A dictionary containing the processed details of the fastest itinerary.\n",
    "            The dictionary has the following keys:\n",
    "            - \"TotalDurationMin\": The total duration of the itinerary in minutes.\n",
    "            - \"TripDistanceKm\": The total distance of the itinerary in kilometers.\n",
    "            - \"TotalWalkingTimeMin\": The total walking time of the itinerary in minutes.\n",
    "            - \"TotalTransitTimeMin\": The total transit time of the itinerary in minutes.\n",
    "            - \"Changes\": The number of mode changes in the itinerary.\n",
    "            - \"PickupStationProximity\": The distance to the pickup station in meters, or 0 if not available.\n",
    "            - \"DropoffStationProximity\": The distance to the dropoff station in meters, or 0 if not available.\n",
    "    \"\"\"\n",
    "    try:\n",
    "        # Extract itineraries and find the fastest one\n",
    "        itineraries = response['plan']['itineraries']\n",
    "        fastest_itinerary = min(itineraries, key=lambda x: x['duration'])\n",
    "        \n",
    "        \n",
    "        total_distance = sum(leg['distance'] for leg in fastest_itinerary['legs']) / 1000\n",
    "        \n",
    "        \n",
    "\n",
    "     \n",
    "\n",
    "        # Construct the details dictionary\n",
    "        details = {\n",
    "            \"CarDurationMin\": fastest_itinerary['duration'] / 60.0,\n",
    "            \"CarDistanceKm\": total_distance,\n",
    "        }\n",
    "        return details\n",
    "    except KeyError as e:\n",
    "        print(f\"Error processing itinerary: {e}\")\n",
    "        # Return NaN values if there's an error in the response format\n",
    "        return {\n",
    "            \"CarDurationMin\": np.nan,\n",
    "            \"CarDistanceKm\": np.nan,\n",
    "        }\n",
    "    \n",
    "\n",
    "\n",
    "\n",
    "# This function is a wrapper around the 'fetch_and_process_fastest_itinerary' for concurrent processing\n",
    "def fetch_and_process_itinerary_concurrent(start_lat, start_lon, end_lat, end_lon, start_time, mode, num_itineraries):\n",
    "    response = get_top_itineraries(start_lat, start_lon, end_lat, end_lon, start_time, mode=mode, num_itineraries=num_itineraries)\n",
    "    return fetch_and_process_fastest_itinerary(response)\n",
    "\n",
    "# The main function to process the DataFrame concurrently and update the results\n",
    "def main_concurrent_sn(df, num_itineraries, mode):\n",
    "    \"\"\"\n",
    "    Process itineraries concurrently using a thread pool executor.\n",
    "\n",
    "    Args:\n",
    "        df (pandas.DataFrame): The input DataFrame containing itinerary data.\n",
    "        num_itineraries (int): The number of itineraries to fetch and process for each row.\n",
    "\n",
    "    Returns:\n",
    "        None\n",
    "    \"\"\"\n",
    "    # Temporary dictionary to hold the results\n",
    "    results = {}\n",
    "    with ThreadPoolExecutor(max_workers=50) as executor:\n",
    "        # Prepare and submit all futures\n",
    "        futures_to_index = {\n",
    "            executor.submit(\n",
    "                fetch_and_process_itinerary_concurrent,\n",
    "                row['LatitudeStart'], row['LongitudeStart'],\n",
    "                row['LatitudeEnd'], row['LongitudeEnd'],\n",
    "                row['StartTimeUpdated'], mode,\n",
    "                num_itineraries\n",
    "            ): index for index, row in df.iterrows()\n",
    "        }\n",
    "        \n",
    "        # Process futures as they complete and show progress\n",
    "        for future in tqdm(as_completed(futures_to_index), total=len(futures_to_index), desc=\"Processing itineraries\"):\n",
    "            index = futures_to_index[future]\n",
    "            try:\n",
    "                results[index] = future.result()\n",
    "            except Exception as exc:\n",
    "                print(f'Row {index} generated an exception: {exc}')\n",
    "                results[index] = {\n",
    "                    \"CarDurationMin\": np.nan,\n",
    "                    \"CarDistanceKm\": np.nan,\n",
    "                }\n",
    "    \n",
    "    # Update the DataFrame outside the thread pool\n",
    "    for index, data in results.items():\n",
    "        for key, value in data.items():\n",
    "            df.at[index, key] = value"
   ]
  },
  {
   "cell_type": "code",
   "execution_count": 12,
   "metadata": {},
   "outputs": [
    {
     "name": "stderr",
     "output_type": "stream",
     "text": [
      "Processing itineraries:   0%|          | 1/110390 [00:00<23:05:07,  1.33it/s]"
     ]
    },
    {
     "name": "stdout",
     "output_type": "stream",
     "text": [
      "Row 194 generated an exception: min() arg is an empty sequence\n",
      "Row 281 generated an exception: min() arg is an empty sequence\n",
      "Row 228 generated an exception: min() arg is an empty sequence\n",
      "Row 302 generated an exception: min() arg is an empty sequence\n",
      "Row 274 generated an exception: min() arg is an empty sequence\n",
      "Row 292 generated an exception: min() arg is an empty sequence\n",
      "Row 306 generated an exception: min() arg is an empty sequence\n"
     ]
    },
    {
     "name": "stderr",
     "output_type": "stream",
     "text": [
      "Processing itineraries:   2%|▏         | 2175/110390 [00:17<22:23, 80.54it/s]  "
     ]
    },
    {
     "name": "stdout",
     "output_type": "stream",
     "text": [
      "Row 2039 generated an exception: min() arg is an empty sequence\n"
     ]
    },
    {
     "name": "stderr",
     "output_type": "stream",
     "text": [
      "Processing itineraries:   2%|▏         | 2349/110390 [00:23<32:58, 54.62it/s]"
     ]
    },
    {
     "name": "stdout",
     "output_type": "stream",
     "text": [
      "Row 2342 generated an exception: min() arg is an empty sequence\n"
     ]
    },
    {
     "name": "stderr",
     "output_type": "stream",
     "text": [
      "Processing itineraries:   2%|▏         | 2401/110390 [00:23<30:11, 59.63it/s]"
     ]
    },
    {
     "name": "stdout",
     "output_type": "stream",
     "text": [
      "Row 2368 generated an exception: min() arg is an empty sequence\n",
      "Row 2403 generated an exception: min() arg is an empty sequence\n",
      "Row 2398 generated an exception: min() arg is an empty sequence\n",
      "Row 2407 generated an exception: min() arg is an empty sequence\n"
     ]
    },
    {
     "name": "stderr",
     "output_type": "stream",
     "text": [
      "Processing itineraries:   2%|▏         | 2441/110390 [00:24<25:18, 71.08it/s]"
     ]
    },
    {
     "name": "stdout",
     "output_type": "stream",
     "text": [
      "Row 2412 generated an exception: min() arg is an empty sequence\n",
      "Row 2414 generated an exception: min() arg is an empty sequence\n"
     ]
    },
    {
     "name": "stderr",
     "output_type": "stream",
     "text": [
      "Processing itineraries:   4%|▎         | 4019/110390 [01:02<23:53, 74.21it/s]  "
     ]
    },
    {
     "name": "stdout",
     "output_type": "stream",
     "text": [
      "Row 4012 generated an exception: min() arg is an empty sequence\n"
     ]
    },
    {
     "name": "stderr",
     "output_type": "stream",
     "text": [
      "Processing itineraries:   4%|▎         | 4080/110390 [01:03<18:13, 97.19it/s]"
     ]
    },
    {
     "name": "stdout",
     "output_type": "stream",
     "text": [
      "Row 4061 generated an exception: min() arg is an empty sequence\n",
      "Row 4064 generated an exception: min() arg is an empty sequence\n",
      "Row 4085 generated an exception: min() arg is an empty sequence\n"
     ]
    },
    {
     "name": "stderr",
     "output_type": "stream",
     "text": [
      "Processing itineraries:   4%|▎         | 4100/110390 [01:03<20:54, 84.72it/s]"
     ]
    },
    {
     "name": "stdout",
     "output_type": "stream",
     "text": [
      "Row 4096 generated an exception: min() arg is an empty sequence\n"
     ]
    },
    {
     "name": "stderr",
     "output_type": "stream",
     "text": [
      "Processing itineraries:   4%|▎         | 4109/110390 [01:03<24:43, 71.64it/s]"
     ]
    },
    {
     "name": "stdout",
     "output_type": "stream",
     "text": [
      "Row 4116 generated an exception: min() arg is an empty sequence\n"
     ]
    },
    {
     "name": "stderr",
     "output_type": "stream",
     "text": [
      "Processing itineraries:   5%|▌         | 5825/110390 [01:49<06:43, 259.43it/s] "
     ]
    },
    {
     "name": "stdout",
     "output_type": "stream",
     "text": [
      "Row 5663 generated an exception: min() arg is an empty sequence\n",
      "Row 5683 generated an exception: min() arg is an empty sequence\n",
      "Row 5677 generated an exception: min() arg is an empty sequence\n",
      "Row 5753 generated an exception: min() arg is an empty sequence\n",
      "Row 5734 generated an exception: min() arg is an empty sequence\n"
     ]
    },
    {
     "name": "stderr",
     "output_type": "stream",
     "text": [
      "Processing itineraries:   6%|▋         | 7064/110390 [02:19<22:51, 75.35it/s]  "
     ]
    },
    {
     "name": "stdout",
     "output_type": "stream",
     "text": [
      "Row 7066 generated an exception: min() arg is an empty sequence\n",
      "Row 7068 generated an exception: min() arg is an empty sequence\n",
      "Row 7064 generated an exception: min() arg is an empty sequence\n",
      "Row 7067 generated an exception: min() arg is an empty sequence\n"
     ]
    },
    {
     "name": "stderr",
     "output_type": "stream",
     "text": [
      "Processing itineraries:   6%|▋         | 7073/110390 [02:19<35:11, 48.93it/s]"
     ]
    },
    {
     "name": "stdout",
     "output_type": "stream",
     "text": [
      "Row 7070 generated an exception: min() arg is an empty sequence\n"
     ]
    },
    {
     "name": "stderr",
     "output_type": "stream",
     "text": [
      "Processing itineraries:   7%|▋         | 7193/110390 [02:20<08:16, 207.99it/s]"
     ]
    },
    {
     "name": "stdout",
     "output_type": "stream",
     "text": [
      "Row 7078 generated an exception: min() arg is an empty sequence\n",
      "Row 7116 generated an exception: min() arg is an empty sequence\n",
      "Row 7103 generated an exception: min() arg is an empty sequence\n",
      "Row 7131 generated an exception: min() arg is an empty sequence\n",
      "Row 7108 generated an exception: min() arg is an empty sequence\n",
      "Row 7130 generated an exception: min() arg is an empty sequence\n"
     ]
    },
    {
     "name": "stderr",
     "output_type": "stream",
     "text": [
      "Processing itineraries:   7%|▋         | 7942/110390 [02:46<25:29, 66.98it/s]  "
     ]
    },
    {
     "name": "stdout",
     "output_type": "stream",
     "text": [
      "Row 7936 generated an exception: min() arg is an empty sequence\n"
     ]
    },
    {
     "name": "stderr",
     "output_type": "stream",
     "text": [
      "Processing itineraries:   7%|▋         | 8080/110390 [02:48<11:38, 146.41it/s]"
     ]
    },
    {
     "name": "stdout",
     "output_type": "stream",
     "text": [
      "Row 8061 generated an exception: min() arg is an empty sequence\n",
      "Row 8062 generated an exception: min() arg is an empty sequence\n"
     ]
    },
    {
     "name": "stderr",
     "output_type": "stream",
     "text": [
      "Processing itineraries:   8%|▊         | 9381/110390 [03:30<11:00, 153.02it/s] "
     ]
    },
    {
     "name": "stdout",
     "output_type": "stream",
     "text": [
      "Row 9343 generated an exception: min() arg is an empty sequence\n",
      "Row 9353 generated an exception: min() arg is an empty sequence\n",
      "Row 9354 generated an exception: min() arg is an empty sequence\n"
     ]
    },
    {
     "name": "stderr",
     "output_type": "stream",
     "text": [
      "Processing itineraries:  10%|█         | 11113/110390 [04:11<07:01, 235.50it/s] "
     ]
    },
    {
     "name": "stdout",
     "output_type": "stream",
     "text": [
      "Row 11117 generated an exception: min() arg is an empty sequence\n"
     ]
    },
    {
     "name": "stderr",
     "output_type": "stream",
     "text": [
      "Processing itineraries:  10%|█         | 11196/110390 [04:11<08:57, 184.49it/s]"
     ]
    },
    {
     "name": "stdout",
     "output_type": "stream",
     "text": [
      "Row 11131 generated an exception: min() arg is an empty sequence\n",
      "Row 11128 generated an exception: min() arg is an empty sequence\n",
      "Row 11132 generated an exception: min() arg is an empty sequence\n",
      "Row 11177 generated an exception: min() arg is an empty sequence\n",
      "Row 11197 generated an exception: min() arg is an empty sequence\n"
     ]
    },
    {
     "name": "stderr",
     "output_type": "stream",
     "text": [
      "Processing itineraries:  10%|█         | 11238/110390 [04:12<15:05, 109.49it/s]"
     ]
    },
    {
     "name": "stdout",
     "output_type": "stream",
     "text": [
      "Row 11180 generated an exception: min() arg is an empty sequence\n",
      "Row 11216 generated an exception: min() arg is an empty sequence\n",
      "Row 11218 generated an exception: min() arg is an empty sequence\n",
      "Row 11195 generated an exception: min() arg is an empty sequence\n",
      "Row 11251 generated an exception: min() arg is an empty sequence\n"
     ]
    },
    {
     "name": "stderr",
     "output_type": "stream",
     "text": [
      "Processing itineraries:  10%|█         | 11452/110390 [04:12<06:18, 261.27it/s]"
     ]
    },
    {
     "name": "stdout",
     "output_type": "stream",
     "text": [
      "Row 11241 generated an exception: min() arg is an empty sequence\n",
      "Row 11285 generated an exception: min() arg is an empty sequence\n",
      "Row 11294 generated an exception: min() arg is an empty sequence\n",
      "Row 11284 generated an exception: min() arg is an empty sequence\n",
      "Row 11338 generated an exception: min() arg is an empty sequence\n",
      "Row 11289 generated an exception: min() arg is an empty sequence\n",
      "Row 11339 generated an exception: min() arg is an empty sequence\n",
      "Row 11336 generated an exception: min() arg is an empty sequence\n",
      "Row 11335 generated an exception: min() arg is an empty sequence\n",
      "Row 11341 generated an exception: min() arg is an empty sequence\n",
      "Row 11342 generated an exception: min() arg is an empty sequence\n",
      "Row 11255 generated an exception: min() arg is an empty sequence\n",
      "Row 11374 generated an exception: min() arg is an empty sequence\n",
      "Row 11365 generated an exception: min() arg is an empty sequence\n",
      "Row 11380 generated an exception: min() arg is an empty sequence\n",
      "Row 11409 generated an exception: min() arg is an empty sequence\n",
      "Row 11384 generated an exception: min() arg is an empty sequence\n",
      "Row 11411 generated an exception: min() arg is an empty sequence\n",
      "Row 11404 generated an exception: min() arg is an empty sequence\n",
      "Row 11419 generated an exception: min() arg is an empty sequence\n",
      "Row 11420 generated an exception: min() arg is an empty sequence\n",
      "Row 11434 generated an exception: min() arg is an empty sequence\n",
      "Row 11433 generated an exception: min() arg is an empty sequence\n",
      "Row 11393 generated an exception: min() arg is an empty sequence\n",
      "Row 11388 generated an exception: min() arg is an empty sequence\n",
      "Row 11437 generated an exception: min() arg is an empty sequence\n",
      "Row 11418 generated an exception: min() arg is an empty sequence\n",
      "Row 11467 generated an exception: min() arg is an empty sequence\n",
      "Row 11448 generated an exception: min() arg is an empty sequence\n",
      "Row 11451 generated an exception: min() arg is an empty sequence\n"
     ]
    },
    {
     "name": "stderr",
     "output_type": "stream",
     "text": [
      "Processing itineraries:  10%|█         | 11497/110390 [04:13<07:06, 231.63it/s]"
     ]
    },
    {
     "name": "stdout",
     "output_type": "stream",
     "text": [
      "Row 11481 generated an exception: min() arg is an empty sequence\n",
      "Row 11449 generated an exception: min() arg is an empty sequence\n",
      "Row 11486 generated an exception: min() arg is an empty sequence\n",
      "Row 11440 generated an exception: min() arg is an empty sequence\n",
      "Row 11496 generated an exception: min() arg is an empty sequence\n",
      "Row 11482 generated an exception: min() arg is an empty sequence\n",
      "Row 11450 generated an exception: min() arg is an empty sequence\n",
      "Row 11475 generated an exception: min() arg is an empty sequence\n",
      "Row 11452 generated an exception: min() arg is an empty sequence\n",
      "Row 11456 generated an exception: min() arg is an empty sequence\n",
      "Row 11488 generated an exception: min() arg is an empty sequence\n",
      "Row 11466 generated an exception: min() arg is an empty sequence\n",
      "Row 11476 generated an exception: min() arg is an empty sequence\n",
      "Row 11528 generated an exception: min() arg is an empty sequence\n",
      "Row 11526 generated an exception: min() arg is an empty sequence\n"
     ]
    },
    {
     "name": "stderr",
     "output_type": "stream",
     "text": [
      "Processing itineraries:  10%|█         | 11534/110390 [04:13<10:36, 155.25it/s]"
     ]
    },
    {
     "name": "stdout",
     "output_type": "stream",
     "text": [
      "Row 11525 generated an exception: min() arg is an empty sequence\n",
      "Row 11485 generated an exception: min() arg is an empty sequence\n",
      "Row 11493 generated an exception: min() arg is an empty sequence\n",
      "Row 11487 generated an exception: min() arg is an empty sequence\n",
      "Row 11524 generated an exception: min() arg is an empty sequence\n",
      "Row 11484 generated an exception: min() arg is an empty sequence\n",
      "Row 11495 generated an exception: min() arg is an empty sequence\n",
      "Row 11500 generated an exception: min() arg is an empty sequence\n",
      "Row 11588 generated an exception: min() arg is an empty sequence\n"
     ]
    },
    {
     "name": "stderr",
     "output_type": "stream",
     "text": [
      "Processing itineraries:  10%|█         | 11588/110390 [04:14<12:04, 136.30it/s]"
     ]
    },
    {
     "name": "stdout",
     "output_type": "stream",
     "text": [
      "Row 11591 generated an exception: min() arg is an empty sequence\n",
      "Row 11538 generated an exception: min() arg is an empty sequence\n",
      "Row 11589 generated an exception: min() arg is an empty sequence\n"
     ]
    },
    {
     "name": "stderr",
     "output_type": "stream",
     "text": [
      "Processing itineraries:  11%|█         | 11702/110390 [04:14<06:43, 244.79it/s]"
     ]
    },
    {
     "name": "stdout",
     "output_type": "stream",
     "text": [
      "Row 11569 generated an exception: min() arg is an empty sequence\n",
      "Row 11621 generated an exception: min() arg is an empty sequence\n",
      "Row 11586 generated an exception: min() arg is an empty sequence\n",
      "Row 11616 generated an exception: min() arg is an empty sequence\n",
      "Row 11533 generated an exception: min() arg is an empty sequence\n",
      "Row 11579 generated an exception: min() arg is an empty sequence\n",
      "Row 11611 generated an exception: min() arg is an empty sequence\n",
      "Row 11625 generated an exception: min() arg is an empty sequence\n",
      "Row 11622 generated an exception: min() arg is an empty sequence\n",
      "Row 11593 generated an exception: min() arg is an empty sequence\n",
      "Row 11620 generated an exception: min() arg is an empty sequence\n",
      "Row 11614 generated an exception: min() arg is an empty sequence\n",
      "Row 11601 generated an exception: min() arg is an empty sequence\n",
      "Row 11624 generated an exception: min() arg is an empty sequence\n",
      "Row 11623 generated an exception: min() arg is an empty sequence\n",
      "Row 11573 generated an exception: min() arg is an empty sequence\n",
      "Row 11619 generated an exception: min() arg is an empty sequence\n",
      "Row 11630 generated an exception: min() arg is an empty sequence\n",
      "Row 11635 generated an exception: min() arg is an empty sequence\n",
      "Row 11631 generated an exception: min() arg is an empty sequence\n",
      "Row 11643 generated an exception: min() arg is an empty sequence\n",
      "Row 11654 generated an exception: min() arg is an empty sequence\n",
      "Row 11656 generated an exception: min() arg is an empty sequence\n",
      "Row 11665 generated an exception: min() arg is an empty sequence\n",
      "Row 11636 generated an exception: min() arg is an empty sequence\n",
      "Row 11675 generated an exception: min() arg is an empty sequence\n",
      "Row 11673 generated an exception: min() arg is an empty sequence\n",
      "Row 11663 generated an exception: min() arg is an empty sequence\n",
      "Row 11679 generated an exception: min() arg is an empty sequence\n",
      "Row 11672 generated an exception: min() arg is an empty sequence\n",
      "Row 11685 generated an exception: min() arg is an empty sequence\n",
      "Row 11692 generated an exception: min() arg is an empty sequence\n",
      "Row 11671 generated an exception: min() arg is an empty sequence\n",
      "Row 11683 generated an exception: min() arg is an empty sequence\n",
      "Row 11678 generated an exception: min() arg is an empty sequence\n",
      "Row 11690 generated an exception: min() arg is an empty sequence\n",
      "Row 11699 generated an exception: min() arg is an empty sequence\n",
      "Row 11697 generated an exception: min() arg is an empty sequence\n",
      "Row 11669 generated an exception: min() arg is an empty sequence\n",
      "Row 11653 generated an exception: min() arg is an empty sequence\n",
      "Row 11704 generated an exception: min() arg is an empty sequence\n"
     ]
    },
    {
     "name": "stderr",
     "output_type": "stream",
     "text": [
      "Processing itineraries:  13%|█▎        | 14791/110390 [06:16<08:26, 188.65it/s] "
     ]
    },
    {
     "name": "stdout",
     "output_type": "stream",
     "text": [
      "Row 14760 generated an exception: min() arg is an empty sequence\n"
     ]
    },
    {
     "name": "stderr",
     "output_type": "stream",
     "text": [
      "Processing itineraries:  14%|█▍        | 15297/110390 [06:32<21:33, 73.53it/s]  "
     ]
    },
    {
     "name": "stdout",
     "output_type": "stream",
     "text": [
      "Row 15283 generated an exception: min() arg is an empty sequence\n",
      "Row 15299 generated an exception: min() arg is an empty sequence\n"
     ]
    },
    {
     "name": "stderr",
     "output_type": "stream",
     "text": [
      "Processing itineraries:  15%|█▍        | 16436/110390 [06:50<36:07, 43.34it/s]  "
     ]
    },
    {
     "name": "stdout",
     "output_type": "stream",
     "text": [
      "Row 16425 generated an exception: min() arg is an empty sequence\n",
      "Row 16435 generated an exception: min() arg is an empty sequence\n"
     ]
    },
    {
     "name": "stderr",
     "output_type": "stream",
     "text": [
      "Processing itineraries:  15%|█▍        | 16471/110390 [06:51<23:38, 66.21it/s]"
     ]
    },
    {
     "name": "stdout",
     "output_type": "stream",
     "text": [
      "Row 16463 generated an exception: min() arg is an empty sequence\n"
     ]
    },
    {
     "name": "stderr",
     "output_type": "stream",
     "text": [
      "Processing itineraries:  16%|█▌        | 17890/110390 [07:21<19:22, 79.59it/s]  "
     ]
    },
    {
     "name": "stdout",
     "output_type": "stream",
     "text": [
      "Row 17891 generated an exception: min() arg is an empty sequence\n"
     ]
    },
    {
     "name": "stderr",
     "output_type": "stream",
     "text": [
      "Processing itineraries:  16%|█▋        | 17941/110390 [07:22<18:59, 81.13it/s]"
     ]
    },
    {
     "name": "stdout",
     "output_type": "stream",
     "text": [
      "Row 17931 generated an exception: min() arg is an empty sequence\n",
      "Row 17951 generated an exception: min() arg is an empty sequence\n"
     ]
    },
    {
     "name": "stderr",
     "output_type": "stream",
     "text": [
      "Processing itineraries:  16%|█▋        | 18046/110390 [07:23<17:34, 87.56it/s] "
     ]
    },
    {
     "name": "stdout",
     "output_type": "stream",
     "text": [
      "Row 18047 generated an exception: min() arg is an empty sequence\n"
     ]
    },
    {
     "name": "stderr",
     "output_type": "stream",
     "text": [
      "Processing itineraries:  18%|█▊        | 19652/110390 [08:22<07:50, 192.93it/s] "
     ]
    },
    {
     "name": "stdout",
     "output_type": "stream",
     "text": [
      "Row 19628 generated an exception: min() arg is an empty sequence\n"
     ]
    },
    {
     "name": "stderr",
     "output_type": "stream",
     "text": [
      "Processing itineraries:  18%|█▊        | 19755/110390 [08:23<13:45, 109.80it/s]"
     ]
    },
    {
     "name": "stdout",
     "output_type": "stream",
     "text": [
      "Row 19702 generated an exception: min() arg is an empty sequence\n",
      "Row 19756 generated an exception: min() arg is an empty sequence\n",
      "Row 19765 generated an exception: min() arg is an empty sequence\n"
     ]
    },
    {
     "name": "stderr",
     "output_type": "stream",
     "text": [
      "Processing itineraries:  18%|█▊        | 19768/110390 [08:24<15:14, 99.14it/s] "
     ]
    },
    {
     "name": "stdout",
     "output_type": "stream",
     "text": [
      "Row 19744 generated an exception: min() arg is an empty sequence\n",
      "Row 19819 generated an exception: min() arg is an empty sequence\n"
     ]
    },
    {
     "name": "stderr",
     "output_type": "stream",
     "text": [
      "Processing itineraries:  18%|█▊        | 19856/110390 [08:24<07:59, 188.73it/s]"
     ]
    },
    {
     "name": "stdout",
     "output_type": "stream",
     "text": [
      "Row 19912 generated an exception: min() arg is an empty sequence\n",
      "Row 19915 generated an exception: min() arg is an empty sequence\n"
     ]
    },
    {
     "name": "stderr",
     "output_type": "stream",
     "text": [
      "Processing itineraries:  20%|██        | 22093/110390 [09:12<05:26, 270.22it/s] "
     ]
    },
    {
     "name": "stdout",
     "output_type": "stream",
     "text": [
      "Row 21992 generated an exception: min() arg is an empty sequence\n"
     ]
    },
    {
     "name": "stderr",
     "output_type": "stream",
     "text": [
      "Processing itineraries:  21%|██        | 23287/110390 [09:44<06:08, 236.05it/s] "
     ]
    },
    {
     "name": "stdout",
     "output_type": "stream",
     "text": [
      "Row 23274 generated an exception: min() arg is an empty sequence\n",
      "Row 23320 generated an exception: min() arg is an empty sequence\n"
     ]
    },
    {
     "name": "stderr",
     "output_type": "stream",
     "text": [
      "Processing itineraries:  21%|██        | 23390/110390 [09:44<06:35, 220.23it/s]"
     ]
    },
    {
     "name": "stdout",
     "output_type": "stream",
     "text": [
      "Row 23354 generated an exception: min() arg is an empty sequence\n",
      "Row 23377 generated an exception: min() arg is an empty sequence\n"
     ]
    },
    {
     "name": "stderr",
     "output_type": "stream",
     "text": [
      "Processing itineraries:  21%|██        | 23437/110390 [09:44<06:57, 208.14it/s]"
     ]
    },
    {
     "name": "stdout",
     "output_type": "stream",
     "text": [
      "Row 23433 generated an exception: min() arg is an empty sequence\n"
     ]
    },
    {
     "name": "stderr",
     "output_type": "stream",
     "text": [
      "Processing itineraries:  23%|██▎       | 24949/110390 [10:15<06:12, 229.32it/s] "
     ]
    },
    {
     "name": "stdout",
     "output_type": "stream",
     "text": [
      "Row 24885 generated an exception: min() arg is an empty sequence\n",
      "Row 24886 generated an exception: min() arg is an empty sequence\n"
     ]
    },
    {
     "name": "stderr",
     "output_type": "stream",
     "text": [
      "Processing itineraries:  24%|██▎       | 26165/110390 [10:42<10:08, 138.48it/s] "
     ]
    },
    {
     "name": "stdout",
     "output_type": "stream",
     "text": [
      "Row 26149 generated an exception: min() arg is an empty sequence\n",
      "Row 26152 generated an exception: min() arg is an empty sequence\n",
      "Row 26148 generated an exception: min() arg is an empty sequence\n",
      "Row 26146 generated an exception: min() arg is an empty sequence\n",
      "Row 26147 generated an exception: min() arg is an empty sequence\n",
      "Row 26156 generated an exception: min() arg is an empty sequence\n",
      "Row 26153 generated an exception: min() arg is an empty sequence\n"
     ]
    },
    {
     "name": "stderr",
     "output_type": "stream",
     "text": [
      "Processing itineraries:  24%|██▍       | 26232/110390 [10:43<13:15, 105.84it/s]"
     ]
    },
    {
     "name": "stdout",
     "output_type": "stream",
     "text": [
      "Row 26205 generated an exception: min() arg is an empty sequence\n"
     ]
    },
    {
     "name": "stderr",
     "output_type": "stream",
     "text": [
      "Processing itineraries:  25%|██▌       | 28078/110390 [11:08<22:47, 60.19it/s]  "
     ]
    },
    {
     "name": "stdout",
     "output_type": "stream",
     "text": [
      "Row 28078 generated an exception: min() arg is an empty sequence\n",
      "Row 28075 generated an exception: min() arg is an empty sequence\n"
     ]
    },
    {
     "name": "stderr",
     "output_type": "stream",
     "text": [
      "Processing itineraries:  25%|██▌       | 28093/110390 [11:09<24:38, 55.67it/s]"
     ]
    },
    {
     "name": "stdout",
     "output_type": "stream",
     "text": [
      "Row 28063 generated an exception: min() arg is an empty sequence\n",
      "Row 28087 generated an exception: min() arg is an empty sequence\n"
     ]
    },
    {
     "name": "stderr",
     "output_type": "stream",
     "text": [
      "Processing itineraries:  26%|██▌       | 28478/110390 [11:10<01:59, 686.21it/s]"
     ]
    },
    {
     "name": "stdout",
     "output_type": "stream",
     "text": [
      "Row 28164 generated an exception: min() arg is an empty sequence\n",
      "Row 28231 generated an exception: min() arg is an empty sequence\n",
      "Row 28243 generated an exception: min() arg is an empty sequence\n",
      "Row 28252 generated an exception: min() arg is an empty sequence\n",
      "Row 28290 generated an exception: min() arg is an empty sequence\n"
     ]
    },
    {
     "name": "stderr",
     "output_type": "stream",
     "text": [
      "Processing itineraries:  28%|██▊       | 31202/110390 [12:20<03:55, 336.16it/s] "
     ]
    },
    {
     "name": "stdout",
     "output_type": "stream",
     "text": [
      "Row 31156 generated an exception: min() arg is an empty sequence\n",
      "Row 31170 generated an exception: min() arg is an empty sequence\n",
      "Row 31206 generated an exception: min() arg is an empty sequence\n"
     ]
    },
    {
     "name": "stderr",
     "output_type": "stream",
     "text": [
      "Processing itineraries:  28%|██▊       | 31359/110390 [12:20<04:32, 290.45it/s]"
     ]
    },
    {
     "name": "stdout",
     "output_type": "stream",
     "text": [
      "Row 31303 generated an exception: min() arg is an empty sequence\n",
      "Row 31312 generated an exception: min() arg is an empty sequence\n",
      "Row 31355 generated an exception: min() arg is an empty sequence\n"
     ]
    },
    {
     "name": "stderr",
     "output_type": "stream",
     "text": [
      "Processing itineraries:  28%|██▊       | 31458/110390 [12:21<05:04, 259.21it/s]"
     ]
    },
    {
     "name": "stdout",
     "output_type": "stream",
     "text": [
      "Row 31439 generated an exception: min() arg is an empty sequence\n",
      "Row 31422 generated an exception: min() arg is an empty sequence\n"
     ]
    },
    {
     "name": "stderr",
     "output_type": "stream",
     "text": [
      "Processing itineraries:  30%|██▉       | 32824/110390 [12:49<34:00, 38.01it/s]  "
     ]
    },
    {
     "name": "stdout",
     "output_type": "stream",
     "text": [
      "Row 32679 generated an exception: min() arg is an empty sequence\n"
     ]
    },
    {
     "name": "stderr",
     "output_type": "stream",
     "text": [
      "Processing itineraries:  30%|███       | 33263/110390 [13:07<07:35, 169.45it/s] "
     ]
    },
    {
     "name": "stdout",
     "output_type": "stream",
     "text": [
      "Row 33222 generated an exception: min() arg is an empty sequence\n"
     ]
    },
    {
     "name": "stderr",
     "output_type": "stream",
     "text": [
      "Processing itineraries:  31%|███       | 33846/110390 [13:26<21:13, 60.09it/s]  "
     ]
    },
    {
     "name": "stdout",
     "output_type": "stream",
     "text": [
      "Row 33842 generated an exception: min() arg is an empty sequence\n"
     ]
    },
    {
     "name": "stderr",
     "output_type": "stream",
     "text": [
      "Processing itineraries:  32%|███▏      | 34981/110390 [13:53<11:02, 113.90it/s] "
     ]
    },
    {
     "name": "stdout",
     "output_type": "stream",
     "text": [
      "Row 34988 generated an exception: min() arg is an empty sequence\n"
     ]
    },
    {
     "name": "stderr",
     "output_type": "stream",
     "text": [
      "Processing itineraries:  32%|███▏      | 35172/110390 [13:54<04:25, 283.80it/s]"
     ]
    },
    {
     "name": "stdout",
     "output_type": "stream",
     "text": [
      "Row 35070 generated an exception: min() arg is an empty sequence\n",
      "Row 35058 generated an exception: min() arg is an empty sequence\n",
      "Row 35103 generated an exception: min() arg is an empty sequence\n",
      "Row 35109 generated an exception: min() arg is an empty sequence\n",
      "Row 35141 generated an exception: min() arg is an empty sequence\n"
     ]
    },
    {
     "name": "stderr",
     "output_type": "stream",
     "text": [
      "Processing itineraries:  35%|███▍      | 38233/110390 [15:02<12:19, 97.64it/s]  "
     ]
    },
    {
     "name": "stdout",
     "output_type": "stream",
     "text": [
      "Row 38240 generated an exception: min() arg is an empty sequence\n"
     ]
    },
    {
     "name": "stderr",
     "output_type": "stream",
     "text": [
      "Processing itineraries:  36%|███▌      | 39301/110390 [15:21<07:40, 154.35it/s] "
     ]
    },
    {
     "name": "stdout",
     "output_type": "stream",
     "text": [
      "Row 39259 generated an exception: min() arg is an empty sequence\n"
     ]
    },
    {
     "name": "stderr",
     "output_type": "stream",
     "text": [
      "Processing itineraries:  36%|███▌      | 39534/110390 [15:21<03:36, 326.80it/s]"
     ]
    },
    {
     "name": "stdout",
     "output_type": "stream",
     "text": [
      "Row 39358 generated an exception: min() arg is an empty sequence\n",
      "Row 39447 generated an exception: min() arg is an empty sequence\n",
      "Row 39484 generated an exception: min() arg is an empty sequence\n",
      "Row 39497 generated an exception: min() arg is an empty sequence\n",
      "Row 39498 generated an exception: min() arg is an empty sequence\n"
     ]
    },
    {
     "name": "stderr",
     "output_type": "stream",
     "text": [
      "Processing itineraries:  37%|███▋      | 40854/110390 [15:50<04:09, 278.28it/s] "
     ]
    },
    {
     "name": "stdout",
     "output_type": "stream",
     "text": [
      "Row 40793 generated an exception: min() arg is an empty sequence\n"
     ]
    },
    {
     "name": "stderr",
     "output_type": "stream",
     "text": [
      "Processing itineraries:  37%|███▋      | 40933/110390 [15:50<06:07, 189.24it/s]"
     ]
    },
    {
     "name": "stdout",
     "output_type": "stream",
     "text": [
      "Row 40866 generated an exception: min() arg is an empty sequence\n",
      "Row 40882 generated an exception: min() arg is an empty sequence\n"
     ]
    },
    {
     "name": "stderr",
     "output_type": "stream",
     "text": [
      "Processing itineraries:  38%|███▊      | 41624/110390 [16:15<08:28, 135.20it/s] "
     ]
    },
    {
     "name": "stdout",
     "output_type": "stream",
     "text": [
      "Row 41591 generated an exception: min() arg is an empty sequence\n"
     ]
    },
    {
     "name": "stderr",
     "output_type": "stream",
     "text": [
      "Processing itineraries:  38%|███▊      | 42006/110390 [16:29<18:23, 61.95it/s]  "
     ]
    },
    {
     "name": "stdout",
     "output_type": "stream",
     "text": [
      "Row 42004 generated an exception: min() arg is an empty sequence\n"
     ]
    },
    {
     "name": "stderr",
     "output_type": "stream",
     "text": [
      "Processing itineraries:  38%|███▊      | 42149/110390 [16:29<03:49, 297.92it/s]"
     ]
    },
    {
     "name": "stdout",
     "output_type": "stream",
     "text": [
      "Row 42040 generated an exception: min() arg is an empty sequence\n"
     ]
    },
    {
     "name": "stderr",
     "output_type": "stream",
     "text": [
      "Processing itineraries:  39%|███▊      | 42629/110390 [16:44<04:15, 264.87it/s] "
     ]
    },
    {
     "name": "stdout",
     "output_type": "stream",
     "text": [
      "Row 42582 generated an exception: min() arg is an empty sequence\n"
     ]
    },
    {
     "name": "stderr",
     "output_type": "stream",
     "text": [
      "Processing itineraries:  39%|███▉      | 42951/110390 [16:58<10:42, 105.01it/s] "
     ]
    },
    {
     "name": "stdout",
     "output_type": "stream",
     "text": [
      "Row 42914 generated an exception: min() arg is an empty sequence\n"
     ]
    },
    {
     "name": "stderr",
     "output_type": "stream",
     "text": [
      "Processing itineraries:  39%|███▉      | 43420/110390 [17:15<04:33, 245.11it/s] "
     ]
    },
    {
     "name": "stdout",
     "output_type": "stream",
     "text": [
      "Row 43347 generated an exception: min() arg is an empty sequence\n",
      "Row 43395 generated an exception: min() arg is an empty sequence\n"
     ]
    },
    {
     "name": "stderr",
     "output_type": "stream",
     "text": [
      "Processing itineraries:  42%|████▏     | 45921/110390 [18:47<08:21, 128.50it/s] "
     ]
    },
    {
     "name": "stdout",
     "output_type": "stream",
     "text": [
      "Row 45901 generated an exception: min() arg is an empty sequence\n"
     ]
    },
    {
     "name": "stderr",
     "output_type": "stream",
     "text": [
      "Processing itineraries:  42%|████▏     | 45943/110390 [18:48<07:12, 149.11it/s]"
     ]
    },
    {
     "name": "stdout",
     "output_type": "stream",
     "text": [
      "Row 45949 generated an exception: min() arg is an empty sequence\n"
     ]
    },
    {
     "name": "stderr",
     "output_type": "stream",
     "text": [
      "Processing itineraries:  43%|████▎     | 47109/110390 [19:22<04:41, 224.56it/s] "
     ]
    },
    {
     "name": "stdout",
     "output_type": "stream",
     "text": [
      "Row 47048 generated an exception: min() arg is an empty sequence\n",
      "Row 47062 generated an exception: min() arg is an empty sequence\n",
      "Row 47071 generated an exception: min() arg is an empty sequence\n"
     ]
    },
    {
     "name": "stderr",
     "output_type": "stream",
     "text": [
      "Processing itineraries:  45%|████▍     | 49226/110390 [20:57<09:36, 106.09it/s] "
     ]
    },
    {
     "name": "stdout",
     "output_type": "stream",
     "text": [
      "Row 49227 generated an exception: min() arg is an empty sequence\n"
     ]
    },
    {
     "name": "stderr",
     "output_type": "stream",
     "text": [
      "Processing itineraries:  46%|████▌     | 50277/110390 [21:23<24:42, 40.54it/s]  "
     ]
    },
    {
     "name": "stdout",
     "output_type": "stream",
     "text": [
      "Row 49916 generated an exception: min() arg is an empty sequence\n"
     ]
    },
    {
     "name": "stderr",
     "output_type": "stream",
     "text": [
      "Processing itineraries:  46%|████▌     | 50934/110390 [21:48<04:39, 213.10it/s] "
     ]
    },
    {
     "name": "stdout",
     "output_type": "stream",
     "text": [
      "Row 50867 generated an exception: min() arg is an empty sequence\n"
     ]
    },
    {
     "name": "stderr",
     "output_type": "stream",
     "text": [
      "Processing itineraries:  48%|████▊     | 52562/110390 [23:12<04:49, 199.90it/s] "
     ]
    },
    {
     "name": "stdout",
     "output_type": "stream",
     "text": [
      "Row 52490 generated an exception: min() arg is an empty sequence\n",
      "Row 52488 generated an exception: min() arg is an empty sequence\n",
      "Row 52518 generated an exception: min() arg is an empty sequence\n",
      "Row 52512 generated an exception: min() arg is an empty sequence\n",
      "Row 52513 generated an exception: min() arg is an empty sequence\n",
      "Row 52542 generated an exception: min() arg is an empty sequence\n",
      "Row 52536 generated an exception: min() arg is an empty sequence\n"
     ]
    },
    {
     "name": "stderr",
     "output_type": "stream",
     "text": [
      "Processing itineraries:  48%|████▊     | 53187/110390 [23:47<09:45, 97.64it/s]  "
     ]
    },
    {
     "name": "stdout",
     "output_type": "stream",
     "text": [
      "Row 53183 generated an exception: min() arg is an empty sequence\n"
     ]
    },
    {
     "name": "stderr",
     "output_type": "stream",
     "text": [
      "Processing itineraries:  49%|████▉     | 54115/110390 [24:50<15:38, 59.96it/s]  "
     ]
    },
    {
     "name": "stdout",
     "output_type": "stream",
     "text": [
      "Row 54102 generated an exception: min() arg is an empty sequence\n",
      "Row 54117 generated an exception: min() arg is an empty sequence\n"
     ]
    },
    {
     "name": "stderr",
     "output_type": "stream",
     "text": [
      "Processing itineraries:  49%|████▉     | 54133/110390 [24:50<18:30, 50.68it/s]"
     ]
    },
    {
     "name": "stdout",
     "output_type": "stream",
     "text": [
      "Row 54140 generated an exception: min() arg is an empty sequence\n"
     ]
    },
    {
     "name": "stderr",
     "output_type": "stream",
     "text": [
      "Processing itineraries:  50%|████▉     | 54776/110390 [25:12<15:26, 60.00it/s]  "
     ]
    },
    {
     "name": "stdout",
     "output_type": "stream",
     "text": [
      "Row 54771 generated an exception: min() arg is an empty sequence\n",
      "Row 54770 generated an exception: min() arg is an empty sequence\n"
     ]
    },
    {
     "name": "stderr",
     "output_type": "stream",
     "text": [
      "Processing itineraries:  51%|█████     | 55813/110390 [25:44<02:49, 322.08it/s] "
     ]
    },
    {
     "name": "stdout",
     "output_type": "stream",
     "text": [
      "Row 55697 generated an exception: min() arg is an empty sequence\n",
      "Row 55755 generated an exception: min() arg is an empty sequence\n"
     ]
    },
    {
     "name": "stderr",
     "output_type": "stream",
     "text": [
      "Processing itineraries:  51%|█████▏    | 56666/110390 [26:30<03:37, 247.00it/s] "
     ]
    },
    {
     "name": "stdout",
     "output_type": "stream",
     "text": [
      "Row 56529 generated an exception: min() arg is an empty sequence\n",
      "Row 56557 generated an exception: min() arg is an empty sequence\n"
     ]
    },
    {
     "name": "stderr",
     "output_type": "stream",
     "text": [
      "Processing itineraries:  52%|█████▏    | 57189/110390 [26:50<05:39, 156.67it/s] "
     ]
    },
    {
     "name": "stdout",
     "output_type": "stream",
     "text": [
      "Row 57155 generated an exception: min() arg is an empty sequence\n"
     ]
    },
    {
     "name": "stderr",
     "output_type": "stream",
     "text": [
      "Processing itineraries:  53%|█████▎    | 58342/110390 [27:39<22:46, 38.10it/s]  "
     ]
    },
    {
     "name": "stdout",
     "output_type": "stream",
     "text": [
      "Row 58349 generated an exception: min() arg is an empty sequence\n"
     ]
    },
    {
     "name": "stderr",
     "output_type": "stream",
     "text": [
      "Processing itineraries:  53%|█████▎    | 58397/110390 [27:40<14:04, 61.56it/s]"
     ]
    },
    {
     "name": "stdout",
     "output_type": "stream",
     "text": [
      "Row 58373 generated an exception: min() arg is an empty sequence\n"
     ]
    },
    {
     "name": "stderr",
     "output_type": "stream",
     "text": [
      "Processing itineraries:  53%|█████▎    | 58837/110390 [27:40<01:02, 828.79it/s]"
     ]
    },
    {
     "name": "stdout",
     "output_type": "stream",
     "text": [
      "Row 58400 generated an exception: min() arg is an empty sequence\n"
     ]
    },
    {
     "name": "stderr",
     "output_type": "stream",
     "text": [
      "Processing itineraries:  55%|█████▍    | 60460/110390 [28:42<01:48, 461.77it/s] "
     ]
    },
    {
     "name": "stdout",
     "output_type": "stream",
     "text": [
      "Row 60264 generated an exception: min() arg is an empty sequence\n",
      "Row 60283 generated an exception: min() arg is an empty sequence\n",
      "Row 60304 generated an exception: min() arg is an empty sequence\n",
      "Row 60333 generated an exception: min() arg is an empty sequence\n"
     ]
    },
    {
     "name": "stderr",
     "output_type": "stream",
     "text": [
      "Processing itineraries:  55%|█████▌    | 61076/110390 [29:20<10:26, 78.72it/s]  "
     ]
    },
    {
     "name": "stdout",
     "output_type": "stream",
     "text": [
      "Row 61076 generated an exception: min() arg is an empty sequence\n"
     ]
    },
    {
     "name": "stderr",
     "output_type": "stream",
     "text": [
      "Processing itineraries:  56%|█████▌    | 61278/110390 [29:22<02:44, 298.73it/s]"
     ]
    },
    {
     "name": "stdout",
     "output_type": "stream",
     "text": [
      "Row 61110 generated an exception: min() arg is an empty sequence\n",
      "Row 61176 generated an exception: min() arg is an empty sequence\n"
     ]
    },
    {
     "name": "stderr",
     "output_type": "stream",
     "text": [
      "Processing itineraries:  56%|█████▌    | 62031/110390 [29:50<02:12, 364.42it/s] "
     ]
    },
    {
     "name": "stdout",
     "output_type": "stream",
     "text": [
      "Row 61893 generated an exception: min() arg is an empty sequence\n",
      "Row 61890 generated an exception: min() arg is an empty sequence\n"
     ]
    },
    {
     "name": "stderr",
     "output_type": "stream",
     "text": [
      "Processing itineraries:  56%|█████▋    | 62296/110390 [30:04<16:53, 47.46it/s] "
     ]
    },
    {
     "name": "stdout",
     "output_type": "stream",
     "text": [
      "Row 62314 generated an exception: min() arg is an empty sequence\n"
     ]
    },
    {
     "name": "stderr",
     "output_type": "stream",
     "text": [
      "Processing itineraries:  57%|█████▋    | 63153/110390 [30:21<01:28, 536.57it/s] "
     ]
    },
    {
     "name": "stdout",
     "output_type": "stream",
     "text": [
      "Row 63005 generated an exception: min() arg is an empty sequence\n",
      "Row 63028 generated an exception: min() arg is an empty sequence\n"
     ]
    },
    {
     "name": "stderr",
     "output_type": "stream",
     "text": [
      "Processing itineraries:  58%|█████▊    | 63825/110390 [30:48<02:12, 351.97it/s]"
     ]
    },
    {
     "name": "stdout",
     "output_type": "stream",
     "text": [
      "Row 63670 generated an exception: min() arg is an empty sequence\n",
      "Row 63665 generated an exception: min() arg is an empty sequence\n",
      "Row 63704 generated an exception: min() arg is an empty sequence\n"
     ]
    },
    {
     "name": "stderr",
     "output_type": "stream",
     "text": [
      "Processing itineraries:  58%|█████▊    | 63916/110390 [30:54<20:02, 38.65it/s] "
     ]
    },
    {
     "name": "stdout",
     "output_type": "stream",
     "text": [
      "Row 63919 generated an exception: min() arg is an empty sequence\n"
     ]
    },
    {
     "name": "stderr",
     "output_type": "stream",
     "text": [
      "Processing itineraries:  58%|█████▊    | 64118/110390 [30:59<11:00, 70.11it/s]"
     ]
    },
    {
     "name": "stdout",
     "output_type": "stream",
     "text": [
      "Row 64124 generated an exception: min() arg is an empty sequence\n"
     ]
    },
    {
     "name": "stderr",
     "output_type": "stream",
     "text": [
      "Processing itineraries:  59%|█████▊    | 64670/110390 [31:19<15:46, 48.30it/s]  "
     ]
    },
    {
     "name": "stdout",
     "output_type": "stream",
     "text": [
      "Row 64711 generated an exception: min() arg is an empty sequence\n",
      "Row 64700 generated an exception: min() arg is an empty sequence\n",
      "Row 64720 generated an exception: min() arg is an empty sequence\n",
      "Row 64727 generated an exception: min() arg is an empty sequence\n",
      "Row 64741 generated an exception: min() arg is an empty sequence\n"
     ]
    },
    {
     "name": "stderr",
     "output_type": "stream",
     "text": [
      "Processing itineraries:  60%|█████▉    | 66070/110390 [32:49<12:54, 57.22it/s]  "
     ]
    },
    {
     "name": "stdout",
     "output_type": "stream",
     "text": [
      "Row 66058 generated an exception: min() arg is an empty sequence\n",
      "Row 66062 generated an exception: min() arg is an empty sequence\n",
      "Row 66066 generated an exception: min() arg is an empty sequence\n",
      "Row 66065 generated an exception: min() arg is an empty sequence\n",
      "Row 66064 generated an exception: min() arg is an empty sequence\n",
      "Row 66068 generated an exception: min() arg is an empty sequence\n"
     ]
    },
    {
     "name": "stderr",
     "output_type": "stream",
     "text": [
      "Processing itineraries:  60%|█████▉    | 66227/110390 [32:49<02:40, 274.56it/s]"
     ]
    },
    {
     "name": "stdout",
     "output_type": "stream",
     "text": [
      "Row 66072 generated an exception: min() arg is an empty sequence\n",
      "Row 66086 generated an exception: min() arg is an empty sequence\n",
      "Row 66101 generated an exception: min() arg is an empty sequence\n",
      "Row 66112 generated an exception: min() arg is an empty sequence\n",
      "Row 66122 generated an exception: min() arg is an empty sequence\n"
     ]
    },
    {
     "name": "stderr",
     "output_type": "stream",
     "text": [
      "Processing itineraries:  60%|██████    | 66272/110390 [32:50<03:48, 193.17it/s]"
     ]
    },
    {
     "name": "stdout",
     "output_type": "stream",
     "text": [
      "Row 66258 generated an exception: min() arg is an empty sequence\n"
     ]
    },
    {
     "name": "stderr",
     "output_type": "stream",
     "text": [
      "Processing itineraries:  60%|██████    | 66463/110390 [33:14<2:45:45,  4.42it/s]"
     ]
    },
    {
     "name": "stdout",
     "output_type": "stream",
     "text": [
      "Row 66455 generated an exception: min() arg is an empty sequence\n"
     ]
    },
    {
     "name": "stderr",
     "output_type": "stream",
     "text": [
      "Processing itineraries:  61%|██████    | 67303/110390 [33:46<04:26, 161.89it/s] "
     ]
    },
    {
     "name": "stdout",
     "output_type": "stream",
     "text": [
      "Row 67229 generated an exception: min() arg is an empty sequence\n",
      "Row 67278 generated an exception: min() arg is an empty sequence\n"
     ]
    },
    {
     "name": "stderr",
     "output_type": "stream",
     "text": [
      "Processing itineraries:  62%|██████▏   | 68662/110390 [34:21<12:51, 54.08it/s]  "
     ]
    },
    {
     "name": "stdout",
     "output_type": "stream",
     "text": [
      "Row 68664 generated an exception: min() arg is an empty sequence\n"
     ]
    },
    {
     "name": "stderr",
     "output_type": "stream",
     "text": [
      "Processing itineraries:  62%|██████▏   | 68861/110390 [34:22<02:34, 268.72it/s]"
     ]
    },
    {
     "name": "stdout",
     "output_type": "stream",
     "text": [
      "Row 68690 generated an exception: min() arg is an empty sequence\n",
      "Row 68682 generated an exception: min() arg is an empty sequence\n",
      "Row 68730 generated an exception: min() arg is an empty sequence\n",
      "Row 68711 generated an exception: min() arg is an empty sequence\n",
      "Row 68751 generated an exception: min() arg is an empty sequence\n"
     ]
    },
    {
     "name": "stderr",
     "output_type": "stream",
     "text": [
      "Processing itineraries:  63%|██████▎   | 69723/110390 [34:59<09:26, 71.73it/s]  "
     ]
    },
    {
     "name": "stdout",
     "output_type": "stream",
     "text": [
      "Row 69716 generated an exception: min() arg is an empty sequence\n"
     ]
    },
    {
     "name": "stderr",
     "output_type": "stream",
     "text": [
      "Processing itineraries:  64%|██████▍   | 70777/110390 [35:17<04:15, 154.76it/s]"
     ]
    },
    {
     "name": "stdout",
     "output_type": "stream",
     "text": [
      "Row 70776 generated an exception: min() arg is an empty sequence\n"
     ]
    },
    {
     "name": "stderr",
     "output_type": "stream",
     "text": [
      "Processing itineraries:  66%|██████▌   | 72760/110390 [35:55<02:32, 246.81it/s] "
     ]
    },
    {
     "name": "stdout",
     "output_type": "stream",
     "text": [
      "Row 72638 generated an exception: min() arg is an empty sequence\n",
      "Row 72673 generated an exception: min() arg is an empty sequence\n",
      "Row 72672 generated an exception: min() arg is an empty sequence\n",
      "Row 72670 generated an exception: min() arg is an empty sequence\n",
      "Row 72659 generated an exception: min() arg is an empty sequence\n",
      "Row 72694 generated an exception: min() arg is an empty sequence\n",
      "Row 72752 generated an exception: min() arg is an empty sequence\n",
      "Row 72786 generated an exception: min() arg is an empty sequence\n"
     ]
    },
    {
     "name": "stderr",
     "output_type": "stream",
     "text": [
      "Processing itineraries:  67%|██████▋   | 73656/110390 [36:19<04:35, 133.14it/s] "
     ]
    },
    {
     "name": "stdout",
     "output_type": "stream",
     "text": [
      "Row 73629 generated an exception: min() arg is an empty sequence\n"
     ]
    },
    {
     "name": "stderr",
     "output_type": "stream",
     "text": [
      "Processing itineraries:  67%|██████▋   | 74384/110390 [36:39<11:44, 51.12it/s] "
     ]
    },
    {
     "name": "stdout",
     "output_type": "stream",
     "text": [
      "Row 74380 generated an exception: min() arg is an empty sequence\n",
      "Row 74404 generated an exception: min() arg is an empty sequence\n",
      "Row 74443 generated an exception: min() arg is an empty sequence\n"
     ]
    },
    {
     "name": "stderr",
     "output_type": "stream",
     "text": [
      "Processing itineraries:  69%|██████▊   | 75864/110390 [38:01<42:23, 13.58it/s]  "
     ]
    },
    {
     "name": "stdout",
     "output_type": "stream",
     "text": [
      "Row 75869 generated an exception: min() arg is an empty sequence\n",
      "Row 75870 generated an exception: min() arg is an empty sequence\n"
     ]
    },
    {
     "name": "stderr",
     "output_type": "stream",
     "text": [
      "Processing itineraries:  69%|██████▉   | 75908/110390 [38:02<10:05, 56.91it/s]"
     ]
    },
    {
     "name": "stdout",
     "output_type": "stream",
     "text": [
      "Row 75906 generated an exception: min() arg is an empty sequence\n",
      "Row 75904 generated an exception: min() arg is an empty sequence\n"
     ]
    },
    {
     "name": "stderr",
     "output_type": "stream",
     "text": [
      "Processing itineraries:  71%|███████   | 78578/110390 [40:23<00:55, 572.35it/s] "
     ]
    },
    {
     "name": "stdout",
     "output_type": "stream",
     "text": [
      "Row 78285 generated an exception: min() arg is an empty sequence\n",
      "Row 78389 generated an exception: min() arg is an empty sequence\n",
      "Row 78451 generated an exception: min() arg is an empty sequence\n",
      "Row 78443 generated an exception: min() arg is an empty sequence\n",
      "Row 78442 generated an exception: min() arg is an empty sequence\n",
      "Row 78450 generated an exception: min() arg is an empty sequence\n",
      "Row 78593 generated an exception: min() arg is an empty sequence\n"
     ]
    },
    {
     "name": "stderr",
     "output_type": "stream",
     "text": [
      "Processing itineraries:  72%|███████▏  | 78947/110390 [40:24<01:51, 282.73it/s]"
     ]
    },
    {
     "name": "stdout",
     "output_type": "stream",
     "text": [
      "Row 78895 generated an exception: min() arg is an empty sequence\n",
      "Row 78927 generated an exception: min() arg is an empty sequence\n",
      "Row 78900 generated an exception: min() arg is an empty sequence\n",
      "Row 78958 generated an exception: min() arg is an empty sequence\n",
      "Row 78983 generated an exception: min() arg is an empty sequence\n"
     ]
    },
    {
     "name": "stderr",
     "output_type": "stream",
     "text": [
      "Processing itineraries:  74%|███████▍  | 81929/110390 [42:16<01:22, 343.69it/s] "
     ]
    },
    {
     "name": "stdout",
     "output_type": "stream",
     "text": [
      "Row 81777 generated an exception: min() arg is an empty sequence\n",
      "Row 81821 generated an exception: min() arg is an empty sequence\n"
     ]
    },
    {
     "name": "stderr",
     "output_type": "stream",
     "text": [
      "Processing itineraries:  79%|███████▊  | 86718/110390 [45:03<00:40, 578.41it/s] "
     ]
    },
    {
     "name": "stdout",
     "output_type": "stream",
     "text": [
      "Row 86499 generated an exception: min() arg is an empty sequence\n",
      "Row 86604 generated an exception: min() arg is an empty sequence\n"
     ]
    },
    {
     "name": "stderr",
     "output_type": "stream",
     "text": [
      "Processing itineraries:  79%|███████▊  | 86931/110390 [45:04<01:37, 240.05it/s]"
     ]
    },
    {
     "name": "stdout",
     "output_type": "stream",
     "text": [
      "Row 86907 generated an exception: min() arg is an empty sequence\n"
     ]
    },
    {
     "name": "stderr",
     "output_type": "stream",
     "text": [
      "Processing itineraries:  79%|███████▉  | 87095/110390 [45:05<01:33, 249.17it/s]"
     ]
    },
    {
     "name": "stdout",
     "output_type": "stream",
     "text": [
      "Row 87034 generated an exception: min() arg is an empty sequence\n"
     ]
    },
    {
     "name": "stderr",
     "output_type": "stream",
     "text": [
      "Processing itineraries:  81%|████████  | 89626/110390 [46:15<00:33, 621.25it/s] "
     ]
    },
    {
     "name": "stdout",
     "output_type": "stream",
     "text": [
      "Row 89648 generated an exception: min() arg is an empty sequence\n"
     ]
    },
    {
     "name": "stderr",
     "output_type": "stream",
     "text": [
      "Processing itineraries:  81%|████████▏ | 89789/110390 [46:16<00:57, 360.93it/s]"
     ]
    },
    {
     "name": "stdout",
     "output_type": "stream",
     "text": [
      "Row 89632 generated an exception: min() arg is an empty sequence\n"
     ]
    },
    {
     "name": "stderr",
     "output_type": "stream",
     "text": [
      "Processing itineraries:  84%|████████▎ | 92183/110390 [47:30<00:18, 991.43it/s] "
     ]
    },
    {
     "name": "stdout",
     "output_type": "stream",
     "text": [
      "Row 91717 generated an exception: min() arg is an empty sequence\n",
      "Row 91706 generated an exception: min() arg is an empty sequence\n",
      "Row 91792 generated an exception: min() arg is an empty sequence\n",
      "Row 91849 generated an exception: min() arg is an empty sequence\n",
      "Row 91884 generated an exception: min() arg is an empty sequence\n",
      "Row 91888 generated an exception: min() arg is an empty sequence\n",
      "Row 91915 generated an exception: min() arg is an empty sequence\n",
      "Row 91899 generated an exception: min() arg is an empty sequence\n",
      "Row 91913 generated an exception: min() arg is an empty sequence\n",
      "Row 91930 generated an exception: min() arg is an empty sequence\n",
      "Row 91912 generated an exception: min() arg is an empty sequence\n",
      "Row 92065 generated an exception: min() arg is an empty sequence\n",
      "Row 92113 generated an exception: min() arg is an empty sequence\n"
     ]
    },
    {
     "name": "stderr",
     "output_type": "stream",
     "text": [
      "Processing itineraries:  85%|████████▍ | 93604/110390 [48:25<05:46, 48.46it/s] "
     ]
    },
    {
     "name": "stdout",
     "output_type": "stream",
     "text": [
      "Row 93605 generated an exception: min() arg is an empty sequence\n"
     ]
    },
    {
     "name": "stderr",
     "output_type": "stream",
     "text": [
      "Processing itineraries:  87%|████████▋ | 95594/110390 [48:55<00:20, 737.86it/s]"
     ]
    },
    {
     "name": "stdout",
     "output_type": "stream",
     "text": [
      "Row 95335 generated an exception: min() arg is an empty sequence\n",
      "Row 95574 generated an exception: min() arg is an empty sequence\n",
      "Row 95607 generated an exception: min() arg is an empty sequence\n"
     ]
    },
    {
     "name": "stderr",
     "output_type": "stream",
     "text": [
      "Processing itineraries:  88%|████████▊ | 97025/110390 [49:37<00:56, 235.92it/s]"
     ]
    },
    {
     "name": "stdout",
     "output_type": "stream",
     "text": [
      "Row 96953 generated an exception: min() arg is an empty sequence\n"
     ]
    },
    {
     "name": "stderr",
     "output_type": "stream",
     "text": [
      "Processing itineraries:  90%|█████████ | 99483/110390 [51:24<20:06,  9.04it/s] "
     ]
    },
    {
     "name": "stdout",
     "output_type": "stream",
     "text": [
      "Row 99494 generated an exception: min() arg is an empty sequence\n"
     ]
    },
    {
     "name": "stderr",
     "output_type": "stream",
     "text": [
      "Processing itineraries:  91%|█████████ | 100729/110390 [52:14<00:39, 243.15it/s]"
     ]
    },
    {
     "name": "stdout",
     "output_type": "stream",
     "text": [
      "Row 100663 generated an exception: min() arg is an empty sequence\n"
     ]
    },
    {
     "name": "stderr",
     "output_type": "stream",
     "text": [
      "Processing itineraries:  91%|█████████▏| 100786/110390 [52:15<01:10, 135.95it/s]"
     ]
    },
    {
     "name": "stdout",
     "output_type": "stream",
     "text": [
      "Row 100756 generated an exception: min() arg is an empty sequence\n"
     ]
    },
    {
     "name": "stderr",
     "output_type": "stream",
     "text": [
      "Processing itineraries:  91%|█████████▏| 100962/110390 [52:15<00:29, 321.50it/s]"
     ]
    },
    {
     "name": "stdout",
     "output_type": "stream",
     "text": [
      "Row 100851 generated an exception: min() arg is an empty sequence\n",
      "Row 100927 generated an exception: min() arg is an empty sequence\n"
     ]
    },
    {
     "name": "stderr",
     "output_type": "stream",
     "text": [
      "Processing itineraries:  92%|█████████▏| 102015/110390 [53:24<01:55, 72.40it/s] "
     ]
    },
    {
     "name": "stdout",
     "output_type": "stream",
     "text": [
      "Row 102029 generated an exception: min() arg is an empty sequence\n"
     ]
    },
    {
     "name": "stderr",
     "output_type": "stream",
     "text": [
      "Processing itineraries:  93%|█████████▎| 102399/110390 [53:33<05:03, 26.33it/s] "
     ]
    },
    {
     "name": "stdout",
     "output_type": "stream",
     "text": [
      "Row 102408 generated an exception: min() arg is an empty sequence\n"
     ]
    },
    {
     "name": "stderr",
     "output_type": "stream",
     "text": [
      "Processing itineraries:  93%|█████████▎| 102648/110390 [54:03<03:07, 41.30it/s]"
     ]
    },
    {
     "name": "stdout",
     "output_type": "stream",
     "text": [
      "Row 102653 generated an exception: min() arg is an empty sequence\n",
      "Row 102654 generated an exception: min() arg is an empty sequence\n",
      "Row 102659 generated an exception: min() arg is an empty sequence\n"
     ]
    },
    {
     "name": "stderr",
     "output_type": "stream",
     "text": [
      "Processing itineraries:  93%|█████████▎| 102821/110390 [54:13<04:31, 27.91it/s]"
     ]
    },
    {
     "name": "stdout",
     "output_type": "stream",
     "text": [
      "Row 102824 generated an exception: min() arg is an empty sequence\n"
     ]
    },
    {
     "name": "stderr",
     "output_type": "stream",
     "text": [
      "Processing itineraries:  94%|█████████▎| 103227/110390 [54:36<00:54, 131.30it/s]"
     ]
    },
    {
     "name": "stdout",
     "output_type": "stream",
     "text": [
      "Row 103184 generated an exception: min() arg is an empty sequence\n",
      "Row 103218 generated an exception: min() arg is an empty sequence\n"
     ]
    },
    {
     "name": "stderr",
     "output_type": "stream",
     "text": [
      "Processing itineraries:  94%|█████████▎| 103242/110390 [54:37<01:49, 65.10it/s] "
     ]
    },
    {
     "name": "stdout",
     "output_type": "stream",
     "text": [
      "Row 103266 generated an exception: min() arg is an empty sequence\n"
     ]
    },
    {
     "name": "stderr",
     "output_type": "stream",
     "text": [
      "Processing itineraries:  94%|█████████▎| 103398/110390 [54:51<07:17, 16.00it/s]"
     ]
    },
    {
     "name": "stdout",
     "output_type": "stream",
     "text": [
      "Row 103396 generated an exception: min() arg is an empty sequence\n",
      "Row 103400 generated an exception: min() arg is an empty sequence\n",
      "Row 103401 generated an exception: min() arg is an empty sequence\n",
      "Row 103403 generated an exception: min() arg is an empty sequence\n"
     ]
    },
    {
     "name": "stderr",
     "output_type": "stream",
     "text": [
      "Processing itineraries:  94%|█████████▍| 103747/110390 [55:53<02:05, 53.04it/s]"
     ]
    },
    {
     "name": "stdout",
     "output_type": "stream",
     "text": [
      "Row 103736 generated an exception: min() arg is an empty sequence\n",
      "Row 103734 generated an exception: min() arg is an empty sequence\n"
     ]
    },
    {
     "name": "stderr",
     "output_type": "stream",
     "text": [
      "Processing itineraries:  94%|█████████▍| 103766/110390 [55:54<04:28, 24.65it/s]"
     ]
    },
    {
     "name": "stdout",
     "output_type": "stream",
     "text": [
      "Row 103767 generated an exception: min() arg is an empty sequence\n"
     ]
    },
    {
     "name": "stderr",
     "output_type": "stream",
     "text": [
      "Processing itineraries:  96%|█████████▌| 105703/110390 [58:20<00:34, 137.18it/s]"
     ]
    },
    {
     "name": "stdout",
     "output_type": "stream",
     "text": [
      "Row 105678 generated an exception: min() arg is an empty sequence\n"
     ]
    },
    {
     "name": "stderr",
     "output_type": "stream",
     "text": [
      "Processing itineraries:  96%|█████████▋| 106342/110390 [58:23<00:04, 930.34it/s]"
     ]
    },
    {
     "name": "stdout",
     "output_type": "stream",
     "text": [
      "Row 105901 generated an exception: min() arg is an empty sequence\n",
      "Row 105903 generated an exception: min() arg is an empty sequence\n",
      "Row 106035 generated an exception: min() arg is an empty sequence\n",
      "Row 106070 generated an exception: min() arg is an empty sequence\n",
      "Row 106068 generated an exception: min() arg is an empty sequence\n",
      "Row 106092 generated an exception: min() arg is an empty sequence\n",
      "Row 106089 generated an exception: min() arg is an empty sequence\n",
      "Row 106109 generated an exception: min() arg is an empty sequence\n",
      "Row 106180 generated an exception: min() arg is an empty sequence\n",
      "Row 106185 generated an exception: min() arg is an empty sequence\n",
      "Row 106182 generated an exception: min() arg is an empty sequence\n",
      "Row 106169 generated an exception: min() arg is an empty sequence\n",
      "Row 106230 generated an exception: min() arg is an empty sequence\n",
      "Row 106179 generated an exception: min() arg is an empty sequence\n",
      "Row 106272 generated an exception: min() arg is an empty sequence\n",
      "Row 106304 generated an exception: min() arg is an empty sequence\n",
      "Row 106400 generated an exception: min() arg is an empty sequence\n",
      "Row 106414 generated an exception: min() arg is an empty sequence\n"
     ]
    },
    {
     "name": "stderr",
     "output_type": "stream",
     "text": [
      "Processing itineraries:  97%|█████████▋| 106651/110390 [58:53<03:12, 19.39it/s] "
     ]
    },
    {
     "name": "stdout",
     "output_type": "stream",
     "text": [
      "Row 106662 generated an exception: min() arg is an empty sequence\n",
      "Row 106668 generated an exception: min() arg is an empty sequence\n"
     ]
    },
    {
     "name": "stderr",
     "output_type": "stream",
     "text": [
      "Processing itineraries:  97%|█████████▋| 106705/110390 [58:55<02:56, 20.82it/s]"
     ]
    },
    {
     "name": "stdout",
     "output_type": "stream",
     "text": [
      "Row 106716 generated an exception: min() arg is an empty sequence\n"
     ]
    },
    {
     "name": "stderr",
     "output_type": "stream",
     "text": [
      "Processing itineraries:  97%|█████████▋| 107074/110390 [59:42<12:56,  4.27it/s]"
     ]
    },
    {
     "name": "stdout",
     "output_type": "stream",
     "text": [
      "Row 107058 generated an exception: min() arg is an empty sequence\n"
     ]
    },
    {
     "name": "stderr",
     "output_type": "stream",
     "text": [
      "Processing itineraries:  99%|█████████▉| 109068/110390 [1:04:59<04:26,  4.95it/s] "
     ]
    },
    {
     "name": "stdout",
     "output_type": "stream",
     "text": [
      "Row 109060 generated an exception: min() arg is an empty sequence\n"
     ]
    },
    {
     "name": "stderr",
     "output_type": "stream",
     "text": [
      "Processing itineraries:  99%|█████████▉| 109492/110390 [1:06:28<00:06, 129.05it/s]"
     ]
    },
    {
     "name": "stdout",
     "output_type": "stream",
     "text": [
      "Row 109457 generated an exception: min() arg is an empty sequence\n",
      "Row 109478 generated an exception: min() arg is an empty sequence\n",
      "Row 109483 generated an exception: min() arg is an empty sequence\n",
      "Row 109484 generated an exception: min() arg is an empty sequence\n"
     ]
    },
    {
     "name": "stderr",
     "output_type": "stream",
     "text": [
      "Processing itineraries:  99%|█████████▉| 109535/110390 [1:06:30<00:30, 27.75it/s] "
     ]
    },
    {
     "name": "stdout",
     "output_type": "stream",
     "text": [
      "Row 109528 generated an exception: min() arg is an empty sequence\n"
     ]
    },
    {
     "name": "stderr",
     "output_type": "stream",
     "text": [
      "Processing itineraries: 100%|█████████▉| 109986/110390 [1:06:30<00:01, 320.52it/s]"
     ]
    },
    {
     "name": "stdout",
     "output_type": "stream",
     "text": [
      "Row 109556 generated an exception: min() arg is an empty sequence\n",
      "Row 109594 generated an exception: min() arg is an empty sequence\n",
      "Row 109581 generated an exception: min() arg is an empty sequence\n",
      "Row 109610 generated an exception: min() arg is an empty sequence\n",
      "Row 109588 generated an exception: min() arg is an empty sequence\n",
      "Row 109592 generated an exception: min() arg is an empty sequence\n",
      "Row 109623 generated an exception: min() arg is an empty sequence\n",
      "Row 109628 generated an exception: min() arg is an empty sequence\n",
      "Row 109647 generated an exception: min() arg is an empty sequence\n",
      "Row 109640 generated an exception: min() arg is an empty sequence\n",
      "Row 109639 generated an exception: min() arg is an empty sequence\n",
      "Row 109644 generated an exception: min() arg is an empty sequence\n",
      "Row 109685 generated an exception: min() arg is an empty sequence\n",
      "Row 109753 generated an exception: min() arg is an empty sequence\n",
      "Row 109761 generated an exception: min() arg is an empty sequence\n",
      "Row 109767 generated an exception: min() arg is an empty sequence\n",
      "Row 109803 generated an exception: min() arg is an empty sequence\n",
      "Row 109871 generated an exception: min() arg is an empty sequence\n",
      "Row 109831 generated an exception: min() arg is an empty sequence\n",
      "Row 109937 generated an exception: min() arg is an empty sequence\n",
      "Row 109900 generated an exception: min() arg is an empty sequence\n",
      "Row 109902 generated an exception: min() arg is an empty sequence\n",
      "Row 109932 generated an exception: min() arg is an empty sequence\n",
      "Row 109935 generated an exception: min() arg is an empty sequence\n",
      "Row 109957 generated an exception: min() arg is an empty sequence\n"
     ]
    },
    {
     "name": "stderr",
     "output_type": "stream",
     "text": [
      "Processing itineraries: 100%|█████████▉| 110144/110390 [1:06:31<00:01, 237.58it/s]"
     ]
    },
    {
     "name": "stdout",
     "output_type": "stream",
     "text": [
      "Row 110006 generated an exception: min() arg is an empty sequence\n",
      "Row 110008 generated an exception: min() arg is an empty sequence\n",
      "Row 110046 generated an exception: min() arg is an empty sequence\n",
      "Row 110084 generated an exception: min() arg is an empty sequence\n",
      "Row 110087 generated an exception: min() arg is an empty sequence\n",
      "Row 110086 generated an exception: min() arg is an empty sequence\n",
      "Row 110122 generated an exception: min() arg is an empty sequence\n",
      "Row 110132 generated an exception: min() arg is an empty sequence\n",
      "Row 110144 generated an exception: min() arg is an empty sequence\n",
      "Row 110121 generated an exception: min() arg is an empty sequence\n"
     ]
    },
    {
     "name": "stderr",
     "output_type": "stream",
     "text": [
      "Processing itineraries: 100%|█████████▉| 110229/110390 [1:06:32<00:01, 137.67it/s]"
     ]
    },
    {
     "name": "stdout",
     "output_type": "stream",
     "text": [
      "Row 110146 generated an exception: min() arg is an empty sequence\n",
      "Row 110161 generated an exception: min() arg is an empty sequence\n",
      "Row 110192 generated an exception: min() arg is an empty sequence\n",
      "Row 110183 generated an exception: min() arg is an empty sequence\n",
      "Row 110201 generated an exception: min() arg is an empty sequence\n",
      "Row 110246 generated an exception: min() arg is an empty sequence\n",
      "Row 110220 generated an exception: min() arg is an empty sequence\n",
      "Row 110163 generated an exception: min() arg is an empty sequence\n",
      "Row 110217 generated an exception: min() arg is an empty sequence\n",
      "Row 110223 generated an exception: min() arg is an empty sequence\n"
     ]
    },
    {
     "name": "stderr",
     "output_type": "stream",
     "text": [
      "Processing itineraries: 100%|█████████▉| 110247/110390 [1:06:32<00:01, 135.07it/s]"
     ]
    },
    {
     "name": "stdout",
     "output_type": "stream",
     "text": [
      "Row 110230 generated an exception: min() arg is an empty sequence\n",
      "Row 110216 generated an exception: min() arg is an empty sequence\n",
      "Row 110279 generated an exception: min() arg is an empty sequence\n",
      "Row 110260 generated an exception: min() arg is an empty sequence\n",
      "Row 110312 generated an exception: min() arg is an empty sequence\n",
      "Row 110310 generated an exception: min() arg is an empty sequence\n",
      "Row 110305 generated an exception: min() arg is an empty sequence\n",
      "Row 110274 generated an exception: min() arg is an empty sequence\n",
      "Row 110347 generated an exception: min() arg is an empty sequence\n",
      "Row 110342 generated an exception: min() arg is an empty sequence\n",
      "Row 110337 generated an exception: min() arg is an empty sequence\n",
      "Row 110339 generated an exception: min() arg is an empty sequence\n",
      "Row 110311 generated an exception: min() arg is an empty sequence\n",
      "Row 110384 generated an exception: min() arg is an empty sequence\n",
      "Row 110373 generated an exception: min() arg is an empty sequence\n",
      "Row 110376 generated an exception: min() arg is an empty sequence\n",
      "Row 110378 generated an exception: min() arg is an empty sequence\n"
     ]
    },
    {
     "name": "stderr",
     "output_type": "stream",
     "text": [
      "Processing itineraries: 100%|██████████| 110390/110390 [1:06:34<00:00, 27.64it/s] \n"
     ]
    }
   ],
   "source": [
    "main_concurrent_sn(gm, num_itineraries=2, mode='CAR_PICKUP')"
   ]
  },
  {
   "cell_type": "code",
   "execution_count": 13,
   "metadata": {},
   "outputs": [
    {
     "name": "stdout",
     "output_type": "stream",
     "text": [
      "<class 'pandas.core.frame.DataFrame'>\n",
      "RangeIndex: 110390 entries, 0 to 110389\n",
      "Data columns (total 39 columns):\n",
      " #   Column                   Non-Null Count   Dtype         \n",
      "---  ------                   --------------   -----         \n",
      " 0   FromZoneID               110390 non-null  int64         \n",
      " 1   ToZoneID                 110390 non-null  int64         \n",
      " 2   DriveLength              110390 non-null  float64       \n",
      " 3   FreeTime                 110390 non-null  float64       \n",
      " 4   CongTime                 110390 non-null  float64       \n",
      " 5   CarGenCost               110390 non-null  float64       \n",
      " 6   NoOfChange               110390 non-null  float64       \n",
      " 7   WaitT                    110390 non-null  float64       \n",
      " 8   ZoneWaitT                110390 non-null  float64       \n",
      " 9   ZoneConT                 110390 non-null  float64       \n",
      " 10  InVehicleT               110390 non-null  float64       \n",
      " 11  PubDist                  110390 non-null  float64       \n",
      " 12  PubGenCost               110390 non-null  float64       \n",
      " 13  OBJECTID                 110390 non-null  float64       \n",
      " 14  id                       110390 non-null  float64       \n",
      " 15  StartTime                110390 non-null  datetime64[ns]\n",
      " 16  EndTime                  110390 non-null  datetime64[ns]\n",
      " 17  vehicleId                110390 non-null  float64       \n",
      " 18  LatitudeStart            110390 non-null  float64       \n",
      " 19  LongitudeStart           110390 non-null  float64       \n",
      " 20  LatitudeEnd              110390 non-null  float64       \n",
      " 21  LongitudeEnd             110390 non-null  float64       \n",
      " 22  age                      110390 non-null  float64       \n",
      " 23  sex                      108143 non-null  object        \n",
      " 24  Month                    110390 non-null  object        \n",
      " 25  Weekday                  110390 non-null  object        \n",
      " 26  StartHour                110390 non-null  int64         \n",
      " 27  ZoneTransition           110390 non-null  object        \n",
      " 28  age_group                110390 non-null  object        \n",
      " 29  StartTimeUpdated         110390 non-null  datetime64[ns]\n",
      " 30  TotalDurationMin         109876 non-null  float64       \n",
      " 31  TripDistanceKm           109876 non-null  float64       \n",
      " 32  TotalWalkingTimeMin      109876 non-null  float64       \n",
      " 33  TotalTransitTimeMin      109876 non-null  float64       \n",
      " 34  Changes                  109876 non-null  float64       \n",
      " 35  PickupStationProximity   109876 non-null  float64       \n",
      " 36  DropoffStationProximity  109876 non-null  float64       \n",
      " 37  CarDurationMin           109921 non-null  float64       \n",
      " 38  CarDistanceKm            109921 non-null  float64       \n",
      "dtypes: datetime64[ns](3), float64(28), int64(3), object(5)\n",
      "memory usage: 32.8+ MB\n"
     ]
    }
   ],
   "source": [
    "gm.info(verbose=True, max_cols=1000)"
   ]
  },
  {
   "cell_type": "code",
   "execution_count": 14,
   "metadata": {},
   "outputs": [],
   "source": [
    "# save to csv\n",
    "gm.to_csv('../data/processed/gm_accessibility_complete.csv', index=False)"
   ]
  },
  {
   "cell_type": "code",
   "execution_count": null,
   "metadata": {},
   "outputs": [],
   "source": []
  }
 ],
 "metadata": {
  "kernelspec": {
   "display_name": "thesis",
   "language": "python",
   "name": "python3"
  },
  "language_info": {
   "codemirror_mode": {
    "name": "ipython",
    "version": 3
   },
   "file_extension": ".py",
   "mimetype": "text/x-python",
   "name": "python",
   "nbconvert_exporter": "python",
   "pygments_lexer": "ipython3",
   "version": "3.11.5"
  }
 },
 "nbformat": 4,
 "nbformat_minor": 2
}
