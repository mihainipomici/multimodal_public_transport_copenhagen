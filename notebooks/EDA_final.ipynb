{
 "cells": [
  {
   "cell_type": "markdown",
   "metadata": {},
   "source": [
    "### Libraries and used functions"
   ]
  },
  {
   "cell_type": "code",
   "execution_count": 454,
   "metadata": {},
   "outputs": [],
   "source": [
    "import pandas as pd\n",
    "import numpy as np\n",
    "import matplotlib.pyplot as plt\n",
    "import seaborn as sns\n",
    "import geopandas as gpd\n",
    "import datetime as dt\n",
    "\n",
    "from sklearn.cluster import DBSCAN\n",
    "from sklearn.preprocessing import StandardScaler\n",
    "from sklearn.cluster import KMeans\n",
    "from sklearn.metrics import silhouette_score\n",
    "from sklearn.decomposition import PCA\n",
    "import requests\n",
    "import plotly.express as px\n",
    "import plotly.graph_objects as go\n",
    "\n",
    "from IPython.display import HTML\n",
    "\n",
    "from scipy.stats import f_oneway\n",
    "from scipy.stats import pearsonr\n",
    "from scipy.stats import mannwhitneyu\n",
    "\n",
    "%matplotlib inline\n",
    "# from pydantic_settings import BaseSettings\n",
    "#from ydata_profiling import ProfileReport\n",
    "\n",
    "import sys\n",
    "import os\n",
    "sys.path.append('../utils/')\n",
    "#sys.path.append('..\\\\utils\\\\')\n",
    "\n",
    "from functions import get_zone_info\n",
    "from functions import haversine_distance as hsd\n",
    "from functions import main_concurrent"
   ]
  },
  {
   "cell_type": "code",
   "execution_count": 455,
   "metadata": {},
   "outputs": [
    {
     "data": {
      "text/plain": [
       "['rgb(184,226,177)',\n",
       " 'rgb(125,200,125)',\n",
       " 'rgb(58,164,88)',\n",
       " 'rgb(13,120,53)',\n",
       " 'rgb(0,68,27)']"
      ]
     },
     "execution_count": 455,
     "metadata": {},
     "output_type": "execute_result"
    }
   ],
   "source": [
    "def generate_custom_blue_scale(n_steps, dark_start=True):\n",
    "    \"\"\"\n",
    "    Generate a custom blue color scale with n_steps.\n",
    "    \n",
    "    Args:\n",
    "    - n_steps: Number of steps in the color scale.\n",
    "    - dark_start: If True, start with a darker blue; otherwise, start lighter.\n",
    "    \n",
    "    Returns:\n",
    "    - A list of color strings in RGB format.\n",
    "    \"\"\"\n",
    "    cmap = plt.get_cmap('Blues')\n",
    "    colors = [cmap(i) for i in np.linspace(0.3 if dark_start else 0, 1, n_steps)]  # Start from 0.3 to avoid too light colors\n",
    "    # Convert colors to RGB format for Plotly\n",
    "    plotly_colors = [\"rgb({},{},{})\".format(int(r*255), int(g*255), int(b*255)) for r, g, b, _ in colors]\n",
    "    return plotly_colors\n",
    "\n",
    "# # Example usage\n",
    "n_steps = 24  # Define the number of steps you want in your color scale\n",
    "custom_blue_scale = generate_custom_blue_scale(n_steps, dark_start=True)\n",
    "\n",
    "# Green Scale\n",
    "def generate_custom_green_scale(n_steps, dark_start=True):\n",
    "    \"\"\"\n",
    "    Generate a custom green color scale with n_steps.\n",
    "    \n",
    "    Args:\n",
    "    - n_steps: Number of steps in the color scale.\n",
    "    - dark_start: If True, start with a darker green; otherwise, start lighter.\n",
    "    \n",
    "    Returns:\n",
    "    - A list of color strings in RGB format.\n",
    "    \"\"\"\n",
    "    cmap = plt.get_cmap('Greens')\n",
    "    colors = [cmap(i) for i in np.linspace(0.3 if dark_start else 0, 1, n_steps)]  # Start from 0.3 to avoid too light colors\n",
    "    # Convert colors to RGB format for Plotly\n",
    "    plotly_colors = [\"rgb({},{},{})\".format(int(r*255), int(g*255), int(b*255)) for r, g, b, _ in colors]\n",
    "    return plotly_colors\n",
    "\n",
    "# Test the function\n",
    "generate_custom_green_scale(5)\n",
    "\n",
    "\n",
    "\n",
    "# # Using the custom color scale in Plotly\n",
    "# fig = go.Figure(data=go.Contour(\n",
    "#     z=[[10, 10.625, 12.5, 15.625, 20],\n",
    "#        [5.625, 6.25, 8.125, 11.25, 15.625],\n",
    "#        [2.5, 3.125, 5.0, 8.125, 12.5],\n",
    "#        [0.625, 1.25, 3.125, 6.25, 10.625],\n",
    "#        [0, 0.625, 2.5, 5.625, 10]],\n",
    "#     colorscale=custom_blue_scale,\n",
    "#     # other attributes here\n",
    "# ))\n",
    "\n",
    "# fig.show()"
   ]
  },
  {
   "cell_type": "markdown",
   "metadata": {},
   "source": [
    "## Data Cleaning and Preprocessing. Exploratory and Confirmatory Data Analysis"
   ]
  },
  {
   "cell_type": "markdown",
   "metadata": {},
   "source": [
    "### 1. Data Cleaning and Processing."
   ]
  },
  {
   "cell_type": "code",
   "execution_count": 456,
   "metadata": {},
   "outputs": [
    {
     "name": "stdout",
     "output_type": "stream",
     "text": [
      "<class 'pandas.core.frame.DataFrame'>\n",
      "RangeIndex: 366420 entries, 0 to 366419\n",
      "Data columns (total 17 columns):\n",
      " #   Column           Non-Null Count   Dtype         \n",
      "---  ------           --------------   -----         \n",
      " 0   TripID           366420 non-null  int64         \n",
      " 1   CarID            366420 non-null  object        \n",
      " 2   UserID           366420 non-null  int64         \n",
      " 3   LatitudeStart    366420 non-null  object        \n",
      " 4   LongitudeStart   366420 non-null  object        \n",
      " 5   LatitudeEnd      366420 non-null  object        \n",
      " 6   LongitudeEnd     366420 non-null  object        \n",
      " 7   ReservationTime  366420 non-null  datetime64[ns]\n",
      " 8   StartTime        366420 non-null  datetime64[ns]\n",
      " 9   EndTime          366420 non-null  datetime64[ns]\n",
      " 10  Age              366420 non-null  int64         \n",
      " 11  Gender           366420 non-null  object        \n",
      " 12  BatteryStart     366420 non-null  object        \n",
      " 13  BatteryEnd       366420 non-null  object        \n",
      " 14  KmDriven         366420 non-null  int64         \n",
      " 15  FromZoneID       366420 non-null  int64         \n",
      " 16  ToZoneID         366420 non-null  int64         \n",
      "dtypes: datetime64[ns](3), int64(6), object(8)\n",
      "memory usage: 47.5+ MB\n",
      "None\n"
     ]
    }
   ],
   "source": [
    "# Initialize ShareNow and GreenMobility datasets\n",
    "gm_original = pd.read_csv('../data/raw/GM_preparedData.csv')\n",
    "sn_original = pd.read_excel('../data/raw/DriveNow/DTU - data til case_LTMZones1.xlsx')\n",
    "\n",
    "#   ----------------------------------------------------------------------------\n",
    "#   SHARENOW PART\n",
    "#   ----------------------------------------------------------------------------\n",
    "\n",
    "# Rename ShareNow columns\n",
    "dict_sn_renamecols =    {'TurID':'TripID',\n",
    "                        'BilID':'CarID',\n",
    "                        'PersonID':'UserID',\n",
    "                        'Latitude (Start)':'LatitudeStart',\n",
    "                        'Longitude (Start)':'LongitudeStart',\n",
    "                        'Latitude (Slut)': \"LatitudeEnd\", \n",
    "                        'Longitude (Slut)':'LongitudeEnd',\n",
    "                        'Reservationstidspunkt': 'ReservationTime',\n",
    "                        'Start tidspunkt': 'StartTime',\n",
    "                        'Slut tidspunkt': 'EndTime',\n",
    "                        'Alder': 'Age',\n",
    "                        'Køn': 'Gender',\n",
    "                        'Batteristatus (start)': 'BatteryStart',\n",
    "                        'Batteristatus (slut)':'BatteryEnd',\n",
    "                        'Km kørt': 'KmDriven'}\n",
    "\n",
    "sn_processing = sn_original.rename(columns=dict_sn_renamecols)\n",
    "\n",
    "# Check the data types of the dimensions\n",
    "print(sn_processing.info())\n",
    "\n",
    "# Convert BatteryStart and BatteryEnd to Integer type\n",
    "sn_processing['BatteryStart'] = pd.to_numeric(sn_processing['BatteryStart'],errors='coerce')\n",
    "sn_processing['BatteryEnd'] = pd.to_numeric(sn_processing['BatteryEnd'],errors='coerce')\n",
    "\n",
    "# Convert location coordinates to floating type\n",
    "coordinates = [\n",
    "    'LatitudeEnd',\n",
    "    'LatitudeStart',\n",
    "    'LongitudeEnd',\n",
    "    'LongitudeStart'\n",
    "]\n",
    "\n",
    "for col in coordinates:\n",
    "    # sn_processing[col] = sn_processing[col].apply(lambda x: x.replace(',','.'))\n",
    "    sn_processing[col] = pd.to_numeric(sn_processing[col],errors='coerce')\n",
    "\n",
    "# Auxiliary columns\n",
    "sn_processing['TripDurationHours'] = (sn_processing['EndTime'] - sn_processing['StartTime']).dt.total_seconds()/3600\n",
    "sn_processing['TripDurationMinutes'] = sn_processing['TripDurationHours']*60  #   trip duration in min\n",
    "sn_processing['AvgSpeed'] = sn_processing['KmDriven']/sn_processing['TripDurationHours'] #   avg speed\n",
    "sn_processing['Month'] = sn_processing['StartTime'].dt.strftime(\"%B\").astype('category')  #   month\n",
    "sn_processing['Weekday'] = sn_processing['StartTime'].dt.day_name().astype('category')    #   day of the week\n",
    "sn_processing['StartHour'] = sn_processing['StartTime'].dt.hour.astype('category')    #   hour of the day\n",
    "sn_processing['Date'] = sn_processing['StartTime'].dt.date  #   date\n",
    "\n",
    "sn_processing['HaversineDistance'] = hsd(sn_processing['LatitudeStart'], sn_processing['LongitudeStart'],sn_processing['LatitudeEnd'], sn_processing['LongitudeEnd'])\n",
    "\n",
    "# Custom cut for age interval\n",
    "dfbrackets = pd.DataFrame({\n",
    "    'ranges': [range(18, 30), range(30, 40), range(40, 50), range(50, 60), range(60, 91)],\n",
    "    'brackets': ['18-29', '30-39', '40-49', '50-59', '60-90']\n",
    "}).explode('ranges')\n",
    "\n",
    "dfbrackets['ranges'] = dfbrackets['ranges'].astype(int)\n",
    "\n",
    "def get_bracket(age):\n",
    "    bracket = dfbrackets.loc[dfbrackets['ranges'] == age, 'brackets']\n",
    "    return bracket.iloc[0] if not bracket.empty else None\n",
    "\n",
    "sn_processing['AgeBracket'] = sn_processing['Age'].apply(get_bracket)\n",
    "\n",
    "#   ----------------------------------------------------------------------------\n",
    "#   GREENMOBILITY PART\n",
    "#   ----------------------------------------------------------------------------\n",
    "\n",
    "# Rename GreenMobility columns\n",
    "dict_gm_renamecols = {'id':'TripID',\n",
    "                        'vehicleId':'CarID',\n",
    "                        'id2':'UserID',\n",
    "                        'startPositionLat':'LatitudeStart',\n",
    "                        'startPositionLng':'LongitudeStart',\n",
    "                        'endPositionLat':'LatitudeEnd',\n",
    "                        'endPositionLng':'LongitudeEnd',\n",
    "                        'tripStart':'StartTime',\n",
    "                        'tripEnd':'EndTime',\n",
    "                        'birthday':'Age',\n",
    "                        'key':'Gender',\n",
    "                        'DriveLength':'KmDriven'\n",
    "                      }\n",
    "\n",
    "# List the columns to be kept for GreenMobility\n",
    "gmkeepcols_list = ['TripID','CarID',\n",
    "                   'UserID','LatitudeStart',\n",
    "                   'LongitudeStart','LatitudeEnd',\n",
    "                   'LongitudeEnd','StartTime',\n",
    "                   'EndTime','Age','Gender','KmDriven',\n",
    "                   'FromZoneID','ToZoneID']\n",
    "\n",
    "gm_processing = gm_original.rename(columns=dict_gm_renamecols)\n",
    "gm_processing = gm_processing[gmkeepcols_list]\n",
    "\n",
    "# Convert StartTime and EndTime to Datetime\n",
    "gm_processing['StartTime'] = pd.to_datetime(gm_processing['StartTime'], errors='coerce', format='%d%b%y:%H:%M:%S')\n",
    "gm_processing['EndTime'] = pd.to_datetime(gm_processing['EndTime'], errors='coerce' , format='%d%b%y:%H:%M:%S')\n",
    "\n",
    "gm_processing['TripDurationHours'] = (gm_processing['EndTime'] - gm_processing['StartTime']).dt.total_seconds()/3600\n",
    "gm_processing['TripDurationMinutes'] = gm_processing['TripDurationHours']*60  #   trip duration in min\n",
    "gm_processing['AvgSpeed'] = gm_processing['KmDriven']/gm_processing['TripDurationHours'] #   avg speed\n",
    "gm_processing['Month'] = gm_processing['StartTime'].dt.strftime(\"%B\").astype('category')  #   month\n",
    "gm_processing['Weekday'] = gm_processing['StartTime'].dt.day_name().astype('category')    #   day of the week\n",
    "gm_processing['StartHour'] = gm_processing['StartTime'].dt.hour.astype('category')    #   hour of the day\n",
    "gm_processing['Date'] = gm_processing['StartTime'].dt.date  #   date\n",
    "gm_processing['AgeBracket'] = gm_processing['Age'].apply(get_bracket)   #   age bracket"
   ]
  },
  {
   "cell_type": "markdown",
   "metadata": {},
   "source": [
    "### 1.1 Data cleaning and processing : SHARE NOW"
   ]
  },
  {
   "cell_type": "code",
   "execution_count": 457,
   "metadata": {},
   "outputs": [
    {
     "data": {
      "text/html": [
       "<p style=\"font-size:20px; font-family:Consolas;\">Descriptive statistics for Share Now</p>"
      ],
      "text/plain": [
       "<IPython.core.display.HTML object>"
      ]
     },
     "metadata": {},
     "output_type": "display_data"
    },
    {
     "data": {
      "text/html": [
       "<style type=\"text/css\">\n",
       "</style>\n",
       "<table id=\"T_5701e\">\n",
       "  <thead>\n",
       "    <tr>\n",
       "      <th class=\"blank level0\" >&nbsp;</th>\n",
       "      <th id=\"T_5701e_level0_col0\" class=\"col_heading level0 col0\" >mean</th>\n",
       "      <th id=\"T_5701e_level0_col1\" class=\"col_heading level0 col1\" >st deviation</th>\n",
       "      <th id=\"T_5701e_level0_col2\" class=\"col_heading level0 col2\" >min</th>\n",
       "      <th id=\"T_5701e_level0_col3\" class=\"col_heading level0 col3\" >25%</th>\n",
       "      <th id=\"T_5701e_level0_col4\" class=\"col_heading level0 col4\" >median</th>\n",
       "      <th id=\"T_5701e_level0_col5\" class=\"col_heading level0 col5\" >75%</th>\n",
       "      <th id=\"T_5701e_level0_col6\" class=\"col_heading level0 col6\" >max</th>\n",
       "    </tr>\n",
       "  </thead>\n",
       "  <tbody>\n",
       "    <tr>\n",
       "      <th id=\"T_5701e_level0_row0\" class=\"row_heading level0 row0\" >Age</th>\n",
       "      <td id=\"T_5701e_row0_col0\" class=\"data row0 col0\" >33.13</td>\n",
       "      <td id=\"T_5701e_row0_col1\" class=\"data row0 col1\" >9.61</td>\n",
       "      <td id=\"T_5701e_row0_col2\" class=\"data row0 col2\" >18.00</td>\n",
       "      <td id=\"T_5701e_row0_col3\" class=\"data row0 col3\" >26.00</td>\n",
       "      <td id=\"T_5701e_row0_col4\" class=\"data row0 col4\" >31.00</td>\n",
       "      <td id=\"T_5701e_row0_col5\" class=\"data row0 col5\" >39.00</td>\n",
       "      <td id=\"T_5701e_row0_col6\" class=\"data row0 col6\" >89.00</td>\n",
       "    </tr>\n",
       "    <tr>\n",
       "      <th id=\"T_5701e_level0_row1\" class=\"row_heading level0 row1\" >BatteryStart</th>\n",
       "      <td id=\"T_5701e_row1_col0\" class=\"data row1 col0\" >59.66</td>\n",
       "      <td id=\"T_5701e_row1_col1\" class=\"data row1 col1\" >23.70</td>\n",
       "      <td id=\"T_5701e_row1_col2\" class=\"data row1 col2\" >-1.00</td>\n",
       "      <td id=\"T_5701e_row1_col3\" class=\"data row1 col3\" >41.00</td>\n",
       "      <td id=\"T_5701e_row1_col4\" class=\"data row1 col4\" >59.00</td>\n",
       "      <td id=\"T_5701e_row1_col5\" class=\"data row1 col5\" >78.00</td>\n",
       "      <td id=\"T_5701e_row1_col6\" class=\"data row1 col6\" >100.00</td>\n",
       "    </tr>\n",
       "    <tr>\n",
       "      <th id=\"T_5701e_level0_row2\" class=\"row_heading level0 row2\" >BatteryEnd</th>\n",
       "      <td id=\"T_5701e_row2_col0\" class=\"data row2 col0\" >50.47</td>\n",
       "      <td id=\"T_5701e_row2_col1\" class=\"data row2 col1\" >24.30</td>\n",
       "      <td id=\"T_5701e_row2_col2\" class=\"data row2 col2\" >-1.00</td>\n",
       "      <td id=\"T_5701e_row2_col3\" class=\"data row2 col3\" >32.00</td>\n",
       "      <td id=\"T_5701e_row2_col4\" class=\"data row2 col4\" >50.00</td>\n",
       "      <td id=\"T_5701e_row2_col5\" class=\"data row2 col5\" >69.00</td>\n",
       "      <td id=\"T_5701e_row2_col6\" class=\"data row2 col6\" >100.00</td>\n",
       "    </tr>\n",
       "    <tr>\n",
       "      <th id=\"T_5701e_level0_row3\" class=\"row_heading level0 row3\" >KmDriven</th>\n",
       "      <td id=\"T_5701e_row3_col0\" class=\"data row3 col0\" >7.83</td>\n",
       "      <td id=\"T_5701e_row3_col1\" class=\"data row3 col1\" >98.39</td>\n",
       "      <td id=\"T_5701e_row3_col2\" class=\"data row3 col2\" >-19183.00</td>\n",
       "      <td id=\"T_5701e_row3_col3\" class=\"data row3 col3\" >4.00</td>\n",
       "      <td id=\"T_5701e_row3_col4\" class=\"data row3 col4\" >6.00</td>\n",
       "      <td id=\"T_5701e_row3_col5\" class=\"data row3 col5\" >10.00</td>\n",
       "      <td id=\"T_5701e_row3_col6\" class=\"data row3 col6\" >17771.00</td>\n",
       "    </tr>\n",
       "    <tr>\n",
       "      <th id=\"T_5701e_level0_row4\" class=\"row_heading level0 row4\" >TripDurationHours</th>\n",
       "      <td id=\"T_5701e_row4_col0\" class=\"data row4 col0\" >0.58</td>\n",
       "      <td id=\"T_5701e_row4_col1\" class=\"data row4 col1\" >1.09</td>\n",
       "      <td id=\"T_5701e_row4_col2\" class=\"data row4 col2\" >-0.59</td>\n",
       "      <td id=\"T_5701e_row4_col3\" class=\"data row4 col3\" >0.29</td>\n",
       "      <td id=\"T_5701e_row4_col4\" class=\"data row4 col4\" >0.41</td>\n",
       "      <td id=\"T_5701e_row4_col5\" class=\"data row4 col5\" >0.57</td>\n",
       "      <td id=\"T_5701e_row4_col6\" class=\"data row4 col6\" >152.69</td>\n",
       "    </tr>\n",
       "    <tr>\n",
       "      <th id=\"T_5701e_level0_row5\" class=\"row_heading level0 row5\" >TripDurationMinutes</th>\n",
       "      <td id=\"T_5701e_row5_col0\" class=\"data row5 col0\" >34.83</td>\n",
       "      <td id=\"T_5701e_row5_col1\" class=\"data row5 col1\" >65.41</td>\n",
       "      <td id=\"T_5701e_row5_col2\" class=\"data row5 col2\" >-35.32</td>\n",
       "      <td id=\"T_5701e_row5_col3\" class=\"data row5 col3\" >17.23</td>\n",
       "      <td id=\"T_5701e_row5_col4\" class=\"data row5 col4\" >24.38</td>\n",
       "      <td id=\"T_5701e_row5_col5\" class=\"data row5 col5\" >34.10</td>\n",
       "      <td id=\"T_5701e_row5_col6\" class=\"data row5 col6\" >9161.22</td>\n",
       "    </tr>\n",
       "    <tr>\n",
       "      <th id=\"T_5701e_level0_row6\" class=\"row_heading level0 row6\" >AvgSpeed</th>\n",
       "      <td id=\"T_5701e_row6_col0\" class=\"data row6 col0\" >15.86</td>\n",
       "      <td id=\"T_5701e_row6_col1\" class=\"data row6 col1\" >117.64</td>\n",
       "      <td id=\"T_5701e_row6_col2\" class=\"data row6 col2\" >-25250.42</td>\n",
       "      <td id=\"T_5701e_row6_col3\" class=\"data row6 col3\" >10.13</td>\n",
       "      <td id=\"T_5701e_row6_col4\" class=\"data row6 col4\" >14.36</td>\n",
       "      <td id=\"T_5701e_row6_col5\" class=\"data row6 col5\" >19.78</td>\n",
       "      <td id=\"T_5701e_row6_col6\" class=\"data row6 col6\" >38820.15</td>\n",
       "    </tr>\n",
       "  </tbody>\n",
       "</table>\n"
      ],
      "text/plain": [
       "<pandas.io.formats.style.Styler at 0x16245d710>"
      ]
     },
     "execution_count": 457,
     "metadata": {},
     "output_type": "execute_result"
    }
   ],
   "source": [
    "# Summary statics on numerical variables for SN\n",
    "describecols = ['Age','BatteryStart','BatteryEnd','KmDriven','TripDurationHours','TripDurationMinutes','AvgSpeed']\n",
    "sn_summary = sn_processing[describecols].describe().T\n",
    "\n",
    "sn_summary.rename(columns={'std':'st deviation','50%':'median'}, inplace = True)\n",
    "sn_summary.drop(columns='count', inplace=True)\n",
    "\n",
    "display(HTML('<p style=\"font-size:20px; font-family:Consolas;\">Descriptive statistics for Share Now</p>'))\n",
    "sn_summary.style.format(\"{:.2f}\")"
   ]
  },
  {
   "cell_type": "markdown",
   "metadata": {},
   "source": [
    "##### Dropping unfeasible records for KmDriven, TripDurationMinutes, and Battery Levels"
   ]
  },
  {
   "cell_type": "code",
   "execution_count": 458,
   "metadata": {},
   "outputs": [],
   "source": [
    "# 1. Drop records with negative KmDriven and those exceeding 350km\n",
    "sn_processing = sn_processing[(sn_processing['KmDriven']>0)&(sn_processing['KmDriven']<350)]\n",
    "\n",
    "# 2. Drop records with negative trip duration\n",
    "sn_processing = sn_processing[sn_processing['TripDurationMinutes']>=0]\n",
    "\n",
    "# 3. Drop records where BatteryStart is greater than BatteryEnd and negative values\n",
    "sn_processing = sn_processing[(sn_processing['BatteryStart']>=sn_processing['BatteryEnd']) & (sn_processing['BatteryStart']>=0) & (sn_processing['BatteryEnd']>0)]\n",
    "\n",
    "# 4. Drop records where AvgSpeed exceeds 100 km/h\n",
    "sn_processing = sn_processing[sn_processing['AvgSpeed']<100]\n",
    "\n",
    "# 5. Drop records where TripDurationHours is greater than 5\n",
    "sn_processing = sn_processing[sn_processing['TripDurationHours']<6]"
   ]
  },
  {
   "cell_type": "code",
   "execution_count": 459,
   "metadata": {},
   "outputs": [
    {
     "data": {
      "text/html": [
       "<style type=\"text/css\">\n",
       "</style>\n",
       "<table id=\"T_95e95\">\n",
       "  <thead>\n",
       "    <tr>\n",
       "      <th class=\"blank level0\" >&nbsp;</th>\n",
       "      <th id=\"T_95e95_level0_col0\" class=\"col_heading level0 col0\" >count</th>\n",
       "      <th id=\"T_95e95_level0_col1\" class=\"col_heading level0 col1\" >mean</th>\n",
       "      <th id=\"T_95e95_level0_col2\" class=\"col_heading level0 col2\" >std</th>\n",
       "      <th id=\"T_95e95_level0_col3\" class=\"col_heading level0 col3\" >min</th>\n",
       "      <th id=\"T_95e95_level0_col4\" class=\"col_heading level0 col4\" >25%</th>\n",
       "      <th id=\"T_95e95_level0_col5\" class=\"col_heading level0 col5\" >50%</th>\n",
       "      <th id=\"T_95e95_level0_col6\" class=\"col_heading level0 col6\" >75%</th>\n",
       "      <th id=\"T_95e95_level0_col7\" class=\"col_heading level0 col7\" >max</th>\n",
       "    </tr>\n",
       "  </thead>\n",
       "  <tbody>\n",
       "    <tr>\n",
       "      <th id=\"T_95e95_level0_row0\" class=\"row_heading level0 row0\" >Age</th>\n",
       "      <td id=\"T_95e95_row0_col0\" class=\"data row0 col0\" >274851.00</td>\n",
       "      <td id=\"T_95e95_row0_col1\" class=\"data row0 col1\" >33.09</td>\n",
       "      <td id=\"T_95e95_row0_col2\" class=\"data row0 col2\" >9.50</td>\n",
       "      <td id=\"T_95e95_row0_col3\" class=\"data row0 col3\" >18.00</td>\n",
       "      <td id=\"T_95e95_row0_col4\" class=\"data row0 col4\" >26.00</td>\n",
       "      <td id=\"T_95e95_row0_col5\" class=\"data row0 col5\" >31.00</td>\n",
       "      <td id=\"T_95e95_row0_col6\" class=\"data row0 col6\" >39.00</td>\n",
       "      <td id=\"T_95e95_row0_col7\" class=\"data row0 col7\" >89.00</td>\n",
       "    </tr>\n",
       "    <tr>\n",
       "      <th id=\"T_95e95_level0_row1\" class=\"row_heading level0 row1\" >BatteryStart</th>\n",
       "      <td id=\"T_95e95_row1_col0\" class=\"data row1 col0\" >274851.00</td>\n",
       "      <td id=\"T_95e95_row1_col1\" class=\"data row1 col1\" >60.73</td>\n",
       "      <td id=\"T_95e95_row1_col2\" class=\"data row1 col2\" >22.89</td>\n",
       "      <td id=\"T_95e95_row1_col3\" class=\"data row1 col3\" >6.00</td>\n",
       "      <td id=\"T_95e95_row1_col4\" class=\"data row1 col4\" >43.00</td>\n",
       "      <td id=\"T_95e95_row1_col5\" class=\"data row1 col5\" >60.00</td>\n",
       "      <td id=\"T_95e95_row1_col6\" class=\"data row1 col6\" >79.00</td>\n",
       "      <td id=\"T_95e95_row1_col7\" class=\"data row1 col7\" >100.00</td>\n",
       "    </tr>\n",
       "    <tr>\n",
       "      <th id=\"T_95e95_level0_row2\" class=\"row_heading level0 row2\" >BatteryEnd</th>\n",
       "      <td id=\"T_95e95_row2_col0\" class=\"data row2 col0\" >274851.00</td>\n",
       "      <td id=\"T_95e95_row2_col1\" class=\"data row2 col1\" >49.68</td>\n",
       "      <td id=\"T_95e95_row2_col2\" class=\"data row2 col2\" >23.80</td>\n",
       "      <td id=\"T_95e95_row2_col3\" class=\"data row2 col3\" >1.00</td>\n",
       "      <td id=\"T_95e95_row2_col4\" class=\"data row2 col4\" >31.00</td>\n",
       "      <td id=\"T_95e95_row2_col5\" class=\"data row2 col5\" >49.00</td>\n",
       "      <td id=\"T_95e95_row2_col6\" class=\"data row2 col6\" >68.00</td>\n",
       "      <td id=\"T_95e95_row2_col7\" class=\"data row2 col7\" >100.00</td>\n",
       "    </tr>\n",
       "    <tr>\n",
       "      <th id=\"T_95e95_level0_row3\" class=\"row_heading level0 row3\" >KmDriven</th>\n",
       "      <td id=\"T_95e95_row3_col0\" class=\"data row3 col0\" >274851.00</td>\n",
       "      <td id=\"T_95e95_row3_col1\" class=\"data row3 col1\" >9.78</td>\n",
       "      <td id=\"T_95e95_row3_col2\" class=\"data row3 col2\" >8.69</td>\n",
       "      <td id=\"T_95e95_row3_col3\" class=\"data row3 col3\" >4.00</td>\n",
       "      <td id=\"T_95e95_row3_col4\" class=\"data row3 col4\" >5.00</td>\n",
       "      <td id=\"T_95e95_row3_col5\" class=\"data row3 col5\" >7.00</td>\n",
       "      <td id=\"T_95e95_row3_col6\" class=\"data row3 col6\" >11.00</td>\n",
       "      <td id=\"T_95e95_row3_col7\" class=\"data row3 col7\" >236.00</td>\n",
       "    </tr>\n",
       "    <tr>\n",
       "      <th id=\"T_95e95_level0_row4\" class=\"row_heading level0 row4\" >TripDurationHours</th>\n",
       "      <td id=\"T_95e95_row4_col0\" class=\"data row4 col0\" >274851.00</td>\n",
       "      <td id=\"T_95e95_row4_col1\" class=\"data row4 col1\" >0.60</td>\n",
       "      <td id=\"T_95e95_row4_col2\" class=\"data row4 col2\" >0.57</td>\n",
       "      <td id=\"T_95e95_row4_col3\" class=\"data row4 col3\" >0.07</td>\n",
       "      <td id=\"T_95e95_row4_col4\" class=\"data row4 col4\" >0.35</td>\n",
       "      <td id=\"T_95e95_row4_col5\" class=\"data row4 col5\" >0.46</td>\n",
       "      <td id=\"T_95e95_row4_col6\" class=\"data row4 col6\" >0.62</td>\n",
       "      <td id=\"T_95e95_row4_col7\" class=\"data row4 col7\" >6.00</td>\n",
       "    </tr>\n",
       "    <tr>\n",
       "      <th id=\"T_95e95_level0_row5\" class=\"row_heading level0 row5\" >TripDurationMinutes</th>\n",
       "      <td id=\"T_95e95_row5_col0\" class=\"data row5 col0\" >274851.00</td>\n",
       "      <td id=\"T_95e95_row5_col1\" class=\"data row5 col1\" >35.93</td>\n",
       "      <td id=\"T_95e95_row5_col2\" class=\"data row5 col2\" >34.39</td>\n",
       "      <td id=\"T_95e95_row5_col3\" class=\"data row5 col3\" >4.38</td>\n",
       "      <td id=\"T_95e95_row5_col4\" class=\"data row5 col4\" >20.95</td>\n",
       "      <td id=\"T_95e95_row5_col5\" class=\"data row5 col5\" >27.55</td>\n",
       "      <td id=\"T_95e95_row5_col6\" class=\"data row5 col6\" >37.18</td>\n",
       "      <td id=\"T_95e95_row5_col7\" class=\"data row5 col7\" >359.98</td>\n",
       "    </tr>\n",
       "    <tr>\n",
       "      <th id=\"T_95e95_level0_row6\" class=\"row_heading level0 row6\" >AvgSpeed</th>\n",
       "      <td id=\"T_95e95_row6_col0\" class=\"data row6 col0\" >274851.00</td>\n",
       "      <td id=\"T_95e95_row6_col1\" class=\"data row6 col1\" >18.07</td>\n",
       "      <td id=\"T_95e95_row6_col2\" class=\"data row6 col2\" >8.88</td>\n",
       "      <td id=\"T_95e95_row6_col3\" class=\"data row6 col3\" >0.68</td>\n",
       "      <td id=\"T_95e95_row6_col4\" class=\"data row6 col4\" >12.25</td>\n",
       "      <td id=\"T_95e95_row6_col5\" class=\"data row6 col5\" >16.20</td>\n",
       "      <td id=\"T_95e95_row6_col6\" class=\"data row6 col6\" >21.65</td>\n",
       "      <td id=\"T_95e95_row6_col7\" class=\"data row6 col7\" >98.96</td>\n",
       "    </tr>\n",
       "  </tbody>\n",
       "</table>\n"
      ],
      "text/plain": [
       "<pandas.io.formats.style.Styler at 0x161a38550>"
      ]
     },
     "execution_count": 459,
     "metadata": {},
     "output_type": "execute_result"
    }
   ],
   "source": [
    "sn_processing[sn_processing['KmDriven']>3][describecols].describe().T.style.format(\"{:.2f}\")"
   ]
  },
  {
   "cell_type": "code",
   "execution_count": 460,
   "metadata": {},
   "outputs": [
    {
     "data": {
      "text/html": [
       "<style type=\"text/css\">\n",
       "</style>\n",
       "<table id=\"T_07d9d\">\n",
       "  <thead>\n",
       "    <tr>\n",
       "      <th class=\"blank level0\" >&nbsp;</th>\n",
       "      <th id=\"T_07d9d_level0_col0\" class=\"col_heading level0 col0\" >count</th>\n",
       "      <th id=\"T_07d9d_level0_col1\" class=\"col_heading level0 col1\" >mean</th>\n",
       "      <th id=\"T_07d9d_level0_col2\" class=\"col_heading level0 col2\" >std</th>\n",
       "      <th id=\"T_07d9d_level0_col3\" class=\"col_heading level0 col3\" >min</th>\n",
       "      <th id=\"T_07d9d_level0_col4\" class=\"col_heading level0 col4\" >25%</th>\n",
       "      <th id=\"T_07d9d_level0_col5\" class=\"col_heading level0 col5\" >50%</th>\n",
       "      <th id=\"T_07d9d_level0_col6\" class=\"col_heading level0 col6\" >75%</th>\n",
       "      <th id=\"T_07d9d_level0_col7\" class=\"col_heading level0 col7\" >max</th>\n",
       "    </tr>\n",
       "  </thead>\n",
       "  <tbody>\n",
       "    <tr>\n",
       "      <th id=\"T_07d9d_level0_row0\" class=\"row_heading level0 row0\" >Age</th>\n",
       "      <td id=\"T_07d9d_row0_col0\" class=\"data row0 col0\" >299755.00</td>\n",
       "      <td id=\"T_07d9d_row0_col1\" class=\"data row0 col1\" >32.86</td>\n",
       "      <td id=\"T_07d9d_row0_col2\" class=\"data row0 col2\" >9.47</td>\n",
       "      <td id=\"T_07d9d_row0_col3\" class=\"data row0 col3\" >18.00</td>\n",
       "      <td id=\"T_07d9d_row0_col4\" class=\"data row0 col4\" >26.00</td>\n",
       "      <td id=\"T_07d9d_row0_col5\" class=\"data row0 col5\" >30.00</td>\n",
       "      <td id=\"T_07d9d_row0_col6\" class=\"data row0 col6\" >39.00</td>\n",
       "      <td id=\"T_07d9d_row0_col7\" class=\"data row0 col7\" >89.00</td>\n",
       "    </tr>\n",
       "    <tr>\n",
       "      <th id=\"T_07d9d_level0_row1\" class=\"row_heading level0 row1\" >BatteryStart</th>\n",
       "      <td id=\"T_07d9d_row1_col0\" class=\"data row1 col0\" >299755.00</td>\n",
       "      <td id=\"T_07d9d_row1_col1\" class=\"data row1 col1\" >59.37</td>\n",
       "      <td id=\"T_07d9d_row1_col2\" class=\"data row1 col2\" >22.94</td>\n",
       "      <td id=\"T_07d9d_row1_col3\" class=\"data row1 col3\" >3.00</td>\n",
       "      <td id=\"T_07d9d_row1_col4\" class=\"data row1 col4\" >41.00</td>\n",
       "      <td id=\"T_07d9d_row1_col5\" class=\"data row1 col5\" >58.00</td>\n",
       "      <td id=\"T_07d9d_row1_col6\" class=\"data row1 col6\" >77.00</td>\n",
       "      <td id=\"T_07d9d_row1_col7\" class=\"data row1 col7\" >100.00</td>\n",
       "    </tr>\n",
       "    <tr>\n",
       "      <th id=\"T_07d9d_level0_row2\" class=\"row_heading level0 row2\" >BatteryEnd</th>\n",
       "      <td id=\"T_07d9d_row2_col0\" class=\"data row2 col0\" >299755.00</td>\n",
       "      <td id=\"T_07d9d_row2_col1\" class=\"data row2 col1\" >51.69</td>\n",
       "      <td id=\"T_07d9d_row2_col2\" class=\"data row2 col2\" >23.72</td>\n",
       "      <td id=\"T_07d9d_row2_col3\" class=\"data row2 col3\" >1.00</td>\n",
       "      <td id=\"T_07d9d_row2_col4\" class=\"data row2 col4\" >33.00</td>\n",
       "      <td id=\"T_07d9d_row2_col5\" class=\"data row2 col5\" >51.00</td>\n",
       "      <td id=\"T_07d9d_row2_col6\" class=\"data row2 col6\" >70.00</td>\n",
       "      <td id=\"T_07d9d_row2_col7\" class=\"data row2 col7\" >100.00</td>\n",
       "    </tr>\n",
       "    <tr>\n",
       "      <th id=\"T_07d9d_level0_row3\" class=\"row_heading level0 row3\" >KmDriven</th>\n",
       "      <td id=\"T_07d9d_row3_col0\" class=\"data row3 col0\" >299755.00</td>\n",
       "      <td id=\"T_07d9d_row3_col1\" class=\"data row3 col1\" >6.36</td>\n",
       "      <td id=\"T_07d9d_row3_col2\" class=\"data row3 col2\" >4.45</td>\n",
       "      <td id=\"T_07d9d_row3_col3\" class=\"data row3 col3\" >1.00</td>\n",
       "      <td id=\"T_07d9d_row3_col4\" class=\"data row3 col4\" >3.00</td>\n",
       "      <td id=\"T_07d9d_row3_col5\" class=\"data row3 col5\" >5.00</td>\n",
       "      <td id=\"T_07d9d_row3_col6\" class=\"data row3 col6\" >8.00</td>\n",
       "      <td id=\"T_07d9d_row3_col7\" class=\"data row3 col7\" >50.00</td>\n",
       "    </tr>\n",
       "    <tr>\n",
       "      <th id=\"T_07d9d_level0_row4\" class=\"row_heading level0 row4\" >TripDurationHours</th>\n",
       "      <td id=\"T_07d9d_row4_col0\" class=\"data row4 col0\" >299755.00</td>\n",
       "      <td id=\"T_07d9d_row4_col1\" class=\"data row4 col1\" >0.38</td>\n",
       "      <td id=\"T_07d9d_row4_col2\" class=\"data row4 col2\" >0.14</td>\n",
       "      <td id=\"T_07d9d_row4_col3\" class=\"data row4 col3\" >0.02</td>\n",
       "      <td id=\"T_07d9d_row4_col4\" class=\"data row4 col4\" >0.28</td>\n",
       "      <td id=\"T_07d9d_row4_col5\" class=\"data row4 col5\" >0.37</td>\n",
       "      <td id=\"T_07d9d_row4_col6\" class=\"data row4 col6\" >0.48</td>\n",
       "      <td id=\"T_07d9d_row4_col7\" class=\"data row4 col7\" >0.69</td>\n",
       "    </tr>\n",
       "    <tr>\n",
       "      <th id=\"T_07d9d_level0_row5\" class=\"row_heading level0 row5\" >TripDurationMinutes</th>\n",
       "      <td id=\"T_07d9d_row5_col0\" class=\"data row5 col0\" >299755.00</td>\n",
       "      <td id=\"T_07d9d_row5_col1\" class=\"data row5 col1\" >22.86</td>\n",
       "      <td id=\"T_07d9d_row5_col2\" class=\"data row5 col2\" >8.53</td>\n",
       "      <td id=\"T_07d9d_row5_col3\" class=\"data row5 col3\" >1.27</td>\n",
       "      <td id=\"T_07d9d_row5_col4\" class=\"data row5 col4\" >16.50</td>\n",
       "      <td id=\"T_07d9d_row5_col5\" class=\"data row5 col5\" >22.47</td>\n",
       "      <td id=\"T_07d9d_row5_col6\" class=\"data row5 col6\" >29.03</td>\n",
       "      <td id=\"T_07d9d_row5_col7\" class=\"data row5 col7\" >41.63</td>\n",
       "    </tr>\n",
       "    <tr>\n",
       "      <th id=\"T_07d9d_level0_row6\" class=\"row_heading level0 row6\" >AvgSpeed</th>\n",
       "      <td id=\"T_07d9d_row6_col0\" class=\"data row6 col0\" >299755.00</td>\n",
       "      <td id=\"T_07d9d_row6_col1\" class=\"data row6 col1\" >16.58</td>\n",
       "      <td id=\"T_07d9d_row6_col2\" class=\"data row6 col2\" >8.70</td>\n",
       "      <td id=\"T_07d9d_row6_col3\" class=\"data row6 col3\" >1.44</td>\n",
       "      <td id=\"T_07d9d_row6_col4\" class=\"data row6 col4\" >10.85</td>\n",
       "      <td id=\"T_07d9d_row6_col5\" class=\"data row6 col5\" >14.85</td>\n",
       "      <td id=\"T_07d9d_row6_col6\" class=\"data row6 col6\" >20.17</td>\n",
       "      <td id=\"T_07d9d_row6_col7\" class=\"data row6 col7\" >98.96</td>\n",
       "    </tr>\n",
       "  </tbody>\n",
       "</table>\n"
      ],
      "text/plain": [
       "<pandas.io.formats.style.Styler at 0x158547890>"
      ]
     },
     "execution_count": 460,
     "metadata": {},
     "output_type": "execute_result"
    }
   ],
   "source": [
    "# Check 85% quantile on TripDurationMinutes\n",
    "sn_processing[(sn_processing['TripDurationMinutes']<sn_processing['TripDurationMinutes'].quantile(0.85))][describecols].describe().T.style.format(\"{:.2f}\")"
   ]
  },
  {
   "cell_type": "markdown",
   "metadata": {},
   "source": [
    "#### Population insights\n",
    "\n",
    "We can see that most of the SN trips are made by people younger than 30 years, however, they tend to drive shorter distances, while doing it faster on average."
   ]
  },
  {
   "cell_type": "code",
   "execution_count": 461,
   "metadata": {},
   "outputs": [
    {
     "data": {
      "application/vnd.plotly.v1+json": {
       "config": {
        "plotlyServerURL": "https://plot.ly"
       },
       "data": [
        {
         "alignmentgroup": "True",
         "hovertemplate": "Age group=%{x}<br>Number of trips=%{y}<br>Km=%{marker.color}<extra></extra>",
         "legendgroup": "",
         "marker": {
          "color": [
           8.838770556159824,
           8.799853727376673,
           9.229062816150096,
           9.882645611378509,
           9.961272891023716
          ],
          "coloraxis": "coloraxis",
          "pattern": {
           "shape": ""
          }
         },
         "name": "",
         "offsetgroup": "",
         "orientation": "v",
         "showlegend": false,
         "textposition": "auto",
         "type": "bar",
         "x": [
          "18-29",
          "30-39",
          "40-49",
          "50-59",
          "60-90"
         ],
         "xaxis": "x",
         "y": [
          138827,
          97079,
          54365,
          18491,
          3331
         ],
         "yaxis": "y"
        }
       ],
       "layout": {
        "barmode": "relative",
        "coloraxis": {
         "colorbar": {
          "title": {
           "text": "Km"
          }
         },
         "colorscale": [
          [
           0,
           "rgb(182,212,233)"
          ],
          [
           0.25,
           "rgb(117,179,216)"
          ],
          [
           0.5,
           "rgb(59,139,194)"
          ],
          [
           0.75,
           "rgb(17,93,165)"
          ],
          [
           1,
           "rgb(8,48,107)"
          ]
         ]
        },
        "font": {
         "family": "Aptos",
         "size": 18
        },
        "height": 600,
        "legend": {
         "tracegroupgap": 0
        },
        "margin": {
         "t": 60
        },
        "template": {},
        "width": 500,
        "xaxis": {
         "anchor": "y",
         "domain": [
          0,
          1
         ],
         "showgrid": false,
         "title": {
          "text": "Age group"
         }
        },
        "yaxis": {
         "anchor": "x",
         "domain": [
          0,
          1
         ],
         "title": {
          "text": "Number of trips"
         }
        }
       }
      }
     },
     "metadata": {},
     "output_type": "display_data"
    }
   ],
   "source": [
    "n_steps = 5  # Define the number of steps you want in your color scale\n",
    "custom_blue_scale = generate_custom_blue_scale(n_steps, dark_start=True)\n",
    "\n",
    "agg_df = sn_processing[sn_processing['KmDriven']>=3].groupby('AgeBracket')['KmDriven'].agg(['mean','count']).reset_index()\n",
    "fig = px.bar(agg_df, x='AgeBracket', y='count', color='mean',\n",
    "             color_continuous_scale=custom_blue_scale,\n",
    "             labels={'mean': 'Km', 'count': 'Number of trips', 'AgeBracket':'Age group'})\n",
    "\n",
    "fig.update_layout(width=500,height=600, template=None, font=dict(family='Aptos',size=18))\n",
    "fig.update_traces()\n",
    "# fig.update_yaxes(showgrid=False)\n",
    "fig.update_xaxes(showgrid=False)\n",
    "fig.show()\n"
   ]
  },
  {
   "cell_type": "code",
   "execution_count": 462,
   "metadata": {},
   "outputs": [
    {
     "data": {
      "application/vnd.plotly.v1+json": {
       "config": {
        "plotlyServerURL": "https://plot.ly"
       },
       "data": [
        {
         "alignmentgroup": "True",
         "hovertemplate": "Age group=%{x}<br>Number of trips=%{y}<br>Km/h=%{marker.color}<extra></extra>",
         "legendgroup": "",
         "marker": {
          "color": [
           17.938016974556277,
           16.88987657199793,
           16.44666641636079,
           16.84018663626375,
           17.340981142176965
          ],
          "coloraxis": "coloraxis",
          "pattern": {
           "shape": ""
          }
         },
         "name": "",
         "offsetgroup": "",
         "orientation": "v",
         "showlegend": false,
         "textposition": "auto",
         "type": "bar",
         "x": [
          "18-29",
          "30-39",
          "40-49",
          "50-59",
          "60-90"
         ],
         "xaxis": "x",
         "y": [
          138827,
          97079,
          54365,
          18491,
          3331
         ],
         "yaxis": "y"
        }
       ],
       "layout": {
        "barmode": "relative",
        "coloraxis": {
         "colorbar": {
          "title": {
           "text": "Km/h"
          }
         },
         "colorscale": [
          [
           0,
           "rgb(182,212,233)"
          ],
          [
           0.25,
           "rgb(117,179,216)"
          ],
          [
           0.5,
           "rgb(59,139,194)"
          ],
          [
           0.75,
           "rgb(17,93,165)"
          ],
          [
           1,
           "rgb(8,48,107)"
          ]
         ]
        },
        "font": {
         "family": "Aptos",
         "size": 18
        },
        "height": 600,
        "legend": {
         "tracegroupgap": 0
        },
        "margin": {
         "t": 60
        },
        "template": {},
        "width": 500,
        "xaxis": {
         "anchor": "y",
         "domain": [
          0,
          1
         ],
         "showgrid": false,
         "title": {
          "text": "Age group"
         }
        },
        "yaxis": {
         "anchor": "x",
         "domain": [
          0,
          1
         ],
         "title": {
          "text": "Number of trips"
         }
        }
       }
      }
     },
     "metadata": {},
     "output_type": "display_data"
    }
   ],
   "source": [
    "spped = sn_processing[sn_processing['KmDriven']>=3].groupby('AgeBracket')['AvgSpeed'].agg(['mean','count']).reset_index()\n",
    "fig = px.bar(spped, x='AgeBracket', y='count', color='mean',\n",
    "             color_continuous_scale=custom_blue_scale,\n",
    "             labels={'mean': 'Km/h', 'count': 'Number of trips', 'AgeBracket':'Age group'})\n",
    "\n",
    "fig.update_layout(width=500,height=600, template=None, font=dict(family='Aptos',size=18))\n",
    "fig.update_traces()\n",
    "# fig.update_yaxes(showgrid=False)\n",
    "fig.update_xaxes(showgrid=False)\n",
    "fig.show()"
   ]
  },
  {
   "cell_type": "markdown",
   "metadata": {},
   "source": [
    "#### Check data distributions: KmDriven, TripDurationMinutes, AvgSpeed\n",
    "Cuts: KmDriven above $3$ km, TripDurationMinutes -  $85\\%$"
   ]
  },
  {
   "cell_type": "code",
   "execution_count": 463,
   "metadata": {},
   "outputs": [
    {
     "data": {
      "image/png": "[encoded data removed]",
      "text/plain": [
       "<Figure size 1500x1000 with 3 Axes>"
      ]
     },
     "metadata": {},
     "output_type": "display_data"
    }
   ],
   "source": [
    "columns = ['KmDriven', 'TripDurationMinutes', 'AvgSpeed']\n",
    "\n",
    "# Set the figure size\n",
    "plt.figure(figsize=(15, 10))\n",
    "\n",
    "# Create subplots for histograms\n",
    "for i, column in enumerate(columns):\n",
    "    plt.subplot(2, 3, i+1)\n",
    "    if column == 'TripDurationMinutes':\n",
    "        sns.boxplot(data=sn_processing[(sn_processing['KmDriven']>=3)&(sn_processing['TripDurationMinutes']<sn_processing['TripDurationMinutes'].quantile(0.85))], y=column, color='lightblue')\n",
    "    else:\n",
    "        sns.histplot(data=sn_processing[(sn_processing['KmDriven']>=3)&(sn_processing['TripDurationMinutes']<sn_processing['TripDurationMinutes'].quantile(0.85))], x=column, bins=30,color='lightblue')\n",
    "    # sns.color_palette('rocket_r')\n",
    "    sns.set_style('whitegrid')\n",
    "    plt.grid(False)\n",
    "    plt.title(column)\n",
    "plt.tight_layout()\n",
    "\n",
    "# Show the plot\n",
    "plt.show()\n"
   ]
  },
  {
   "cell_type": "code",
   "execution_count": 464,
   "metadata": {},
   "outputs": [],
   "source": [
    "# Display average daily demand per hour\n",
    "sn_processing['Date'] = sn_processing['StartTime'].dt.date\n",
    "days = sn_processing.groupby(['Date','StartHour']).agg({'TripID':'count'}).reset_index()\n",
    "dfplot = days.groupby('StartHour').agg({'TripID':'mean'},).reset_index().rename(columns={'TripID':'AvgDemand'})"
   ]
  },
  {
   "cell_type": "code",
   "execution_count": 465,
   "metadata": {},
   "outputs": [
    {
     "data": {
      "application/vnd.plotly.v1+json": {
       "config": {
        "plotlyServerURL": "https://plot.ly"
       },
       "data": [
        {
         "marker": {
          "color": [
           20.585714285714285,
           12.75,
           8.267857142857142,
           7.171428571428572,
           8.914285714285715,
           13.257142857142858,
           24.285714285714285,
           50.667857142857144,
           66.38214285714285,
           61.75714285714286,
           53.90714285714286,
           59.628571428571426,
           66.06071428571428,
           69.63214285714285,
           74.27857142857142,
           84.00357142857143,
           96.59285714285714,
           104.86785714285715,
           92.425,
           76.88571428571429,
           67.53928571428571,
           57.503571428571426,
           49.11785714285714,
           33.082142857142856
          ],
          "colorscale": [
           [
            0,
            "rgb(182,212,233)"
           ],
           [
            0.25,
            "rgb(117,179,216)"
           ],
           [
            0.5,
            "rgb(59,139,194)"
           ],
           [
            0.75,
            "rgb(17,93,165)"
           ],
           [
            1,
            "rgb(8,48,107)"
           ]
          ],
          "line": {
           "color": "white",
           "width": 2
          }
         },
         "opacity": 0.9,
         "r": [
          20.585714285714285,
          12.75,
          8.267857142857142,
          7.171428571428572,
          8.914285714285715,
          13.257142857142858,
          24.285714285714285,
          50.667857142857144,
          66.38214285714285,
          61.75714285714286,
          53.90714285714286,
          59.628571428571426,
          66.06071428571428,
          69.63214285714285,
          74.27857142857142,
          84.00357142857143,
          96.59285714285714,
          104.86785714285715,
          92.425,
          76.88571428571429,
          67.53928571428571,
          57.503571428571426,
          49.11785714285714,
          33.082142857142856
         ],
         "theta": [
          -7.5,
          7.5,
          22.5,
          37.5,
          52.5,
          67.5,
          82.5,
          97.5,
          112.5,
          127.5,
          142.5,
          157.5,
          172.5,
          187.5,
          202.5,
          217.5,
          232.5,
          247.5,
          262.5,
          277.5,
          292.5,
          307.5,
          322.5,
          337.5
         ],
         "type": "barpolar",
         "width": [
          15,
          15,
          15,
          15,
          15,
          15,
          15,
          15,
          15,
          15,
          15,
          15,
          15,
          15,
          15,
          15,
          15,
          15,
          15,
          15,
          15,
          15,
          15,
          15
         ]
        }
       ],
       "layout": {
        "polar": {
         "angularaxis": {
          "direction": "clockwise",
          "gridcolor": "white",
          "linecolor": "white",
          "period": 24,
          "showline": true,
          "showticklabels": true,
          "ticks": "",
          "ticktext": [
           "0:00",
           "",
           "",
           "",
           "",
           "",
           "6:00",
           "",
           "",
           "",
           "",
           "",
           "12:00",
           "",
           "",
           "",
           "",
           "",
           "18:00",
           "",
           "",
           "",
           "",
           ""
          ],
          "tickvals": [
           0,
           15,
           30,
           45,
           60,
           75,
           90,
           105,
           120,
           135,
           150,
           165,
           180,
           195,
           210,
           225,
           240,
           255,
           270,
           285,
           300,
           315,
           330,
           345
          ]
         },
         "bgcolor": "rgb(223, 223,223)",
         "hole": 0.4,
         "radialaxis": {
          "linecolor": "white",
          "linewidth": 2,
          "showgrid": false,
          "showticklabels": false,
          "ticks": ""
         }
        },
        "template": {}
       }
      }
     },
     "metadata": {},
     "output_type": "display_data"
    }
   ],
   "source": [
    "r = dfplot['AvgDemand'].tolist()\n",
    "theta = np.arange(0,360,15)\n",
    "width = [15]*24\n",
    "\n",
    "ticktexts = [str(i)+\":00\" if i % 6 == 0 else '' for i in np.arange(24)]\n",
    "\n",
    "fig = go.Figure(go.Barpolar(\n",
    "    r=r,\n",
    "    theta=[i-7.5 for i in theta],\n",
    "    width=width,\n",
    "    marker_color=dfplot['AvgDemand'],\n",
    "    marker_colorscale=custom_blue_scale,\n",
    "    marker_line_color=\"white\",\n",
    "    marker_line_width=2,\n",
    "    opacity=0.9\n",
    "))\n",
    "\n",
    "fig.update_layout(\n",
    "    template=None,\n",
    "    polar=dict(\n",
    "        hole=0.4,\n",
    "        bgcolor='rgb(223, 223,223)',\n",
    "        radialaxis=dict(\n",
    "            showticklabels=False,\n",
    "            ticks='',\n",
    "            linewidth=2,\n",
    "            linecolor='white',\n",
    "            showgrid=False,\n",
    "        ),\n",
    "        angularaxis=dict(\n",
    "            tickvals=[i for i in theta],\n",
    "            ticktext=ticktexts,\n",
    "            showline=True,\n",
    "            direction='clockwise',\n",
    "            period=24,\n",
    "            linecolor='white',\n",
    "            gridcolor='white',\n",
    "            showticklabels=True,\n",
    "            ticks=''\n",
    "        )\n",
    "    )\n",
    ")\n",
    "\n",
    "fig.show()"
   ]
  },
  {
   "cell_type": "code",
   "execution_count": 466,
   "metadata": {},
   "outputs": [
    {
     "data": {
      "application/vnd.plotly.v1+json": {
       "config": {
        "plotlyServerURL": "https://plot.ly"
       },
       "data": [
        {
         "alignmentgroup": "True",
         "hovertemplate": "Weekday=%{x}<br>Number of trips=%{y}<br>Km=%{marker.color}<extra></extra>",
         "legendgroup": "",
         "marker": {
          "color": [
           8.36,
           8.4,
           8.14,
           8.44,
           8.28,
           8.35,
           8.29
          ],
          "coloraxis": "coloraxis",
          "pattern": {
           "shape": ""
          }
         },
         "name": "",
         "offsetgroup": "",
         "orientation": "v",
         "showlegend": false,
         "textposition": "auto",
         "type": "bar",
         "x": [
          "Friday",
          "Monday",
          "Saturday",
          "Sunday",
          "Thursday",
          "Tuesday",
          "Wednesday"
         ],
         "xaxis": "x",
         "y": [
          1224,
          963,
          1246,
          1037,
          1112,
          1044,
          1075
         ],
         "yaxis": "y"
        }
       ],
       "layout": {
        "barmode": "relative",
        "coloraxis": {
         "colorbar": {
          "title": {
           "text": "Km"
          }
         },
         "colorscale": [
          [
           0,
           "rgb(182,212,233)"
          ],
          [
           0.25,
           "rgb(117,179,216)"
          ],
          [
           0.5,
           "rgb(59,139,194)"
          ],
          [
           0.75,
           "rgb(17,93,165)"
          ],
          [
           1,
           "rgb(8,48,107)"
          ]
         ]
        },
        "font": {
         "family": "Aptos",
         "size": 20
        },
        "height": 600,
        "legend": {
         "tracegroupgap": 0
        },
        "margin": {
         "t": 60
        },
        "template": {},
        "width": 700,
        "xaxis": {
         "anchor": "y",
         "categoryarray": [
          "Monday",
          "Tuesday",
          "Wednesday",
          "Thursday",
          "Friday",
          "Saturday",
          "Sunday"
         ],
         "categoryorder": "array",
         "domain": [
          0,
          1
         ],
         "showgrid": false,
         "ticktext": [
          "Mon",
          "Tue",
          "Wed",
          "Thu",
          "Fri",
          "Sat",
          "Sun"
         ],
         "tickvals": [
          0,
          1,
          2,
          3,
          4,
          5,
          6
         ],
         "title": {}
        },
        "yaxis": {
         "anchor": "x",
         "domain": [
          0,
          1
         ],
         "showgrid": false,
         "title": {
          "text": "Number of trips"
         }
        }
       }
      }
     },
     "metadata": {},
     "output_type": "display_data"
    }
   ],
   "source": [
    "agg_trips_km = sn_processing[(sn_processing['KmDriven']>=3)&(sn_processing['KmDriven']<40)]\\\n",
    "    .groupby('Date')[['TripID','KmDriven']].agg({'TripID':'count','KmDriven':'sum'}).reset_index()\n",
    "agg_trips_km['Weekday'] = pd.to_datetime(agg_trips_km['Date']).dt.day_name()\n",
    "daily_trip_km = agg_trips_km.groupby('Weekday').agg({'TripID':'mean','KmDriven':'mean'}).reset_index()\n",
    "daily_trip_km['KmDriven'] = np.round(daily_trip_km['KmDriven']/daily_trip_km['TripID'],decimals=2)\n",
    "daily_trip_km['TripID'] = np.round(daily_trip_km['TripID'],decimals=0).astype(int)\n",
    "daily_trip_km.rename(columns={'TripID':'AvgDemand','KmDriven':'AvgDistance'},inplace=True)\n",
    "\n",
    "orderlist = ['Monday', 'Tuesday', 'Wednesday', 'Thursday', 'Friday', 'Saturday', 'Sunday']\n",
    "\n",
    "fig = px.bar(daily_trip_km, x='Weekday', y='AvgDemand',category_orders={'Weekday':orderlist},color='AvgDistance',\n",
    "             color_continuous_scale=custom_blue_scale,\n",
    "             labels={'AvgDistance': 'Km', 'AvgDemand': 'Number of trips'})\n",
    "\n",
    "fig.update_layout(width=700,height=600, template=None, font=dict(family='Aptos',size=20))\n",
    "fig.update_traces()\n",
    "fig.update_yaxes(showgrid=False)\n",
    "fig.update_xaxes(\n",
    "    ticktext=['Mon', 'Tue', 'Wed', 'Thu', 'Fri', 'Sat', 'Sun'],\n",
    "    tickvals=[0, 1, 2, 3, 4, 5, 6], showgrid=False, title=None\n",
    ")\n",
    "\n",
    "fig.show()"
   ]
  },
  {
   "cell_type": "code",
   "execution_count": 467,
   "metadata": {},
   "outputs": [
    {
     "name": "stdout",
     "output_type": "stream",
     "text": [
      "Mann-Whitney U statistic: 1030388996.0\n",
      "p-value: 3.077489241116825e-05\n"
     ]
    }
   ],
   "source": [
    "# Perform the Pearson correlation test\n",
    "monday = sn_processing[sn_processing['Weekday'] == 'Monday']['KmDriven']\n",
    "sunday = sn_processing[sn_processing['Weekday'] == 'Sunday']['KmDriven']\n",
    "\n",
    "# Perform Mann-Whitney U test\n",
    "statistic, p_value = mannwhitneyu(monday, sunday, alternative='two-sided')\n",
    "\n",
    "# Print the test results\n",
    "print(\"Mann-Whitney U statistic:\", statistic)\n",
    "print(\"p-value:\", p_value)\n"
   ]
  },
  {
   "cell_type": "code",
   "execution_count": 468,
   "metadata": {},
   "outputs": [
    {
     "data": {
      "text/html": [
       "<div>\n",
       "<style scoped>\n",
       "    .dataframe tbody tr th:only-of-type {\n",
       "        vertical-align: middle;\n",
       "    }\n",
       "\n",
       "    .dataframe tbody tr th {\n",
       "        vertical-align: top;\n",
       "    }\n",
       "\n",
       "    .dataframe thead th {\n",
       "        text-align: right;\n",
       "    }\n",
       "</style>\n",
       "<table border=\"1\" class=\"dataframe\">\n",
       "  <thead>\n",
       "    <tr style=\"text-align: right;\">\n",
       "      <th></th>\n",
       "      <th>AgeBracket</th>\n",
       "      <th>Number of users</th>\n",
       "    </tr>\n",
       "  </thead>\n",
       "  <tbody>\n",
       "    <tr>\n",
       "      <th>0</th>\n",
       "      <td>18-29</td>\n",
       "      <td>10635</td>\n",
       "    </tr>\n",
       "    <tr>\n",
       "      <th>1</th>\n",
       "      <td>30-39</td>\n",
       "      <td>7758</td>\n",
       "    </tr>\n",
       "    <tr>\n",
       "      <th>2</th>\n",
       "      <td>40-49</td>\n",
       "      <td>4411</td>\n",
       "    </tr>\n",
       "    <tr>\n",
       "      <th>3</th>\n",
       "      <td>50-59</td>\n",
       "      <td>1886</td>\n",
       "    </tr>\n",
       "    <tr>\n",
       "      <th>4</th>\n",
       "      <td>60-90</td>\n",
       "      <td>443</td>\n",
       "    </tr>\n",
       "  </tbody>\n",
       "</table>\n",
       "</div>"
      ],
      "text/plain": [
       "  AgeBracket  Number of users\n",
       "0      18-29            10635\n",
       "1      30-39             7758\n",
       "2      40-49             4411\n",
       "3      50-59             1886\n",
       "4      60-90              443"
      ]
     },
     "execution_count": 468,
     "metadata": {},
     "output_type": "execute_result"
    }
   ],
   "source": [
    "sn_processing.groupby('AgeBracket')['UserID'].unique().apply(len).reset_index().rename(columns={'UserID':'Number of users'})"
   ]
  },
  {
   "cell_type": "code",
   "execution_count": 469,
   "metadata": {},
   "outputs": [
    {
     "name": "stdout",
     "output_type": "stream",
     "text": [
      "There is a statistically significant difference between the mean of average speed across age groups.\n"
     ]
    }
   ],
   "source": [
    "# Extract the average speed for each age group\n",
    "age_group_18_29 = sn_processing[sn_processing['AgeBracket'] == '18-29']['AvgSpeed']\n",
    "age_group_30_39 = sn_processing[sn_processing['AgeBracket'] == '30-39']['AvgSpeed']\n",
    "age_group_40_49 = sn_processing[sn_processing['AgeBracket'] == '40-49']['AvgSpeed']\n",
    "age_group_50_59 = sn_processing[sn_processing['AgeBracket'] == '50-59']['AvgSpeed']\n",
    "age_group_60_90 = sn_processing[sn_processing['AgeBracket'] == '60-90']['AvgSpeed']\n",
    "\n",
    "# Perform one-way ANOVA test\n",
    "f_statistic, p_value = f_oneway(age_group_18_29, age_group_30_39, age_group_40_49, age_group_50_59, age_group_60_90)\n",
    "\n",
    "# Check the p-value\n",
    "if p_value < 0.05:\n",
    "    print(\"There is a statistically significant difference between the mean of average speed across age groups.\")\n",
    "else:\n",
    "    print(\"There is no statistically significant difference between the mean of average speed across age groups.\")\n"
   ]
  },
  {
   "cell_type": "code",
   "execution_count": 470,
   "metadata": {},
   "outputs": [
    {
     "name": "stdout",
     "output_type": "stream",
     "text": [
      "Pearson correlation coefficient: -0.06216925649391497\n",
      "p-value: 5.858472794464589e-299\n"
     ]
    }
   ],
   "source": [
    "# Extract the 'Age' and 'AvgSpeed' columns from the DataFrame\n",
    "age = sn_processing['Age']\n",
    "avg_speed = sn_processing['AvgSpeed']\n",
    "\n",
    "# Perform the Pearson correlation test\n",
    "correlation, p_value = pearsonr(age, avg_speed)\n",
    "\n",
    "# Print the correlation coefficient and p-value\n",
    "print(\"Pearson correlation coefficient:\", correlation)\n",
    "print(\"p-value:\", p_value)\n"
   ]
  },
  {
   "cell_type": "markdown",
   "metadata": {},
   "source": [
    "### 2.1 GREEN MOBILITY: Data cleaning and processing"
   ]
  },
  {
   "cell_type": "code",
   "execution_count": 471,
   "metadata": {},
   "outputs": [
    {
     "data": {
      "text/html": [
       "<style type=\"text/css\">\n",
       "</style>\n",
       "<table id=\"T_26570\">\n",
       "  <thead>\n",
       "    <tr>\n",
       "      <th class=\"blank level0\" >&nbsp;</th>\n",
       "      <th id=\"T_26570_level0_col0\" class=\"col_heading level0 col0\" >count</th>\n",
       "      <th id=\"T_26570_level0_col1\" class=\"col_heading level0 col1\" >mean</th>\n",
       "      <th id=\"T_26570_level0_col2\" class=\"col_heading level0 col2\" >std</th>\n",
       "      <th id=\"T_26570_level0_col3\" class=\"col_heading level0 col3\" >min</th>\n",
       "      <th id=\"T_26570_level0_col4\" class=\"col_heading level0 col4\" >25%</th>\n",
       "      <th id=\"T_26570_level0_col5\" class=\"col_heading level0 col5\" >50%</th>\n",
       "      <th id=\"T_26570_level0_col6\" class=\"col_heading level0 col6\" >75%</th>\n",
       "      <th id=\"T_26570_level0_col7\" class=\"col_heading level0 col7\" >max</th>\n",
       "    </tr>\n",
       "  </thead>\n",
       "  <tbody>\n",
       "    <tr>\n",
       "      <th id=\"T_26570_level0_row0\" class=\"row_heading level0 row0\" >Age</th>\n",
       "      <td id=\"T_26570_row0_col0\" class=\"data row0 col0\" >110444.00</td>\n",
       "      <td id=\"T_26570_row0_col1\" class=\"data row0 col1\" >31.43</td>\n",
       "      <td id=\"T_26570_row0_col2\" class=\"data row0 col2\" >11.88</td>\n",
       "      <td id=\"T_26570_row0_col3\" class=\"data row0 col3\" >0.00</td>\n",
       "      <td id=\"T_26570_row0_col4\" class=\"data row0 col4\" >22.00</td>\n",
       "      <td id=\"T_26570_row0_col5\" class=\"data row0 col5\" >28.00</td>\n",
       "      <td id=\"T_26570_row0_col6\" class=\"data row0 col6\" >38.00</td>\n",
       "      <td id=\"T_26570_row0_col7\" class=\"data row0 col7\" >93.00</td>\n",
       "    </tr>\n",
       "    <tr>\n",
       "      <th id=\"T_26570_level0_row1\" class=\"row_heading level0 row1\" >KmDriven</th>\n",
       "      <td id=\"T_26570_row1_col0\" class=\"data row1 col0\" >169126.00</td>\n",
       "      <td id=\"T_26570_row1_col1\" class=\"data row1 col1\" >14.23</td>\n",
       "      <td id=\"T_26570_row1_col2\" class=\"data row1 col2\" >16.22</td>\n",
       "      <td id=\"T_26570_row1_col3\" class=\"data row1 col3\" >0.54</td>\n",
       "      <td id=\"T_26570_row1_col4\" class=\"data row1 col4\" >3.19</td>\n",
       "      <td id=\"T_26570_row1_col5\" class=\"data row1 col5\" >6.98</td>\n",
       "      <td id=\"T_26570_row1_col6\" class=\"data row1 col6\" >19.05</td>\n",
       "      <td id=\"T_26570_row1_col7\" class=\"data row1 col7\" >102.00</td>\n",
       "    </tr>\n",
       "    <tr>\n",
       "      <th id=\"T_26570_level0_row2\" class=\"row_heading level0 row2\" >TripDurationHours</th>\n",
       "      <td id=\"T_26570_row2_col0\" class=\"data row2 col0\" >110444.00</td>\n",
       "      <td id=\"T_26570_row2_col1\" class=\"data row2 col1\" >0.84</td>\n",
       "      <td id=\"T_26570_row2_col2\" class=\"data row2 col2\" >8.41</td>\n",
       "      <td id=\"T_26570_row2_col3\" class=\"data row2 col3\" >-0.00</td>\n",
       "      <td id=\"T_26570_row2_col4\" class=\"data row2 col4\" >0.25</td>\n",
       "      <td id=\"T_26570_row2_col5\" class=\"data row2 col5\" >0.42</td>\n",
       "      <td id=\"T_26570_row2_col6\" class=\"data row2 col6\" >0.65</td>\n",
       "      <td id=\"T_26570_row2_col7\" class=\"data row2 col7\" >2210.30</td>\n",
       "    </tr>\n",
       "    <tr>\n",
       "      <th id=\"T_26570_level0_row3\" class=\"row_heading level0 row3\" >TripDurationMinutes</th>\n",
       "      <td id=\"T_26570_row3_col0\" class=\"data row3 col0\" >110444.00</td>\n",
       "      <td id=\"T_26570_row3_col1\" class=\"data row3 col1\" >50.40</td>\n",
       "      <td id=\"T_26570_row3_col2\" class=\"data row3 col2\" >504.73</td>\n",
       "      <td id=\"T_26570_row3_col3\" class=\"data row3 col3\" >-0.03</td>\n",
       "      <td id=\"T_26570_row3_col4\" class=\"data row3 col4\" >15.20</td>\n",
       "      <td id=\"T_26570_row3_col5\" class=\"data row3 col5\" >25.32</td>\n",
       "      <td id=\"T_26570_row3_col6\" class=\"data row3 col6\" >39.27</td>\n",
       "      <td id=\"T_26570_row3_col7\" class=\"data row3 col7\" >132617.73</td>\n",
       "    </tr>\n",
       "    <tr>\n",
       "      <th id=\"T_26570_level0_row4\" class=\"row_heading level0 row4\" >AvgSpeed</th>\n",
       "      <td id=\"T_26570_row4_col0\" class=\"data row4 col0\" >110434.00</td>\n",
       "      <td id=\"T_26570_row4_col1\" class=\"data row4 col1\" >14.32</td>\n",
       "      <td id=\"T_26570_row4_col2\" class=\"data row4 col2\" >31.65</td>\n",
       "      <td id=\"T_26570_row4_col3\" class=\"data row4 col3\" >-4870.51</td>\n",
       "      <td id=\"T_26570_row4_col4\" class=\"data row4 col4\" >6.66</td>\n",
       "      <td id=\"T_26570_row4_col5\" class=\"data row4 col5\" >11.88</td>\n",
       "      <td id=\"T_26570_row4_col6\" class=\"data row4 col6\" >18.47</td>\n",
       "      <td id=\"T_26570_row4_col7\" class=\"data row4 col7\" >7076.26</td>\n",
       "    </tr>\n",
       "  </tbody>\n",
       "</table>\n"
      ],
      "text/plain": [
       "<pandas.io.formats.style.Styler at 0x161155ed0>"
      ]
     },
     "execution_count": 471,
     "metadata": {},
     "output_type": "execute_result"
    }
   ],
   "source": [
    "describecols = ['Age','KmDriven','TripDurationHours','TripDurationMinutes','AvgSpeed']\n",
    "gm_processing.replace([np.inf, -np.inf], np.nan, inplace=True)\n",
    "gm_processing[describecols].describe().T.style.format(\"{:.2f}\")"
   ]
  },
  {
   "cell_type": "code",
   "execution_count": 472,
   "metadata": {},
   "outputs": [
    {
     "data": {
      "text/html": [
       "<style type=\"text/css\">\n",
       "</style>\n",
       "<table id=\"T_678a3\">\n",
       "  <thead>\n",
       "    <tr>\n",
       "      <th class=\"blank level0\" >&nbsp;</th>\n",
       "      <th id=\"T_678a3_level0_col0\" class=\"col_heading level0 col0\" >count</th>\n",
       "      <th id=\"T_678a3_level0_col1\" class=\"col_heading level0 col1\" >mean</th>\n",
       "      <th id=\"T_678a3_level0_col2\" class=\"col_heading level0 col2\" >std</th>\n",
       "      <th id=\"T_678a3_level0_col3\" class=\"col_heading level0 col3\" >min</th>\n",
       "      <th id=\"T_678a3_level0_col4\" class=\"col_heading level0 col4\" >25%</th>\n",
       "      <th id=\"T_678a3_level0_col5\" class=\"col_heading level0 col5\" >50%</th>\n",
       "      <th id=\"T_678a3_level0_col6\" class=\"col_heading level0 col6\" >75%</th>\n",
       "      <th id=\"T_678a3_level0_col7\" class=\"col_heading level0 col7\" >max</th>\n",
       "    </tr>\n",
       "  </thead>\n",
       "  <tbody>\n",
       "    <tr>\n",
       "      <th id=\"T_678a3_level0_row0\" class=\"row_heading level0 row0\" >Age</th>\n",
       "      <td id=\"T_678a3_row0_col0\" class=\"data row0 col0\" >70520.00</td>\n",
       "      <td id=\"T_678a3_row0_col1\" class=\"data row0 col1\" >31.86</td>\n",
       "      <td id=\"T_678a3_row0_col2\" class=\"data row0 col2\" >11.68</td>\n",
       "      <td id=\"T_678a3_row0_col3\" class=\"data row0 col3\" >18.00</td>\n",
       "      <td id=\"T_678a3_row0_col4\" class=\"data row0 col4\" >22.00</td>\n",
       "      <td id=\"T_678a3_row0_col5\" class=\"data row0 col5\" >28.00</td>\n",
       "      <td id=\"T_678a3_row0_col6\" class=\"data row0 col6\" >39.00</td>\n",
       "      <td id=\"T_678a3_row0_col7\" class=\"data row0 col7\" >93.00</td>\n",
       "    </tr>\n",
       "    <tr>\n",
       "      <th id=\"T_678a3_level0_row1\" class=\"row_heading level0 row1\" >KmDriven</th>\n",
       "      <td id=\"T_678a3_row1_col0\" class=\"data row1 col0\" >70520.00</td>\n",
       "      <td id=\"T_678a3_row1_col1\" class=\"data row1 col1\" >7.15</td>\n",
       "      <td id=\"T_678a3_row1_col2\" class=\"data row1 col2\" >3.76</td>\n",
       "      <td id=\"T_678a3_row1_col3\" class=\"data row1 col3\" >3.00</td>\n",
       "      <td id=\"T_678a3_row1_col4\" class=\"data row1 col4\" >4.35</td>\n",
       "      <td id=\"T_678a3_row1_col5\" class=\"data row1 col5\" >6.12</td>\n",
       "      <td id=\"T_678a3_row1_col6\" class=\"data row1 col6\" >8.78</td>\n",
       "      <td id=\"T_678a3_row1_col7\" class=\"data row1 col7\" >38.20</td>\n",
       "    </tr>\n",
       "    <tr>\n",
       "      <th id=\"T_678a3_level0_row2\" class=\"row_heading level0 row2\" >TripDurationHours</th>\n",
       "      <td id=\"T_678a3_row2_col0\" class=\"data row2 col0\" >70520.00</td>\n",
       "      <td id=\"T_678a3_row2_col1\" class=\"data row2 col1\" >0.80</td>\n",
       "      <td id=\"T_678a3_row2_col2\" class=\"data row2 col2\" >9.60</td>\n",
       "      <td id=\"T_678a3_row2_col3\" class=\"data row2 col3\" >0.04</td>\n",
       "      <td id=\"T_678a3_row2_col4\" class=\"data row2 col4\" >0.33</td>\n",
       "      <td id=\"T_678a3_row2_col5\" class=\"data row2 col5\" >0.48</td>\n",
       "      <td id=\"T_678a3_row2_col6\" class=\"data row2 col6\" >0.68</td>\n",
       "      <td id=\"T_678a3_row2_col7\" class=\"data row2 col7\" >2210.30</td>\n",
       "    </tr>\n",
       "    <tr>\n",
       "      <th id=\"T_678a3_level0_row3\" class=\"row_heading level0 row3\" >TripDurationMinutes</th>\n",
       "      <td id=\"T_678a3_row3_col0\" class=\"data row3 col0\" >70520.00</td>\n",
       "      <td id=\"T_678a3_row3_col1\" class=\"data row3 col1\" >47.73</td>\n",
       "      <td id=\"T_678a3_row3_col2\" class=\"data row3 col2\" >575.75</td>\n",
       "      <td id=\"T_678a3_row3_col3\" class=\"data row3 col3\" >2.58</td>\n",
       "      <td id=\"T_678a3_row3_col4\" class=\"data row3 col4\" >19.65</td>\n",
       "      <td id=\"T_678a3_row3_col5\" class=\"data row3 col5\" >28.77</td>\n",
       "      <td id=\"T_678a3_row3_col6\" class=\"data row3 col6\" >41.00</td>\n",
       "      <td id=\"T_678a3_row3_col7\" class=\"data row3 col7\" >132617.73</td>\n",
       "    </tr>\n",
       "    <tr>\n",
       "      <th id=\"T_678a3_level0_row4\" class=\"row_heading level0 row4\" >AvgSpeed</th>\n",
       "      <td id=\"T_678a3_row4_col0\" class=\"data row4 col0\" >70520.00</td>\n",
       "      <td id=\"T_678a3_row4_col1\" class=\"data row4 col1\" >15.51</td>\n",
       "      <td id=\"T_678a3_row4_col2\" class=\"data row4 col2\" >8.71</td>\n",
       "      <td id=\"T_678a3_row4_col3\" class=\"data row4 col3\" >0.00</td>\n",
       "      <td id=\"T_678a3_row4_col4\" class=\"data row4 col4\" >9.43</td>\n",
       "      <td id=\"T_678a3_row4_col5\" class=\"data row4 col5\" >14.05</td>\n",
       "      <td id=\"T_678a3_row4_col6\" class=\"data row4 col6\" >19.96</td>\n",
       "      <td id=\"T_678a3_row4_col7\" class=\"data row4 col7\" >88.99</td>\n",
       "    </tr>\n",
       "  </tbody>\n",
       "</table>\n"
      ],
      "text/plain": [
       "<pandas.io.formats.style.Styler at 0x1622af110>"
      ]
     },
     "execution_count": 472,
     "metadata": {},
     "output_type": "execute_result"
    }
   ],
   "source": [
    "gm_processing = gm_processing[gm_processing['Age']>0]\n",
    "gm_processing = gm_processing.dropna(subset=['Age', 'KmDriven', 'TripDurationMinutes', 'AvgSpeed'])\n",
    "gm_processing = gm_processing[gm_processing['AvgSpeed']<100]\n",
    "gm_processing = gm_processing[gm_processing['KmDriven']>3]\n",
    "gm_processing[describecols].describe().T.style.format(\"{:.2f}\")"
   ]
  },
  {
   "cell_type": "code",
   "execution_count": 473,
   "metadata": {},
   "outputs": [],
   "source": [
    "# Drop missing values in the dataset gm_processing\n",
    "gm_processing = gm_processing.dropna(subset=['Age', 'KmDriven', 'TripDurationMinutes', 'AvgSpeed'])\n",
    "gm_processing = gm_processing[(gm_processing['KmDriven']>0)]\n",
    "gm_processing = gm_processing[gm_processing['TripDurationMinutes']>3]\n",
    "gm_processing = gm_processing[gm_processing['Age']>0]\n",
    "gm_processing = gm_processing[gm_processing['AvgSpeed']<100]\n",
    "gm_processing = gm_processing[gm_processing['KmDriven']>3]\n",
    "gm_processing = gm_processing[gm_processing['TripDurationMinutes']<gm_processing['TripDurationMinutes'].quantile(0.90)]"
   ]
  },
  {
   "cell_type": "code",
   "execution_count": 474,
   "metadata": {},
   "outputs": [
    {
     "data": {
      "text/html": [
       "<style type=\"text/css\">\n",
       "</style>\n",
       "<table id=\"T_c7e46\">\n",
       "  <thead>\n",
       "    <tr>\n",
       "      <th class=\"blank level0\" >&nbsp;</th>\n",
       "      <th id=\"T_c7e46_level0_col0\" class=\"col_heading level0 col0\" >count</th>\n",
       "      <th id=\"T_c7e46_level0_col1\" class=\"col_heading level0 col1\" >mean</th>\n",
       "      <th id=\"T_c7e46_level0_col2\" class=\"col_heading level0 col2\" >std</th>\n",
       "      <th id=\"T_c7e46_level0_col3\" class=\"col_heading level0 col3\" >min</th>\n",
       "      <th id=\"T_c7e46_level0_col4\" class=\"col_heading level0 col4\" >25%</th>\n",
       "      <th id=\"T_c7e46_level0_col5\" class=\"col_heading level0 col5\" >50%</th>\n",
       "      <th id=\"T_c7e46_level0_col6\" class=\"col_heading level0 col6\" >75%</th>\n",
       "      <th id=\"T_c7e46_level0_col7\" class=\"col_heading level0 col7\" >max</th>\n",
       "    </tr>\n",
       "  </thead>\n",
       "  <tbody>\n",
       "    <tr>\n",
       "      <th id=\"T_c7e46_level0_row0\" class=\"row_heading level0 row0\" >Age</th>\n",
       "      <td id=\"T_c7e46_row0_col0\" class=\"data row0 col0\" >63463.00</td>\n",
       "      <td id=\"T_c7e46_row0_col1\" class=\"data row0 col1\" >31.76</td>\n",
       "      <td id=\"T_c7e46_row0_col2\" class=\"data row0 col2\" >11.63</td>\n",
       "      <td id=\"T_c7e46_row0_col3\" class=\"data row0 col3\" >18.00</td>\n",
       "      <td id=\"T_c7e46_row0_col4\" class=\"data row0 col4\" >22.00</td>\n",
       "      <td id=\"T_c7e46_row0_col5\" class=\"data row0 col5\" >28.00</td>\n",
       "      <td id=\"T_c7e46_row0_col6\" class=\"data row0 col6\" >38.00</td>\n",
       "      <td id=\"T_c7e46_row0_col7\" class=\"data row0 col7\" >93.00</td>\n",
       "    </tr>\n",
       "    <tr>\n",
       "      <th id=\"T_c7e46_level0_row1\" class=\"row_heading level0 row1\" >KmDriven</th>\n",
       "      <td id=\"T_c7e46_row1_col0\" class=\"data row1 col0\" >63463.00</td>\n",
       "      <td id=\"T_c7e46_row1_col1\" class=\"data row1 col1\" >6.98</td>\n",
       "      <td id=\"T_c7e46_row1_col2\" class=\"data row1 col2\" >3.64</td>\n",
       "      <td id=\"T_c7e46_row1_col3\" class=\"data row1 col3\" >3.00</td>\n",
       "      <td id=\"T_c7e46_row1_col4\" class=\"data row1 col4\" >4.00</td>\n",
       "      <td id=\"T_c7e46_row1_col5\" class=\"data row1 col5\" >6.00</td>\n",
       "      <td id=\"T_c7e46_row1_col6\" class=\"data row1 col6\" >9.00</td>\n",
       "      <td id=\"T_c7e46_row1_col7\" class=\"data row1 col7\" >33.00</td>\n",
       "    </tr>\n",
       "    <tr>\n",
       "      <th id=\"T_c7e46_level0_row2\" class=\"row_heading level0 row2\" >TripDurationHours</th>\n",
       "      <td id=\"T_c7e46_row2_col0\" class=\"data row2 col0\" >63463.00</td>\n",
       "      <td id=\"T_c7e46_row2_col1\" class=\"data row2 col1\" >0.47</td>\n",
       "      <td id=\"T_c7e46_row2_col2\" class=\"data row2 col2\" >0.20</td>\n",
       "      <td id=\"T_c7e46_row2_col3\" class=\"data row2 col3\" >0.05</td>\n",
       "      <td id=\"T_c7e46_row2_col4\" class=\"data row2 col4\" >0.31</td>\n",
       "      <td id=\"T_c7e46_row2_col5\" class=\"data row2 col5\" >0.45</td>\n",
       "      <td id=\"T_c7e46_row2_col6\" class=\"data row2 col6\" >0.61</td>\n",
       "      <td id=\"T_c7e46_row2_col7\" class=\"data row2 col7\" >0.96</td>\n",
       "    </tr>\n",
       "    <tr>\n",
       "      <th id=\"T_c7e46_level0_row3\" class=\"row_heading level0 row3\" >TripDurationMinutes</th>\n",
       "      <td id=\"T_c7e46_row3_col0\" class=\"data row3 col0\" >63463.00</td>\n",
       "      <td id=\"T_c7e46_row3_col1\" class=\"data row3 col1\" >28.23</td>\n",
       "      <td id=\"T_c7e46_row3_col2\" class=\"data row3 col2\" >11.94</td>\n",
       "      <td id=\"T_c7e46_row3_col3\" class=\"data row3 col3\" >3.13</td>\n",
       "      <td id=\"T_c7e46_row3_col4\" class=\"data row3 col4\" >18.80</td>\n",
       "      <td id=\"T_c7e46_row3_col5\" class=\"data row3 col5\" >26.85</td>\n",
       "      <td id=\"T_c7e46_row3_col6\" class=\"data row3 col6\" >36.63</td>\n",
       "      <td id=\"T_c7e46_row3_col7\" class=\"data row3 col7\" >57.88</td>\n",
       "    </tr>\n",
       "    <tr>\n",
       "      <th id=\"T_c7e46_level0_row4\" class=\"row_heading level0 row4\" >AvgSpeed</th>\n",
       "      <td id=\"T_c7e46_row4_col0\" class=\"data row4 col0\" >63463.00</td>\n",
       "      <td id=\"T_c7e46_row4_col1\" class=\"data row4 col1\" >16.57</td>\n",
       "      <td id=\"T_c7e46_row4_col2\" class=\"data row4 col2\" >8.39</td>\n",
       "      <td id=\"T_c7e46_row4_col3\" class=\"data row4 col3\" >3.12</td>\n",
       "      <td id=\"T_c7e46_row4_col4\" class=\"data row4 col4\" >10.53</td>\n",
       "      <td id=\"T_c7e46_row4_col5\" class=\"data row4 col5\" >14.95</td>\n",
       "      <td id=\"T_c7e46_row4_col6\" class=\"data row4 col6\" >20.74</td>\n",
       "      <td id=\"T_c7e46_row4_col7\" class=\"data row4 col7\" >88.99</td>\n",
       "    </tr>\n",
       "  </tbody>\n",
       "</table>\n"
      ],
      "text/plain": [
       "<pandas.io.formats.style.Styler at 0x15fce7d10>"
      ]
     },
     "execution_count": 474,
     "metadata": {},
     "output_type": "execute_result"
    }
   ],
   "source": [
    "gm_processing['KmDriven']=np.round(gm_processing['KmDriven']).astype(int)\n",
    "gm_processing[describecols].describe().T.style.format(\"{:.2f}\")"
   ]
  },
  {
   "cell_type": "code",
   "execution_count": 475,
   "metadata": {},
   "outputs": [
    {
     "data": {
      "image/png": "[encoded data removed]",
      "text/plain": [
       "<Figure size 1000x500 with 1 Axes>"
      ]
     },
     "metadata": {},
     "output_type": "display_data"
    }
   ],
   "source": [
    "# plot gm_processing['TripDurationHours'] histogram using seaborn\n",
    "plt.figure(figsize=(10, 5))\n",
    "sns.histplot(data=gm_processing, x='TripDurationMinutes', bins=50, color='seagreen')\n",
    "sns.set_style('whitegrid')\n",
    "plt.grid(False)\n",
    "plt.title('Trip Duration Minutes')\n",
    "plt.show()"
   ]
  },
  {
   "cell_type": "code",
   "execution_count": 476,
   "metadata": {},
   "outputs": [
    {
     "data": {
      "image/png": "[encoded data removed]",
      "text/plain": [
       "<Figure size 1500x1000 with 3 Axes>"
      ]
     },
     "metadata": {},
     "output_type": "display_data"
    }
   ],
   "source": [
    "columns = ['KmDriven', 'TripDurationMinutes', 'AvgSpeed']\n",
    "\n",
    "# Set the figure size\n",
    "plt.figure(figsize=(15, 10))\n",
    "\n",
    "# Create subplots for histograms\n",
    "for i, column in enumerate(columns):\n",
    "    plt.subplot(2, 3, i+1)\n",
    "    if column == 'TripDurationMinutes':\n",
    "        sns.boxplot(data=gm_processing, y=column, color='seagreen')\n",
    "    else:\n",
    "        sns.histplot(data=gm_processing, x=column, bins=30,color='seagreen')\n",
    "    # sns.boxplot(data=gm_processing[(gm_processing['KmDriven']>=3)&(gm_processing['AvgSpeed']<100)&(gm_processing['AvgSpeed']>5)], y=column, color='seagreen')\n",
    "    # sns.color_palette('rocket_r')\n",
    "    sns.set_style('whitegrid')\n",
    "    plt.grid(False)\n",
    "    plt.title(column)\n",
    "plt.tight_layout()\n",
    "\n",
    "# Show the plot\n",
    "plt.show()\n"
   ]
  },
  {
   "cell_type": "code",
   "execution_count": 477,
   "metadata": {},
   "outputs": [
    {
     "data": {
      "text/html": [
       "<div>\n",
       "<style scoped>\n",
       "    .dataframe tbody tr th:only-of-type {\n",
       "        vertical-align: middle;\n",
       "    }\n",
       "\n",
       "    .dataframe tbody tr th {\n",
       "        vertical-align: top;\n",
       "    }\n",
       "\n",
       "    .dataframe thead th {\n",
       "        text-align: right;\n",
       "    }\n",
       "</style>\n",
       "<table border=\"1\" class=\"dataframe\">\n",
       "  <thead>\n",
       "    <tr style=\"text-align: right;\">\n",
       "      <th></th>\n",
       "      <th>AgeBracket</th>\n",
       "      <th>Number of users</th>\n",
       "    </tr>\n",
       "  </thead>\n",
       "  <tbody>\n",
       "    <tr>\n",
       "      <th>0</th>\n",
       "      <td>18-29</td>\n",
       "      <td>3339</td>\n",
       "    </tr>\n",
       "    <tr>\n",
       "      <th>1</th>\n",
       "      <td>30-39</td>\n",
       "      <td>1754</td>\n",
       "    </tr>\n",
       "    <tr>\n",
       "      <th>2</th>\n",
       "      <td>40-49</td>\n",
       "      <td>1434</td>\n",
       "    </tr>\n",
       "    <tr>\n",
       "      <th>3</th>\n",
       "      <td>50-59</td>\n",
       "      <td>816</td>\n",
       "    </tr>\n",
       "    <tr>\n",
       "      <th>4</th>\n",
       "      <td>60-90</td>\n",
       "      <td>223</td>\n",
       "    </tr>\n",
       "  </tbody>\n",
       "</table>\n",
       "</div>"
      ],
      "text/plain": [
       "  AgeBracket  Number of users\n",
       "0      18-29             3339\n",
       "1      30-39             1754\n",
       "2      40-49             1434\n",
       "3      50-59              816\n",
       "4      60-90              223"
      ]
     },
     "execution_count": 477,
     "metadata": {},
     "output_type": "execute_result"
    }
   ],
   "source": [
    "gm_processing.groupby('AgeBracket')['UserID'].unique().apply(len).reset_index().rename(columns={'UserID':'Number of users'})"
   ]
  },
  {
   "cell_type": "code",
   "execution_count": 478,
   "metadata": {},
   "outputs": [],
   "source": [
    "# Initialize ShareNow and GreenMobility datasets\n",
    "gm_original = pd.read_csv('../data/raw/GM_preparedData.csv')\n",
    "# sn_original = pd.read_excel('../data/raw/DriveNow/DTU - data til case_LTMZones1.xlsx')\n",
    "\n",
    "#   ----------------------------------------------------------------------------\n",
    "#   GREENMOBILITY PART\n",
    "#   ----------------------------------------------------------------------------\n",
    "\n",
    "# Rename GreenMobility columns\n",
    "dict_gm_renamecols = {'id':'TripID',\n",
    "                        'vehicleId':'CarID',\n",
    "                        'id2':'UserID',\n",
    "                        'startPositionLat':'LatitudeStart',\n",
    "                        'startPositionLng':'LongitudeStart',\n",
    "                        'endPositionLat':'LatitudeEnd',\n",
    "                        'endPositionLng':'LongitudeEnd',\n",
    "                        'tripStart':'StartTime',\n",
    "                        'tripEnd':'EndTime',\n",
    "                        'birthday':'Age',\n",
    "                        'key':'Gender',\n",
    "                        'DriveLength':'KmDriven'\n",
    "                      }\n",
    "\n",
    "# List the columns to be kept for GreenMobility\n",
    "gmkeepcols_list = ['TripID','CarID',\n",
    "                   'UserID','LatitudeStart',\n",
    "                   'LongitudeStart','LatitudeEnd',\n",
    "                   'LongitudeEnd','StartTime',\n",
    "                   'EndTime','Age','Gender','KmDriven',\n",
    "                   'FromZoneID','ToZoneID']\n",
    "\n",
    "gm_test = gm_original.rename(columns=dict_gm_renamecols)\n",
    "gm_test = gm_test[gmkeepcols_list]\n",
    "\n",
    "# Convert StartTime and EndTime to Datetime\n",
    "gm_test['StartTime'] = pd.to_datetime(gm_test['StartTime'], errors='coerce', format='%d%b%y:%H:%M:%S')\n",
    "gm_test['EndTime'] = pd.to_datetime(gm_test['EndTime'], errors='coerce' , format='%d%b%y:%H:%M:%S')\n",
    "\n",
    "gm_test['TripDurationHours'] = (gm_test['EndTime'] - gm_test['StartTime']).dt.total_seconds()/3600\n",
    "gm_test['TripDurationMinutes'] = gm_test['TripDurationHours']*60  #   trip duration in min\n",
    "gm_test['AvgSpeed'] = gm_test['KmDriven']/gm_test['TripDurationHours'] #   avg speed\n",
    "gm_test['Month'] = gm_test['StartTime'].dt.strftime(\"%B\").astype('category')  #   month\n",
    "gm_test['Weekday'] = gm_test['StartTime'].dt.day_name().astype('category')    #   day of the week\n",
    "gm_test['StartHour'] = gm_test['StartTime'].dt.hour.astype('category')    #   hour of the day\n",
    "gm_test['Date'] = gm_test['StartTime'].dt.date  #   date\n",
    "gm_test['AgeBracket'] = gm_test['Age'].apply(get_bracket)   #   age bracket"
   ]
  },
  {
   "cell_type": "code",
   "execution_count": 479,
   "metadata": {},
   "outputs": [
    {
     "data": {
      "text/html": [
       "<div>\n",
       "<style scoped>\n",
       "    .dataframe tbody tr th:only-of-type {\n",
       "        vertical-align: middle;\n",
       "    }\n",
       "\n",
       "    .dataframe tbody tr th {\n",
       "        vertical-align: top;\n",
       "    }\n",
       "\n",
       "    .dataframe thead th {\n",
       "        text-align: right;\n",
       "    }\n",
       "</style>\n",
       "<table border=\"1\" class=\"dataframe\">\n",
       "  <thead>\n",
       "    <tr style=\"text-align: right;\">\n",
       "      <th></th>\n",
       "      <th>AgeBracket</th>\n",
       "      <th>Number of users</th>\n",
       "    </tr>\n",
       "  </thead>\n",
       "  <tbody>\n",
       "    <tr>\n",
       "      <th>0</th>\n",
       "      <td>18-29</td>\n",
       "      <td>3777</td>\n",
       "    </tr>\n",
       "    <tr>\n",
       "      <th>1</th>\n",
       "      <td>30-39</td>\n",
       "      <td>1998</td>\n",
       "    </tr>\n",
       "    <tr>\n",
       "      <th>2</th>\n",
       "      <td>40-49</td>\n",
       "      <td>1654</td>\n",
       "    </tr>\n",
       "    <tr>\n",
       "      <th>3</th>\n",
       "      <td>50-59</td>\n",
       "      <td>943</td>\n",
       "    </tr>\n",
       "    <tr>\n",
       "      <th>4</th>\n",
       "      <td>60-90</td>\n",
       "      <td>277</td>\n",
       "    </tr>\n",
       "  </tbody>\n",
       "</table>\n",
       "</div>"
      ],
      "text/plain": [
       "  AgeBracket  Number of users\n",
       "0      18-29             3777\n",
       "1      30-39             1998\n",
       "2      40-49             1654\n",
       "3      50-59              943\n",
       "4      60-90              277"
      ]
     },
     "execution_count": 479,
     "metadata": {},
     "output_type": "execute_result"
    }
   ],
   "source": [
    "gm_test.groupby('AgeBracket')['UserID'].unique().apply(len).reset_index().rename(columns={'UserID':'Number of users'})"
   ]
  },
  {
   "cell_type": "code",
   "execution_count": 480,
   "metadata": {},
   "outputs": [
    {
     "data": {
      "application/vnd.plotly.v1+json": {
       "config": {
        "plotlyServerURL": "https://plot.ly"
       },
       "data": [
        {
         "alignmentgroup": "True",
         "hovertemplate": "Age group=%{x}<br>Number of trips=%{y}<br>Km=%{marker.color}<extra></extra>",
         "legendgroup": "",
         "marker": {
          "color": [
           6.6140681107378665,
           7.027161194241543,
           7.573510845862504,
           8.316463540590787,
           7.1607843137254905
          ],
          "coloraxis": "coloraxis",
          "pattern": {
           "shape": ""
          }
         },
         "name": "",
         "offsetgroup": "",
         "orientation": "v",
         "showlegend": false,
         "textposition": "auto",
         "type": "bar",
         "x": [
          "18-29",
          "30-39",
          "40-49",
          "50-59",
          "60-90"
         ],
         "xaxis": "x",
         "y": [
          34532,
          14101,
          8713,
          4841,
          1275
         ],
         "yaxis": "y"
        }
       ],
       "layout": {
        "barmode": "relative",
        "coloraxis": {
         "colorbar": {
          "title": {
           "text": "Km"
          }
         },
         "colorscale": [
          [
           0,
           "rgb(184,226,177)"
          ],
          [
           0.25,
           "rgb(125,200,125)"
          ],
          [
           0.5,
           "rgb(58,164,88)"
          ],
          [
           0.75,
           "rgb(13,120,53)"
          ],
          [
           1,
           "rgb(0,68,27)"
          ]
         ]
        },
        "font": {
         "family": "Aptos",
         "size": 18
        },
        "height": 600,
        "legend": {
         "tracegroupgap": 0
        },
        "margin": {
         "t": 60
        },
        "template": {},
        "width": 500,
        "xaxis": {
         "anchor": "y",
         "domain": [
          0,
          1
         ],
         "showgrid": false,
         "title": {
          "text": "Age group"
         }
        },
        "yaxis": {
         "anchor": "x",
         "domain": [
          0,
          1
         ],
         "title": {
          "text": "Number of trips"
         }
        }
       }
      }
     },
     "metadata": {},
     "output_type": "display_data"
    }
   ],
   "source": [
    "n_steps = 5  # Define the number of steps you want in your color scale\n",
    "custom_green_scale = generate_custom_green_scale(n_steps, dark_start=True)\n",
    "\n",
    "agg_df = gm_processing.groupby('AgeBracket')['KmDriven'].agg(['mean','count']).reset_index()\n",
    "fig = px.bar(agg_df, x='AgeBracket', y='count', color='mean',\n",
    "             color_continuous_scale=custom_green_scale,\n",
    "             labels={'mean': 'Km', 'count': 'Number of trips', 'AgeBracket':'Age group'})\n",
    "\n",
    "fig.update_layout(width=500,height=600, template=None, font=dict(family='Aptos',size=18))\n",
    "fig.update_traces()\n",
    "# fig.update_yaxes(showgrid=False)\n",
    "fig.update_xaxes(showgrid=False)\n",
    "fig.show()\n"
   ]
  },
  {
   "cell_type": "code",
   "execution_count": 481,
   "metadata": {},
   "outputs": [
    {
     "data": {
      "application/vnd.plotly.v1+json": {
       "config": {
        "plotlyServerURL": "https://plot.ly"
       },
       "data": [
        {
         "alignmentgroup": "True",
         "hovertemplate": "Age group=%{x}<br>Number of trips=%{y}<br>Km/h=%{marker.color}<extra></extra>",
         "legendgroup": "",
         "marker": {
          "color": [
           16.670618773215487,
           15.945676511733973,
           16.799610725600854,
           17.316367686075196,
           16.136725503613263
          ],
          "coloraxis": "coloraxis",
          "pattern": {
           "shape": ""
          }
         },
         "name": "",
         "offsetgroup": "",
         "orientation": "v",
         "showlegend": false,
         "textposition": "auto",
         "type": "bar",
         "x": [
          "18-29",
          "30-39",
          "40-49",
          "50-59",
          "60-90"
         ],
         "xaxis": "x",
         "y": [
          34532,
          14101,
          8713,
          4841,
          1275
         ],
         "yaxis": "y"
        }
       ],
       "layout": {
        "barmode": "relative",
        "coloraxis": {
         "colorbar": {
          "title": {
           "text": "Km/h"
          }
         },
         "colorscale": [
          [
           0,
           "rgb(184,226,177)"
          ],
          [
           0.25,
           "rgb(125,200,125)"
          ],
          [
           0.5,
           "rgb(58,164,88)"
          ],
          [
           0.75,
           "rgb(13,120,53)"
          ],
          [
           1,
           "rgb(0,68,27)"
          ]
         ]
        },
        "font": {
         "family": "Aptos",
         "size": 18
        },
        "height": 600,
        "legend": {
         "tracegroupgap": 0
        },
        "margin": {
         "t": 60
        },
        "template": {},
        "width": 500,
        "xaxis": {
         "anchor": "y",
         "domain": [
          0,
          1
         ],
         "showgrid": false,
         "title": {
          "text": "Age group"
         }
        },
        "yaxis": {
         "anchor": "x",
         "domain": [
          0,
          1
         ],
         "title": {
          "text": "Number of trips"
         }
        }
       }
      }
     },
     "metadata": {},
     "output_type": "display_data"
    }
   ],
   "source": [
    "spped = gm_processing.groupby('AgeBracket')['AvgSpeed'].agg(['mean','count']).reset_index()\n",
    "fig = px.bar(spped, x='AgeBracket', y='count', color='mean',\n",
    "             color_continuous_scale=custom_green_scale,\n",
    "             labels={'mean': 'Km/h', 'count': 'Number of trips', 'AgeBracket':'Age group'})\n",
    "\n",
    "fig.update_layout(width=500,height=600, template=None, font=dict(family='Aptos',size=18))\n",
    "fig.update_traces()\n",
    "# fig.update_yaxes(showgrid=False)\n",
    "fig.update_xaxes(showgrid=False)\n",
    "fig.show()"
   ]
  },
  {
   "cell_type": "code",
   "execution_count": 488,
   "metadata": {},
   "outputs": [
    {
     "data": {
      "application/vnd.plotly.v1+json": {
       "config": {
        "plotlyServerURL": "https://plot.ly"
       },
       "data": [
        {
         "alignmentgroup": "True",
         "hovertemplate": "Weekday=%{x}<br>Number of trips=%{y}<br>Km=%{marker.color}<extra></extra>",
         "legendgroup": "",
         "marker": {
          "color": [
           6.98,
           7.04,
           6.87,
           7.03,
           6.98,
           6.94,
           7.01
          ],
          "coloraxis": "coloraxis",
          "pattern": {
           "shape": ""
          }
         },
         "name": "",
         "offsetgroup": "",
         "orientation": "v",
         "showlegend": false,
         "textposition": "auto",
         "type": "bar",
         "x": [
          "Friday",
          "Monday",
          "Saturday",
          "Sunday",
          "Thursday",
          "Tuesday",
          "Wednesday"
         ],
         "xaxis": "x",
         "y": [
          794,
          652,
          670,
          554,
          721,
          684,
          756
         ],
         "yaxis": "y"
        }
       ],
       "layout": {
        "barmode": "relative",
        "coloraxis": {
         "colorbar": {
          "title": {
           "text": "Km"
          }
         },
         "colorscale": [
          [
           0,
           "rgb(184,226,177)"
          ],
          [
           0.16666666666666666,
           "rgb(146,210,142)"
          ],
          [
           0.3333333333333333,
           "rgb(102,189,111)"
          ],
          [
           0.5,
           "rgb(58,164,88)"
          ],
          [
           0.6666666666666666,
           "rgb(29,134,65)"
          ],
          [
           0.8333333333333334,
           "rgb(0,105,42)"
          ],
          [
           1,
           "rgb(0,68,27)"
          ]
         ]
        },
        "font": {
         "family": "Aptos",
         "size": 20
        },
        "height": 600,
        "legend": {
         "tracegroupgap": 0
        },
        "margin": {
         "t": 60
        },
        "template": {},
        "width": 700,
        "xaxis": {
         "anchor": "y",
         "categoryarray": [
          "Monday",
          "Tuesday",
          "Wednesday",
          "Thursday",
          "Friday",
          "Saturday",
          "Sunday"
         ],
         "categoryorder": "array",
         "domain": [
          0,
          1
         ],
         "showgrid": false,
         "ticktext": [
          "Mon",
          "Tue",
          "Wed",
          "Thu",
          "Fri",
          "Sat",
          "Sun"
         ],
         "tickvals": [
          0,
          1,
          2,
          3,
          4,
          5,
          6
         ],
         "title": {}
        },
        "yaxis": {
         "anchor": "x",
         "domain": [
          0,
          1
         ],
         "showgrid": false,
         "title": {
          "text": "Number of trips"
         }
        }
       }
      }
     },
     "metadata": {},
     "output_type": "display_data"
    }
   ],
   "source": [
    "custom_green_scale = generate_custom_green_scale(7, dark_start=True)\n",
    "\n",
    "agg_trips_km = gm_processing\\\n",
    "    .groupby('Date')[['TripID','KmDriven']].agg({'TripID':'count','KmDriven':'sum'}).reset_index()\n",
    "agg_trips_km['Weekday'] = pd.to_datetime(agg_trips_km['Date']).dt.day_name()\n",
    "daily_trip_km = agg_trips_km.groupby('Weekday').agg({'TripID':'mean','KmDriven':'mean'}).reset_index()\n",
    "daily_trip_km['KmDriven'] = np.round(daily_trip_km['KmDriven']/daily_trip_km['TripID'],decimals=2)\n",
    "daily_trip_km['TripID'] = np.round(daily_trip_km['TripID'],decimals=0).astype(int)\n",
    "daily_trip_km.rename(columns={'TripID':'AvgDemand','KmDriven':'AvgDistance'},inplace=True)\n",
    "\n",
    "orderlist = ['Monday', 'Tuesday', 'Wednesday', 'Thursday', 'Friday', 'Saturday', 'Sunday']\n",
    "\n",
    "fig = px.bar(daily_trip_km, x='Weekday', y='AvgDemand',category_orders={'Weekday':orderlist},color='AvgDistance',\n",
    "             color_continuous_scale=custom_green_scale,\n",
    "             labels={'AvgDistance': 'Km', 'AvgDemand': 'Number of trips'})\n",
    "\n",
    "fig.update_layout(width=700,height=600, template=None, font=dict(family='Aptos',size=20))\n",
    "fig.update_traces()\n",
    "fig.update_yaxes(showgrid=False)\n",
    "fig.update_xaxes(\n",
    "    ticktext=['Mon', 'Tue', 'Wed', 'Thu', 'Fri', 'Sat', 'Sun'],\n",
    "    tickvals=[0, 1, 2, 3, 4, 5, 6], showgrid=False, title=None\n",
    ")\n",
    "\n",
    "fig.show()"
   ]
  },
  {
   "cell_type": "code",
   "execution_count": 500,
   "metadata": {},
   "outputs": [
    {
     "data": {
      "application/vnd.plotly.v1+json": {
       "config": {
        "plotlyServerURL": "https://plot.ly"
       },
       "data": [
        {
         "marker": {
          "color": [
           11.043478260869565,
           6.891304347826087,
           4.706521739130435,
           3.8260869565217392,
           5,
           10.032608695652174,
           17.858695652173914,
           37.04347826086956,
           42.51086956521739,
           32.18478260869565,
           28.630434782608695,
           32.56521739130435,
           34.30434782608695,
           38.09782608695652,
           41.54347826086956,
           45.869565217391305,
           51.41304347826087,
           54.78260869565217,
           46.41304347826087,
           37.57608695652174,
           35.869565217391305,
           31.17391304347826,
           23.52173913043478,
           16.956521739130434
          ],
          "colorscale": [
           [
            0,
            "rgb(184,226,177)"
           ],
           [
            0.043478260869565216,
            "rgb(174,222,168)"
           ],
           [
            0.08695652173913043,
            "rgb(165,218,159)"
           ],
           [
            0.13043478260869565,
            "rgb(154,214,149)"
           ],
           [
            0.17391304347826086,
            "rgb(144,209,141)"
           ],
           [
            0.21739130434782608,
            "rgb(133,204,132)"
           ],
           [
            0.2608695652173913,
            "rgb(122,198,123)"
           ],
           [
            0.30434782608695654,
            "rgb(110,193,115)"
           ],
           [
            0.34782608695652173,
            "rgb(97,186,108)"
           ],
           [
            0.391304347826087,
            "rgb(86,181,103)"
           ],
           [
            0.43478260869565216,
            "rgb(73,175,97)"
           ],
           [
            0.4782608695652174,
            "rgb(62,168,91)"
           ],
           [
            0.5217391304347826,
            "rgb(55,160,85)"
           ],
           [
            0.5652173913043478,
            "rgb(47,152,78)"
           ],
           [
            0.6086956521739131,
            "rgb(40,145,73)"
           ],
           [
            0.6521739130434783,
            "rgb(33,137,67)"
           ],
           [
            0.6956521739130435,
            "rgb(24,129,61)"
           ],
           [
            0.7391304347826086,
            "rgb(15,122,55)"
           ],
           [
            0.782608695652174,
            "rgb(6,114,48)"
           ],
           [
            0.8260869565217391,
            "rgb(0,107,43)"
           ],
           [
            0.8695652173913043,
            "rgb(0,97,39)"
           ],
           [
            0.9130434782608695,
            "rgb(0,87,35)"
           ],
           [
            0.9565217391304348,
            "rgb(0,77,30)"
           ],
           [
            1,
            "rgb(0,68,27)"
           ]
          ],
          "line": {
           "color": "white",
           "width": 2
          }
         },
         "opacity": 0.9,
         "r": [
          11.043478260869565,
          6.891304347826087,
          4.706521739130435,
          3.8260869565217392,
          5,
          10.032608695652174,
          17.858695652173914,
          37.04347826086956,
          42.51086956521739,
          32.18478260869565,
          28.630434782608695,
          32.56521739130435,
          34.30434782608695,
          38.09782608695652,
          41.54347826086956,
          45.869565217391305,
          51.41304347826087,
          54.78260869565217,
          46.41304347826087,
          37.57608695652174,
          35.869565217391305,
          31.17391304347826,
          23.52173913043478,
          16.956521739130434
         ],
         "theta": [
          -7.5,
          7.5,
          22.5,
          37.5,
          52.5,
          67.5,
          82.5,
          97.5,
          112.5,
          127.5,
          142.5,
          157.5,
          172.5,
          187.5,
          202.5,
          217.5,
          232.5,
          247.5,
          262.5,
          277.5,
          292.5,
          307.5,
          322.5,
          337.5
         ],
         "type": "barpolar",
         "width": [
          15,
          15,
          15,
          15,
          15,
          15,
          15,
          15,
          15,
          15,
          15,
          15,
          15,
          15,
          15,
          15,
          15,
          15,
          15,
          15,
          15,
          15,
          15,
          15
         ]
        }
       ],
       "layout": {
        "polar": {
         "angularaxis": {
          "direction": "clockwise",
          "gridcolor": "white",
          "linecolor": "white",
          "period": 24,
          "showline": true,
          "showticklabels": true,
          "ticks": "",
          "ticktext": [
           "0:00",
           "",
           "",
           "",
           "",
           "",
           "6:00",
           "",
           "",
           "",
           "",
           "",
           "12:00",
           "",
           "",
           "",
           "",
           "",
           "18:00",
           "",
           "",
           "",
           "",
           ""
          ],
          "tickvals": [
           0,
           15,
           30,
           45,
           60,
           75,
           90,
           105,
           120,
           135,
           150,
           165,
           180,
           195,
           210,
           225,
           240,
           255,
           270,
           285,
           300,
           315,
           330,
           345
          ]
         },
         "bgcolor": "rgb(223, 223,223)",
         "hole": 0.4,
         "radialaxis": {
          "linecolor": "white",
          "linewidth": 2,
          "showgrid": false,
          "showticklabels": false,
          "ticks": ""
         }
        },
        "template": {}
       }
      }
     },
     "metadata": {},
     "output_type": "display_data"
    }
   ],
   "source": [
    "# sn_processing['Date'] = sn_processing['StartTime'].dt.date\n",
    "days = gm_processing.groupby(['Date','StartHour']).agg({'TripID':'count'}).reset_index()\n",
    "dfplot = days.groupby('StartHour').agg({'TripID':'mean'},).reset_index().rename(columns={'TripID':'AvgDemand'})\n",
    "\n",
    "custom_green_scale = generate_custom_green_scale(24, dark_start=True)\n",
    "\n",
    "r = dfplot['AvgDemand'].tolist()\n",
    "theta = np.arange(0,360,15)\n",
    "width = [15]*24\n",
    "\n",
    "ticktexts = [str(i)+\":00\" if i % 6 == 0 else '' for i in np.arange(24)]\n",
    "\n",
    "fig = go.Figure(go.Barpolar(\n",
    "    r=r,\n",
    "    theta=[i-7.5 for i in theta],\n",
    "    width=width,\n",
    "    marker_color=dfplot['AvgDemand'],\n",
    "    marker_colorscale=custom_green_scale,\n",
    "    marker_line_color=\"white\",\n",
    "    marker_line_width=2,\n",
    "    opacity=0.9\n",
    "))\n",
    "\n",
    "fig.update_layout(\n",
    "    template=None,\n",
    "    polar=dict(\n",
    "        hole=0.4,\n",
    "        bgcolor='rgb(223, 223,223)',\n",
    "        radialaxis=dict(\n",
    "            showticklabels=False,\n",
    "            ticks='',\n",
    "            linewidth=2,\n",
    "            linecolor='white',\n",
    "            showgrid=False,\n",
    "        ),\n",
    "        angularaxis=dict(\n",
    "            tickvals=[i for i in theta],\n",
    "            ticktext=ticktexts,\n",
    "            showline=True,\n",
    "            direction='clockwise',\n",
    "            period=24,\n",
    "            linecolor='white',\n",
    "            gridcolor='white',\n",
    "            showticklabels=True,\n",
    "            ticks=''\n",
    "        )\n",
    "    )\n",
    ")\n",
    "\n",
    "fig.show()"
   ]
  },
  {
   "cell_type": "code",
   "execution_count": 502,
   "metadata": {},
   "outputs": [
    {
     "data": {
      "text/html": [
       "<div>\n",
       "<style scoped>\n",
       "    .dataframe tbody tr th:only-of-type {\n",
       "        vertical-align: middle;\n",
       "    }\n",
       "\n",
       "    .dataframe tbody tr th {\n",
       "        vertical-align: top;\n",
       "    }\n",
       "\n",
       "    .dataframe thead th {\n",
       "        text-align: right;\n",
       "    }\n",
       "</style>\n",
       "<table border=\"1\" class=\"dataframe\">\n",
       "  <thead>\n",
       "    <tr style=\"text-align: right;\">\n",
       "      <th></th>\n",
       "      <th>StartHour</th>\n",
       "      <th>AvgDemand</th>\n",
       "    </tr>\n",
       "  </thead>\n",
       "  <tbody>\n",
       "    <tr>\n",
       "      <th>0</th>\n",
       "      <td>0.0</td>\n",
       "      <td>11.043478</td>\n",
       "    </tr>\n",
       "    <tr>\n",
       "      <th>1</th>\n",
       "      <td>1.0</td>\n",
       "      <td>6.891304</td>\n",
       "    </tr>\n",
       "    <tr>\n",
       "      <th>2</th>\n",
       "      <td>2.0</td>\n",
       "      <td>4.706522</td>\n",
       "    </tr>\n",
       "    <tr>\n",
       "      <th>3</th>\n",
       "      <td>3.0</td>\n",
       "      <td>3.826087</td>\n",
       "    </tr>\n",
       "    <tr>\n",
       "      <th>4</th>\n",
       "      <td>4.0</td>\n",
       "      <td>5.000000</td>\n",
       "    </tr>\n",
       "    <tr>\n",
       "      <th>5</th>\n",
       "      <td>5.0</td>\n",
       "      <td>10.032609</td>\n",
       "    </tr>\n",
       "    <tr>\n",
       "      <th>6</th>\n",
       "      <td>6.0</td>\n",
       "      <td>17.858696</td>\n",
       "    </tr>\n",
       "    <tr>\n",
       "      <th>7</th>\n",
       "      <td>7.0</td>\n",
       "      <td>37.043478</td>\n",
       "    </tr>\n",
       "    <tr>\n",
       "      <th>8</th>\n",
       "      <td>8.0</td>\n",
       "      <td>42.510870</td>\n",
       "    </tr>\n",
       "    <tr>\n",
       "      <th>9</th>\n",
       "      <td>9.0</td>\n",
       "      <td>32.184783</td>\n",
       "    </tr>\n",
       "    <tr>\n",
       "      <th>10</th>\n",
       "      <td>10.0</td>\n",
       "      <td>28.630435</td>\n",
       "    </tr>\n",
       "    <tr>\n",
       "      <th>11</th>\n",
       "      <td>11.0</td>\n",
       "      <td>32.565217</td>\n",
       "    </tr>\n",
       "    <tr>\n",
       "      <th>12</th>\n",
       "      <td>12.0</td>\n",
       "      <td>34.304348</td>\n",
       "    </tr>\n",
       "    <tr>\n",
       "      <th>13</th>\n",
       "      <td>13.0</td>\n",
       "      <td>38.097826</td>\n",
       "    </tr>\n",
       "    <tr>\n",
       "      <th>14</th>\n",
       "      <td>14.0</td>\n",
       "      <td>41.543478</td>\n",
       "    </tr>\n",
       "    <tr>\n",
       "      <th>15</th>\n",
       "      <td>15.0</td>\n",
       "      <td>45.869565</td>\n",
       "    </tr>\n",
       "    <tr>\n",
       "      <th>16</th>\n",
       "      <td>16.0</td>\n",
       "      <td>51.413043</td>\n",
       "    </tr>\n",
       "    <tr>\n",
       "      <th>17</th>\n",
       "      <td>17.0</td>\n",
       "      <td>54.782609</td>\n",
       "    </tr>\n",
       "    <tr>\n",
       "      <th>18</th>\n",
       "      <td>18.0</td>\n",
       "      <td>46.413043</td>\n",
       "    </tr>\n",
       "    <tr>\n",
       "      <th>19</th>\n",
       "      <td>19.0</td>\n",
       "      <td>37.576087</td>\n",
       "    </tr>\n",
       "    <tr>\n",
       "      <th>20</th>\n",
       "      <td>20.0</td>\n",
       "      <td>35.869565</td>\n",
       "    </tr>\n",
       "    <tr>\n",
       "      <th>21</th>\n",
       "      <td>21.0</td>\n",
       "      <td>31.173913</td>\n",
       "    </tr>\n",
       "    <tr>\n",
       "      <th>22</th>\n",
       "      <td>22.0</td>\n",
       "      <td>23.521739</td>\n",
       "    </tr>\n",
       "    <tr>\n",
       "      <th>23</th>\n",
       "      <td>23.0</td>\n",
       "      <td>16.956522</td>\n",
       "    </tr>\n",
       "  </tbody>\n",
       "</table>\n",
       "</div>"
      ],
      "text/plain": [
       "   StartHour  AvgDemand\n",
       "0        0.0  11.043478\n",
       "1        1.0   6.891304\n",
       "2        2.0   4.706522\n",
       "3        3.0   3.826087\n",
       "4        4.0   5.000000\n",
       "5        5.0  10.032609\n",
       "6        6.0  17.858696\n",
       "7        7.0  37.043478\n",
       "8        8.0  42.510870\n",
       "9        9.0  32.184783\n",
       "10      10.0  28.630435\n",
       "11      11.0  32.565217\n",
       "12      12.0  34.304348\n",
       "13      13.0  38.097826\n",
       "14      14.0  41.543478\n",
       "15      15.0  45.869565\n",
       "16      16.0  51.413043\n",
       "17      17.0  54.782609\n",
       "18      18.0  46.413043\n",
       "19      19.0  37.576087\n",
       "20      20.0  35.869565\n",
       "21      21.0  31.173913\n",
       "22      22.0  23.521739\n",
       "23      23.0  16.956522"
      ]
     },
     "execution_count": 502,
     "metadata": {},
     "output_type": "execute_result"
    }
   ],
   "source": [
    "dfplot"
   ]
  },
  {
   "cell_type": "code",
   "execution_count": 499,
   "metadata": {},
   "outputs": [
    {
     "data": {
      "image/png": "[encoded data removed]",
      "text/plain": [
       "<Figure size 1000x500 with 1 Axes>"
      ]
     },
     "metadata": {},
     "output_type": "display_data"
    }
   ],
   "source": [
    "gm_test['HaversineDistance'] = hsd(gm_test['LatitudeStart'], gm_test['LongitudeStart'],gm_test['LatitudeEnd'], gm_test['LongitudeEnd'])\n",
    "\n",
    "# # scatterplot of gm_processing['KmDriven'] vs. gm_processing['HaveDistance']\n",
    "\n",
    "plt.figure(figsize=(10, 5))\n",
    "sns.scatterplot(data=gm_test, x='KmDriven', y='HaversineDistance', color='seagreen', alpha=0.005)\n",
    "sns.set_style('whitegrid')\n",
    "sns.despine()\n",
    "plt.grid(False)\n",
    "plt.title('KmDriven vs. HaversineDistance')\n",
    "plt.show()"
   ]
  },
  {
   "cell_type": "code",
   "execution_count": 498,
   "metadata": {},
   "outputs": [
    {
     "data": {
      "image/png": "[encoded data removed]",
      "text/plain": [
       "<Figure size 1000x500 with 1 Axes>"
      ]
     },
     "metadata": {},
     "output_type": "display_data"
    }
   ],
   "source": [
    "# # scatterplot of gm_processing['KmDriven'] vs. gm_processing['HaveDistance']\n",
    "\n",
    "plt.figure(figsize=(10, 5))\n",
    "sns.scatterplot(data=sn_processing[(sn_processing['KmDriven']>=3)&(sn_processing['KmDriven']<40)], x='KmDriven', y='HaversineDistance', color='darkblue', alpha=0.005)\n",
    "sns.set_style('whitegrid')\n",
    "sns.despine()\n",
    "plt.grid(False)\n",
    "plt.title('KmDriven vs. HaversineDistance')\n",
    "plt.show()"
   ]
  },
  {
   "cell_type": "code",
   "execution_count": 503,
   "metadata": {},
   "outputs": [
    {
     "data": {
      "text/html": [
       "<style type=\"text/css\">\n",
       "</style>\n",
       "<table id=\"T_3f8e5\">\n",
       "  <thead>\n",
       "    <tr>\n",
       "      <th class=\"blank level0\" >&nbsp;</th>\n",
       "      <th id=\"T_3f8e5_level0_col0\" class=\"col_heading level0 col0\" >count</th>\n",
       "      <th id=\"T_3f8e5_level0_col1\" class=\"col_heading level0 col1\" >mean</th>\n",
       "      <th id=\"T_3f8e5_level0_col2\" class=\"col_heading level0 col2\" >std</th>\n",
       "      <th id=\"T_3f8e5_level0_col3\" class=\"col_heading level0 col3\" >min</th>\n",
       "      <th id=\"T_3f8e5_level0_col4\" class=\"col_heading level0 col4\" >25%</th>\n",
       "      <th id=\"T_3f8e5_level0_col5\" class=\"col_heading level0 col5\" >50%</th>\n",
       "      <th id=\"T_3f8e5_level0_col6\" class=\"col_heading level0 col6\" >75%</th>\n",
       "      <th id=\"T_3f8e5_level0_col7\" class=\"col_heading level0 col7\" >max</th>\n",
       "    </tr>\n",
       "  </thead>\n",
       "  <tbody>\n",
       "    <tr>\n",
       "      <th id=\"T_3f8e5_level0_row0\" class=\"row_heading level0 row0\" >FromZoneID</th>\n",
       "      <td id=\"T_3f8e5_row0_col0\" class=\"data row0 col0\" >169130.00</td>\n",
       "      <td id=\"T_3f8e5_row0_col1\" class=\"data row0 col1\" >146087.19</td>\n",
       "      <td id=\"T_3f8e5_row0_col2\" class=\"data row0 col2\" >49799.75</td>\n",
       "      <td id=\"T_3f8e5_row0_col3\" class=\"data row0 col3\" >102110.00</td>\n",
       "      <td id=\"T_3f8e5_row0_col4\" class=\"data row0 col4\" >102550.00</td>\n",
       "      <td id=\"T_3f8e5_row0_col5\" class=\"data row0 col5\" >147210.00</td>\n",
       "      <td id=\"T_3f8e5_row0_col6\" class=\"data row0 col6\" >165040.00</td>\n",
       "      <td id=\"T_3f8e5_row0_col7\" class=\"data row0 col7\" >999100.00</td>\n",
       "    </tr>\n",
       "    <tr>\n",
       "      <th id=\"T_3f8e5_level0_row1\" class=\"row_heading level0 row1\" >ToZoneID</th>\n",
       "      <td id=\"T_3f8e5_row1_col0\" class=\"data row1 col0\" >169130.00</td>\n",
       "      <td id=\"T_3f8e5_row1_col1\" class=\"data row1 col1\" >146049.73</td>\n",
       "      <td id=\"T_3f8e5_row1_col2\" class=\"data row1 col2\" >49764.17</td>\n",
       "      <td id=\"T_3f8e5_row1_col3\" class=\"data row1 col3\" >102110.00</td>\n",
       "      <td id=\"T_3f8e5_row1_col4\" class=\"data row1 col4\" >102540.00</td>\n",
       "      <td id=\"T_3f8e5_row1_col5\" class=\"data row1 col5\" >147210.00</td>\n",
       "      <td id=\"T_3f8e5_row1_col6\" class=\"data row1 col6\" >165040.00</td>\n",
       "      <td id=\"T_3f8e5_row1_col7\" class=\"data row1 col7\" >912140.00</td>\n",
       "    </tr>\n",
       "    <tr>\n",
       "      <th id=\"T_3f8e5_level0_row2\" class=\"row_heading level0 row2\" >DriveLength</th>\n",
       "      <td id=\"T_3f8e5_row2_col0\" class=\"data row2 col0\" >169126.00</td>\n",
       "      <td id=\"T_3f8e5_row2_col1\" class=\"data row2 col1\" >14.23</td>\n",
       "      <td id=\"T_3f8e5_row2_col2\" class=\"data row2 col2\" >16.22</td>\n",
       "      <td id=\"T_3f8e5_row2_col3\" class=\"data row2 col3\" >0.54</td>\n",
       "      <td id=\"T_3f8e5_row2_col4\" class=\"data row2 col4\" >3.19</td>\n",
       "      <td id=\"T_3f8e5_row2_col5\" class=\"data row2 col5\" >6.98</td>\n",
       "      <td id=\"T_3f8e5_row2_col6\" class=\"data row2 col6\" >19.05</td>\n",
       "      <td id=\"T_3f8e5_row2_col7\" class=\"data row2 col7\" >102.00</td>\n",
       "    </tr>\n",
       "    <tr>\n",
       "      <th id=\"T_3f8e5_level0_row3\" class=\"row_heading level0 row3\" >FreeTime</th>\n",
       "      <td id=\"T_3f8e5_row3_col0\" class=\"data row3 col0\" >169126.00</td>\n",
       "      <td id=\"T_3f8e5_row3_col1\" class=\"data row3 col1\" >13.49</td>\n",
       "      <td id=\"T_3f8e5_row3_col2\" class=\"data row3 col2\" >11.40</td>\n",
       "      <td id=\"T_3f8e5_row3_col3\" class=\"data row3 col3\" >1.27</td>\n",
       "      <td id=\"T_3f8e5_row3_col4\" class=\"data row3 col4\" >5.92</td>\n",
       "      <td id=\"T_3f8e5_row3_col5\" class=\"data row3 col5\" >8.76</td>\n",
       "      <td id=\"T_3f8e5_row3_col6\" class=\"data row3 col6\" >17.89</td>\n",
       "      <td id=\"T_3f8e5_row3_col7\" class=\"data row3 col7\" >74.20</td>\n",
       "    </tr>\n",
       "    <tr>\n",
       "      <th id=\"T_3f8e5_level0_row4\" class=\"row_heading level0 row4\" >CongTime</th>\n",
       "      <td id=\"T_3f8e5_row4_col0\" class=\"data row4 col0\" >169126.00</td>\n",
       "      <td id=\"T_3f8e5_row4_col1\" class=\"data row4 col1\" >0.00</td>\n",
       "      <td id=\"T_3f8e5_row4_col2\" class=\"data row4 col2\" >0.01</td>\n",
       "      <td id=\"T_3f8e5_row4_col3\" class=\"data row4 col3\" >0.00</td>\n",
       "      <td id=\"T_3f8e5_row4_col4\" class=\"data row4 col4\" >0.00</td>\n",
       "      <td id=\"T_3f8e5_row4_col5\" class=\"data row4 col5\" >0.00</td>\n",
       "      <td id=\"T_3f8e5_row4_col6\" class=\"data row4 col6\" >0.00</td>\n",
       "      <td id=\"T_3f8e5_row4_col7\" class=\"data row4 col7\" >0.19</td>\n",
       "    </tr>\n",
       "    <tr>\n",
       "      <th id=\"T_3f8e5_level0_row5\" class=\"row_heading level0 row5\" >CarGenCost</th>\n",
       "      <td id=\"T_3f8e5_row5_col0\" class=\"data row5 col0\" >169126.00</td>\n",
       "      <td id=\"T_3f8e5_row5_col1\" class=\"data row5 col1\" >51.54</td>\n",
       "      <td id=\"T_3f8e5_row5_col2\" class=\"data row5 col2\" >46.79</td>\n",
       "      <td id=\"T_3f8e5_row5_col3\" class=\"data row5 col3\" >0.00</td>\n",
       "      <td id=\"T_3f8e5_row5_col4\" class=\"data row5 col4\" >18.35</td>\n",
       "      <td id=\"T_3f8e5_row5_col5\" class=\"data row5 col5\" >35.41</td>\n",
       "      <td id=\"T_3f8e5_row5_col6\" class=\"data row5 col6\" >73.81</td>\n",
       "      <td id=\"T_3f8e5_row5_col7\" class=\"data row5 col7\" >324.25</td>\n",
       "    </tr>\n",
       "    <tr>\n",
       "      <th id=\"T_3f8e5_level0_row6\" class=\"row_heading level0 row6\" >NoOfChange</th>\n",
       "      <td id=\"T_3f8e5_row6_col0\" class=\"data row6 col0\" >169126.00</td>\n",
       "      <td id=\"T_3f8e5_row6_col1\" class=\"data row6 col1\" >0.54</td>\n",
       "      <td id=\"T_3f8e5_row6_col2\" class=\"data row6 col2\" >0.68</td>\n",
       "      <td id=\"T_3f8e5_row6_col3\" class=\"data row6 col3\" >0.00</td>\n",
       "      <td id=\"T_3f8e5_row6_col4\" class=\"data row6 col4\" >0.00</td>\n",
       "      <td id=\"T_3f8e5_row6_col5\" class=\"data row6 col5\" >0.10</td>\n",
       "      <td id=\"T_3f8e5_row6_col6\" class=\"data row6 col6\" >1.00</td>\n",
       "      <td id=\"T_3f8e5_row6_col7\" class=\"data row6 col7\" >4.44</td>\n",
       "    </tr>\n",
       "    <tr>\n",
       "      <th id=\"T_3f8e5_level0_row7\" class=\"row_heading level0 row7\" >WaitT</th>\n",
       "      <td id=\"T_3f8e5_row7_col0\" class=\"data row7 col0\" >169126.00</td>\n",
       "      <td id=\"T_3f8e5_row7_col1\" class=\"data row7 col1\" >1.17</td>\n",
       "      <td id=\"T_3f8e5_row7_col2\" class=\"data row7 col2\" >2.08</td>\n",
       "      <td id=\"T_3f8e5_row7_col3\" class=\"data row7 col3\" >0.00</td>\n",
       "      <td id=\"T_3f8e5_row7_col4\" class=\"data row7 col4\" >0.00</td>\n",
       "      <td id=\"T_3f8e5_row7_col5\" class=\"data row7 col5\" >0.06</td>\n",
       "      <td id=\"T_3f8e5_row7_col6\" class=\"data row7 col6\" >1.51</td>\n",
       "      <td id=\"T_3f8e5_row7_col7\" class=\"data row7 col7\" >41.36</td>\n",
       "    </tr>\n",
       "    <tr>\n",
       "      <th id=\"T_3f8e5_level0_row8\" class=\"row_heading level0 row8\" >ZoneWaitT</th>\n",
       "      <td id=\"T_3f8e5_row8_col0\" class=\"data row8 col0\" >169126.00</td>\n",
       "      <td id=\"T_3f8e5_row8_col1\" class=\"data row8 col1\" >5.71</td>\n",
       "      <td id=\"T_3f8e5_row8_col2\" class=\"data row8 col2\" >4.14</td>\n",
       "      <td id=\"T_3f8e5_row8_col3\" class=\"data row8 col3\" >0.36</td>\n",
       "      <td id=\"T_3f8e5_row8_col4\" class=\"data row8 col4\" >2.76</td>\n",
       "      <td id=\"T_3f8e5_row8_col5\" class=\"data row8 col5\" >4.39</td>\n",
       "      <td id=\"T_3f8e5_row8_col6\" class=\"data row8 col6\" >7.01</td>\n",
       "      <td id=\"T_3f8e5_row8_col7\" class=\"data row8 col7\" >55.11</td>\n",
       "    </tr>\n",
       "    <tr>\n",
       "      <th id=\"T_3f8e5_level0_row9\" class=\"row_heading level0 row9\" >ZoneConT</th>\n",
       "      <td id=\"T_3f8e5_row9_col0\" class=\"data row9 col0\" >169126.00</td>\n",
       "      <td id=\"T_3f8e5_row9_col1\" class=\"data row9 col1\" >15.11</td>\n",
       "      <td id=\"T_3f8e5_row9_col2\" class=\"data row9 col2\" >7.19</td>\n",
       "      <td id=\"T_3f8e5_row9_col3\" class=\"data row9 col3\" >3.00</td>\n",
       "      <td id=\"T_3f8e5_row9_col4\" class=\"data row9 col4\" >10.09</td>\n",
       "      <td id=\"T_3f8e5_row9_col5\" class=\"data row9 col5\" >14.83</td>\n",
       "      <td id=\"T_3f8e5_row9_col6\" class=\"data row9 col6\" >19.50</td>\n",
       "      <td id=\"T_3f8e5_row9_col7\" class=\"data row9 col7\" >51.49</td>\n",
       "    </tr>\n",
       "    <tr>\n",
       "      <th id=\"T_3f8e5_level0_row10\" class=\"row_heading level0 row10\" >InVehicleT</th>\n",
       "      <td id=\"T_3f8e5_row10_col0\" class=\"data row10 col0\" >169126.00</td>\n",
       "      <td id=\"T_3f8e5_row10_col1\" class=\"data row10 col1\" >20.17</td>\n",
       "      <td id=\"T_3f8e5_row10_col2\" class=\"data row10 col2\" >19.96</td>\n",
       "      <td id=\"T_3f8e5_row10_col3\" class=\"data row10 col3\" >0.14</td>\n",
       "      <td id=\"T_3f8e5_row10_col4\" class=\"data row10 col4\" >5.87</td>\n",
       "      <td id=\"T_3f8e5_row10_col5\" class=\"data row10 col5\" >13.39</td>\n",
       "      <td id=\"T_3f8e5_row10_col6\" class=\"data row10 col6\" >27.27</td>\n",
       "      <td id=\"T_3f8e5_row10_col7\" class=\"data row10 col7\" >139.75</td>\n",
       "    </tr>\n",
       "    <tr>\n",
       "      <th id=\"T_3f8e5_level0_row11\" class=\"row_heading level0 row11\" >PubDist</th>\n",
       "      <td id=\"T_3f8e5_row11_col0\" class=\"data row11 col0\" >169126.00</td>\n",
       "      <td id=\"T_3f8e5_row11_col1\" class=\"data row11 col1\" >15.96</td>\n",
       "      <td id=\"T_3f8e5_row11_col2\" class=\"data row11 col2\" >18.94</td>\n",
       "      <td id=\"T_3f8e5_row11_col3\" class=\"data row11 col3\" >0.43</td>\n",
       "      <td id=\"T_3f8e5_row11_col4\" class=\"data row11 col4\" >3.32</td>\n",
       "      <td id=\"T_3f8e5_row11_col5\" class=\"data row11 col5\" >7.85</td>\n",
       "      <td id=\"T_3f8e5_row11_col6\" class=\"data row11 col6\" >20.49</td>\n",
       "      <td id=\"T_3f8e5_row11_col7\" class=\"data row11 col7\" >127.50</td>\n",
       "    </tr>\n",
       "    <tr>\n",
       "      <th id=\"T_3f8e5_level0_row12\" class=\"row_heading level0 row12\" >PubGenCost</th>\n",
       "      <td id=\"T_3f8e5_row12_col0\" class=\"data row12 col0\" >169126.00</td>\n",
       "      <td id=\"T_3f8e5_row12_col1\" class=\"data row12 col1\" >23.22</td>\n",
       "      <td id=\"T_3f8e5_row12_col2\" class=\"data row12 col2\" >16.79</td>\n",
       "      <td id=\"T_3f8e5_row12_col3\" class=\"data row12 col3\" >0.00</td>\n",
       "      <td id=\"T_3f8e5_row12_col4\" class=\"data row12 col4\" >12.09</td>\n",
       "      <td id=\"T_3f8e5_row12_col5\" class=\"data row12 col5\" >19.13</td>\n",
       "      <td id=\"T_3f8e5_row12_col6\" class=\"data row12 col6\" >30.98</td>\n",
       "      <td id=\"T_3f8e5_row12_col7\" class=\"data row12 col7\" >111.60</td>\n",
       "    </tr>\n",
       "    <tr>\n",
       "      <th id=\"T_3f8e5_level0_row13\" class=\"row_heading level0 row13\" >OBJECTID</th>\n",
       "      <td id=\"T_3f8e5_row13_col0\" class=\"data row13 col0\" >110444.00</td>\n",
       "      <td id=\"T_3f8e5_row13_col1\" class=\"data row13 col1\" >-1.00</td>\n",
       "      <td id=\"T_3f8e5_row13_col2\" class=\"data row13 col2\" >0.00</td>\n",
       "      <td id=\"T_3f8e5_row13_col3\" class=\"data row13 col3\" >-1.00</td>\n",
       "      <td id=\"T_3f8e5_row13_col4\" class=\"data row13 col4\" >-1.00</td>\n",
       "      <td id=\"T_3f8e5_row13_col5\" class=\"data row13 col5\" >-1.00</td>\n",
       "      <td id=\"T_3f8e5_row13_col6\" class=\"data row13 col6\" >-1.00</td>\n",
       "      <td id=\"T_3f8e5_row13_col7\" class=\"data row13 col7\" >-1.00</td>\n",
       "    </tr>\n",
       "    <tr>\n",
       "      <th id=\"T_3f8e5_level0_row14\" class=\"row_heading level0 row14\" >id</th>\n",
       "      <td id=\"T_3f8e5_row14_col0\" class=\"data row14 col0\" >110444.00</td>\n",
       "      <td id=\"T_3f8e5_row14_col1\" class=\"data row14 col1\" >164275.59</td>\n",
       "      <td id=\"T_3f8e5_row14_col2\" class=\"data row14 col2\" >48609.86</td>\n",
       "      <td id=\"T_3f8e5_row14_col3\" class=\"data row14 col3\" >82200.00</td>\n",
       "      <td id=\"T_3f8e5_row14_col4\" class=\"data row14 col4\" >121883.75</td>\n",
       "      <td id=\"T_3f8e5_row14_col5\" class=\"data row14 col5\" >162940.50</td>\n",
       "      <td id=\"T_3f8e5_row14_col6\" class=\"data row14 col6\" >207157.25</td>\n",
       "      <td id=\"T_3f8e5_row14_col7\" class=\"data row14 col7\" >368960.00</td>\n",
       "    </tr>\n",
       "    <tr>\n",
       "      <th id=\"T_3f8e5_level0_row15\" class=\"row_heading level0 row15\" >vehicleId</th>\n",
       "      <td id=\"T_3f8e5_row15_col0\" class=\"data row15 col0\" >110444.00</td>\n",
       "      <td id=\"T_3f8e5_row15_col1\" class=\"data row15 col1\" >202.59</td>\n",
       "      <td id=\"T_3f8e5_row15_col2\" class=\"data row15 col2\" >118.33</td>\n",
       "      <td id=\"T_3f8e5_row15_col3\" class=\"data row15 col3\" >2.00</td>\n",
       "      <td id=\"T_3f8e5_row15_col4\" class=\"data row15 col4\" >99.00</td>\n",
       "      <td id=\"T_3f8e5_row15_col5\" class=\"data row15 col5\" >204.00</td>\n",
       "      <td id=\"T_3f8e5_row15_col6\" class=\"data row15 col6\" >307.00</td>\n",
       "      <td id=\"T_3f8e5_row15_col7\" class=\"data row15 col7\" >411.00</td>\n",
       "    </tr>\n",
       "    <tr>\n",
       "      <th id=\"T_3f8e5_level0_row16\" class=\"row_heading level0 row16\" >startPositionLat</th>\n",
       "      <td id=\"T_3f8e5_row16_col0\" class=\"data row16 col0\" >110444.00</td>\n",
       "      <td id=\"T_3f8e5_row16_col1\" class=\"data row16 col1\" >55.70</td>\n",
       "      <td id=\"T_3f8e5_row16_col2\" class=\"data row16 col2\" >0.04</td>\n",
       "      <td id=\"T_3f8e5_row16_col3\" class=\"data row16 col3\" >55.61</td>\n",
       "      <td id=\"T_3f8e5_row16_col4\" class=\"data row16 col4\" >55.67</td>\n",
       "      <td id=\"T_3f8e5_row16_col5\" class=\"data row16 col5\" >55.70</td>\n",
       "      <td id=\"T_3f8e5_row16_col6\" class=\"data row16 col6\" >55.73</td>\n",
       "      <td id=\"T_3f8e5_row16_col7\" class=\"data row16 col7\" >59.49</td>\n",
       "    </tr>\n",
       "    <tr>\n",
       "      <th id=\"T_3f8e5_level0_row17\" class=\"row_heading level0 row17\" >startPositionLng</th>\n",
       "      <td id=\"T_3f8e5_row17_col0\" class=\"data row17 col0\" >110444.00</td>\n",
       "      <td id=\"T_3f8e5_row17_col1\" class=\"data row17 col1\" >12.56</td>\n",
       "      <td id=\"T_3f8e5_row17_col2\" class=\"data row17 col2\" >0.38</td>\n",
       "      <td id=\"T_3f8e5_row17_col3\" class=\"data row17 col3\" >-112.09</td>\n",
       "      <td id=\"T_3f8e5_row17_col4\" class=\"data row17 col4\" >12.53</td>\n",
       "      <td id=\"T_3f8e5_row17_col5\" class=\"data row17 col5\" >12.56</td>\n",
       "      <td id=\"T_3f8e5_row17_col6\" class=\"data row17 col6\" >12.58</td>\n",
       "      <td id=\"T_3f8e5_row17_col7\" class=\"data row17 col7\" >13.05</td>\n",
       "    </tr>\n",
       "    <tr>\n",
       "      <th id=\"T_3f8e5_level0_row18\" class=\"row_heading level0 row18\" >endPositionLat</th>\n",
       "      <td id=\"T_3f8e5_row18_col0\" class=\"data row18 col0\" >110444.00</td>\n",
       "      <td id=\"T_3f8e5_row18_col1\" class=\"data row18 col1\" >55.70</td>\n",
       "      <td id=\"T_3f8e5_row18_col2\" class=\"data row18 col2\" >0.04</td>\n",
       "      <td id=\"T_3f8e5_row18_col3\" class=\"data row18 col3\" >55.48</td>\n",
       "      <td id=\"T_3f8e5_row18_col4\" class=\"data row18 col4\" >55.67</td>\n",
       "      <td id=\"T_3f8e5_row18_col5\" class=\"data row18 col5\" >55.70</td>\n",
       "      <td id=\"T_3f8e5_row18_col6\" class=\"data row18 col6\" >55.73</td>\n",
       "      <td id=\"T_3f8e5_row18_col7\" class=\"data row18 col7\" >55.81</td>\n",
       "    </tr>\n",
       "    <tr>\n",
       "      <th id=\"T_3f8e5_level0_row19\" class=\"row_heading level0 row19\" >endPositionLng</th>\n",
       "      <td id=\"T_3f8e5_row19_col0\" class=\"data row19 col0\" >110444.00</td>\n",
       "      <td id=\"T_3f8e5_row19_col1\" class=\"data row19 col1\" >12.56</td>\n",
       "      <td id=\"T_3f8e5_row19_col2\" class=\"data row19 col2\" >0.04</td>\n",
       "      <td id=\"T_3f8e5_row19_col3\" class=\"data row19 col3\" >11.86</td>\n",
       "      <td id=\"T_3f8e5_row19_col4\" class=\"data row19 col4\" >12.53</td>\n",
       "      <td id=\"T_3f8e5_row19_col5\" class=\"data row19 col5\" >12.56</td>\n",
       "      <td id=\"T_3f8e5_row19_col6\" class=\"data row19 col6\" >12.58</td>\n",
       "      <td id=\"T_3f8e5_row19_col7\" class=\"data row19 col7\" >13.05</td>\n",
       "    </tr>\n",
       "    <tr>\n",
       "      <th id=\"T_3f8e5_level0_row20\" class=\"row_heading level0 row20\" >birthday</th>\n",
       "      <td id=\"T_3f8e5_row20_col0\" class=\"data row20 col0\" >110444.00</td>\n",
       "      <td id=\"T_3f8e5_row20_col1\" class=\"data row20 col1\" >31.43</td>\n",
       "      <td id=\"T_3f8e5_row20_col2\" class=\"data row20 col2\" >11.88</td>\n",
       "      <td id=\"T_3f8e5_row20_col3\" class=\"data row20 col3\" >0.00</td>\n",
       "      <td id=\"T_3f8e5_row20_col4\" class=\"data row20 col4\" >22.00</td>\n",
       "      <td id=\"T_3f8e5_row20_col5\" class=\"data row20 col5\" >28.00</td>\n",
       "      <td id=\"T_3f8e5_row20_col6\" class=\"data row20 col6\" >38.00</td>\n",
       "      <td id=\"T_3f8e5_row20_col7\" class=\"data row20 col7\" >93.00</td>\n",
       "    </tr>\n",
       "    <tr>\n",
       "      <th id=\"T_3f8e5_level0_row21\" class=\"row_heading level0 row21\" >id2</th>\n",
       "      <td id=\"T_3f8e5_row21_col0\" class=\"data row21 col0\" >110444.00</td>\n",
       "      <td id=\"T_3f8e5_row21_col1\" class=\"data row21 col1\" >9150.59</td>\n",
       "      <td id=\"T_3f8e5_row21_col2\" class=\"data row21 col2\" >4706.21</td>\n",
       "      <td id=\"T_3f8e5_row21_col3\" class=\"data row21 col3\" >9.00</td>\n",
       "      <td id=\"T_3f8e5_row21_col4\" class=\"data row21 col4\" >5426.00</td>\n",
       "      <td id=\"T_3f8e5_row21_col5\" class=\"data row21 col5\" >9642.00</td>\n",
       "      <td id=\"T_3f8e5_row21_col6\" class=\"data row21 col6\" >12830.00</td>\n",
       "      <td id=\"T_3f8e5_row21_col7\" class=\"data row21 col7\" >19137.00</td>\n",
       "    </tr>\n",
       "    <tr>\n",
       "      <th id=\"T_3f8e5_level0_row22\" class=\"row_heading level0 row22\" >HH</th>\n",
       "      <td id=\"T_3f8e5_row22_col0\" class=\"data row22 col0\" >169128.00</td>\n",
       "      <td id=\"T_3f8e5_row22_col1\" class=\"data row22 col1\" >4695.61</td>\n",
       "      <td id=\"T_3f8e5_row22_col2\" class=\"data row22 col2\" >3751.80</td>\n",
       "      <td id=\"T_3f8e5_row22_col3\" class=\"data row22 col3\" >0.00</td>\n",
       "      <td id=\"T_3f8e5_row22_col4\" class=\"data row22 col4\" >2093.00</td>\n",
       "      <td id=\"T_3f8e5_row22_col5\" class=\"data row22 col5\" >3677.00</td>\n",
       "      <td id=\"T_3f8e5_row22_col6\" class=\"data row22 col6\" >6278.00</td>\n",
       "      <td id=\"T_3f8e5_row22_col7\" class=\"data row22 col7\" >17634.00</td>\n",
       "    </tr>\n",
       "    <tr>\n",
       "      <th id=\"T_3f8e5_level0_row23\" class=\"row_heading level0 row23\" >Cars</th>\n",
       "      <td id=\"T_3f8e5_row23_col0\" class=\"data row23 col0\" >169128.00</td>\n",
       "      <td id=\"T_3f8e5_row23_col1\" class=\"data row23 col1\" >2332.11</td>\n",
       "      <td id=\"T_3f8e5_row23_col2\" class=\"data row23 col2\" >1468.03</td>\n",
       "      <td id=\"T_3f8e5_row23_col3\" class=\"data row23 col3\" >0.00</td>\n",
       "      <td id=\"T_3f8e5_row23_col4\" class=\"data row23 col4\" >1178.09</td>\n",
       "      <td id=\"T_3f8e5_row23_col5\" class=\"data row23 col5\" >2124.78</td>\n",
       "      <td id=\"T_3f8e5_row23_col6\" class=\"data row23 col6\" >3299.58</td>\n",
       "      <td id=\"T_3f8e5_row23_col7\" class=\"data row23 col7\" >6531.72</td>\n",
       "    </tr>\n",
       "    <tr>\n",
       "      <th id=\"T_3f8e5_level0_row24\" class=\"row_heading level0 row24\" >Jobs</th>\n",
       "      <td id=\"T_3f8e5_row24_col0\" class=\"data row24 col0\" >169128.00</td>\n",
       "      <td id=\"T_3f8e5_row24_col1\" class=\"data row24 col1\" >5721.28</td>\n",
       "      <td id=\"T_3f8e5_row24_col2\" class=\"data row24 col2\" >5444.94</td>\n",
       "      <td id=\"T_3f8e5_row24_col3\" class=\"data row24 col3\" >72.24</td>\n",
       "      <td id=\"T_3f8e5_row24_col4\" class=\"data row24 col4\" >1878.81</td>\n",
       "      <td id=\"T_3f8e5_row24_col5\" class=\"data row24 col5\" >4320.77</td>\n",
       "      <td id=\"T_3f8e5_row24_col6\" class=\"data row24 col6\" >8382.96</td>\n",
       "      <td id=\"T_3f8e5_row24_col7\" class=\"data row24 col7\" >25210.01</td>\n",
       "    </tr>\n",
       "    <tr>\n",
       "      <th id=\"T_3f8e5_level0_row25\" class=\"row_heading level0 row25\" >Sertype1</th>\n",
       "      <td id=\"T_3f8e5_row25_col0\" class=\"data row25 col0\" >169128.00</td>\n",
       "      <td id=\"T_3f8e5_row25_col1\" class=\"data row25 col1\" >3.04</td>\n",
       "      <td id=\"T_3f8e5_row25_col2\" class=\"data row25 col2\" >3.00</td>\n",
       "      <td id=\"T_3f8e5_row25_col3\" class=\"data row25 col3\" >0.07</td>\n",
       "      <td id=\"T_3f8e5_row25_col4\" class=\"data row25 col4\" >1.04</td>\n",
       "      <td id=\"T_3f8e5_row25_col5\" class=\"data row25 col5\" >2.12</td>\n",
       "      <td id=\"T_3f8e5_row25_col6\" class=\"data row25 col6\" >3.58</td>\n",
       "      <td id=\"T_3f8e5_row25_col7\" class=\"data row25 col7\" >18.82</td>\n",
       "    </tr>\n",
       "    <tr>\n",
       "      <th id=\"T_3f8e5_level0_row26\" class=\"row_heading level0 row26\" >Sertype2</th>\n",
       "      <td id=\"T_3f8e5_row26_col0\" class=\"data row26 col0\" >169128.00</td>\n",
       "      <td id=\"T_3f8e5_row26_col1\" class=\"data row26 col1\" >2.87</td>\n",
       "      <td id=\"T_3f8e5_row26_col2\" class=\"data row26 col2\" >4.80</td>\n",
       "      <td id=\"T_3f8e5_row26_col3\" class=\"data row26 col3\" >0.05</td>\n",
       "      <td id=\"T_3f8e5_row26_col4\" class=\"data row26 col4\" >0.62</td>\n",
       "      <td id=\"T_3f8e5_row26_col5\" class=\"data row26 col5\" >0.95</td>\n",
       "      <td id=\"T_3f8e5_row26_col6\" class=\"data row26 col6\" >2.38</td>\n",
       "      <td id=\"T_3f8e5_row26_col7\" class=\"data row26 col7\" >28.99</td>\n",
       "    </tr>\n",
       "    <tr>\n",
       "      <th id=\"T_3f8e5_level0_row27\" class=\"row_heading level0 row27\" >Sertype3</th>\n",
       "      <td id=\"T_3f8e5_row27_col0\" class=\"data row27 col0\" >169128.00</td>\n",
       "      <td id=\"T_3f8e5_row27_col1\" class=\"data row27 col1\" >0.33</td>\n",
       "      <td id=\"T_3f8e5_row27_col2\" class=\"data row27 col2\" >0.33</td>\n",
       "      <td id=\"T_3f8e5_row27_col3\" class=\"data row27 col3\" >0.02</td>\n",
       "      <td id=\"T_3f8e5_row27_col4\" class=\"data row27 col4\" >0.15</td>\n",
       "      <td id=\"T_3f8e5_row27_col5\" class=\"data row27 col5\" >0.25</td>\n",
       "      <td id=\"T_3f8e5_row27_col6\" class=\"data row27 col6\" >0.42</td>\n",
       "      <td id=\"T_3f8e5_row27_col7\" class=\"data row27 col7\" >2.98</td>\n",
       "    </tr>\n",
       "    <tr>\n",
       "      <th id=\"T_3f8e5_level0_row28\" class=\"row_heading level0 row28\" >HourCost08_18</th>\n",
       "      <td id=\"T_3f8e5_row28_col0\" class=\"data row28 col0\" >32665.00</td>\n",
       "      <td id=\"T_3f8e5_row28_col1\" class=\"data row28 col1\" >15.52</td>\n",
       "      <td id=\"T_3f8e5_row28_col2\" class=\"data row28 col2\" >6.12</td>\n",
       "      <td id=\"T_3f8e5_row28_col3\" class=\"data row28 col3\" >10.00</td>\n",
       "      <td id=\"T_3f8e5_row28_col4\" class=\"data row28 col4\" >10.00</td>\n",
       "      <td id=\"T_3f8e5_row28_col5\" class=\"data row28 col5\" >17.00</td>\n",
       "      <td id=\"T_3f8e5_row28_col6\" class=\"data row28 col6\" >17.00</td>\n",
       "      <td id=\"T_3f8e5_row28_col7\" class=\"data row28 col7\" >29.00</td>\n",
       "    </tr>\n",
       "    <tr>\n",
       "      <th id=\"T_3f8e5_level0_row29\" class=\"row_heading level0 row29\" >HourCost18_23</th>\n",
       "      <td id=\"T_3f8e5_row29_col0\" class=\"data row29 col0\" >32665.00</td>\n",
       "      <td id=\"T_3f8e5_row29_col1\" class=\"data row29 col1\" >10.00</td>\n",
       "      <td id=\"T_3f8e5_row29_col2\" class=\"data row29 col2\" >0.00</td>\n",
       "      <td id=\"T_3f8e5_row29_col3\" class=\"data row29 col3\" >10.00</td>\n",
       "      <td id=\"T_3f8e5_row29_col4\" class=\"data row29 col4\" >10.00</td>\n",
       "      <td id=\"T_3f8e5_row29_col5\" class=\"data row29 col5\" >10.00</td>\n",
       "      <td id=\"T_3f8e5_row29_col6\" class=\"data row29 col6\" >10.00</td>\n",
       "      <td id=\"T_3f8e5_row29_col7\" class=\"data row29 col7\" >10.00</td>\n",
       "    </tr>\n",
       "    <tr>\n",
       "      <th id=\"T_3f8e5_level0_row30\" class=\"row_heading level0 row30\" >NightCost23_08</th>\n",
       "      <td id=\"T_3f8e5_row30_col0\" class=\"data row30 col0\" >32665.00</td>\n",
       "      <td id=\"T_3f8e5_row30_col1\" class=\"data row30 col1\" >3.00</td>\n",
       "      <td id=\"T_3f8e5_row30_col2\" class=\"data row30 col2\" >0.00</td>\n",
       "      <td id=\"T_3f8e5_row30_col3\" class=\"data row30 col3\" >3.00</td>\n",
       "      <td id=\"T_3f8e5_row30_col4\" class=\"data row30 col4\" >3.00</td>\n",
       "      <td id=\"T_3f8e5_row30_col5\" class=\"data row30 col5\" >3.00</td>\n",
       "      <td id=\"T_3f8e5_row30_col6\" class=\"data row30 col6\" >3.00</td>\n",
       "      <td id=\"T_3f8e5_row30_col7\" class=\"data row30 col7\" >3.00</td>\n",
       "    </tr>\n",
       "    <tr>\n",
       "      <th id=\"T_3f8e5_level0_row31\" class=\"row_heading level0 row31\" >search12</th>\n",
       "      <td id=\"T_3f8e5_row31_col0\" class=\"data row31 col0\" >70554.00</td>\n",
       "      <td id=\"T_3f8e5_row31_col1\" class=\"data row31 col1\" >4.98</td>\n",
       "      <td id=\"T_3f8e5_row31_col2\" class=\"data row31 col2\" >3.56</td>\n",
       "      <td id=\"T_3f8e5_row31_col3\" class=\"data row31 col3\" >0.00</td>\n",
       "      <td id=\"T_3f8e5_row31_col4\" class=\"data row31 col4\" >2.39</td>\n",
       "      <td id=\"T_3f8e5_row31_col5\" class=\"data row31 col5\" >4.66</td>\n",
       "      <td id=\"T_3f8e5_row31_col6\" class=\"data row31 col6\" >6.43</td>\n",
       "      <td id=\"T_3f8e5_row31_col7\" class=\"data row31 col7\" >13.77</td>\n",
       "    </tr>\n",
       "    <tr>\n",
       "      <th id=\"T_3f8e5_level0_row32\" class=\"row_heading level0 row32\" >search17</th>\n",
       "      <td id=\"T_3f8e5_row32_col0\" class=\"data row32 col0\" >70554.00</td>\n",
       "      <td id=\"T_3f8e5_row32_col1\" class=\"data row32 col1\" >5.72</td>\n",
       "      <td id=\"T_3f8e5_row32_col2\" class=\"data row32 col2\" >3.71</td>\n",
       "      <td id=\"T_3f8e5_row32_col3\" class=\"data row32 col3\" >0.00</td>\n",
       "      <td id=\"T_3f8e5_row32_col4\" class=\"data row32 col4\" >3.17</td>\n",
       "      <td id=\"T_3f8e5_row32_col5\" class=\"data row32 col5\" >5.65</td>\n",
       "      <td id=\"T_3f8e5_row32_col6\" class=\"data row32 col6\" >9.02</td>\n",
       "      <td id=\"T_3f8e5_row32_col7\" class=\"data row32 col7\" >14.18</td>\n",
       "    </tr>\n",
       "    <tr>\n",
       "      <th id=\"T_3f8e5_level0_row33\" class=\"row_heading level0 row33\" >search22</th>\n",
       "      <td id=\"T_3f8e5_row33_col0\" class=\"data row33 col0\" >70554.00</td>\n",
       "      <td id=\"T_3f8e5_row33_col1\" class=\"data row33 col1\" >7.53</td>\n",
       "      <td id=\"T_3f8e5_row33_col2\" class=\"data row33 col2\" >4.61</td>\n",
       "      <td id=\"T_3f8e5_row33_col3\" class=\"data row33 col3\" >0.01</td>\n",
       "      <td id=\"T_3f8e5_row33_col4\" class=\"data row33 col4\" >3.75</td>\n",
       "      <td id=\"T_3f8e5_row33_col5\" class=\"data row33 col5\" >8.11</td>\n",
       "      <td id=\"T_3f8e5_row33_col6\" class=\"data row33 col6\" >11.28</td>\n",
       "      <td id=\"T_3f8e5_row33_col7\" class=\"data row33 col7\" >15.59</td>\n",
       "    </tr>\n",
       "    <tr>\n",
       "      <th id=\"T_3f8e5_level0_row34\" class=\"row_heading level0 row34\" >HH_From</th>\n",
       "      <td id=\"T_3f8e5_row34_col0\" class=\"data row34 col0\" >169128.00</td>\n",
       "      <td id=\"T_3f8e5_row34_col1\" class=\"data row34 col1\" >4690.11</td>\n",
       "      <td id=\"T_3f8e5_row34_col2\" class=\"data row34 col2\" >3754.58</td>\n",
       "      <td id=\"T_3f8e5_row34_col3\" class=\"data row34 col3\" >0.00</td>\n",
       "      <td id=\"T_3f8e5_row34_col4\" class=\"data row34 col4\" >2093.00</td>\n",
       "      <td id=\"T_3f8e5_row34_col5\" class=\"data row34 col5\" >3677.00</td>\n",
       "      <td id=\"T_3f8e5_row34_col6\" class=\"data row34 col6\" >6278.00</td>\n",
       "      <td id=\"T_3f8e5_row34_col7\" class=\"data row34 col7\" >17634.00</td>\n",
       "    </tr>\n",
       "    <tr>\n",
       "      <th id=\"T_3f8e5_level0_row35\" class=\"row_heading level0 row35\" >Cars_From</th>\n",
       "      <td id=\"T_3f8e5_row35_col0\" class=\"data row35 col0\" >169128.00</td>\n",
       "      <td id=\"T_3f8e5_row35_col1\" class=\"data row35 col1\" >2328.36</td>\n",
       "      <td id=\"T_3f8e5_row35_col2\" class=\"data row35 col2\" >1469.70</td>\n",
       "      <td id=\"T_3f8e5_row35_col3\" class=\"data row35 col3\" >0.00</td>\n",
       "      <td id=\"T_3f8e5_row35_col4\" class=\"data row35 col4\" >1171.61</td>\n",
       "      <td id=\"T_3f8e5_row35_col5\" class=\"data row35 col5\" >2106.84</td>\n",
       "      <td id=\"T_3f8e5_row35_col6\" class=\"data row35 col6\" >3299.58</td>\n",
       "      <td id=\"T_3f8e5_row35_col7\" class=\"data row35 col7\" >6531.72</td>\n",
       "    </tr>\n",
       "    <tr>\n",
       "      <th id=\"T_3f8e5_level0_row36\" class=\"row_heading level0 row36\" >Jobs_From</th>\n",
       "      <td id=\"T_3f8e5_row36_col0\" class=\"data row36 col0\" >169128.00</td>\n",
       "      <td id=\"T_3f8e5_row36_col1\" class=\"data row36 col1\" >5720.34</td>\n",
       "      <td id=\"T_3f8e5_row36_col2\" class=\"data row36 col2\" >5443.46</td>\n",
       "      <td id=\"T_3f8e5_row36_col3\" class=\"data row36 col3\" >72.24</td>\n",
       "      <td id=\"T_3f8e5_row36_col4\" class=\"data row36 col4\" >1878.81</td>\n",
       "      <td id=\"T_3f8e5_row36_col5\" class=\"data row36 col5\" >4320.77</td>\n",
       "      <td id=\"T_3f8e5_row36_col6\" class=\"data row36 col6\" >8382.96</td>\n",
       "      <td id=\"T_3f8e5_row36_col7\" class=\"data row36 col7\" >25210.01</td>\n",
       "    </tr>\n",
       "    <tr>\n",
       "      <th id=\"T_3f8e5_level0_row37\" class=\"row_heading level0 row37\" >SerType1_From</th>\n",
       "      <td id=\"T_3f8e5_row37_col0\" class=\"data row37 col0\" >169128.00</td>\n",
       "      <td id=\"T_3f8e5_row37_col1\" class=\"data row37 col1\" >3.03</td>\n",
       "      <td id=\"T_3f8e5_row37_col2\" class=\"data row37 col2\" >3.00</td>\n",
       "      <td id=\"T_3f8e5_row37_col3\" class=\"data row37 col3\" >0.07</td>\n",
       "      <td id=\"T_3f8e5_row37_col4\" class=\"data row37 col4\" >1.04</td>\n",
       "      <td id=\"T_3f8e5_row37_col5\" class=\"data row37 col5\" >2.12</td>\n",
       "      <td id=\"T_3f8e5_row37_col6\" class=\"data row37 col6\" >3.58</td>\n",
       "      <td id=\"T_3f8e5_row37_col7\" class=\"data row37 col7\" >18.82</td>\n",
       "    </tr>\n",
       "    <tr>\n",
       "      <th id=\"T_3f8e5_level0_row38\" class=\"row_heading level0 row38\" >SerType2_From</th>\n",
       "      <td id=\"T_3f8e5_row38_col0\" class=\"data row38 col0\" >169128.00</td>\n",
       "      <td id=\"T_3f8e5_row38_col1\" class=\"data row38 col1\" >2.86</td>\n",
       "      <td id=\"T_3f8e5_row38_col2\" class=\"data row38 col2\" >4.79</td>\n",
       "      <td id=\"T_3f8e5_row38_col3\" class=\"data row38 col3\" >0.05</td>\n",
       "      <td id=\"T_3f8e5_row38_col4\" class=\"data row38 col4\" >0.62</td>\n",
       "      <td id=\"T_3f8e5_row38_col5\" class=\"data row38 col5\" >0.95</td>\n",
       "      <td id=\"T_3f8e5_row38_col6\" class=\"data row38 col6\" >2.38</td>\n",
       "      <td id=\"T_3f8e5_row38_col7\" class=\"data row38 col7\" >27.41</td>\n",
       "    </tr>\n",
       "    <tr>\n",
       "      <th id=\"T_3f8e5_level0_row39\" class=\"row_heading level0 row39\" >SerType3_From</th>\n",
       "      <td id=\"T_3f8e5_row39_col0\" class=\"data row39 col0\" >169128.00</td>\n",
       "      <td id=\"T_3f8e5_row39_col1\" class=\"data row39 col1\" >0.33</td>\n",
       "      <td id=\"T_3f8e5_row39_col2\" class=\"data row39 col2\" >0.33</td>\n",
       "      <td id=\"T_3f8e5_row39_col3\" class=\"data row39 col3\" >0.02</td>\n",
       "      <td id=\"T_3f8e5_row39_col4\" class=\"data row39 col4\" >0.15</td>\n",
       "      <td id=\"T_3f8e5_row39_col5\" class=\"data row39 col5\" >0.25</td>\n",
       "      <td id=\"T_3f8e5_row39_col6\" class=\"data row39 col6\" >0.41</td>\n",
       "      <td id=\"T_3f8e5_row39_col7\" class=\"data row39 col7\" >2.98</td>\n",
       "    </tr>\n",
       "    <tr>\n",
       "      <th id=\"T_3f8e5_level0_row40\" class=\"row_heading level0 row40\" >HourCost08_18_From</th>\n",
       "      <td id=\"T_3f8e5_row40_col0\" class=\"data row40 col0\" >32665.00</td>\n",
       "      <td id=\"T_3f8e5_row40_col1\" class=\"data row40 col1\" >15.52</td>\n",
       "      <td id=\"T_3f8e5_row40_col2\" class=\"data row40 col2\" >6.12</td>\n",
       "      <td id=\"T_3f8e5_row40_col3\" class=\"data row40 col3\" >10.00</td>\n",
       "      <td id=\"T_3f8e5_row40_col4\" class=\"data row40 col4\" >10.00</td>\n",
       "      <td id=\"T_3f8e5_row40_col5\" class=\"data row40 col5\" >17.00</td>\n",
       "      <td id=\"T_3f8e5_row40_col6\" class=\"data row40 col6\" >17.00</td>\n",
       "      <td id=\"T_3f8e5_row40_col7\" class=\"data row40 col7\" >29.00</td>\n",
       "    </tr>\n",
       "    <tr>\n",
       "      <th id=\"T_3f8e5_level0_row41\" class=\"row_heading level0 row41\" >HourCost18_23_From</th>\n",
       "      <td id=\"T_3f8e5_row41_col0\" class=\"data row41 col0\" >32665.00</td>\n",
       "      <td id=\"T_3f8e5_row41_col1\" class=\"data row41 col1\" >10.00</td>\n",
       "      <td id=\"T_3f8e5_row41_col2\" class=\"data row41 col2\" >0.00</td>\n",
       "      <td id=\"T_3f8e5_row41_col3\" class=\"data row41 col3\" >10.00</td>\n",
       "      <td id=\"T_3f8e5_row41_col4\" class=\"data row41 col4\" >10.00</td>\n",
       "      <td id=\"T_3f8e5_row41_col5\" class=\"data row41 col5\" >10.00</td>\n",
       "      <td id=\"T_3f8e5_row41_col6\" class=\"data row41 col6\" >10.00</td>\n",
       "      <td id=\"T_3f8e5_row41_col7\" class=\"data row41 col7\" >10.00</td>\n",
       "    </tr>\n",
       "    <tr>\n",
       "      <th id=\"T_3f8e5_level0_row42\" class=\"row_heading level0 row42\" >NightCost23_08_From</th>\n",
       "      <td id=\"T_3f8e5_row42_col0\" class=\"data row42 col0\" >32665.00</td>\n",
       "      <td id=\"T_3f8e5_row42_col1\" class=\"data row42 col1\" >3.00</td>\n",
       "      <td id=\"T_3f8e5_row42_col2\" class=\"data row42 col2\" >0.00</td>\n",
       "      <td id=\"T_3f8e5_row42_col3\" class=\"data row42 col3\" >3.00</td>\n",
       "      <td id=\"T_3f8e5_row42_col4\" class=\"data row42 col4\" >3.00</td>\n",
       "      <td id=\"T_3f8e5_row42_col5\" class=\"data row42 col5\" >3.00</td>\n",
       "      <td id=\"T_3f8e5_row42_col6\" class=\"data row42 col6\" >3.00</td>\n",
       "      <td id=\"T_3f8e5_row42_col7\" class=\"data row42 col7\" >3.00</td>\n",
       "    </tr>\n",
       "    <tr>\n",
       "      <th id=\"T_3f8e5_level0_row43\" class=\"row_heading level0 row43\" >Search12_From</th>\n",
       "      <td id=\"T_3f8e5_row43_col0\" class=\"data row43 col0\" >70554.00</td>\n",
       "      <td id=\"T_3f8e5_row43_col1\" class=\"data row43 col1\" >4.97</td>\n",
       "      <td id=\"T_3f8e5_row43_col2\" class=\"data row43 col2\" >3.56</td>\n",
       "      <td id=\"T_3f8e5_row43_col3\" class=\"data row43 col3\" >0.00</td>\n",
       "      <td id=\"T_3f8e5_row43_col4\" class=\"data row43 col4\" >2.39</td>\n",
       "      <td id=\"T_3f8e5_row43_col5\" class=\"data row43 col5\" >4.66</td>\n",
       "      <td id=\"T_3f8e5_row43_col6\" class=\"data row43 col6\" >6.43</td>\n",
       "      <td id=\"T_3f8e5_row43_col7\" class=\"data row43 col7\" >13.77</td>\n",
       "    </tr>\n",
       "    <tr>\n",
       "      <th id=\"T_3f8e5_level0_row44\" class=\"row_heading level0 row44\" >Search17_From</th>\n",
       "      <td id=\"T_3f8e5_row44_col0\" class=\"data row44 col0\" >70554.00</td>\n",
       "      <td id=\"T_3f8e5_row44_col1\" class=\"data row44 col1\" >5.72</td>\n",
       "      <td id=\"T_3f8e5_row44_col2\" class=\"data row44 col2\" >3.71</td>\n",
       "      <td id=\"T_3f8e5_row44_col3\" class=\"data row44 col3\" >0.00</td>\n",
       "      <td id=\"T_3f8e5_row44_col4\" class=\"data row44 col4\" >3.17</td>\n",
       "      <td id=\"T_3f8e5_row44_col5\" class=\"data row44 col5\" >5.65</td>\n",
       "      <td id=\"T_3f8e5_row44_col6\" class=\"data row44 col6\" >9.02</td>\n",
       "      <td id=\"T_3f8e5_row44_col7\" class=\"data row44 col7\" >14.18</td>\n",
       "    </tr>\n",
       "    <tr>\n",
       "      <th id=\"T_3f8e5_level0_row45\" class=\"row_heading level0 row45\" >Search22_From</th>\n",
       "      <td id=\"T_3f8e5_row45_col0\" class=\"data row45 col0\" >70554.00</td>\n",
       "      <td id=\"T_3f8e5_row45_col1\" class=\"data row45 col1\" >7.53</td>\n",
       "      <td id=\"T_3f8e5_row45_col2\" class=\"data row45 col2\" >4.61</td>\n",
       "      <td id=\"T_3f8e5_row45_col3\" class=\"data row45 col3\" >0.01</td>\n",
       "      <td id=\"T_3f8e5_row45_col4\" class=\"data row45 col4\" >3.75</td>\n",
       "      <td id=\"T_3f8e5_row45_col5\" class=\"data row45 col5\" >8.11</td>\n",
       "      <td id=\"T_3f8e5_row45_col6\" class=\"data row45 col6\" >11.28</td>\n",
       "      <td id=\"T_3f8e5_row45_col7\" class=\"data row45 col7\" >15.59</td>\n",
       "    </tr>\n",
       "    <tr>\n",
       "      <th id=\"T_3f8e5_level0_row46\" class=\"row_heading level0 row46\" >HH_To</th>\n",
       "      <td id=\"T_3f8e5_row46_col0\" class=\"data row46 col0\" >169128.00</td>\n",
       "      <td id=\"T_3f8e5_row46_col1\" class=\"data row46 col1\" >4695.61</td>\n",
       "      <td id=\"T_3f8e5_row46_col2\" class=\"data row46 col2\" >3751.80</td>\n",
       "      <td id=\"T_3f8e5_row46_col3\" class=\"data row46 col3\" >0.00</td>\n",
       "      <td id=\"T_3f8e5_row46_col4\" class=\"data row46 col4\" >2093.00</td>\n",
       "      <td id=\"T_3f8e5_row46_col5\" class=\"data row46 col5\" >3677.00</td>\n",
       "      <td id=\"T_3f8e5_row46_col6\" class=\"data row46 col6\" >6278.00</td>\n",
       "      <td id=\"T_3f8e5_row46_col7\" class=\"data row46 col7\" >17634.00</td>\n",
       "    </tr>\n",
       "    <tr>\n",
       "      <th id=\"T_3f8e5_level0_row47\" class=\"row_heading level0 row47\" >Cars_To</th>\n",
       "      <td id=\"T_3f8e5_row47_col0\" class=\"data row47 col0\" >169128.00</td>\n",
       "      <td id=\"T_3f8e5_row47_col1\" class=\"data row47 col1\" >2332.11</td>\n",
       "      <td id=\"T_3f8e5_row47_col2\" class=\"data row47 col2\" >1468.03</td>\n",
       "      <td id=\"T_3f8e5_row47_col3\" class=\"data row47 col3\" >0.00</td>\n",
       "      <td id=\"T_3f8e5_row47_col4\" class=\"data row47 col4\" >1178.09</td>\n",
       "      <td id=\"T_3f8e5_row47_col5\" class=\"data row47 col5\" >2124.78</td>\n",
       "      <td id=\"T_3f8e5_row47_col6\" class=\"data row47 col6\" >3299.58</td>\n",
       "      <td id=\"T_3f8e5_row47_col7\" class=\"data row47 col7\" >6531.72</td>\n",
       "    </tr>\n",
       "    <tr>\n",
       "      <th id=\"T_3f8e5_level0_row48\" class=\"row_heading level0 row48\" >Jobs_To</th>\n",
       "      <td id=\"T_3f8e5_row48_col0\" class=\"data row48 col0\" >169128.00</td>\n",
       "      <td id=\"T_3f8e5_row48_col1\" class=\"data row48 col1\" >5721.28</td>\n",
       "      <td id=\"T_3f8e5_row48_col2\" class=\"data row48 col2\" >5444.94</td>\n",
       "      <td id=\"T_3f8e5_row48_col3\" class=\"data row48 col3\" >72.24</td>\n",
       "      <td id=\"T_3f8e5_row48_col4\" class=\"data row48 col4\" >1878.81</td>\n",
       "      <td id=\"T_3f8e5_row48_col5\" class=\"data row48 col5\" >4320.77</td>\n",
       "      <td id=\"T_3f8e5_row48_col6\" class=\"data row48 col6\" >8382.96</td>\n",
       "      <td id=\"T_3f8e5_row48_col7\" class=\"data row48 col7\" >25210.01</td>\n",
       "    </tr>\n",
       "    <tr>\n",
       "      <th id=\"T_3f8e5_level0_row49\" class=\"row_heading level0 row49\" >SerType1_To</th>\n",
       "      <td id=\"T_3f8e5_row49_col0\" class=\"data row49 col0\" >169128.00</td>\n",
       "      <td id=\"T_3f8e5_row49_col1\" class=\"data row49 col1\" >3.04</td>\n",
       "      <td id=\"T_3f8e5_row49_col2\" class=\"data row49 col2\" >3.00</td>\n",
       "      <td id=\"T_3f8e5_row49_col3\" class=\"data row49 col3\" >0.07</td>\n",
       "      <td id=\"T_3f8e5_row49_col4\" class=\"data row49 col4\" >1.04</td>\n",
       "      <td id=\"T_3f8e5_row49_col5\" class=\"data row49 col5\" >2.12</td>\n",
       "      <td id=\"T_3f8e5_row49_col6\" class=\"data row49 col6\" >3.58</td>\n",
       "      <td id=\"T_3f8e5_row49_col7\" class=\"data row49 col7\" >18.82</td>\n",
       "    </tr>\n",
       "    <tr>\n",
       "      <th id=\"T_3f8e5_level0_row50\" class=\"row_heading level0 row50\" >SerType2_To</th>\n",
       "      <td id=\"T_3f8e5_row50_col0\" class=\"data row50 col0\" >169128.00</td>\n",
       "      <td id=\"T_3f8e5_row50_col1\" class=\"data row50 col1\" >2.87</td>\n",
       "      <td id=\"T_3f8e5_row50_col2\" class=\"data row50 col2\" >4.80</td>\n",
       "      <td id=\"T_3f8e5_row50_col3\" class=\"data row50 col3\" >0.05</td>\n",
       "      <td id=\"T_3f8e5_row50_col4\" class=\"data row50 col4\" >0.62</td>\n",
       "      <td id=\"T_3f8e5_row50_col5\" class=\"data row50 col5\" >0.95</td>\n",
       "      <td id=\"T_3f8e5_row50_col6\" class=\"data row50 col6\" >2.38</td>\n",
       "      <td id=\"T_3f8e5_row50_col7\" class=\"data row50 col7\" >28.99</td>\n",
       "    </tr>\n",
       "    <tr>\n",
       "      <th id=\"T_3f8e5_level0_row51\" class=\"row_heading level0 row51\" >SerType3_To</th>\n",
       "      <td id=\"T_3f8e5_row51_col0\" class=\"data row51 col0\" >169128.00</td>\n",
       "      <td id=\"T_3f8e5_row51_col1\" class=\"data row51 col1\" >0.33</td>\n",
       "      <td id=\"T_3f8e5_row51_col2\" class=\"data row51 col2\" >0.33</td>\n",
       "      <td id=\"T_3f8e5_row51_col3\" class=\"data row51 col3\" >0.02</td>\n",
       "      <td id=\"T_3f8e5_row51_col4\" class=\"data row51 col4\" >0.15</td>\n",
       "      <td id=\"T_3f8e5_row51_col5\" class=\"data row51 col5\" >0.25</td>\n",
       "      <td id=\"T_3f8e5_row51_col6\" class=\"data row51 col6\" >0.42</td>\n",
       "      <td id=\"T_3f8e5_row51_col7\" class=\"data row51 col7\" >2.98</td>\n",
       "    </tr>\n",
       "    <tr>\n",
       "      <th id=\"T_3f8e5_level0_row52\" class=\"row_heading level0 row52\" >HourCost08_18_To</th>\n",
       "      <td id=\"T_3f8e5_row52_col0\" class=\"data row52 col0\" >32665.00</td>\n",
       "      <td id=\"T_3f8e5_row52_col1\" class=\"data row52 col1\" >15.52</td>\n",
       "      <td id=\"T_3f8e5_row52_col2\" class=\"data row52 col2\" >6.12</td>\n",
       "      <td id=\"T_3f8e5_row52_col3\" class=\"data row52 col3\" >10.00</td>\n",
       "      <td id=\"T_3f8e5_row52_col4\" class=\"data row52 col4\" >10.00</td>\n",
       "      <td id=\"T_3f8e5_row52_col5\" class=\"data row52 col5\" >17.00</td>\n",
       "      <td id=\"T_3f8e5_row52_col6\" class=\"data row52 col6\" >17.00</td>\n",
       "      <td id=\"T_3f8e5_row52_col7\" class=\"data row52 col7\" >29.00</td>\n",
       "    </tr>\n",
       "    <tr>\n",
       "      <th id=\"T_3f8e5_level0_row53\" class=\"row_heading level0 row53\" >HourCost18_23_To</th>\n",
       "      <td id=\"T_3f8e5_row53_col0\" class=\"data row53 col0\" >32665.00</td>\n",
       "      <td id=\"T_3f8e5_row53_col1\" class=\"data row53 col1\" >10.00</td>\n",
       "      <td id=\"T_3f8e5_row53_col2\" class=\"data row53 col2\" >0.00</td>\n",
       "      <td id=\"T_3f8e5_row53_col3\" class=\"data row53 col3\" >10.00</td>\n",
       "      <td id=\"T_3f8e5_row53_col4\" class=\"data row53 col4\" >10.00</td>\n",
       "      <td id=\"T_3f8e5_row53_col5\" class=\"data row53 col5\" >10.00</td>\n",
       "      <td id=\"T_3f8e5_row53_col6\" class=\"data row53 col6\" >10.00</td>\n",
       "      <td id=\"T_3f8e5_row53_col7\" class=\"data row53 col7\" >10.00</td>\n",
       "    </tr>\n",
       "    <tr>\n",
       "      <th id=\"T_3f8e5_level0_row54\" class=\"row_heading level0 row54\" >NightCost23_08_To</th>\n",
       "      <td id=\"T_3f8e5_row54_col0\" class=\"data row54 col0\" >32665.00</td>\n",
       "      <td id=\"T_3f8e5_row54_col1\" class=\"data row54 col1\" >3.00</td>\n",
       "      <td id=\"T_3f8e5_row54_col2\" class=\"data row54 col2\" >0.00</td>\n",
       "      <td id=\"T_3f8e5_row54_col3\" class=\"data row54 col3\" >3.00</td>\n",
       "      <td id=\"T_3f8e5_row54_col4\" class=\"data row54 col4\" >3.00</td>\n",
       "      <td id=\"T_3f8e5_row54_col5\" class=\"data row54 col5\" >3.00</td>\n",
       "      <td id=\"T_3f8e5_row54_col6\" class=\"data row54 col6\" >3.00</td>\n",
       "      <td id=\"T_3f8e5_row54_col7\" class=\"data row54 col7\" >3.00</td>\n",
       "    </tr>\n",
       "    <tr>\n",
       "      <th id=\"T_3f8e5_level0_row55\" class=\"row_heading level0 row55\" >Search12_To</th>\n",
       "      <td id=\"T_3f8e5_row55_col0\" class=\"data row55 col0\" >70554.00</td>\n",
       "      <td id=\"T_3f8e5_row55_col1\" class=\"data row55 col1\" >4.98</td>\n",
       "      <td id=\"T_3f8e5_row55_col2\" class=\"data row55 col2\" >3.56</td>\n",
       "      <td id=\"T_3f8e5_row55_col3\" class=\"data row55 col3\" >0.00</td>\n",
       "      <td id=\"T_3f8e5_row55_col4\" class=\"data row55 col4\" >2.39</td>\n",
       "      <td id=\"T_3f8e5_row55_col5\" class=\"data row55 col5\" >4.66</td>\n",
       "      <td id=\"T_3f8e5_row55_col6\" class=\"data row55 col6\" >6.43</td>\n",
       "      <td id=\"T_3f8e5_row55_col7\" class=\"data row55 col7\" >13.77</td>\n",
       "    </tr>\n",
       "    <tr>\n",
       "      <th id=\"T_3f8e5_level0_row56\" class=\"row_heading level0 row56\" >Search17_To</th>\n",
       "      <td id=\"T_3f8e5_row56_col0\" class=\"data row56 col0\" >70554.00</td>\n",
       "      <td id=\"T_3f8e5_row56_col1\" class=\"data row56 col1\" >5.72</td>\n",
       "      <td id=\"T_3f8e5_row56_col2\" class=\"data row56 col2\" >3.71</td>\n",
       "      <td id=\"T_3f8e5_row56_col3\" class=\"data row56 col3\" >0.00</td>\n",
       "      <td id=\"T_3f8e5_row56_col4\" class=\"data row56 col4\" >3.17</td>\n",
       "      <td id=\"T_3f8e5_row56_col5\" class=\"data row56 col5\" >5.65</td>\n",
       "      <td id=\"T_3f8e5_row56_col6\" class=\"data row56 col6\" >9.02</td>\n",
       "      <td id=\"T_3f8e5_row56_col7\" class=\"data row56 col7\" >14.18</td>\n",
       "    </tr>\n",
       "    <tr>\n",
       "      <th id=\"T_3f8e5_level0_row57\" class=\"row_heading level0 row57\" >Search22_To</th>\n",
       "      <td id=\"T_3f8e5_row57_col0\" class=\"data row57 col0\" >70554.00</td>\n",
       "      <td id=\"T_3f8e5_row57_col1\" class=\"data row57 col1\" >7.53</td>\n",
       "      <td id=\"T_3f8e5_row57_col2\" class=\"data row57 col2\" >4.61</td>\n",
       "      <td id=\"T_3f8e5_row57_col3\" class=\"data row57 col3\" >0.01</td>\n",
       "      <td id=\"T_3f8e5_row57_col4\" class=\"data row57 col4\" >3.75</td>\n",
       "      <td id=\"T_3f8e5_row57_col5\" class=\"data row57 col5\" >8.11</td>\n",
       "      <td id=\"T_3f8e5_row57_col6\" class=\"data row57 col6\" >11.28</td>\n",
       "      <td id=\"T_3f8e5_row57_col7\" class=\"data row57 col7\" >15.59</td>\n",
       "    </tr>\n",
       "  </tbody>\n",
       "</table>\n"
      ],
      "text/plain": [
       "<pandas.io.formats.style.Styler at 0x161b640d0>"
      ]
     },
     "execution_count": 503,
     "metadata": {},
     "output_type": "execute_result"
    }
   ],
   "source": [
    "gm_original.describe().T.style.format(\"{:.2f}\")"
   ]
  },
  {
   "cell_type": "markdown",
   "metadata": {},
   "source": [
    "### 1.3 Data cleaning and processing: Donkey Republic"
   ]
  }
 ],
 "metadata": {
  "kernelspec": {
   "display_name": "master_thesis",
   "language": "python",
   "name": "python3"
  },
  "language_info": {
   "codemirror_mode": {
    "name": "ipython",
    "version": 3
   },
   "file_extension": ".py",
   "mimetype": "text/x-python",
   "name": "python",
   "nbconvert_exporter": "python",
   "pygments_lexer": "ipython3",
   "version": "3.11.5"
  }
 },
 "nbformat": 4,
 "nbformat_minor": 2
}
