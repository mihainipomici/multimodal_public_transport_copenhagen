{
 "cells": [
  {
   "cell_type": "markdown",
   "metadata": {},
   "source": [
    "### Libraries and used functions"
   ]
  },
  {
   "cell_type": "code",
   "execution_count": 2,
   "metadata": {},
   "outputs": [],
   "source": [
    "import pandas as pd\n",
    "import numpy as np\n",
    "import matplotlib.pyplot as plt\n",
    "import seaborn as sns\n",
    "import geopandas as gpd\n",
    "import datetime as dt\n",
    "\n",
    "from sklearn.cluster import DBSCAN\n",
    "from sklearn.preprocessing import StandardScaler\n",
    "from sklearn.cluster import KMeans\n",
    "from sklearn.metrics import silhouette_score\n",
    "from sklearn.decomposition import PCA\n",
    "import requests\n",
    "import plotly.express as px\n",
    "import plotly.graph_objects as go\n",
    "\n",
    "from IPython.display import HTML\n",
    "\n",
    "from scipy.stats import f_oneway\n",
    "from scipy.stats import pearsonr\n",
    "from scipy.stats import mannwhitneyu\n",
    "\n",
    "%matplotlib inline\n",
    "# from pydantic_settings import BaseSettings\n",
    "#from ydata_profiling import ProfileReport\n",
    "\n",
    "import sys\n",
    "import os\n",
    "sys.path.append('../utils/')\n",
    "#sys.path.append('..\\\\utils\\\\')\n",
    "\n",
    "from functions import get_zone_info\n",
    "from functions import haversine_distance as hsd\n",
    "from functions import main_concurrent"
   ]
  },
  {
   "cell_type": "code",
   "execution_count": 3,
   "metadata": {},
   "outputs": [],
   "source": [
    "def generate_custom_colorscale(n_steps, colormap, dark_start=True):\n",
    "    \"\"\"\n",
    "    Generate a custom green color scale with n_steps.\n",
    "    \n",
    "    Args:\n",
    "    - n_steps: Number of steps in the color scale.\n",
    "    - dark_start: If True, start with a darker green; otherwise, start lighter.\n",
    "    \n",
    "    Returns:\n",
    "    - A list of color strings in RGB format.\n",
    "    \"\"\"\n",
    "    cmap = plt.get_cmap(colormap)\n",
    "    colors = [cmap(i) for i in np.linspace(0.3 if dark_start else 0, 1, n_steps)]  # Start from 0.3 to avoid too light colors\n",
    "    # Convert colors to RGB format for Plotly\n",
    "    plotly_colors = [\"rgb({},{},{})\".format(int(r*255), int(g*255), int(b*255)) for r, g, b, _ in colors]\n",
    "    return plotly_colors"
   ]
  },
  {
   "cell_type": "markdown",
   "metadata": {},
   "source": [
    "## Data Cleaning and Preprocessing. Exploratory and Confirmatory Data Analysis"
   ]
  },
  {
   "cell_type": "markdown",
   "metadata": {},
   "source": [
    "### 1. Data Cleaning and Processing."
   ]
  },
  {
   "cell_type": "code",
   "execution_count": 4,
   "metadata": {},
   "outputs": [
    {
     "name": "stdout",
     "output_type": "stream",
     "text": [
      "<class 'pandas.core.frame.DataFrame'>\n",
      "RangeIndex: 366420 entries, 0 to 366419\n",
      "Data columns (total 17 columns):\n",
      " #   Column           Non-Null Count   Dtype         \n",
      "---  ------           --------------   -----         \n",
      " 0   TripID           366420 non-null  int64         \n",
      " 1   CarID            366420 non-null  object        \n",
      " 2   UserID           366420 non-null  int64         \n",
      " 3   LatitudeStart    366420 non-null  object        \n",
      " 4   LongitudeStart   366420 non-null  object        \n",
      " 5   LatitudeEnd      366420 non-null  object        \n",
      " 6   LongitudeEnd     366420 non-null  object        \n",
      " 7   ReservationTime  366420 non-null  datetime64[ns]\n",
      " 8   StartTime        366420 non-null  datetime64[ns]\n",
      " 9   EndTime          366420 non-null  datetime64[ns]\n",
      " 10  Age              366420 non-null  int64         \n",
      " 11  Gender           366420 non-null  object        \n",
      " 12  BatteryStart     366420 non-null  object        \n",
      " 13  BatteryEnd       366420 non-null  object        \n",
      " 14  KmDriven         366420 non-null  int64         \n",
      " 15  FromZoneID       366420 non-null  int64         \n",
      " 16  ToZoneID         366420 non-null  int64         \n",
      "dtypes: datetime64[ns](3), int64(6), object(8)\n",
      "memory usage: 47.5+ MB\n",
      "None\n"
     ]
    },
    {
     "ename": "IntCastingNaNError",
     "evalue": "Cannot convert non-finite values (NA or inf) to integer",
     "output_type": "error",
     "traceback": [
      "\u001b[0;31m---------------------------------------------------------------------------\u001b[0m",
      "\u001b[0;31mIntCastingNaNError\u001b[0m                        Traceback (most recent call last)",
      "Cell \u001b[0;32mIn [4], line 121\u001b[0m\n\u001b[1;32m    118\u001b[0m gm_processing[\u001b[38;5;124m'\u001b[39m\u001b[38;5;124mAgeBracket\u001b[39m\u001b[38;5;124m'\u001b[39m] \u001b[38;5;241m=\u001b[39m gm_processing[\u001b[38;5;124m'\u001b[39m\u001b[38;5;124mAge\u001b[39m\u001b[38;5;124m'\u001b[39m]\u001b[38;5;241m.\u001b[39mapply(get_bracket)   \u001b[38;5;66;03m#   age bracket\u001b[39;00m\n\u001b[1;32m    120\u001b[0m gm_processing[\u001b[38;5;124m'\u001b[39m\u001b[38;5;124mHaversineDistance\u001b[39m\u001b[38;5;124m'\u001b[39m] \u001b[38;5;241m=\u001b[39m hsd(gm_processing[\u001b[38;5;124m'\u001b[39m\u001b[38;5;124mLatitudeStart\u001b[39m\u001b[38;5;124m'\u001b[39m], gm_processing[\u001b[38;5;124m'\u001b[39m\u001b[38;5;124mLongitudeStart\u001b[39m\u001b[38;5;124m'\u001b[39m],gm_processing[\u001b[38;5;124m'\u001b[39m\u001b[38;5;124mLatitudeEnd\u001b[39m\u001b[38;5;124m'\u001b[39m], gm_processing[\u001b[38;5;124m'\u001b[39m\u001b[38;5;124mLongitudeEnd\u001b[39m\u001b[38;5;124m'\u001b[39m])\n\u001b[0;32m--> 121\u001b[0m gm_processing[\u001b[38;5;124m'\u001b[39m\u001b[38;5;124mUserID\u001b[39m\u001b[38;5;124m'\u001b[39m] \u001b[38;5;241m=\u001b[39m \u001b[43mgm_processing\u001b[49m\u001b[43m[\u001b[49m\u001b[38;5;124;43m'\u001b[39;49m\u001b[38;5;124;43mUserID\u001b[39;49m\u001b[38;5;124;43m'\u001b[39;49m\u001b[43m]\u001b[49m\u001b[38;5;241;43m.\u001b[39;49m\u001b[43mastype\u001b[49m\u001b[43m(\u001b[49m\u001b[38;5;28;43mint\u001b[39;49m\u001b[43m)\u001b[49m\n\u001b[1;32m    123\u001b[0m \u001b[38;5;66;03m#   ----------------------------------------------------------------------------\u001b[39;00m\n\u001b[1;32m    124\u001b[0m \u001b[38;5;66;03m#   DONKEY REPUBLIC PART\u001b[39;00m\n\u001b[1;32m    125\u001b[0m \u001b[38;5;66;03m#   ----------------------------------------------------------------------------\u001b[39;00m\n\u001b[1;32m    127\u001b[0m renamecols \u001b[38;5;241m=\u001b[39m {\u001b[38;5;124m'\u001b[39m\u001b[38;5;124muser_id\u001b[39m\u001b[38;5;124m'\u001b[39m:\u001b[38;5;124m'\u001b[39m\u001b[38;5;124mUserID\u001b[39m\u001b[38;5;124m'\u001b[39m,\u001b[38;5;124m'\u001b[39m\u001b[38;5;124mcreated_at\u001b[39m\u001b[38;5;124m'\u001b[39m:\u001b[38;5;124m'\u001b[39m\u001b[38;5;124mStartTime\u001b[39m\u001b[38;5;124m'\u001b[39m,\u001b[38;5;124m'\u001b[39m\u001b[38;5;124mfinished_at\u001b[39m\u001b[38;5;124m'\u001b[39m:\u001b[38;5;124m'\u001b[39m\u001b[38;5;124mEndTime\u001b[39m\u001b[38;5;124m'\u001b[39m}\n",
      "File \u001b[0;32m/opt/anaconda3/envs/master_thesis/lib/python3.11/site-packages/pandas/core/generic.py:6324\u001b[0m, in \u001b[0;36mNDFrame.astype\u001b[0;34m(self, dtype, copy, errors)\u001b[0m\n\u001b[1;32m   6317\u001b[0m     results \u001b[38;5;241m=\u001b[39m [\n\u001b[1;32m   6318\u001b[0m         \u001b[38;5;28mself\u001b[39m\u001b[38;5;241m.\u001b[39miloc[:, i]\u001b[38;5;241m.\u001b[39mastype(dtype, copy\u001b[38;5;241m=\u001b[39mcopy)\n\u001b[1;32m   6319\u001b[0m         \u001b[38;5;28;01mfor\u001b[39;00m i \u001b[38;5;129;01min\u001b[39;00m \u001b[38;5;28mrange\u001b[39m(\u001b[38;5;28mlen\u001b[39m(\u001b[38;5;28mself\u001b[39m\u001b[38;5;241m.\u001b[39mcolumns))\n\u001b[1;32m   6320\u001b[0m     ]\n\u001b[1;32m   6322\u001b[0m \u001b[38;5;28;01melse\u001b[39;00m:\n\u001b[1;32m   6323\u001b[0m     \u001b[38;5;66;03m# else, only a single dtype is given\u001b[39;00m\n\u001b[0;32m-> 6324\u001b[0m     new_data \u001b[38;5;241m=\u001b[39m \u001b[38;5;28;43mself\u001b[39;49m\u001b[38;5;241;43m.\u001b[39;49m\u001b[43m_mgr\u001b[49m\u001b[38;5;241;43m.\u001b[39;49m\u001b[43mastype\u001b[49m\u001b[43m(\u001b[49m\u001b[43mdtype\u001b[49m\u001b[38;5;241;43m=\u001b[39;49m\u001b[43mdtype\u001b[49m\u001b[43m,\u001b[49m\u001b[43m \u001b[49m\u001b[43mcopy\u001b[49m\u001b[38;5;241;43m=\u001b[39;49m\u001b[43mcopy\u001b[49m\u001b[43m,\u001b[49m\u001b[43m \u001b[49m\u001b[43merrors\u001b[49m\u001b[38;5;241;43m=\u001b[39;49m\u001b[43merrors\u001b[49m\u001b[43m)\u001b[49m\n\u001b[1;32m   6325\u001b[0m     \u001b[38;5;28;01mreturn\u001b[39;00m \u001b[38;5;28mself\u001b[39m\u001b[38;5;241m.\u001b[39m_constructor(new_data)\u001b[38;5;241m.\u001b[39m__finalize__(\u001b[38;5;28mself\u001b[39m, method\u001b[38;5;241m=\u001b[39m\u001b[38;5;124m\"\u001b[39m\u001b[38;5;124mastype\u001b[39m\u001b[38;5;124m\"\u001b[39m)\n\u001b[1;32m   6327\u001b[0m \u001b[38;5;66;03m# GH 33113: handle empty frame or series\u001b[39;00m\n",
      "File \u001b[0;32m/opt/anaconda3/envs/master_thesis/lib/python3.11/site-packages/pandas/core/internals/managers.py:451\u001b[0m, in \u001b[0;36mBaseBlockManager.astype\u001b[0;34m(self, dtype, copy, errors)\u001b[0m\n\u001b[1;32m    448\u001b[0m \u001b[38;5;28;01melif\u001b[39;00m using_copy_on_write():\n\u001b[1;32m    449\u001b[0m     copy \u001b[38;5;241m=\u001b[39m \u001b[38;5;28;01mFalse\u001b[39;00m\n\u001b[0;32m--> 451\u001b[0m \u001b[38;5;28;01mreturn\u001b[39;00m \u001b[38;5;28;43mself\u001b[39;49m\u001b[38;5;241;43m.\u001b[39;49m\u001b[43mapply\u001b[49m\u001b[43m(\u001b[49m\n\u001b[1;32m    452\u001b[0m \u001b[43m    \u001b[49m\u001b[38;5;124;43m\"\u001b[39;49m\u001b[38;5;124;43mastype\u001b[39;49m\u001b[38;5;124;43m\"\u001b[39;49m\u001b[43m,\u001b[49m\n\u001b[1;32m    453\u001b[0m \u001b[43m    \u001b[49m\u001b[43mdtype\u001b[49m\u001b[38;5;241;43m=\u001b[39;49m\u001b[43mdtype\u001b[49m\u001b[43m,\u001b[49m\n\u001b[1;32m    454\u001b[0m \u001b[43m    \u001b[49m\u001b[43mcopy\u001b[49m\u001b[38;5;241;43m=\u001b[39;49m\u001b[43mcopy\u001b[49m\u001b[43m,\u001b[49m\n\u001b[1;32m    455\u001b[0m \u001b[43m    \u001b[49m\u001b[43merrors\u001b[49m\u001b[38;5;241;43m=\u001b[39;49m\u001b[43merrors\u001b[49m\u001b[43m,\u001b[49m\n\u001b[1;32m    456\u001b[0m \u001b[43m    \u001b[49m\u001b[43musing_cow\u001b[49m\u001b[38;5;241;43m=\u001b[39;49m\u001b[43musing_copy_on_write\u001b[49m\u001b[43m(\u001b[49m\u001b[43m)\u001b[49m\u001b[43m,\u001b[49m\n\u001b[1;32m    457\u001b[0m \u001b[43m\u001b[49m\u001b[43m)\u001b[49m\n",
      "File \u001b[0;32m/opt/anaconda3/envs/master_thesis/lib/python3.11/site-packages/pandas/core/internals/managers.py:352\u001b[0m, in \u001b[0;36mBaseBlockManager.apply\u001b[0;34m(self, f, align_keys, **kwargs)\u001b[0m\n\u001b[1;32m    350\u001b[0m         applied \u001b[38;5;241m=\u001b[39m b\u001b[38;5;241m.\u001b[39mapply(f, \u001b[38;5;241m*\u001b[39m\u001b[38;5;241m*\u001b[39mkwargs)\n\u001b[1;32m    351\u001b[0m     \u001b[38;5;28;01melse\u001b[39;00m:\n\u001b[0;32m--> 352\u001b[0m         applied \u001b[38;5;241m=\u001b[39m \u001b[38;5;28;43mgetattr\u001b[39;49m\u001b[43m(\u001b[49m\u001b[43mb\u001b[49m\u001b[43m,\u001b[49m\u001b[43m \u001b[49m\u001b[43mf\u001b[49m\u001b[43m)\u001b[49m\u001b[43m(\u001b[49m\u001b[38;5;241;43m*\u001b[39;49m\u001b[38;5;241;43m*\u001b[39;49m\u001b[43mkwargs\u001b[49m\u001b[43m)\u001b[49m\n\u001b[1;32m    353\u001b[0m     result_blocks \u001b[38;5;241m=\u001b[39m extend_blocks(applied, result_blocks)\n\u001b[1;32m    355\u001b[0m out \u001b[38;5;241m=\u001b[39m \u001b[38;5;28mtype\u001b[39m(\u001b[38;5;28mself\u001b[39m)\u001b[38;5;241m.\u001b[39mfrom_blocks(result_blocks, \u001b[38;5;28mself\u001b[39m\u001b[38;5;241m.\u001b[39maxes)\n",
      "File \u001b[0;32m/opt/anaconda3/envs/master_thesis/lib/python3.11/site-packages/pandas/core/internals/blocks.py:511\u001b[0m, in \u001b[0;36mBlock.astype\u001b[0;34m(self, dtype, copy, errors, using_cow)\u001b[0m\n\u001b[1;32m    491\u001b[0m \u001b[38;5;124;03m\"\"\"\u001b[39;00m\n\u001b[1;32m    492\u001b[0m \u001b[38;5;124;03mCoerce to the new dtype.\u001b[39;00m\n\u001b[1;32m    493\u001b[0m \n\u001b[0;32m   (...)\u001b[0m\n\u001b[1;32m    507\u001b[0m \u001b[38;5;124;03mBlock\u001b[39;00m\n\u001b[1;32m    508\u001b[0m \u001b[38;5;124;03m\"\"\"\u001b[39;00m\n\u001b[1;32m    509\u001b[0m values \u001b[38;5;241m=\u001b[39m \u001b[38;5;28mself\u001b[39m\u001b[38;5;241m.\u001b[39mvalues\n\u001b[0;32m--> 511\u001b[0m new_values \u001b[38;5;241m=\u001b[39m \u001b[43mastype_array_safe\u001b[49m\u001b[43m(\u001b[49m\u001b[43mvalues\u001b[49m\u001b[43m,\u001b[49m\u001b[43m \u001b[49m\u001b[43mdtype\u001b[49m\u001b[43m,\u001b[49m\u001b[43m \u001b[49m\u001b[43mcopy\u001b[49m\u001b[38;5;241;43m=\u001b[39;49m\u001b[43mcopy\u001b[49m\u001b[43m,\u001b[49m\u001b[43m \u001b[49m\u001b[43merrors\u001b[49m\u001b[38;5;241;43m=\u001b[39;49m\u001b[43merrors\u001b[49m\u001b[43m)\u001b[49m\n\u001b[1;32m    513\u001b[0m new_values \u001b[38;5;241m=\u001b[39m maybe_coerce_values(new_values)\n\u001b[1;32m    515\u001b[0m refs \u001b[38;5;241m=\u001b[39m \u001b[38;5;28;01mNone\u001b[39;00m\n",
      "File \u001b[0;32m/opt/anaconda3/envs/master_thesis/lib/python3.11/site-packages/pandas/core/dtypes/astype.py:242\u001b[0m, in \u001b[0;36mastype_array_safe\u001b[0;34m(values, dtype, copy, errors)\u001b[0m\n\u001b[1;32m    239\u001b[0m     dtype \u001b[38;5;241m=\u001b[39m dtype\u001b[38;5;241m.\u001b[39mnumpy_dtype\n\u001b[1;32m    241\u001b[0m \u001b[38;5;28;01mtry\u001b[39;00m:\n\u001b[0;32m--> 242\u001b[0m     new_values \u001b[38;5;241m=\u001b[39m \u001b[43mastype_array\u001b[49m\u001b[43m(\u001b[49m\u001b[43mvalues\u001b[49m\u001b[43m,\u001b[49m\u001b[43m \u001b[49m\u001b[43mdtype\u001b[49m\u001b[43m,\u001b[49m\u001b[43m \u001b[49m\u001b[43mcopy\u001b[49m\u001b[38;5;241;43m=\u001b[39;49m\u001b[43mcopy\u001b[49m\u001b[43m)\u001b[49m\n\u001b[1;32m    243\u001b[0m \u001b[38;5;28;01mexcept\u001b[39;00m (\u001b[38;5;167;01mValueError\u001b[39;00m, \u001b[38;5;167;01mTypeError\u001b[39;00m):\n\u001b[1;32m    244\u001b[0m     \u001b[38;5;66;03m# e.g. _astype_nansafe can fail on object-dtype of strings\u001b[39;00m\n\u001b[1;32m    245\u001b[0m     \u001b[38;5;66;03m#  trying to convert to float\u001b[39;00m\n\u001b[1;32m    246\u001b[0m     \u001b[38;5;28;01mif\u001b[39;00m errors \u001b[38;5;241m==\u001b[39m \u001b[38;5;124m\"\u001b[39m\u001b[38;5;124mignore\u001b[39m\u001b[38;5;124m\"\u001b[39m:\n",
      "File \u001b[0;32m/opt/anaconda3/envs/master_thesis/lib/python3.11/site-packages/pandas/core/dtypes/astype.py:187\u001b[0m, in \u001b[0;36mastype_array\u001b[0;34m(values, dtype, copy)\u001b[0m\n\u001b[1;32m    184\u001b[0m     values \u001b[38;5;241m=\u001b[39m values\u001b[38;5;241m.\u001b[39mastype(dtype, copy\u001b[38;5;241m=\u001b[39mcopy)\n\u001b[1;32m    186\u001b[0m \u001b[38;5;28;01melse\u001b[39;00m:\n\u001b[0;32m--> 187\u001b[0m     values \u001b[38;5;241m=\u001b[39m \u001b[43m_astype_nansafe\u001b[49m\u001b[43m(\u001b[49m\u001b[43mvalues\u001b[49m\u001b[43m,\u001b[49m\u001b[43m \u001b[49m\u001b[43mdtype\u001b[49m\u001b[43m,\u001b[49m\u001b[43m \u001b[49m\u001b[43mcopy\u001b[49m\u001b[38;5;241;43m=\u001b[39;49m\u001b[43mcopy\u001b[49m\u001b[43m)\u001b[49m\n\u001b[1;32m    189\u001b[0m \u001b[38;5;66;03m# in pandas we don't store numpy str dtypes, so convert to object\u001b[39;00m\n\u001b[1;32m    190\u001b[0m \u001b[38;5;28;01mif\u001b[39;00m \u001b[38;5;28misinstance\u001b[39m(dtype, np\u001b[38;5;241m.\u001b[39mdtype) \u001b[38;5;129;01mand\u001b[39;00m \u001b[38;5;28missubclass\u001b[39m(values\u001b[38;5;241m.\u001b[39mdtype\u001b[38;5;241m.\u001b[39mtype, \u001b[38;5;28mstr\u001b[39m):\n",
      "File \u001b[0;32m/opt/anaconda3/envs/master_thesis/lib/python3.11/site-packages/pandas/core/dtypes/astype.py:105\u001b[0m, in \u001b[0;36m_astype_nansafe\u001b[0;34m(arr, dtype, copy, skipna)\u001b[0m\n\u001b[1;32m    100\u001b[0m     \u001b[38;5;28;01mreturn\u001b[39;00m lib\u001b[38;5;241m.\u001b[39mensure_string_array(\n\u001b[1;32m    101\u001b[0m         arr, skipna\u001b[38;5;241m=\u001b[39mskipna, convert_na_value\u001b[38;5;241m=\u001b[39m\u001b[38;5;28;01mFalse\u001b[39;00m\n\u001b[1;32m    102\u001b[0m     )\u001b[38;5;241m.\u001b[39mreshape(shape)\n\u001b[1;32m    104\u001b[0m \u001b[38;5;28;01melif\u001b[39;00m np\u001b[38;5;241m.\u001b[39missubdtype(arr\u001b[38;5;241m.\u001b[39mdtype, np\u001b[38;5;241m.\u001b[39mfloating) \u001b[38;5;129;01mand\u001b[39;00m is_integer_dtype(dtype):\n\u001b[0;32m--> 105\u001b[0m     \u001b[38;5;28;01mreturn\u001b[39;00m \u001b[43m_astype_float_to_int_nansafe\u001b[49m\u001b[43m(\u001b[49m\u001b[43marr\u001b[49m\u001b[43m,\u001b[49m\u001b[43m \u001b[49m\u001b[43mdtype\u001b[49m\u001b[43m,\u001b[49m\u001b[43m \u001b[49m\u001b[43mcopy\u001b[49m\u001b[43m)\u001b[49m\n\u001b[1;32m    107\u001b[0m \u001b[38;5;28;01melif\u001b[39;00m is_object_dtype(arr\u001b[38;5;241m.\u001b[39mdtype):\n\u001b[1;32m    108\u001b[0m     \u001b[38;5;66;03m# if we have a datetime/timedelta array of objects\u001b[39;00m\n\u001b[1;32m    109\u001b[0m     \u001b[38;5;66;03m# then coerce to datetime64[ns] and use DatetimeArray.astype\u001b[39;00m\n\u001b[1;32m    111\u001b[0m     \u001b[38;5;28;01mif\u001b[39;00m is_datetime64_dtype(dtype):\n",
      "File \u001b[0;32m/opt/anaconda3/envs/master_thesis/lib/python3.11/site-packages/pandas/core/dtypes/astype.py:150\u001b[0m, in \u001b[0;36m_astype_float_to_int_nansafe\u001b[0;34m(values, dtype, copy)\u001b[0m\n\u001b[1;32m    146\u001b[0m \u001b[38;5;124;03m\"\"\"\u001b[39;00m\n\u001b[1;32m    147\u001b[0m \u001b[38;5;124;03mastype with a check preventing converting NaN to an meaningless integer value.\u001b[39;00m\n\u001b[1;32m    148\u001b[0m \u001b[38;5;124;03m\"\"\"\u001b[39;00m\n\u001b[1;32m    149\u001b[0m \u001b[38;5;28;01mif\u001b[39;00m \u001b[38;5;129;01mnot\u001b[39;00m np\u001b[38;5;241m.\u001b[39misfinite(values)\u001b[38;5;241m.\u001b[39mall():\n\u001b[0;32m--> 150\u001b[0m     \u001b[38;5;28;01mraise\u001b[39;00m IntCastingNaNError(\n\u001b[1;32m    151\u001b[0m         \u001b[38;5;124m\"\u001b[39m\u001b[38;5;124mCannot convert non-finite values (NA or inf) to integer\u001b[39m\u001b[38;5;124m\"\u001b[39m\n\u001b[1;32m    152\u001b[0m     )\n\u001b[1;32m    153\u001b[0m \u001b[38;5;28;01mif\u001b[39;00m dtype\u001b[38;5;241m.\u001b[39mkind \u001b[38;5;241m==\u001b[39m \u001b[38;5;124m\"\u001b[39m\u001b[38;5;124mu\u001b[39m\u001b[38;5;124m\"\u001b[39m:\n\u001b[1;32m    154\u001b[0m     \u001b[38;5;66;03m# GH#45151\u001b[39;00m\n\u001b[1;32m    155\u001b[0m     \u001b[38;5;28;01mif\u001b[39;00m \u001b[38;5;129;01mnot\u001b[39;00m (values \u001b[38;5;241m>\u001b[39m\u001b[38;5;241m=\u001b[39m \u001b[38;5;241m0\u001b[39m)\u001b[38;5;241m.\u001b[39mall():\n",
      "\u001b[0;31mIntCastingNaNError\u001b[0m: Cannot convert non-finite values (NA or inf) to integer"
     ]
    }
   ],
   "source": [
    "# Initialize ShareNow and GreenMobility datasets\n",
    "gm_original = pd.read_csv('../data/raw/GM_preparedData.csv')\n",
    "sn_original = pd.read_excel('../data/raw/DriveNow/DTU - data til case_LTMZones1.xlsx')\n",
    "\n",
    "# Initialize Donkey Republic datasets\n",
    "dr_path = '../data/raw/DonkeyRepublic/'\n",
    "hubs = pd.read_excel(dr_path + 'Hubs_2019-4-2_1201.xlsx', parse_dates=['created_at'])\n",
    "rentals = pd.read_excel(dr_path + 'Rentals_2019-4-2_1456.xlsx', parse_dates=['created_at', 'finished_at'])\n",
    "\n",
    "#   ----------------------------------------------------------------------------\n",
    "#   SHARENOW PART\n",
    "#   ----------------------------------------------------------------------------\n",
    "\n",
    "# Rename ShareNow columns\n",
    "dict_sn_renamecols =    {'TurID':'TripID',\n",
    "                        'BilID':'CarID',\n",
    "                        'PersonID':'UserID',\n",
    "                        'Latitude (Start)':'LatitudeStart',\n",
    "                        'Longitude (Start)':'LongitudeStart',\n",
    "                        'Latitude (Slut)': \"LatitudeEnd\", \n",
    "                        'Longitude (Slut)':'LongitudeEnd',\n",
    "                        'Reservationstidspunkt': 'ReservationTime',\n",
    "                        'Start tidspunkt': 'StartTime',\n",
    "                        'Slut tidspunkt': 'EndTime',\n",
    "                        'Alder': 'Age',\n",
    "                        'Køn': 'Gender',\n",
    "                        'Batteristatus (start)': 'BatteryStart',\n",
    "                        'Batteristatus (slut)':'BatteryEnd',\n",
    "                        'Km kørt': 'KmDriven'}\n",
    "\n",
    "sn_processing = sn_original.rename(columns=dict_sn_renamecols)\n",
    "\n",
    "# Check the data types of the dimensions\n",
    "print(sn_processing.info())\n",
    "\n",
    "# Convert BatteryStart and BatteryEnd to Integer type\n",
    "sn_processing['BatteryStart'] = pd.to_numeric(sn_processing['BatteryStart'],errors='coerce')\n",
    "sn_processing['BatteryEnd'] = pd.to_numeric(sn_processing['BatteryEnd'],errors='coerce')\n",
    "\n",
    "# Convert location coordinates to floating type\n",
    "coordinates = [\n",
    "    'LatitudeEnd',\n",
    "    'LatitudeStart',\n",
    "    'LongitudeEnd',\n",
    "    'LongitudeStart'\n",
    "]\n",
    "\n",
    "for col in coordinates:\n",
    "    # sn_processing[col] = sn_processing[col].apply(lambda x: x.replace(',','.'))\n",
    "    sn_processing[col] = pd.to_numeric(sn_processing[col],errors='coerce')\n",
    "\n",
    "# Auxiliary columns\n",
    "sn_processing['TripDurationHours'] = (sn_processing['EndTime'] - sn_processing['StartTime']).dt.total_seconds()/3600\n",
    "sn_processing['TripDurationMinutes'] = sn_processing['TripDurationHours']*60  #   trip duration in min\n",
    "sn_processing['AvgSpeed'] = sn_processing['KmDriven']/sn_processing['TripDurationHours'] #   avg speed\n",
    "sn_processing['Month'] = sn_processing['StartTime'].dt.strftime(\"%B\").astype('category')  #   month\n",
    "sn_processing['Weekday'] = sn_processing['StartTime'].dt.day_name().astype('category')    #   day of the week\n",
    "sn_processing['StartHour'] = sn_processing['StartTime'].dt.hour.astype('category')    #   hour of the day\n",
    "sn_processing['Date'] = sn_processing['StartTime'].dt.date  #   date\n",
    "\n",
    "sn_processing['HaversineDistance'] = hsd(sn_processing['LatitudeStart'], sn_processing['LongitudeStart'],sn_processing['LatitudeEnd'], sn_processing['LongitudeEnd'])\n",
    "\n",
    "# Custom cut for age interval\n",
    "dfbrackets = pd.DataFrame({\n",
    "    'ranges': [range(18, 30), range(30, 40), range(40, 50), range(50, 60), range(60, 91)],\n",
    "    'brackets': ['18-29', '30-39', '40-49', '50-59', '60-90']\n",
    "}).explode('ranges')\n",
    "\n",
    "dfbrackets['ranges'] = dfbrackets['ranges'].astype(int)\n",
    "\n",
    "def get_bracket(age):\n",
    "    bracket = dfbrackets.loc[dfbrackets['ranges'] == age, 'brackets']\n",
    "    return bracket.iloc[0] if not bracket.empty else None\n",
    "\n",
    "sn_processing['AgeBracket'] = sn_processing['Age'].apply(get_bracket)\n",
    "\n",
    "#   ----------------------------------------------------------------------------\n",
    "#   GREENMOBILITY PART\n",
    "#   ----------------------------------------------------------------------------\n",
    "\n",
    "# Rename GreenMobility columns\n",
    "dict_gm_renamecols = {'id':'TripID',\n",
    "                        'vehicleId':'CarID',\n",
    "                        'id2':'UserID',\n",
    "                        'startPositionLat':'LatitudeStart',\n",
    "                        'startPositionLng':'LongitudeStart',\n",
    "                        'endPositionLat':'LatitudeEnd',\n",
    "                        'endPositionLng':'LongitudeEnd',\n",
    "                        'tripStart':'StartTime',\n",
    "                        'tripEnd':'EndTime',\n",
    "                        'birthday':'Age',\n",
    "                        'key':'Gender',\n",
    "                        'DriveLength':'KmDriven'\n",
    "                      }\n",
    "\n",
    "# List the columns to be kept for GreenMobility\n",
    "gmkeepcols_list = ['TripID','CarID',\n",
    "                   'UserID','LatitudeStart',\n",
    "                   'LongitudeStart','LatitudeEnd',\n",
    "                   'LongitudeEnd','StartTime',\n",
    "                   'EndTime','Age','Gender','KmDriven',\n",
    "                   'FromZoneID','ToZoneID']\n",
    "\n",
    "gm_processing = gm_original.rename(columns=dict_gm_renamecols)\n",
    "gm_processing = gm_processing[gmkeepcols_list]\n",
    "\n",
    "# Convert StartTime and EndTime to Datetime\n",
    "gm_processing['StartTime'] = pd.to_datetime(gm_processing['StartTime'], errors='coerce', format='%d%b%y:%H:%M:%S')\n",
    "gm_processing['EndTime'] = pd.to_datetime(gm_processing['EndTime'], errors='coerce' , format='%d%b%y:%H:%M:%S')\n",
    "\n",
    "gm_processing['TripDurationHours'] = (gm_processing['EndTime'] - gm_processing['StartTime']).dt.total_seconds()/3600\n",
    "gm_processing['TripDurationMinutes'] = gm_processing['TripDurationHours']*60  #   trip duration in min\n",
    "gm_processing['AvgSpeed'] = gm_processing['KmDriven']/gm_processing['TripDurationHours'] #   avg speed\n",
    "gm_processing['Month'] = gm_processing['StartTime'].dt.strftime(\"%B\").astype('category')  #   month\n",
    "gm_processing['Weekday'] = gm_processing['StartTime'].dt.day_name().astype('category')    #   day of the week\n",
    "gm_processing['StartHour'] = gm_processing['StartTime'].dt.hour.astype('category')    #   hour of the day\n",
    "gm_processing['Date'] = gm_processing['StartTime'].dt.date  #   date\n",
    "gm_processing['AgeBracket'] = gm_processing['Age'].apply(get_bracket)   #   age bracket\n",
    "\n",
    "gm_processing['HaversineDistance'] = hsd(gm_processing['LatitudeStart'], gm_processing['LongitudeStart'],gm_processing['LatitudeEnd'], gm_processing['LongitudeEnd'])\n",
    "gm_processing['UserID'] = gm_processing['UserID'].astype(int)\n",
    "\n",
    "#   ----------------------------------------------------------------------------\n",
    "#   DONKEY REPUBLIC PART\n",
    "#   ----------------------------------------------------------------------------\n",
    "\n",
    "renamecols = {'user_id':'UserID','created_at':'StartTime','finished_at':'EndTime'}\n",
    "\n",
    "# replace non-ascii characters in hubs names\n",
    "hubs['name'] = hubs['name'].str.replace('Ã¦', 'æ', regex=True)  # replace Ã¦ with æ in hubs names\n",
    "hubs['name'] = hubs['name'].str.replace('Ã¸', 'ø', regex=True)  # replace Ã¸Ã˜ with ø, Ø in hubs names\n",
    "hubs['name'] = hubs['name'].str.replace('Ã¥', 'å', regex=True)  # replace Ã¥ with å in hubs names\n",
    "hubs['name'] = hubs['name'].str.replace('Ã…', 'Å', regex=True)  # replace Ã… with Å in hubs names\n",
    "hubs['name'] = hubs['name'].str.replace('Ã˜', 'Ø', regex=True)  \n",
    "hubs['name'] = hubs['name'].str.replace('Ã©', 'é', regex=True)  # replace Ã© with é in hubs names\n",
    "hubs['name'] = hubs['name'].str.replace('Ã¼', 'ü', regex=True)  # replace Ã¼ with ü in hubs names\n",
    "hubs['name'] = hubs['name'].str.replace('Ã¶', 'ö', regex=True)  # replace Ã¶ with ö in hubs names\n",
    "\n",
    "# remove entire substring if it is in between [] like [N], [G]...\n",
    "hubs['name'] = hubs['name'].str.replace('\\[[^\\]]*\\]', '', regex=True)\n",
    "\n",
    "\n",
    "rentals.replace([np.inf, -np.inf], np.nan, inplace=True)    #   replace infinite values with NaN\n",
    "rentals['dropoff_hub_id'] = rentals['dropoff_hub_id'].astype('Int64')\n",
    "\n",
    "# Get the Start and End coordinates for each rental from hubs file\n",
    "dr_processing = rentals.merge(hubs[['id', 'latitude', 'longitude','name']], left_on='pickup_hub_id', right_on='id', how='left') #  merge with hubs to get start coordinates\n",
    "dr_processing = dr_processing.rename(columns={'latitude':'LatitudeStart', 'longitude':'LongitudeStart', 'name':'StartHubName'}) # rename columns\n",
    "\n",
    "dr_processing = dr_processing.merge(hubs[['id', 'latitude', 'longitude', 'name']], left_on='dropoff_hub_id', right_on='id', how='left') #  merge with hubs to get end coordinates\n",
    "dr_processing = dr_processing.rename(columns={'latitude': 'LatitudeEnd', 'longitude': 'LongitudeEnd', 'name': 'EndHubName'})    # rename columns\n",
    "dr_processing = dr_processing.drop(['id_x', 'id_y'], axis=1)\n",
    "\n",
    "dr_processing.rename(columns=renamecols, inplace=True)\n",
    "\n",
    "dr_processing['StartTime'] = pd.to_datetime(dr_processing['StartTime'], errors='coerce', format='mixed')\n",
    "dr_processing['EndTime'] = pd.to_datetime(dr_processing['EndTime'], errors='coerce' , format='mixed')\n",
    "\n",
    "dr_processing['TripDurationHours'] = (dr_processing['EndTime'] - dr_processing['StartTime']).dt.total_seconds()/3600\n",
    "dr_processing['TripDurationMinutes'] = dr_processing['TripDurationHours']*60  #   trip duration in min\n",
    "\n",
    "dr_processing['Month'] = dr_processing['StartTime'].dt.strftime(\"%B\").astype('category')  #   month\n",
    "dr_processing['Weekday'] = dr_processing['StartTime'].dt.day_name().astype('category')    #   day of the week\n",
    "dr_processing['StartHour'] = dr_processing['StartTime'].dt.hour.astype('category')    #   hour of the day\n",
    "dr_processing['Date'] = dr_processing['StartTime'].dt.date  #   date\n",
    "\n",
    "dr_processing['HaversineDistance'] = hsd(gm_processing['LatitudeStart'], gm_processing['LongitudeStart'],gm_processing['LatitudeEnd'], gm_processing['LongitudeEnd'])"
   ]
  },
  {
   "cell_type": "markdown",
   "metadata": {},
   "source": [
    "### 1.1 Data cleaning and processing : SHARE NOW"
   ]
  },
  {
   "cell_type": "code",
   "execution_count": null,
   "metadata": {},
   "outputs": [
    {
     "data": {
      "text/html": [
       "<p style=\"font-size:20px; font-family:Consolas;\">Descriptive statistics for Share Now</p>"
      ],
      "text/plain": [
       "<IPython.core.display.HTML object>"
      ]
     },
     "metadata": {},
     "output_type": "display_data"
    },
    {
     "data": {
      "text/html": [
       "<style type=\"text/css\">\n",
       "</style>\n",
       "<table id=\"T_6daf9\">\n",
       "  <thead>\n",
       "    <tr>\n",
       "      <th class=\"blank level0\" >&nbsp;</th>\n",
       "      <th id=\"T_6daf9_level0_col0\" class=\"col_heading level0 col0\" >mean</th>\n",
       "      <th id=\"T_6daf9_level0_col1\" class=\"col_heading level0 col1\" >st deviation</th>\n",
       "      <th id=\"T_6daf9_level0_col2\" class=\"col_heading level0 col2\" >min</th>\n",
       "      <th id=\"T_6daf9_level0_col3\" class=\"col_heading level0 col3\" >25%</th>\n",
       "      <th id=\"T_6daf9_level0_col4\" class=\"col_heading level0 col4\" >median</th>\n",
       "      <th id=\"T_6daf9_level0_col5\" class=\"col_heading level0 col5\" >75%</th>\n",
       "      <th id=\"T_6daf9_level0_col6\" class=\"col_heading level0 col6\" >max</th>\n",
       "    </tr>\n",
       "  </thead>\n",
       "  <tbody>\n",
       "    <tr>\n",
       "      <th id=\"T_6daf9_level0_row0\" class=\"row_heading level0 row0\" >Age</th>\n",
       "      <td id=\"T_6daf9_row0_col0\" class=\"data row0 col0\" >33.13</td>\n",
       "      <td id=\"T_6daf9_row0_col1\" class=\"data row0 col1\" >9.61</td>\n",
       "      <td id=\"T_6daf9_row0_col2\" class=\"data row0 col2\" >18.00</td>\n",
       "      <td id=\"T_6daf9_row0_col3\" class=\"data row0 col3\" >26.00</td>\n",
       "      <td id=\"T_6daf9_row0_col4\" class=\"data row0 col4\" >31.00</td>\n",
       "      <td id=\"T_6daf9_row0_col5\" class=\"data row0 col5\" >39.00</td>\n",
       "      <td id=\"T_6daf9_row0_col6\" class=\"data row0 col6\" >89.00</td>\n",
       "    </tr>\n",
       "    <tr>\n",
       "      <th id=\"T_6daf9_level0_row1\" class=\"row_heading level0 row1\" >BatteryStart</th>\n",
       "      <td id=\"T_6daf9_row1_col0\" class=\"data row1 col0\" >59.66</td>\n",
       "      <td id=\"T_6daf9_row1_col1\" class=\"data row1 col1\" >23.70</td>\n",
       "      <td id=\"T_6daf9_row1_col2\" class=\"data row1 col2\" >-1.00</td>\n",
       "      <td id=\"T_6daf9_row1_col3\" class=\"data row1 col3\" >41.00</td>\n",
       "      <td id=\"T_6daf9_row1_col4\" class=\"data row1 col4\" >59.00</td>\n",
       "      <td id=\"T_6daf9_row1_col5\" class=\"data row1 col5\" >78.00</td>\n",
       "      <td id=\"T_6daf9_row1_col6\" class=\"data row1 col6\" >100.00</td>\n",
       "    </tr>\n",
       "    <tr>\n",
       "      <th id=\"T_6daf9_level0_row2\" class=\"row_heading level0 row2\" >BatteryEnd</th>\n",
       "      <td id=\"T_6daf9_row2_col0\" class=\"data row2 col0\" >50.47</td>\n",
       "      <td id=\"T_6daf9_row2_col1\" class=\"data row2 col1\" >24.30</td>\n",
       "      <td id=\"T_6daf9_row2_col2\" class=\"data row2 col2\" >-1.00</td>\n",
       "      <td id=\"T_6daf9_row2_col3\" class=\"data row2 col3\" >32.00</td>\n",
       "      <td id=\"T_6daf9_row2_col4\" class=\"data row2 col4\" >50.00</td>\n",
       "      <td id=\"T_6daf9_row2_col5\" class=\"data row2 col5\" >69.00</td>\n",
       "      <td id=\"T_6daf9_row2_col6\" class=\"data row2 col6\" >100.00</td>\n",
       "    </tr>\n",
       "    <tr>\n",
       "      <th id=\"T_6daf9_level0_row3\" class=\"row_heading level0 row3\" >KmDriven</th>\n",
       "      <td id=\"T_6daf9_row3_col0\" class=\"data row3 col0\" >7.83</td>\n",
       "      <td id=\"T_6daf9_row3_col1\" class=\"data row3 col1\" >98.39</td>\n",
       "      <td id=\"T_6daf9_row3_col2\" class=\"data row3 col2\" >-19183.00</td>\n",
       "      <td id=\"T_6daf9_row3_col3\" class=\"data row3 col3\" >4.00</td>\n",
       "      <td id=\"T_6daf9_row3_col4\" class=\"data row3 col4\" >6.00</td>\n",
       "      <td id=\"T_6daf9_row3_col5\" class=\"data row3 col5\" >10.00</td>\n",
       "      <td id=\"T_6daf9_row3_col6\" class=\"data row3 col6\" >17771.00</td>\n",
       "    </tr>\n",
       "    <tr>\n",
       "      <th id=\"T_6daf9_level0_row4\" class=\"row_heading level0 row4\" >TripDurationHours</th>\n",
       "      <td id=\"T_6daf9_row4_col0\" class=\"data row4 col0\" >0.58</td>\n",
       "      <td id=\"T_6daf9_row4_col1\" class=\"data row4 col1\" >1.09</td>\n",
       "      <td id=\"T_6daf9_row4_col2\" class=\"data row4 col2\" >-0.59</td>\n",
       "      <td id=\"T_6daf9_row4_col3\" class=\"data row4 col3\" >0.29</td>\n",
       "      <td id=\"T_6daf9_row4_col4\" class=\"data row4 col4\" >0.41</td>\n",
       "      <td id=\"T_6daf9_row4_col5\" class=\"data row4 col5\" >0.57</td>\n",
       "      <td id=\"T_6daf9_row4_col6\" class=\"data row4 col6\" >152.69</td>\n",
       "    </tr>\n",
       "    <tr>\n",
       "      <th id=\"T_6daf9_level0_row5\" class=\"row_heading level0 row5\" >TripDurationMinutes</th>\n",
       "      <td id=\"T_6daf9_row5_col0\" class=\"data row5 col0\" >34.83</td>\n",
       "      <td id=\"T_6daf9_row5_col1\" class=\"data row5 col1\" >65.41</td>\n",
       "      <td id=\"T_6daf9_row5_col2\" class=\"data row5 col2\" >-35.32</td>\n",
       "      <td id=\"T_6daf9_row5_col3\" class=\"data row5 col3\" >17.23</td>\n",
       "      <td id=\"T_6daf9_row5_col4\" class=\"data row5 col4\" >24.38</td>\n",
       "      <td id=\"T_6daf9_row5_col5\" class=\"data row5 col5\" >34.10</td>\n",
       "      <td id=\"T_6daf9_row5_col6\" class=\"data row5 col6\" >9161.22</td>\n",
       "    </tr>\n",
       "    <tr>\n",
       "      <th id=\"T_6daf9_level0_row6\" class=\"row_heading level0 row6\" >AvgSpeed</th>\n",
       "      <td id=\"T_6daf9_row6_col0\" class=\"data row6 col0\" >15.86</td>\n",
       "      <td id=\"T_6daf9_row6_col1\" class=\"data row6 col1\" >117.64</td>\n",
       "      <td id=\"T_6daf9_row6_col2\" class=\"data row6 col2\" >-25250.42</td>\n",
       "      <td id=\"T_6daf9_row6_col3\" class=\"data row6 col3\" >10.13</td>\n",
       "      <td id=\"T_6daf9_row6_col4\" class=\"data row6 col4\" >14.36</td>\n",
       "      <td id=\"T_6daf9_row6_col5\" class=\"data row6 col5\" >19.78</td>\n",
       "      <td id=\"T_6daf9_row6_col6\" class=\"data row6 col6\" >38820.15</td>\n",
       "    </tr>\n",
       "  </tbody>\n",
       "</table>\n"
      ],
      "text/plain": [
       "<pandas.io.formats.style.Styler at 0x15dba69d0>"
      ]
     },
     "execution_count": 30,
     "metadata": {},
     "output_type": "execute_result"
    }
   ],
   "source": [
    "# Summary statics on numerical variables for SN\n",
    "describecols = ['Age','BatteryStart','BatteryEnd','KmDriven','TripDurationHours','TripDurationMinutes','AvgSpeed']\n",
    "sn_summary = sn_processing[describecols].describe().T\n",
    "\n",
    "sn_summary.rename(columns={'std':'st deviation','50%':'median'}, inplace = True)\n",
    "sn_summary.drop(columns='count', inplace=True)\n",
    "\n",
    "display(HTML('<p style=\"font-size:20px; font-family:Consolas;\">Descriptive statistics for Share Now</p>'))\n",
    "sn_summary.style.format(\"{:.2f}\")"
   ]
  },
  {
   "cell_type": "markdown",
   "metadata": {},
   "source": [
    "##### Dropping unfeasible records for KmDriven, TripDurationMinutes, and Battery Levels"
   ]
  },
  {
   "cell_type": "code",
   "execution_count": null,
   "metadata": {},
   "outputs": [],
   "source": [
    "# 1. Drop records with negative KmDriven and those exceeding 350km\n",
    "sn_processing = sn_processing[(sn_processing['KmDriven']>0)&(sn_processing['KmDriven']<350)]\n",
    "\n",
    "# 2. Drop records with negative trip duration\n",
    "sn_processing = sn_processing[sn_processing['TripDurationMinutes']>=0]\n",
    "\n",
    "# 3. Drop records where BatteryStart is greater than BatteryEnd and negative values\n",
    "sn_processing = sn_processing[(sn_processing['BatteryStart']>=sn_processing['BatteryEnd']) & (sn_processing['BatteryStart']>=0) & (sn_processing['BatteryEnd']>0)]\n",
    "\n",
    "# 4. Drop records where AvgSpeed exceeds 100 km/h\n",
    "sn_processing = sn_processing[sn_processing['AvgSpeed']<100]\n",
    "\n",
    "# 5. Drop records where TripDurationHours is greater than 5\n",
    "sn_processing = sn_processing[sn_processing['TripDurationHours']<6]"
   ]
  },
  {
   "cell_type": "code",
   "execution_count": null,
   "metadata": {},
   "outputs": [
    {
     "data": {
      "text/html": [
       "<style type=\"text/css\">\n",
       "</style>\n",
       "<table id=\"T_53989\">\n",
       "  <thead>\n",
       "    <tr>\n",
       "      <th class=\"blank level0\" >&nbsp;</th>\n",
       "      <th id=\"T_53989_level0_col0\" class=\"col_heading level0 col0\" >count</th>\n",
       "      <th id=\"T_53989_level0_col1\" class=\"col_heading level0 col1\" >mean</th>\n",
       "      <th id=\"T_53989_level0_col2\" class=\"col_heading level0 col2\" >std</th>\n",
       "      <th id=\"T_53989_level0_col3\" class=\"col_heading level0 col3\" >min</th>\n",
       "      <th id=\"T_53989_level0_col4\" class=\"col_heading level0 col4\" >25%</th>\n",
       "      <th id=\"T_53989_level0_col5\" class=\"col_heading level0 col5\" >50%</th>\n",
       "      <th id=\"T_53989_level0_col6\" class=\"col_heading level0 col6\" >75%</th>\n",
       "      <th id=\"T_53989_level0_col7\" class=\"col_heading level0 col7\" >max</th>\n",
       "    </tr>\n",
       "  </thead>\n",
       "  <tbody>\n",
       "    <tr>\n",
       "      <th id=\"T_53989_level0_row0\" class=\"row_heading level0 row0\" >Age</th>\n",
       "      <td id=\"T_53989_row0_col0\" class=\"data row0 col0\" >274851.00</td>\n",
       "      <td id=\"T_53989_row0_col1\" class=\"data row0 col1\" >33.09</td>\n",
       "      <td id=\"T_53989_row0_col2\" class=\"data row0 col2\" >9.50</td>\n",
       "      <td id=\"T_53989_row0_col3\" class=\"data row0 col3\" >18.00</td>\n",
       "      <td id=\"T_53989_row0_col4\" class=\"data row0 col4\" >26.00</td>\n",
       "      <td id=\"T_53989_row0_col5\" class=\"data row0 col5\" >31.00</td>\n",
       "      <td id=\"T_53989_row0_col6\" class=\"data row0 col6\" >39.00</td>\n",
       "      <td id=\"T_53989_row0_col7\" class=\"data row0 col7\" >89.00</td>\n",
       "    </tr>\n",
       "    <tr>\n",
       "      <th id=\"T_53989_level0_row1\" class=\"row_heading level0 row1\" >BatteryStart</th>\n",
       "      <td id=\"T_53989_row1_col0\" class=\"data row1 col0\" >274851.00</td>\n",
       "      <td id=\"T_53989_row1_col1\" class=\"data row1 col1\" >60.73</td>\n",
       "      <td id=\"T_53989_row1_col2\" class=\"data row1 col2\" >22.89</td>\n",
       "      <td id=\"T_53989_row1_col3\" class=\"data row1 col3\" >6.00</td>\n",
       "      <td id=\"T_53989_row1_col4\" class=\"data row1 col4\" >43.00</td>\n",
       "      <td id=\"T_53989_row1_col5\" class=\"data row1 col5\" >60.00</td>\n",
       "      <td id=\"T_53989_row1_col6\" class=\"data row1 col6\" >79.00</td>\n",
       "      <td id=\"T_53989_row1_col7\" class=\"data row1 col7\" >100.00</td>\n",
       "    </tr>\n",
       "    <tr>\n",
       "      <th id=\"T_53989_level0_row2\" class=\"row_heading level0 row2\" >BatteryEnd</th>\n",
       "      <td id=\"T_53989_row2_col0\" class=\"data row2 col0\" >274851.00</td>\n",
       "      <td id=\"T_53989_row2_col1\" class=\"data row2 col1\" >49.68</td>\n",
       "      <td id=\"T_53989_row2_col2\" class=\"data row2 col2\" >23.80</td>\n",
       "      <td id=\"T_53989_row2_col3\" class=\"data row2 col3\" >1.00</td>\n",
       "      <td id=\"T_53989_row2_col4\" class=\"data row2 col4\" >31.00</td>\n",
       "      <td id=\"T_53989_row2_col5\" class=\"data row2 col5\" >49.00</td>\n",
       "      <td id=\"T_53989_row2_col6\" class=\"data row2 col6\" >68.00</td>\n",
       "      <td id=\"T_53989_row2_col7\" class=\"data row2 col7\" >100.00</td>\n",
       "    </tr>\n",
       "    <tr>\n",
       "      <th id=\"T_53989_level0_row3\" class=\"row_heading level0 row3\" >KmDriven</th>\n",
       "      <td id=\"T_53989_row3_col0\" class=\"data row3 col0\" >274851.00</td>\n",
       "      <td id=\"T_53989_row3_col1\" class=\"data row3 col1\" >9.78</td>\n",
       "      <td id=\"T_53989_row3_col2\" class=\"data row3 col2\" >8.69</td>\n",
       "      <td id=\"T_53989_row3_col3\" class=\"data row3 col3\" >4.00</td>\n",
       "      <td id=\"T_53989_row3_col4\" class=\"data row3 col4\" >5.00</td>\n",
       "      <td id=\"T_53989_row3_col5\" class=\"data row3 col5\" >7.00</td>\n",
       "      <td id=\"T_53989_row3_col6\" class=\"data row3 col6\" >11.00</td>\n",
       "      <td id=\"T_53989_row3_col7\" class=\"data row3 col7\" >236.00</td>\n",
       "    </tr>\n",
       "    <tr>\n",
       "      <th id=\"T_53989_level0_row4\" class=\"row_heading level0 row4\" >TripDurationHours</th>\n",
       "      <td id=\"T_53989_row4_col0\" class=\"data row4 col0\" >274851.00</td>\n",
       "      <td id=\"T_53989_row4_col1\" class=\"data row4 col1\" >0.60</td>\n",
       "      <td id=\"T_53989_row4_col2\" class=\"data row4 col2\" >0.57</td>\n",
       "      <td id=\"T_53989_row4_col3\" class=\"data row4 col3\" >0.07</td>\n",
       "      <td id=\"T_53989_row4_col4\" class=\"data row4 col4\" >0.35</td>\n",
       "      <td id=\"T_53989_row4_col5\" class=\"data row4 col5\" >0.46</td>\n",
       "      <td id=\"T_53989_row4_col6\" class=\"data row4 col6\" >0.62</td>\n",
       "      <td id=\"T_53989_row4_col7\" class=\"data row4 col7\" >6.00</td>\n",
       "    </tr>\n",
       "    <tr>\n",
       "      <th id=\"T_53989_level0_row5\" class=\"row_heading level0 row5\" >TripDurationMinutes</th>\n",
       "      <td id=\"T_53989_row5_col0\" class=\"data row5 col0\" >274851.00</td>\n",
       "      <td id=\"T_53989_row5_col1\" class=\"data row5 col1\" >35.93</td>\n",
       "      <td id=\"T_53989_row5_col2\" class=\"data row5 col2\" >34.39</td>\n",
       "      <td id=\"T_53989_row5_col3\" class=\"data row5 col3\" >4.38</td>\n",
       "      <td id=\"T_53989_row5_col4\" class=\"data row5 col4\" >20.95</td>\n",
       "      <td id=\"T_53989_row5_col5\" class=\"data row5 col5\" >27.55</td>\n",
       "      <td id=\"T_53989_row5_col6\" class=\"data row5 col6\" >37.18</td>\n",
       "      <td id=\"T_53989_row5_col7\" class=\"data row5 col7\" >359.98</td>\n",
       "    </tr>\n",
       "    <tr>\n",
       "      <th id=\"T_53989_level0_row6\" class=\"row_heading level0 row6\" >AvgSpeed</th>\n",
       "      <td id=\"T_53989_row6_col0\" class=\"data row6 col0\" >274851.00</td>\n",
       "      <td id=\"T_53989_row6_col1\" class=\"data row6 col1\" >18.07</td>\n",
       "      <td id=\"T_53989_row6_col2\" class=\"data row6 col2\" >8.88</td>\n",
       "      <td id=\"T_53989_row6_col3\" class=\"data row6 col3\" >0.68</td>\n",
       "      <td id=\"T_53989_row6_col4\" class=\"data row6 col4\" >12.25</td>\n",
       "      <td id=\"T_53989_row6_col5\" class=\"data row6 col5\" >16.20</td>\n",
       "      <td id=\"T_53989_row6_col6\" class=\"data row6 col6\" >21.65</td>\n",
       "      <td id=\"T_53989_row6_col7\" class=\"data row6 col7\" >98.96</td>\n",
       "    </tr>\n",
       "  </tbody>\n",
       "</table>\n"
      ],
      "text/plain": [
       "<pandas.io.formats.style.Styler at 0x1632dd890>"
      ]
     },
     "execution_count": 32,
     "metadata": {},
     "output_type": "execute_result"
    }
   ],
   "source": [
    "sn_processing[sn_processing['KmDriven']>3][describecols].describe().T.style.format(\"{:.2f}\")"
   ]
  },
  {
   "cell_type": "code",
   "execution_count": null,
   "metadata": {},
   "outputs": [
    {
     "data": {
      "text/html": [
       "<style type=\"text/css\">\n",
       "</style>\n",
       "<table id=\"T_79b77\">\n",
       "  <thead>\n",
       "    <tr>\n",
       "      <th class=\"blank level0\" >&nbsp;</th>\n",
       "      <th id=\"T_79b77_level0_col0\" class=\"col_heading level0 col0\" >count</th>\n",
       "      <th id=\"T_79b77_level0_col1\" class=\"col_heading level0 col1\" >mean</th>\n",
       "      <th id=\"T_79b77_level0_col2\" class=\"col_heading level0 col2\" >std</th>\n",
       "      <th id=\"T_79b77_level0_col3\" class=\"col_heading level0 col3\" >min</th>\n",
       "      <th id=\"T_79b77_level0_col4\" class=\"col_heading level0 col4\" >25%</th>\n",
       "      <th id=\"T_79b77_level0_col5\" class=\"col_heading level0 col5\" >50%</th>\n",
       "      <th id=\"T_79b77_level0_col6\" class=\"col_heading level0 col6\" >75%</th>\n",
       "      <th id=\"T_79b77_level0_col7\" class=\"col_heading level0 col7\" >max</th>\n",
       "    </tr>\n",
       "  </thead>\n",
       "  <tbody>\n",
       "    <tr>\n",
       "      <th id=\"T_79b77_level0_row0\" class=\"row_heading level0 row0\" >Age</th>\n",
       "      <td id=\"T_79b77_row0_col0\" class=\"data row0 col0\" >299755.00</td>\n",
       "      <td id=\"T_79b77_row0_col1\" class=\"data row0 col1\" >32.86</td>\n",
       "      <td id=\"T_79b77_row0_col2\" class=\"data row0 col2\" >9.47</td>\n",
       "      <td id=\"T_79b77_row0_col3\" class=\"data row0 col3\" >18.00</td>\n",
       "      <td id=\"T_79b77_row0_col4\" class=\"data row0 col4\" >26.00</td>\n",
       "      <td id=\"T_79b77_row0_col5\" class=\"data row0 col5\" >30.00</td>\n",
       "      <td id=\"T_79b77_row0_col6\" class=\"data row0 col6\" >39.00</td>\n",
       "      <td id=\"T_79b77_row0_col7\" class=\"data row0 col7\" >89.00</td>\n",
       "    </tr>\n",
       "    <tr>\n",
       "      <th id=\"T_79b77_level0_row1\" class=\"row_heading level0 row1\" >BatteryStart</th>\n",
       "      <td id=\"T_79b77_row1_col0\" class=\"data row1 col0\" >299755.00</td>\n",
       "      <td id=\"T_79b77_row1_col1\" class=\"data row1 col1\" >59.37</td>\n",
       "      <td id=\"T_79b77_row1_col2\" class=\"data row1 col2\" >22.94</td>\n",
       "      <td id=\"T_79b77_row1_col3\" class=\"data row1 col3\" >3.00</td>\n",
       "      <td id=\"T_79b77_row1_col4\" class=\"data row1 col4\" >41.00</td>\n",
       "      <td id=\"T_79b77_row1_col5\" class=\"data row1 col5\" >58.00</td>\n",
       "      <td id=\"T_79b77_row1_col6\" class=\"data row1 col6\" >77.00</td>\n",
       "      <td id=\"T_79b77_row1_col7\" class=\"data row1 col7\" >100.00</td>\n",
       "    </tr>\n",
       "    <tr>\n",
       "      <th id=\"T_79b77_level0_row2\" class=\"row_heading level0 row2\" >BatteryEnd</th>\n",
       "      <td id=\"T_79b77_row2_col0\" class=\"data row2 col0\" >299755.00</td>\n",
       "      <td id=\"T_79b77_row2_col1\" class=\"data row2 col1\" >51.69</td>\n",
       "      <td id=\"T_79b77_row2_col2\" class=\"data row2 col2\" >23.72</td>\n",
       "      <td id=\"T_79b77_row2_col3\" class=\"data row2 col3\" >1.00</td>\n",
       "      <td id=\"T_79b77_row2_col4\" class=\"data row2 col4\" >33.00</td>\n",
       "      <td id=\"T_79b77_row2_col5\" class=\"data row2 col5\" >51.00</td>\n",
       "      <td id=\"T_79b77_row2_col6\" class=\"data row2 col6\" >70.00</td>\n",
       "      <td id=\"T_79b77_row2_col7\" class=\"data row2 col7\" >100.00</td>\n",
       "    </tr>\n",
       "    <tr>\n",
       "      <th id=\"T_79b77_level0_row3\" class=\"row_heading level0 row3\" >KmDriven</th>\n",
       "      <td id=\"T_79b77_row3_col0\" class=\"data row3 col0\" >299755.00</td>\n",
       "      <td id=\"T_79b77_row3_col1\" class=\"data row3 col1\" >6.36</td>\n",
       "      <td id=\"T_79b77_row3_col2\" class=\"data row3 col2\" >4.45</td>\n",
       "      <td id=\"T_79b77_row3_col3\" class=\"data row3 col3\" >1.00</td>\n",
       "      <td id=\"T_79b77_row3_col4\" class=\"data row3 col4\" >3.00</td>\n",
       "      <td id=\"T_79b77_row3_col5\" class=\"data row3 col5\" >5.00</td>\n",
       "      <td id=\"T_79b77_row3_col6\" class=\"data row3 col6\" >8.00</td>\n",
       "      <td id=\"T_79b77_row3_col7\" class=\"data row3 col7\" >50.00</td>\n",
       "    </tr>\n",
       "    <tr>\n",
       "      <th id=\"T_79b77_level0_row4\" class=\"row_heading level0 row4\" >TripDurationHours</th>\n",
       "      <td id=\"T_79b77_row4_col0\" class=\"data row4 col0\" >299755.00</td>\n",
       "      <td id=\"T_79b77_row4_col1\" class=\"data row4 col1\" >0.38</td>\n",
       "      <td id=\"T_79b77_row4_col2\" class=\"data row4 col2\" >0.14</td>\n",
       "      <td id=\"T_79b77_row4_col3\" class=\"data row4 col3\" >0.02</td>\n",
       "      <td id=\"T_79b77_row4_col4\" class=\"data row4 col4\" >0.28</td>\n",
       "      <td id=\"T_79b77_row4_col5\" class=\"data row4 col5\" >0.37</td>\n",
       "      <td id=\"T_79b77_row4_col6\" class=\"data row4 col6\" >0.48</td>\n",
       "      <td id=\"T_79b77_row4_col7\" class=\"data row4 col7\" >0.69</td>\n",
       "    </tr>\n",
       "    <tr>\n",
       "      <th id=\"T_79b77_level0_row5\" class=\"row_heading level0 row5\" >TripDurationMinutes</th>\n",
       "      <td id=\"T_79b77_row5_col0\" class=\"data row5 col0\" >299755.00</td>\n",
       "      <td id=\"T_79b77_row5_col1\" class=\"data row5 col1\" >22.86</td>\n",
       "      <td id=\"T_79b77_row5_col2\" class=\"data row5 col2\" >8.53</td>\n",
       "      <td id=\"T_79b77_row5_col3\" class=\"data row5 col3\" >1.27</td>\n",
       "      <td id=\"T_79b77_row5_col4\" class=\"data row5 col4\" >16.50</td>\n",
       "      <td id=\"T_79b77_row5_col5\" class=\"data row5 col5\" >22.47</td>\n",
       "      <td id=\"T_79b77_row5_col6\" class=\"data row5 col6\" >29.03</td>\n",
       "      <td id=\"T_79b77_row5_col7\" class=\"data row5 col7\" >41.63</td>\n",
       "    </tr>\n",
       "    <tr>\n",
       "      <th id=\"T_79b77_level0_row6\" class=\"row_heading level0 row6\" >AvgSpeed</th>\n",
       "      <td id=\"T_79b77_row6_col0\" class=\"data row6 col0\" >299755.00</td>\n",
       "      <td id=\"T_79b77_row6_col1\" class=\"data row6 col1\" >16.58</td>\n",
       "      <td id=\"T_79b77_row6_col2\" class=\"data row6 col2\" >8.70</td>\n",
       "      <td id=\"T_79b77_row6_col3\" class=\"data row6 col3\" >1.44</td>\n",
       "      <td id=\"T_79b77_row6_col4\" class=\"data row6 col4\" >10.85</td>\n",
       "      <td id=\"T_79b77_row6_col5\" class=\"data row6 col5\" >14.85</td>\n",
       "      <td id=\"T_79b77_row6_col6\" class=\"data row6 col6\" >20.17</td>\n",
       "      <td id=\"T_79b77_row6_col7\" class=\"data row6 col7\" >98.96</td>\n",
       "    </tr>\n",
       "  </tbody>\n",
       "</table>\n"
      ],
      "text/plain": [
       "<pandas.io.formats.style.Styler at 0x153b8d4d0>"
      ]
     },
     "execution_count": 33,
     "metadata": {},
     "output_type": "execute_result"
    }
   ],
   "source": [
    "# Check 85% quantile on TripDurationMinutes\n",
    "sn_processing[(sn_processing['TripDurationMinutes']<sn_processing['TripDurationMinutes'].quantile(0.85))][describecols].describe().T.style.format(\"{:.2f}\")"
   ]
  },
  {
   "cell_type": "markdown",
   "metadata": {},
   "source": [
    "#### Population insights\n",
    "\n",
    "We can see that most of the SN trips are made by people younger than 30 years, however, they tend to drive shorter distances, while doing it faster on average."
   ]
  },
  {
   "cell_type": "code",
   "execution_count": null,
   "metadata": {},
   "outputs": [
    {
     "data": {
      "application/vnd.plotly.v1+json": {
       "config": {
        "plotlyServerURL": "https://plot.ly"
       },
       "data": [
        {
         "alignmentgroup": "True",
         "hovertemplate": "Age group=%{x}<br>Number of trips=%{y}<br>Km=%{marker.color}<extra></extra>",
         "legendgroup": "",
         "marker": {
          "color": [
           8.838770556159824,
           8.799853727376673,
           9.229062816150096,
           9.882645611378509,
           9.961272891023716
          ],
          "coloraxis": "coloraxis",
          "pattern": {
           "shape": ""
          }
         },
         "name": "",
         "offsetgroup": "",
         "orientation": "v",
         "showlegend": false,
         "textposition": "auto",
         "type": "bar",
         "x": [
          "18-29",
          "30-39",
          "40-49",
          "50-59",
          "60-90"
         ],
         "xaxis": "x",
         "y": [
          138827,
          97079,
          54365,
          18491,
          3331
         ],
         "yaxis": "y"
        }
       ],
       "layout": {
        "barmode": "relative",
        "coloraxis": {
         "colorbar": {
          "title": {
           "text": "Km"
          }
         },
         "colorscale": [
          [
           0,
           "rgb(182,212,233)"
          ],
          [
           0.25,
           "rgb(117,179,216)"
          ],
          [
           0.5,
           "rgb(59,139,194)"
          ],
          [
           0.75,
           "rgb(17,93,165)"
          ],
          [
           1,
           "rgb(8,48,107)"
          ]
         ]
        },
        "font": {
         "family": "Aptos",
         "size": 18
        },
        "height": 600,
        "legend": {
         "tracegroupgap": 0
        },
        "margin": {
         "t": 60
        },
        "template": {},
        "width": 500,
        "xaxis": {
         "anchor": "y",
         "domain": [
          0,
          1
         ],
         "showgrid": false,
         "title": {
          "text": "Age group"
         }
        },
        "yaxis": {
         "anchor": "x",
         "domain": [
          0,
          1
         ],
         "title": {
          "text": "Number of trips"
         }
        }
       }
      }
     },
     "metadata": {},
     "output_type": "display_data"
    }
   ],
   "source": [
    "n_steps = 5  # Define the number of steps you want in your color scale\n",
    "custom_blue_scale = generate_custom_colorscale(n_steps, 'Blues', dark_start=True)\n",
    "\n",
    "agg_df = sn_processing[sn_processing['KmDriven']>=3].groupby('AgeBracket')['KmDriven'].agg(['mean','count']).reset_index()\n",
    "fig = px.bar(agg_df, x='AgeBracket', y='count', color='mean',\n",
    "             color_continuous_scale=custom_blue_scale,\n",
    "             labels={'mean': 'Km', 'count': 'Number of trips', 'AgeBracket':'Age group'})\n",
    "\n",
    "fig.update_layout(width=500,height=600, template=None, font=dict(family='Aptos',size=18))\n",
    "fig.update_traces()\n",
    "# fig.update_yaxes(showgrid=False)\n",
    "fig.update_xaxes(showgrid=False)\n",
    "fig.show()\n"
   ]
  },
  {
   "cell_type": "code",
   "execution_count": null,
   "metadata": {},
   "outputs": [
    {
     "data": {
      "application/vnd.plotly.v1+json": {
       "config": {
        "plotlyServerURL": "https://plot.ly"
       },
       "data": [
        {
         "alignmentgroup": "True",
         "hovertemplate": "Age group=%{x}<br>Number of trips=%{y}<br>Km/h=%{marker.color}<extra></extra>",
         "legendgroup": "",
         "marker": {
          "color": [
           17.938016974556277,
           16.88987657199793,
           16.44666641636079,
           16.84018663626375,
           17.340981142176965
          ],
          "coloraxis": "coloraxis",
          "pattern": {
           "shape": ""
          }
         },
         "name": "",
         "offsetgroup": "",
         "orientation": "v",
         "showlegend": false,
         "textposition": "auto",
         "type": "bar",
         "x": [
          "18-29",
          "30-39",
          "40-49",
          "50-59",
          "60-90"
         ],
         "xaxis": "x",
         "y": [
          138827,
          97079,
          54365,
          18491,
          3331
         ],
         "yaxis": "y"
        }
       ],
       "layout": {
        "barmode": "relative",
        "coloraxis": {
         "colorbar": {
          "title": {
           "text": "Km/h"
          }
         },
         "colorscale": [
          [
           0,
           "rgb(182,212,233)"
          ],
          [
           0.25,
           "rgb(117,179,216)"
          ],
          [
           0.5,
           "rgb(59,139,194)"
          ],
          [
           0.75,
           "rgb(17,93,165)"
          ],
          [
           1,
           "rgb(8,48,107)"
          ]
         ]
        },
        "font": {
         "family": "Aptos",
         "size": 18
        },
        "height": 600,
        "legend": {
         "tracegroupgap": 0
        },
        "margin": {
         "t": 60
        },
        "template": {},
        "width": 500,
        "xaxis": {
         "anchor": "y",
         "domain": [
          0,
          1
         ],
         "showgrid": false,
         "title": {
          "text": "Age group"
         }
        },
        "yaxis": {
         "anchor": "x",
         "domain": [
          0,
          1
         ],
         "title": {
          "text": "Number of trips"
         }
        }
       }
      }
     },
     "metadata": {},
     "output_type": "display_data"
    }
   ],
   "source": [
    "spped = sn_processing[sn_processing['KmDriven']>=3].groupby('AgeBracket')['AvgSpeed'].agg(['mean','count']).reset_index()\n",
    "fig = px.bar(spped, x='AgeBracket', y='count', color='mean',\n",
    "             color_continuous_scale=custom_blue_scale,\n",
    "             labels={'mean': 'Km/h', 'count': 'Number of trips', 'AgeBracket':'Age group'})\n",
    "\n",
    "fig.update_layout(width=500,height=600, template=None, font=dict(family='Aptos',size=18))\n",
    "fig.update_traces()\n",
    "# fig.update_yaxes(showgrid=False)\n",
    "fig.update_xaxes(showgrid=False)\n",
    "fig.show()"
   ]
  },
  {
   "cell_type": "markdown",
   "metadata": {},
   "source": [
    "#### Check data distributions: KmDriven, TripDurationMinutes, AvgSpeed\n",
    "Cuts: KmDriven above $3$ km, TripDurationMinutes -  $85\\%$"
   ]
  },
  {
   "cell_type": "code",
   "execution_count": null,
   "metadata": {},
   "outputs": [
    {
     "data": {
      "image/png": "[encoded data removed]",
      "text/plain": [
       "<Figure size 1500x1000 with 3 Axes>"
      ]
     },
     "metadata": {},
     "output_type": "display_data"
    }
   ],
   "source": [
    "columns = ['KmDriven', 'TripDurationMinutes', 'AvgSpeed']\n",
    "\n",
    "# Set the figure size\n",
    "plt.figure(figsize=(15, 10))\n",
    "\n",
    "# Create subplots for histograms\n",
    "for i, column in enumerate(columns):\n",
    "    plt.subplot(2, 3, i+1)\n",
    "    if column == 'TripDurationMinutes':\n",
    "        sns.boxplot(data=sn_processing[(sn_processing['KmDriven']>=3)&(sn_processing['TripDurationMinutes']<sn_processing['TripDurationMinutes'].quantile(0.85))], y=column, color='lightblue')\n",
    "    else:\n",
    "        sns.histplot(data=sn_processing[(sn_processing['KmDriven']>=3)&(sn_processing['TripDurationMinutes']<sn_processing['TripDurationMinutes'].quantile(0.85))], x=column, bins=30,color='lightblue')\n",
    "    # sns.color_palette('rocket_r')\n",
    "    sns.set_style('whitegrid')\n",
    "    plt.grid(False)\n",
    "    plt.title(column)\n",
    "plt.tight_layout()\n",
    "\n",
    "# Show the plot\n",
    "plt.show()\n"
   ]
  },
  {
   "cell_type": "code",
   "execution_count": null,
   "metadata": {},
   "outputs": [],
   "source": [
    "# Display average daily demand per hour\n",
    "sn_processing['Date'] = sn_processing['StartTime'].dt.date\n",
    "days = sn_processing.groupby(['Date','StartHour']).agg({'TripID':'count'}).reset_index()\n",
    "dfplot = days.groupby('StartHour').agg({'TripID':'mean'},).reset_index().rename(columns={'TripID':'AvgDemand'})"
   ]
  },
  {
   "cell_type": "code",
   "execution_count": null,
   "metadata": {},
   "outputs": [
    {
     "data": {
      "application/vnd.plotly.v1+json": {
       "config": {
        "plotlyServerURL": "https://plot.ly"
       },
       "data": [
        {
         "marker": {
          "color": [
           20.585714285714285,
           12.75,
           8.267857142857142,
           7.171428571428572,
           8.914285714285715,
           13.257142857142858,
           24.285714285714285,
           50.667857142857144,
           66.38214285714285,
           61.75714285714286,
           53.90714285714286,
           59.628571428571426,
           66.06071428571428,
           69.63214285714285,
           74.27857142857142,
           84.00357142857143,
           96.59285714285714,
           104.86785714285715,
           92.425,
           76.88571428571429,
           67.53928571428571,
           57.503571428571426,
           49.11785714285714,
           33.082142857142856
          ],
          "colorscale": [
           [
            0,
            "rgb(182,212,233)"
           ],
           [
            0.043478260869565216,
            "rgb(172,208,230)"
           ],
           [
            0.08695652173913043,
            "rgb(162,203,226)"
           ],
           [
            0.13043478260869565,
            "rgb(151,198,223)"
           ],
           [
            0.17391304347826086,
            "rgb(139,192,221)"
           ],
           [
            0.21739130434782608,
            "rgb(127,184,218)"
           ],
           [
            0.2608695652173913,
            "rgb(114,177,215)"
           ],
           [
            0.30434782608695654,
            "rgb(102,170,212)"
           ],
           [
            0.34782608695652173,
            "rgb(92,163,208)"
           ],
           [
            0.391304347826087,
            "rgb(83,157,204)"
           ],
           [
            0.43478260869565216,
            "rgb(72,150,200)"
           ],
           [
            0.4782608695652174,
            "rgb(63,143,196)"
           ],
           [
            0.5217391304347826,
            "rgb(55,135,192)"
           ],
           [
            0.5652173913043478,
            "rgb(46,126,188)"
           ],
           [
            0.6086956521739131,
            "rgb(39,119,184)"
           ],
           [
            0.6521739130434783,
            "rgb(31,111,179)"
           ],
           [
            0.6956521739130435,
            "rgb(25,103,173)"
           ],
           [
            0.7391304347826086,
            "rgb(19,95,167)"
           ],
           [
            0.782608695652174,
            "rgb(12,87,160)"
           ],
           [
            0.8260869565217391,
            "rgb(8,80,154)"
           ],
           [
            0.8695652173913043,
            "rgb(8,71,142)"
           ],
           [
            0.9130434782608695,
            "rgb(8,63,130)"
           ],
           [
            0.9565217391304348,
            "rgb(8,55,117)"
           ],
           [
            1,
            "rgb(8,48,107)"
           ]
          ],
          "line": {
           "color": "white",
           "width": 2
          }
         },
         "opacity": 0.9,
         "r": [
          20.585714285714285,
          12.75,
          8.267857142857142,
          7.171428571428572,
          8.914285714285715,
          13.257142857142858,
          24.285714285714285,
          50.667857142857144,
          66.38214285714285,
          61.75714285714286,
          53.90714285714286,
          59.628571428571426,
          66.06071428571428,
          69.63214285714285,
          74.27857142857142,
          84.00357142857143,
          96.59285714285714,
          104.86785714285715,
          92.425,
          76.88571428571429,
          67.53928571428571,
          57.503571428571426,
          49.11785714285714,
          33.082142857142856
         ],
         "theta": [
          -7.5,
          7.5,
          22.5,
          37.5,
          52.5,
          67.5,
          82.5,
          97.5,
          112.5,
          127.5,
          142.5,
          157.5,
          172.5,
          187.5,
          202.5,
          217.5,
          232.5,
          247.5,
          262.5,
          277.5,
          292.5,
          307.5,
          322.5,
          337.5
         ],
         "type": "barpolar",
         "width": [
          15,
          15,
          15,
          15,
          15,
          15,
          15,
          15,
          15,
          15,
          15,
          15,
          15,
          15,
          15,
          15,
          15,
          15,
          15,
          15,
          15,
          15,
          15,
          15
         ]
        }
       ],
       "layout": {
        "polar": {
         "angularaxis": {
          "direction": "clockwise",
          "gridcolor": "white",
          "linecolor": "white",
          "period": 24,
          "showline": true,
          "showticklabels": true,
          "ticks": "",
          "ticktext": [
           "0:00",
           "",
           "",
           "",
           "",
           "",
           "6:00",
           "",
           "",
           "",
           "",
           "",
           "12:00",
           "",
           "",
           "",
           "",
           "",
           "18:00",
           "",
           "",
           "",
           "",
           ""
          ],
          "tickvals": [
           0,
           15,
           30,
           45,
           60,
           75,
           90,
           105,
           120,
           135,
           150,
           165,
           180,
           195,
           210,
           225,
           240,
           255,
           270,
           285,
           300,
           315,
           330,
           345
          ]
         },
         "bgcolor": "rgb(223, 223,223)",
         "hole": 0.4,
         "radialaxis": {
          "linecolor": "white",
          "linewidth": 2,
          "showgrid": false,
          "showticklabels": false,
          "ticks": ""
         }
        },
        "template": {}
       }
      }
     },
     "metadata": {},
     "output_type": "display_data"
    }
   ],
   "source": [
    "r = dfplot['AvgDemand'].tolist()\n",
    "theta = np.arange(0,360,15)\n",
    "width = [15]*24\n",
    "\n",
    "ticktexts = [str(i)+\":00\" if i % 6 == 0 else '' for i in np.arange(24)]\n",
    "custom_blue_scale = generate_custom_colorscale(24,'Blues',dark_start=True)\n",
    "\n",
    "fig = go.Figure(go.Barpolar(\n",
    "    r=r,\n",
    "    theta=[i-7.5 for i in theta],\n",
    "    width=width,\n",
    "    marker_color=dfplot['AvgDemand'],\n",
    "    marker_colorscale=custom_blue_scale,\n",
    "    marker_line_color=\"white\",\n",
    "    marker_line_width=2,\n",
    "    opacity=0.9\n",
    "))\n",
    "\n",
    "fig.update_layout(\n",
    "    template=None,\n",
    "    polar=dict(\n",
    "        hole=0.4,\n",
    "        bgcolor='rgb(223, 223,223)',\n",
    "        radialaxis=dict(\n",
    "            showticklabels=False,\n",
    "            ticks='',\n",
    "            linewidth=2,\n",
    "            linecolor='white',\n",
    "            showgrid=False,\n",
    "        ),\n",
    "        angularaxis=dict(\n",
    "            tickvals=[i for i in theta],\n",
    "            ticktext=ticktexts,\n",
    "            showline=True,\n",
    "            direction='clockwise',\n",
    "            period=24,\n",
    "            linecolor='white',\n",
    "            gridcolor='white',\n",
    "            showticklabels=True,\n",
    "            ticks=''\n",
    "        )\n",
    "    )\n",
    ")\n",
    "\n",
    "fig.show()"
   ]
  },
  {
   "cell_type": "code",
   "execution_count": null,
   "metadata": {},
   "outputs": [
    {
     "data": {
      "application/vnd.plotly.v1+json": {
       "config": {
        "plotlyServerURL": "https://plot.ly"
       },
       "data": [
        {
         "alignmentgroup": "True",
         "hovertemplate": "Weekday=%{x}<br>Number of trips=%{y}<br>Km=%{marker.color}<extra></extra>",
         "legendgroup": "",
         "marker": {
          "color": [
           8.36,
           8.4,
           8.14,
           8.44,
           8.28,
           8.35,
           8.29
          ],
          "coloraxis": "coloraxis",
          "pattern": {
           "shape": ""
          }
         },
         "name": "",
         "offsetgroup": "",
         "orientation": "v",
         "showlegend": false,
         "textposition": "auto",
         "type": "bar",
         "x": [
          "Friday",
          "Monday",
          "Saturday",
          "Sunday",
          "Thursday",
          "Tuesday",
          "Wednesday"
         ],
         "xaxis": "x",
         "y": [
          1224,
          963,
          1246,
          1037,
          1112,
          1044,
          1075
         ],
         "yaxis": "y"
        }
       ],
       "layout": {
        "barmode": "relative",
        "coloraxis": {
         "colorbar": {
          "title": {
           "text": "Km"
          }
         },
         "colorscale": [
          [
           0,
           "rgb(182,212,233)"
          ],
          [
           0.043478260869565216,
           "rgb(172,208,230)"
          ],
          [
           0.08695652173913043,
           "rgb(162,203,226)"
          ],
          [
           0.13043478260869565,
           "rgb(151,198,223)"
          ],
          [
           0.17391304347826086,
           "rgb(139,192,221)"
          ],
          [
           0.21739130434782608,
           "rgb(127,184,218)"
          ],
          [
           0.2608695652173913,
           "rgb(114,177,215)"
          ],
          [
           0.30434782608695654,
           "rgb(102,170,212)"
          ],
          [
           0.34782608695652173,
           "rgb(92,163,208)"
          ],
          [
           0.391304347826087,
           "rgb(83,157,204)"
          ],
          [
           0.43478260869565216,
           "rgb(72,150,200)"
          ],
          [
           0.4782608695652174,
           "rgb(63,143,196)"
          ],
          [
           0.5217391304347826,
           "rgb(55,135,192)"
          ],
          [
           0.5652173913043478,
           "rgb(46,126,188)"
          ],
          [
           0.6086956521739131,
           "rgb(39,119,184)"
          ],
          [
           0.6521739130434783,
           "rgb(31,111,179)"
          ],
          [
           0.6956521739130435,
           "rgb(25,103,173)"
          ],
          [
           0.7391304347826086,
           "rgb(19,95,167)"
          ],
          [
           0.782608695652174,
           "rgb(12,87,160)"
          ],
          [
           0.8260869565217391,
           "rgb(8,80,154)"
          ],
          [
           0.8695652173913043,
           "rgb(8,71,142)"
          ],
          [
           0.9130434782608695,
           "rgb(8,63,130)"
          ],
          [
           0.9565217391304348,
           "rgb(8,55,117)"
          ],
          [
           1,
           "rgb(8,48,107)"
          ]
         ]
        },
        "font": {
         "family": "Aptos",
         "size": 20
        },
        "height": 600,
        "legend": {
         "tracegroupgap": 0
        },
        "margin": {
         "t": 60
        },
        "template": {},
        "width": 700,
        "xaxis": {
         "anchor": "y",
         "categoryarray": [
          "Monday",
          "Tuesday",
          "Wednesday",
          "Thursday",
          "Friday",
          "Saturday",
          "Sunday"
         ],
         "categoryorder": "array",
         "domain": [
          0,
          1
         ],
         "showgrid": false,
         "ticktext": [
          "Mon",
          "Tue",
          "Wed",
          "Thu",
          "Fri",
          "Sat",
          "Sun"
         ],
         "tickvals": [
          0,
          1,
          2,
          3,
          4,
          5,
          6
         ],
         "title": {}
        },
        "yaxis": {
         "anchor": "x",
         "domain": [
          0,
          1
         ],
         "showgrid": false,
         "title": {
          "text": "Number of trips"
         }
        }
       }
      }
     },
     "metadata": {},
     "output_type": "display_data"
    }
   ],
   "source": [
    "agg_trips_km = sn_processing[(sn_processing['KmDriven']>=3)&(sn_processing['KmDriven']<40)]\\\n",
    "    .groupby('Date')[['TripID','KmDriven']].agg({'TripID':'count','KmDriven':'sum'}).reset_index()\n",
    "agg_trips_km['Weekday'] = pd.to_datetime(agg_trips_km['Date']).dt.day_name()\n",
    "daily_trip_km = agg_trips_km.groupby('Weekday').agg({'TripID':'mean','KmDriven':'mean'}).reset_index()\n",
    "daily_trip_km['KmDriven'] = np.round(daily_trip_km['KmDriven']/daily_trip_km['TripID'],decimals=2)\n",
    "daily_trip_km['TripID'] = np.round(daily_trip_km['TripID'],decimals=0).astype(int)\n",
    "daily_trip_km.rename(columns={'TripID':'AvgDemand','KmDriven':'AvgDistance'},inplace=True)\n",
    "\n",
    "orderlist = ['Monday', 'Tuesday', 'Wednesday', 'Thursday', 'Friday', 'Saturday', 'Sunday']\n",
    "\n",
    "fig = px.bar(daily_trip_km, x='Weekday', y='AvgDemand',category_orders={'Weekday':orderlist},color='AvgDistance',\n",
    "             color_continuous_scale=custom_blue_scale,\n",
    "             labels={'AvgDistance': 'Km', 'AvgDemand': 'Number of trips'})\n",
    "\n",
    "fig.update_layout(width=700,height=600, template=None, font=dict(family='Aptos',size=20))\n",
    "fig.update_traces()\n",
    "fig.update_yaxes(showgrid=False)\n",
    "fig.update_xaxes(\n",
    "    ticktext=['Mon', 'Tue', 'Wed', 'Thu', 'Fri', 'Sat', 'Sun'],\n",
    "    tickvals=[0, 1, 2, 3, 4, 5, 6], showgrid=False, title=None\n",
    ")\n",
    "\n",
    "fig.show()"
   ]
  },
  {
   "cell_type": "code",
   "execution_count": null,
   "metadata": {},
   "outputs": [
    {
     "name": "stdout",
     "output_type": "stream",
     "text": [
      "Mann-Whitney U statistic: 1030388996.0\n",
      "p-value: 3.077489241116825e-05\n"
     ]
    }
   ],
   "source": [
    "# Perform the Pearson correlation test\n",
    "monday = sn_processing[sn_processing['Weekday'] == 'Monday']['KmDriven']\n",
    "sunday = sn_processing[sn_processing['Weekday'] == 'Sunday']['KmDriven']\n",
    "\n",
    "# Perform Mann-Whitney U test\n",
    "statistic, p_value = mannwhitneyu(monday, sunday, alternative='two-sided')\n",
    "\n",
    "# Print the test results\n",
    "print(\"Mann-Whitney U statistic:\", statistic)\n",
    "print(\"p-value:\", p_value)\n"
   ]
  },
  {
   "cell_type": "code",
   "execution_count": null,
   "metadata": {},
   "outputs": [
    {
     "data": {
      "text/html": [
       "<div>\n",
       "<style scoped>\n",
       "    .dataframe tbody tr th:only-of-type {\n",
       "        vertical-align: middle;\n",
       "    }\n",
       "\n",
       "    .dataframe tbody tr th {\n",
       "        vertical-align: top;\n",
       "    }\n",
       "\n",
       "    .dataframe thead th {\n",
       "        text-align: right;\n",
       "    }\n",
       "</style>\n",
       "<table border=\"1\" class=\"dataframe\">\n",
       "  <thead>\n",
       "    <tr style=\"text-align: right;\">\n",
       "      <th></th>\n",
       "      <th>AgeBracket</th>\n",
       "      <th>Number of users</th>\n",
       "    </tr>\n",
       "  </thead>\n",
       "  <tbody>\n",
       "    <tr>\n",
       "      <th>0</th>\n",
       "      <td>18-29</td>\n",
       "      <td>10635</td>\n",
       "    </tr>\n",
       "    <tr>\n",
       "      <th>1</th>\n",
       "      <td>30-39</td>\n",
       "      <td>7758</td>\n",
       "    </tr>\n",
       "    <tr>\n",
       "      <th>2</th>\n",
       "      <td>40-49</td>\n",
       "      <td>4411</td>\n",
       "    </tr>\n",
       "    <tr>\n",
       "      <th>3</th>\n",
       "      <td>50-59</td>\n",
       "      <td>1886</td>\n",
       "    </tr>\n",
       "    <tr>\n",
       "      <th>4</th>\n",
       "      <td>60-90</td>\n",
       "      <td>443</td>\n",
       "    </tr>\n",
       "  </tbody>\n",
       "</table>\n",
       "</div>"
      ],
      "text/plain": [
       "  AgeBracket  Number of users\n",
       "0      18-29            10635\n",
       "1      30-39             7758\n",
       "2      40-49             4411\n",
       "3      50-59             1886\n",
       "4      60-90              443"
      ]
     },
     "execution_count": 41,
     "metadata": {},
     "output_type": "execute_result"
    }
   ],
   "source": [
    "sn_processing.groupby('AgeBracket')['UserID'].unique().apply(len).reset_index().rename(columns={'UserID':'Number of users'})"
   ]
  },
  {
   "cell_type": "code",
   "execution_count": null,
   "metadata": {},
   "outputs": [
    {
     "name": "stdout",
     "output_type": "stream",
     "text": [
      "There is a statistically significant difference between the mean of average speed across age groups.\n"
     ]
    }
   ],
   "source": [
    "# Extract the average speed for each age group\n",
    "age_group_18_29 = sn_processing[sn_processing['AgeBracket'] == '18-29']['AvgSpeed']\n",
    "age_group_30_39 = sn_processing[sn_processing['AgeBracket'] == '30-39']['AvgSpeed']\n",
    "age_group_40_49 = sn_processing[sn_processing['AgeBracket'] == '40-49']['AvgSpeed']\n",
    "age_group_50_59 = sn_processing[sn_processing['AgeBracket'] == '50-59']['AvgSpeed']\n",
    "age_group_60_90 = sn_processing[sn_processing['AgeBracket'] == '60-90']['AvgSpeed']\n",
    "\n",
    "# Perform one-way ANOVA test\n",
    "f_statistic, p_value = f_oneway(age_group_18_29, age_group_30_39, age_group_40_49, age_group_50_59, age_group_60_90)\n",
    "\n",
    "# Check the p-value\n",
    "if p_value < 0.05:\n",
    "    print(\"There is a statistically significant difference between the mean of average speed across age groups.\")\n",
    "else:\n",
    "    print(\"There is no statistically significant difference between the mean of average speed across age groups.\")\n"
   ]
  },
  {
   "cell_type": "code",
   "execution_count": null,
   "metadata": {},
   "outputs": [
    {
     "name": "stdout",
     "output_type": "stream",
     "text": [
      "Pearson correlation coefficient: -0.06216925649391497\n",
      "p-value: 5.858472794464589e-299\n"
     ]
    }
   ],
   "source": [
    "# Extract the 'Age' and 'AvgSpeed' columns from the DataFrame\n",
    "age = sn_processing['Age']\n",
    "avg_speed = sn_processing['AvgSpeed']\n",
    "\n",
    "# Perform the Pearson correlation test\n",
    "correlation, p_value = pearsonr(age, avg_speed)\n",
    "\n",
    "# Print the correlation coefficient and p-value\n",
    "print(\"Pearson correlation coefficient:\", correlation)\n",
    "print(\"p-value:\", p_value)\n"
   ]
  },
  {
   "cell_type": "code",
   "execution_count": null,
   "metadata": {},
   "outputs": [],
   "source": [
    "sn_processing_groupusers = sn_processing.groupby('UserID')\\\n",
    "    .agg({'TripID':'count','TripDurationMinutes':'mean','KmDriven':'mean'})\\\n",
    "    .reset_index().rename(columns={'TripID':'Number of trips','TripDurationMinutes':'Time (min)','KmDriven':'Trip (km)'})\\\n",
    "    .sort_values('Number of trips',ascending=False)"
   ]
  },
  {
   "cell_type": "code",
   "execution_count": null,
   "metadata": {},
   "outputs": [
    {
     "data": {
      "text/html": [
       "<style type=\"text/css\">\n",
       "</style>\n",
       "<table id=\"T_11232\">\n",
       "  <thead>\n",
       "    <tr>\n",
       "      <th class=\"blank level0\" >&nbsp;</th>\n",
       "      <th id=\"T_11232_level0_col0\" class=\"col_heading level0 col0\" >UserID</th>\n",
       "      <th id=\"T_11232_level0_col1\" class=\"col_heading level0 col1\" >Number of trips</th>\n",
       "      <th id=\"T_11232_level0_col2\" class=\"col_heading level0 col2\" >Time (min)</th>\n",
       "      <th id=\"T_11232_level0_col3\" class=\"col_heading level0 col3\" >Trip (km)</th>\n",
       "    </tr>\n",
       "  </thead>\n",
       "  <tbody>\n",
       "    <tr>\n",
       "      <th id=\"T_11232_level0_row0\" class=\"row_heading level0 row0\" >10731</th>\n",
       "      <td id=\"T_11232_row0_col0\" class=\"data row0 col0\" >35595</td>\n",
       "      <td id=\"T_11232_row0_col1\" class=\"data row0 col1\" >788</td>\n",
       "      <td id=\"T_11232_row0_col2\" class=\"data row0 col2\" >18.02</td>\n",
       "      <td id=\"T_11232_row0_col3\" class=\"data row0 col3\" >4.38</td>\n",
       "    </tr>\n",
       "    <tr>\n",
       "      <th id=\"T_11232_level0_row1\" class=\"row_heading level0 row1\" >16190</th>\n",
       "      <td id=\"T_11232_row1_col0\" class=\"data row1 col0\" >45868</td>\n",
       "      <td id=\"T_11232_row1_col1\" class=\"data row1 col1\" >785</td>\n",
       "      <td id=\"T_11232_row1_col2\" class=\"data row1 col2\" >31.65</td>\n",
       "      <td id=\"T_11232_row1_col3\" class=\"data row1 col3\" >7.28</td>\n",
       "    </tr>\n",
       "    <tr>\n",
       "      <th id=\"T_11232_level0_row2\" class=\"row_heading level0 row2\" >13609</th>\n",
       "      <td id=\"T_11232_row2_col0\" class=\"data row2 col0\" >41516</td>\n",
       "      <td id=\"T_11232_row2_col1\" class=\"data row2 col1\" >670</td>\n",
       "      <td id=\"T_11232_row2_col2\" class=\"data row2 col2\" >22.10</td>\n",
       "      <td id=\"T_11232_row2_col3\" class=\"data row2 col3\" >3.65</td>\n",
       "    </tr>\n",
       "    <tr>\n",
       "      <th id=\"T_11232_level0_row3\" class=\"row_heading level0 row3\" >2625</th>\n",
       "      <td id=\"T_11232_row3_col0\" class=\"data row3 col0\" >10152</td>\n",
       "      <td id=\"T_11232_row3_col1\" class=\"data row3 col1\" >641</td>\n",
       "      <td id=\"T_11232_row3_col2\" class=\"data row3 col2\" >31.57</td>\n",
       "      <td id=\"T_11232_row3_col3\" class=\"data row3 col3\" >7.09</td>\n",
       "    </tr>\n",
       "    <tr>\n",
       "      <th id=\"T_11232_level0_row4\" class=\"row_heading level0 row4\" >841</th>\n",
       "      <td id=\"T_11232_row4_col0\" class=\"data row4 col0\" >2889</td>\n",
       "      <td id=\"T_11232_row4_col1\" class=\"data row4 col1\" >504</td>\n",
       "      <td id=\"T_11232_row4_col2\" class=\"data row4 col2\" >28.18</td>\n",
       "      <td id=\"T_11232_row4_col3\" class=\"data row4 col3\" >6.09</td>\n",
       "    </tr>\n",
       "    <tr>\n",
       "      <th id=\"T_11232_level0_row5\" class=\"row_heading level0 row5\" >10810</th>\n",
       "      <td id=\"T_11232_row5_col0\" class=\"data row5 col0\" >35768</td>\n",
       "      <td id=\"T_11232_row5_col1\" class=\"data row5 col1\" >456</td>\n",
       "      <td id=\"T_11232_row5_col2\" class=\"data row5 col2\" >23.95</td>\n",
       "      <td id=\"T_11232_row5_col3\" class=\"data row5 col3\" >4.43</td>\n",
       "    </tr>\n",
       "    <tr>\n",
       "      <th id=\"T_11232_level0_row6\" class=\"row_heading level0 row6\" >5697</th>\n",
       "      <td id=\"T_11232_row6_col0\" class=\"data row6 col0\" >22484</td>\n",
       "      <td id=\"T_11232_row6_col1\" class=\"data row6 col1\" >420</td>\n",
       "      <td id=\"T_11232_row6_col2\" class=\"data row6 col2\" >28.21</td>\n",
       "      <td id=\"T_11232_row6_col3\" class=\"data row6 col3\" >5.31</td>\n",
       "    </tr>\n",
       "    <tr>\n",
       "      <th id=\"T_11232_level0_row7\" class=\"row_heading level0 row7\" >16996</th>\n",
       "      <td id=\"T_11232_row7_col0\" class=\"data row7 col0\" >46971</td>\n",
       "      <td id=\"T_11232_row7_col1\" class=\"data row7 col1\" >395</td>\n",
       "      <td id=\"T_11232_row7_col2\" class=\"data row7 col2\" >19.71</td>\n",
       "      <td id=\"T_11232_row7_col3\" class=\"data row7 col3\" >5.27</td>\n",
       "    </tr>\n",
       "    <tr>\n",
       "      <th id=\"T_11232_level0_row8\" class=\"row_heading level0 row8\" >13835</th>\n",
       "      <td id=\"T_11232_row8_col0\" class=\"data row8 col0\" >41919</td>\n",
       "      <td id=\"T_11232_row8_col1\" class=\"data row8 col1\" >393</td>\n",
       "      <td id=\"T_11232_row8_col2\" class=\"data row8 col2\" >24.53</td>\n",
       "      <td id=\"T_11232_row8_col3\" class=\"data row8 col3\" >6.74</td>\n",
       "    </tr>\n",
       "    <tr>\n",
       "      <th id=\"T_11232_level0_row9\" class=\"row_heading level0 row9\" >154</th>\n",
       "      <td id=\"T_11232_row9_col0\" class=\"data row9 col0\" >605</td>\n",
       "      <td id=\"T_11232_row9_col1\" class=\"data row9 col1\" >386</td>\n",
       "      <td id=\"T_11232_row9_col2\" class=\"data row9 col2\" >41.29</td>\n",
       "      <td id=\"T_11232_row9_col3\" class=\"data row9 col3\" >7.69</td>\n",
       "    </tr>\n",
       "    <tr>\n",
       "      <th id=\"T_11232_level0_row10\" class=\"row_heading level0 row10\" >8806</th>\n",
       "      <td id=\"T_11232_row10_col0\" class=\"data row10 col0\" >30338</td>\n",
       "      <td id=\"T_11232_row10_col1\" class=\"data row10 col1\" >384</td>\n",
       "      <td id=\"T_11232_row10_col2\" class=\"data row10 col2\" >28.18</td>\n",
       "      <td id=\"T_11232_row10_col3\" class=\"data row10 col3\" >5.17</td>\n",
       "    </tr>\n",
       "    <tr>\n",
       "      <th id=\"T_11232_level0_row11\" class=\"row_heading level0 row11\" >4540</th>\n",
       "      <td id=\"T_11232_row11_col0\" class=\"data row11 col0\" >19212</td>\n",
       "      <td id=\"T_11232_row11_col1\" class=\"data row11 col1\" >367</td>\n",
       "      <td id=\"T_11232_row11_col2\" class=\"data row11 col2\" >20.25</td>\n",
       "      <td id=\"T_11232_row11_col3\" class=\"data row11 col3\" >3.55</td>\n",
       "    </tr>\n",
       "    <tr>\n",
       "      <th id=\"T_11232_level0_row12\" class=\"row_heading level0 row12\" >15491</th>\n",
       "      <td id=\"T_11232_row12_col0\" class=\"data row12 col0\" >44886</td>\n",
       "      <td id=\"T_11232_row12_col1\" class=\"data row12 col1\" >365</td>\n",
       "      <td id=\"T_11232_row12_col2\" class=\"data row12 col2\" >26.30</td>\n",
       "      <td id=\"T_11232_row12_col3\" class=\"data row12 col3\" >6.25</td>\n",
       "    </tr>\n",
       "    <tr>\n",
       "      <th id=\"T_11232_level0_row13\" class=\"row_heading level0 row13\" >10671</th>\n",
       "      <td id=\"T_11232_row13_col0\" class=\"data row13 col0\" >35462</td>\n",
       "      <td id=\"T_11232_row13_col1\" class=\"data row13 col1\" >365</td>\n",
       "      <td id=\"T_11232_row13_col2\" class=\"data row13 col2\" >23.80</td>\n",
       "      <td id=\"T_11232_row13_col3\" class=\"data row13 col3\" >5.53</td>\n",
       "    </tr>\n",
       "    <tr>\n",
       "      <th id=\"T_11232_level0_row14\" class=\"row_heading level0 row14\" >1866</th>\n",
       "      <td id=\"T_11232_row14_col0\" class=\"data row14 col0\" >7035</td>\n",
       "      <td id=\"T_11232_row14_col1\" class=\"data row14 col1\" >365</td>\n",
       "      <td id=\"T_11232_row14_col2\" class=\"data row14 col2\" >22.64</td>\n",
       "      <td id=\"T_11232_row14_col3\" class=\"data row14 col3\" >4.92</td>\n",
       "    </tr>\n",
       "  </tbody>\n",
       "</table>\n"
      ],
      "text/plain": [
       "<pandas.io.formats.style.Styler at 0x158092350>"
      ]
     },
     "execution_count": 196,
     "metadata": {},
     "output_type": "execute_result"
    }
   ],
   "source": [
    "sn_processing_groupusers\\\n",
    "    .head(15)\\\n",
    "    .style.format({'Time (min)':\"{:.2f}\",'Trip (km)':\"{:.2f}\"})"
   ]
  },
  {
   "cell_type": "code",
   "execution_count": null,
   "metadata": {},
   "outputs": [
    {
     "data": {
      "text/html": [
       "<style type=\"text/css\">\n",
       "</style>\n",
       "<table id=\"T_1e19f\">\n",
       "  <thead>\n",
       "    <tr>\n",
       "      <th class=\"blank level0\" >&nbsp;</th>\n",
       "      <th id=\"T_1e19f_level0_col0\" class=\"col_heading level0 col0\" >UserID</th>\n",
       "      <th id=\"T_1e19f_level0_col1\" class=\"col_heading level0 col1\" >Number of trips</th>\n",
       "      <th id=\"T_1e19f_level0_col2\" class=\"col_heading level0 col2\" >Time (min)</th>\n",
       "      <th id=\"T_1e19f_level0_col3\" class=\"col_heading level0 col3\" >Trip (km)</th>\n",
       "    </tr>\n",
       "  </thead>\n",
       "  <tbody>\n",
       "    <tr>\n",
       "      <th id=\"T_1e19f_level0_row0\" class=\"row_heading level0 row0\" >19995</th>\n",
       "      <td id=\"T_1e19f_row0_col0\" class=\"data row0 col0\" >51152</td>\n",
       "      <td id=\"T_1e19f_row0_col1\" class=\"data row0 col1\" >1</td>\n",
       "      <td id=\"T_1e19f_row0_col2\" class=\"data row0 col2\" >34.32</td>\n",
       "      <td id=\"T_1e19f_row0_col3\" class=\"data row0 col3\" >6.00</td>\n",
       "    </tr>\n",
       "    <tr>\n",
       "      <th id=\"T_1e19f_level0_row1\" class=\"row_heading level0 row1\" >19994</th>\n",
       "      <td id=\"T_1e19f_row1_col0\" class=\"data row1 col0\" >51150</td>\n",
       "      <td id=\"T_1e19f_row1_col1\" class=\"data row1 col1\" >1</td>\n",
       "      <td id=\"T_1e19f_row1_col2\" class=\"data row1 col2\" >36.68</td>\n",
       "      <td id=\"T_1e19f_row1_col3\" class=\"data row1 col3\" >10.00</td>\n",
       "    </tr>\n",
       "    <tr>\n",
       "      <th id=\"T_1e19f_level0_row2\" class=\"row_heading level0 row2\" >13459</th>\n",
       "      <td id=\"T_1e19f_row2_col0\" class=\"data row2 col0\" >41202</td>\n",
       "      <td id=\"T_1e19f_row2_col1\" class=\"data row2 col1\" >1</td>\n",
       "      <td id=\"T_1e19f_row2_col2\" class=\"data row2 col2\" >20.37</td>\n",
       "      <td id=\"T_1e19f_row2_col3\" class=\"data row2 col3\" >2.00</td>\n",
       "    </tr>\n",
       "    <tr>\n",
       "      <th id=\"T_1e19f_level0_row3\" class=\"row_heading level0 row3\" >19989</th>\n",
       "      <td id=\"T_1e19f_row3_col0\" class=\"data row3 col0\" >51144</td>\n",
       "      <td id=\"T_1e19f_row3_col1\" class=\"data row3 col1\" >1</td>\n",
       "      <td id=\"T_1e19f_row3_col2\" class=\"data row3 col2\" >101.10</td>\n",
       "      <td id=\"T_1e19f_row3_col3\" class=\"data row3 col3\" >35.00</td>\n",
       "    </tr>\n",
       "    <tr>\n",
       "      <th id=\"T_1e19f_level0_row4\" class=\"row_heading level0 row4\" >19971</th>\n",
       "      <td id=\"T_1e19f_row4_col0\" class=\"data row4 col0\" >51112</td>\n",
       "      <td id=\"T_1e19f_row4_col1\" class=\"data row4 col1\" >1</td>\n",
       "      <td id=\"T_1e19f_row4_col2\" class=\"data row4 col2\" >22.65</td>\n",
       "      <td id=\"T_1e19f_row4_col3\" class=\"data row4 col3\" >3.00</td>\n",
       "    </tr>\n",
       "    <tr>\n",
       "      <th id=\"T_1e19f_level0_row5\" class=\"row_heading level0 row5\" >13462</th>\n",
       "      <td id=\"T_1e19f_row5_col0\" class=\"data row5 col0\" >41205</td>\n",
       "      <td id=\"T_1e19f_row5_col1\" class=\"data row5 col1\" >1</td>\n",
       "      <td id=\"T_1e19f_row5_col2\" class=\"data row5 col2\" >43.63</td>\n",
       "      <td id=\"T_1e19f_row5_col3\" class=\"data row5 col3\" >16.00</td>\n",
       "    </tr>\n",
       "    <tr>\n",
       "      <th id=\"T_1e19f_level0_row6\" class=\"row_heading level0 row6\" >19986</th>\n",
       "      <td id=\"T_1e19f_row6_col0\" class=\"data row6 col0\" >51139</td>\n",
       "      <td id=\"T_1e19f_row6_col1\" class=\"data row6 col1\" >1</td>\n",
       "      <td id=\"T_1e19f_row6_col2\" class=\"data row6 col2\" >58.42</td>\n",
       "      <td id=\"T_1e19f_row6_col3\" class=\"data row6 col3\" >16.00</td>\n",
       "    </tr>\n",
       "    <tr>\n",
       "      <th id=\"T_1e19f_level0_row7\" class=\"row_heading level0 row7\" >13463</th>\n",
       "      <td id=\"T_1e19f_row7_col0\" class=\"data row7 col0\" >41206</td>\n",
       "      <td id=\"T_1e19f_row7_col1\" class=\"data row7 col1\" >1</td>\n",
       "      <td id=\"T_1e19f_row7_col2\" class=\"data row7 col2\" >43.98</td>\n",
       "      <td id=\"T_1e19f_row7_col3\" class=\"data row7 col3\" >17.00</td>\n",
       "    </tr>\n",
       "    <tr>\n",
       "      <th id=\"T_1e19f_level0_row8\" class=\"row_heading level0 row8\" >19984</th>\n",
       "      <td id=\"T_1e19f_row8_col0\" class=\"data row8 col0\" >51135</td>\n",
       "      <td id=\"T_1e19f_row8_col1\" class=\"data row8 col1\" >1</td>\n",
       "      <td id=\"T_1e19f_row8_col2\" class=\"data row8 col2\" >29.27</td>\n",
       "      <td id=\"T_1e19f_row8_col3\" class=\"data row8 col3\" >7.00</td>\n",
       "    </tr>\n",
       "    <tr>\n",
       "      <th id=\"T_1e19f_level0_row9\" class=\"row_heading level0 row9\" >8295</th>\n",
       "      <td id=\"T_1e19f_row9_col0\" class=\"data row9 col0\" >28987</td>\n",
       "      <td id=\"T_1e19f_row9_col1\" class=\"data row9 col1\" >1</td>\n",
       "      <td id=\"T_1e19f_row9_col2\" class=\"data row9 col2\" >27.18</td>\n",
       "      <td id=\"T_1e19f_row9_col3\" class=\"data row9 col3\" >5.00</td>\n",
       "    </tr>\n",
       "    <tr>\n",
       "      <th id=\"T_1e19f_level0_row10\" class=\"row_heading level0 row10\" >19981</th>\n",
       "      <td id=\"T_1e19f_row10_col0\" class=\"data row10 col0\" >51127</td>\n",
       "      <td id=\"T_1e19f_row10_col1\" class=\"data row10 col1\" >1</td>\n",
       "      <td id=\"T_1e19f_row10_col2\" class=\"data row10 col2\" >76.90</td>\n",
       "      <td id=\"T_1e19f_row10_col3\" class=\"data row10 col3\" >31.00</td>\n",
       "    </tr>\n",
       "    <tr>\n",
       "      <th id=\"T_1e19f_level0_row11\" class=\"row_heading level0 row11\" >19980</th>\n",
       "      <td id=\"T_1e19f_row11_col0\" class=\"data row11 col0\" >51126</td>\n",
       "      <td id=\"T_1e19f_row11_col1\" class=\"data row11 col1\" >1</td>\n",
       "      <td id=\"T_1e19f_row11_col2\" class=\"data row11 col2\" >41.02</td>\n",
       "      <td id=\"T_1e19f_row11_col3\" class=\"data row11 col3\" >17.00</td>\n",
       "    </tr>\n",
       "    <tr>\n",
       "      <th id=\"T_1e19f_level0_row12\" class=\"row_heading level0 row12\" >19979</th>\n",
       "      <td id=\"T_1e19f_row12_col0\" class=\"data row12 col0\" >51125</td>\n",
       "      <td id=\"T_1e19f_row12_col1\" class=\"data row12 col1\" >1</td>\n",
       "      <td id=\"T_1e19f_row12_col2\" class=\"data row12 col2\" >32.70</td>\n",
       "      <td id=\"T_1e19f_row12_col3\" class=\"data row12 col3\" >10.00</td>\n",
       "    </tr>\n",
       "    <tr>\n",
       "      <th id=\"T_1e19f_level0_row13\" class=\"row_heading level0 row13\" >13469</th>\n",
       "      <td id=\"T_1e19f_row13_col0\" class=\"data row13 col0\" >41219</td>\n",
       "      <td id=\"T_1e19f_row13_col1\" class=\"data row13 col1\" >1</td>\n",
       "      <td id=\"T_1e19f_row13_col2\" class=\"data row13 col2\" >199.52</td>\n",
       "      <td id=\"T_1e19f_row13_col3\" class=\"data row13 col3\" >60.00</td>\n",
       "    </tr>\n",
       "    <tr>\n",
       "      <th id=\"T_1e19f_level0_row14\" class=\"row_heading level0 row14\" >25132</th>\n",
       "      <td id=\"T_1e19f_row14_col0\" class=\"data row14 col0\" >59197</td>\n",
       "      <td id=\"T_1e19f_row14_col1\" class=\"data row14 col1\" >1</td>\n",
       "      <td id=\"T_1e19f_row14_col2\" class=\"data row14 col2\" >99.55</td>\n",
       "      <td id=\"T_1e19f_row14_col3\" class=\"data row14 col3\" >71.00</td>\n",
       "    </tr>\n",
       "  </tbody>\n",
       "</table>\n"
      ],
      "text/plain": [
       "<pandas.io.formats.style.Styler at 0x156b84810>"
      ]
     },
     "execution_count": 197,
     "metadata": {},
     "output_type": "execute_result"
    }
   ],
   "source": [
    "sn_processing_groupusers\\\n",
    "    .tail(15)\\\n",
    "    .style.format({'Time (min)':\"{:.2f}\",'Trip (km)':\"{:.2f}\"})"
   ]
  },
  {
   "cell_type": "code",
   "execution_count": null,
   "metadata": {},
   "outputs": [
    {
     "data": {
      "text/html": [
       "<style type=\"text/css\">\n",
       "</style>\n",
       "<table id=\"T_4d0aa\">\n",
       "  <thead>\n",
       "    <tr>\n",
       "      <th class=\"blank level0\" >&nbsp;</th>\n",
       "      <th id=\"T_4d0aa_level0_col0\" class=\"col_heading level0 col0\" >count</th>\n",
       "      <th id=\"T_4d0aa_level0_col1\" class=\"col_heading level0 col1\" >mean</th>\n",
       "      <th id=\"T_4d0aa_level0_col2\" class=\"col_heading level0 col2\" >std</th>\n",
       "      <th id=\"T_4d0aa_level0_col3\" class=\"col_heading level0 col3\" >min</th>\n",
       "      <th id=\"T_4d0aa_level0_col4\" class=\"col_heading level0 col4\" >25%</th>\n",
       "      <th id=\"T_4d0aa_level0_col5\" class=\"col_heading level0 col5\" >50%</th>\n",
       "      <th id=\"T_4d0aa_level0_col6\" class=\"col_heading level0 col6\" >75%</th>\n",
       "      <th id=\"T_4d0aa_level0_col7\" class=\"col_heading level0 col7\" >max</th>\n",
       "    </tr>\n",
       "  </thead>\n",
       "  <tbody>\n",
       "    <tr>\n",
       "      <th id=\"T_4d0aa_level0_row0\" class=\"row_heading level0 row0\" >UserID</th>\n",
       "      <td id=\"T_4d0aa_row0_col0\" class=\"data row0 col0\" >25133.00</td>\n",
       "      <td id=\"T_4d0aa_row0_col1\" class=\"data row0 col1\" >35871.55</td>\n",
       "      <td id=\"T_4d0aa_row0_col2\" class=\"data row0 col2\" >16358.94</td>\n",
       "      <td id=\"T_4d0aa_row0_col3\" class=\"data row0 col3\" >2.00</td>\n",
       "      <td id=\"T_4d0aa_row0_col4\" class=\"data row0 col4\" >23863.00</td>\n",
       "      <td id=\"T_4d0aa_row0_col5\" class=\"data row0 col5\" >39541.00</td>\n",
       "      <td id=\"T_4d0aa_row0_col6\" class=\"data row0 col6\" >49551.00</td>\n",
       "      <td id=\"T_4d0aa_row0_col7\" class=\"data row0 col7\" >59197.00</td>\n",
       "    </tr>\n",
       "    <tr>\n",
       "      <th id=\"T_4d0aa_level0_row1\" class=\"row_heading level0 row1\" >Number of trips</th>\n",
       "      <td id=\"T_4d0aa_row1_col0\" class=\"data row1 col0\" >25133.00</td>\n",
       "      <td id=\"T_4d0aa_row1_col1\" class=\"data row1 col1\" >14.03</td>\n",
       "      <td id=\"T_4d0aa_row1_col2\" class=\"data row1 col2\" >29.84</td>\n",
       "      <td id=\"T_4d0aa_row1_col3\" class=\"data row1 col3\" >1.00</td>\n",
       "      <td id=\"T_4d0aa_row1_col4\" class=\"data row1 col4\" >2.00</td>\n",
       "      <td id=\"T_4d0aa_row1_col5\" class=\"data row1 col5\" >5.00</td>\n",
       "      <td id=\"T_4d0aa_row1_col6\" class=\"data row1 col6\" >13.00</td>\n",
       "      <td id=\"T_4d0aa_row1_col7\" class=\"data row1 col7\" >788.00</td>\n",
       "    </tr>\n",
       "    <tr>\n",
       "      <th id=\"T_4d0aa_level0_row2\" class=\"row_heading level0 row2\" >AvgTripDuration (min)</th>\n",
       "      <td id=\"T_4d0aa_row2_col0\" class=\"data row2 col0\" >25133.00</td>\n",
       "      <td id=\"T_4d0aa_row2_col1\" class=\"data row2 col1\" >38.75</td>\n",
       "      <td id=\"T_4d0aa_row2_col2\" class=\"data row2 col2\" >31.99</td>\n",
       "      <td id=\"T_4d0aa_row2_col3\" class=\"data row2 col3\" >2.92</td>\n",
       "      <td id=\"T_4d0aa_row2_col4\" class=\"data row2 col4\" >23.58</td>\n",
       "      <td id=\"T_4d0aa_row2_col5\" class=\"data row2 col5\" >29.83</td>\n",
       "      <td id=\"T_4d0aa_row2_col6\" class=\"data row2 col6\" >40.61</td>\n",
       "      <td id=\"T_4d0aa_row2_col7\" class=\"data row2 col7\" >359.37</td>\n",
       "    </tr>\n",
       "    <tr>\n",
       "      <th id=\"T_4d0aa_level0_row3\" class=\"row_heading level0 row3\" >AvgTripDistance (km)</th>\n",
       "      <td id=\"T_4d0aa_row3_col0\" class=\"data row3 col0\" >25133.00</td>\n",
       "      <td id=\"T_4d0aa_row3_col1\" class=\"data row3 col1\" >9.93</td>\n",
       "      <td id=\"T_4d0aa_row3_col2\" class=\"data row3 col2\" >8.61</td>\n",
       "      <td id=\"T_4d0aa_row3_col3\" class=\"data row3 col3\" >1.00</td>\n",
       "      <td id=\"T_4d0aa_row3_col4\" class=\"data row3 col4\" >5.39</td>\n",
       "      <td id=\"T_4d0aa_row3_col5\" class=\"data row3 col5\" >7.50</td>\n",
       "      <td id=\"T_4d0aa_row3_col6\" class=\"data row3 col6\" >11.33</td>\n",
       "      <td id=\"T_4d0aa_row3_col7\" class=\"data row3 col7\" >236.00</td>\n",
       "    </tr>\n",
       "  </tbody>\n",
       "</table>\n"
      ],
      "text/plain": [
       "<pandas.io.formats.style.Styler at 0x1624fd750>"
      ]
     },
     "execution_count": 191,
     "metadata": {},
     "output_type": "execute_result"
    }
   ],
   "source": [
    "sn_processing_groupusers.describe().T.style.format(\"{:.2f}\")"
   ]
  },
  {
   "cell_type": "markdown",
   "metadata": {},
   "source": [
    "### 1.2 GREEN MOBILITY: Data cleaning and processing"
   ]
  },
  {
   "cell_type": "code",
   "execution_count": null,
   "metadata": {},
   "outputs": [
    {
     "data": {
      "text/html": [
       "<style type=\"text/css\">\n",
       "</style>\n",
       "<table id=\"T_86ced\">\n",
       "  <thead>\n",
       "    <tr>\n",
       "      <th class=\"blank level0\" >&nbsp;</th>\n",
       "      <th id=\"T_86ced_level0_col0\" class=\"col_heading level0 col0\" >count</th>\n",
       "      <th id=\"T_86ced_level0_col1\" class=\"col_heading level0 col1\" >mean</th>\n",
       "      <th id=\"T_86ced_level0_col2\" class=\"col_heading level0 col2\" >std</th>\n",
       "      <th id=\"T_86ced_level0_col3\" class=\"col_heading level0 col3\" >min</th>\n",
       "      <th id=\"T_86ced_level0_col4\" class=\"col_heading level0 col4\" >25%</th>\n",
       "      <th id=\"T_86ced_level0_col5\" class=\"col_heading level0 col5\" >50%</th>\n",
       "      <th id=\"T_86ced_level0_col6\" class=\"col_heading level0 col6\" >75%</th>\n",
       "      <th id=\"T_86ced_level0_col7\" class=\"col_heading level0 col7\" >max</th>\n",
       "    </tr>\n",
       "  </thead>\n",
       "  <tbody>\n",
       "    <tr>\n",
       "      <th id=\"T_86ced_level0_row0\" class=\"row_heading level0 row0\" >Age</th>\n",
       "      <td id=\"T_86ced_row0_col0\" class=\"data row0 col0\" >110444.00</td>\n",
       "      <td id=\"T_86ced_row0_col1\" class=\"data row0 col1\" >31.43</td>\n",
       "      <td id=\"T_86ced_row0_col2\" class=\"data row0 col2\" >11.88</td>\n",
       "      <td id=\"T_86ced_row0_col3\" class=\"data row0 col3\" >0.00</td>\n",
       "      <td id=\"T_86ced_row0_col4\" class=\"data row0 col4\" >22.00</td>\n",
       "      <td id=\"T_86ced_row0_col5\" class=\"data row0 col5\" >28.00</td>\n",
       "      <td id=\"T_86ced_row0_col6\" class=\"data row0 col6\" >38.00</td>\n",
       "      <td id=\"T_86ced_row0_col7\" class=\"data row0 col7\" >93.00</td>\n",
       "    </tr>\n",
       "    <tr>\n",
       "      <th id=\"T_86ced_level0_row1\" class=\"row_heading level0 row1\" >KmDriven</th>\n",
       "      <td id=\"T_86ced_row1_col0\" class=\"data row1 col0\" >169126.00</td>\n",
       "      <td id=\"T_86ced_row1_col1\" class=\"data row1 col1\" >14.23</td>\n",
       "      <td id=\"T_86ced_row1_col2\" class=\"data row1 col2\" >16.22</td>\n",
       "      <td id=\"T_86ced_row1_col3\" class=\"data row1 col3\" >0.54</td>\n",
       "      <td id=\"T_86ced_row1_col4\" class=\"data row1 col4\" >3.19</td>\n",
       "      <td id=\"T_86ced_row1_col5\" class=\"data row1 col5\" >6.98</td>\n",
       "      <td id=\"T_86ced_row1_col6\" class=\"data row1 col6\" >19.05</td>\n",
       "      <td id=\"T_86ced_row1_col7\" class=\"data row1 col7\" >102.00</td>\n",
       "    </tr>\n",
       "    <tr>\n",
       "      <th id=\"T_86ced_level0_row2\" class=\"row_heading level0 row2\" >TripDurationHours</th>\n",
       "      <td id=\"T_86ced_row2_col0\" class=\"data row2 col0\" >110444.00</td>\n",
       "      <td id=\"T_86ced_row2_col1\" class=\"data row2 col1\" >0.84</td>\n",
       "      <td id=\"T_86ced_row2_col2\" class=\"data row2 col2\" >8.41</td>\n",
       "      <td id=\"T_86ced_row2_col3\" class=\"data row2 col3\" >-0.00</td>\n",
       "      <td id=\"T_86ced_row2_col4\" class=\"data row2 col4\" >0.25</td>\n",
       "      <td id=\"T_86ced_row2_col5\" class=\"data row2 col5\" >0.42</td>\n",
       "      <td id=\"T_86ced_row2_col6\" class=\"data row2 col6\" >0.65</td>\n",
       "      <td id=\"T_86ced_row2_col7\" class=\"data row2 col7\" >2210.30</td>\n",
       "    </tr>\n",
       "    <tr>\n",
       "      <th id=\"T_86ced_level0_row3\" class=\"row_heading level0 row3\" >TripDurationMinutes</th>\n",
       "      <td id=\"T_86ced_row3_col0\" class=\"data row3 col0\" >110444.00</td>\n",
       "      <td id=\"T_86ced_row3_col1\" class=\"data row3 col1\" >50.40</td>\n",
       "      <td id=\"T_86ced_row3_col2\" class=\"data row3 col2\" >504.73</td>\n",
       "      <td id=\"T_86ced_row3_col3\" class=\"data row3 col3\" >-0.03</td>\n",
       "      <td id=\"T_86ced_row3_col4\" class=\"data row3 col4\" >15.20</td>\n",
       "      <td id=\"T_86ced_row3_col5\" class=\"data row3 col5\" >25.32</td>\n",
       "      <td id=\"T_86ced_row3_col6\" class=\"data row3 col6\" >39.27</td>\n",
       "      <td id=\"T_86ced_row3_col7\" class=\"data row3 col7\" >132617.73</td>\n",
       "    </tr>\n",
       "    <tr>\n",
       "      <th id=\"T_86ced_level0_row4\" class=\"row_heading level0 row4\" >AvgSpeed</th>\n",
       "      <td id=\"T_86ced_row4_col0\" class=\"data row4 col0\" >110434.00</td>\n",
       "      <td id=\"T_86ced_row4_col1\" class=\"data row4 col1\" >14.32</td>\n",
       "      <td id=\"T_86ced_row4_col2\" class=\"data row4 col2\" >31.65</td>\n",
       "      <td id=\"T_86ced_row4_col3\" class=\"data row4 col3\" >-4870.51</td>\n",
       "      <td id=\"T_86ced_row4_col4\" class=\"data row4 col4\" >6.66</td>\n",
       "      <td id=\"T_86ced_row4_col5\" class=\"data row4 col5\" >11.88</td>\n",
       "      <td id=\"T_86ced_row4_col6\" class=\"data row4 col6\" >18.47</td>\n",
       "      <td id=\"T_86ced_row4_col7\" class=\"data row4 col7\" >7076.26</td>\n",
       "    </tr>\n",
       "  </tbody>\n",
       "</table>\n"
      ],
      "text/plain": [
       "<pandas.io.formats.style.Styler at 0x163f9bc10>"
      ]
     },
     "execution_count": 44,
     "metadata": {},
     "output_type": "execute_result"
    }
   ],
   "source": [
    "describecols = ['Age','KmDriven','TripDurationHours','TripDurationMinutes','AvgSpeed']\n",
    "gm_processing.replace([np.inf, -np.inf], np.nan, inplace=True)\n",
    "gm_processing[describecols].describe().T.style.format(\"{:.2f}\")"
   ]
  },
  {
   "cell_type": "code",
   "execution_count": null,
   "metadata": {},
   "outputs": [
    {
     "data": {
      "text/html": [
       "<style type=\"text/css\">\n",
       "</style>\n",
       "<table id=\"T_6612d\">\n",
       "  <thead>\n",
       "    <tr>\n",
       "      <th class=\"blank level0\" >&nbsp;</th>\n",
       "      <th id=\"T_6612d_level0_col0\" class=\"col_heading level0 col0\" >count</th>\n",
       "      <th id=\"T_6612d_level0_col1\" class=\"col_heading level0 col1\" >mean</th>\n",
       "      <th id=\"T_6612d_level0_col2\" class=\"col_heading level0 col2\" >std</th>\n",
       "      <th id=\"T_6612d_level0_col3\" class=\"col_heading level0 col3\" >min</th>\n",
       "      <th id=\"T_6612d_level0_col4\" class=\"col_heading level0 col4\" >25%</th>\n",
       "      <th id=\"T_6612d_level0_col5\" class=\"col_heading level0 col5\" >50%</th>\n",
       "      <th id=\"T_6612d_level0_col6\" class=\"col_heading level0 col6\" >75%</th>\n",
       "      <th id=\"T_6612d_level0_col7\" class=\"col_heading level0 col7\" >max</th>\n",
       "    </tr>\n",
       "  </thead>\n",
       "  <tbody>\n",
       "    <tr>\n",
       "      <th id=\"T_6612d_level0_row0\" class=\"row_heading level0 row0\" >Age</th>\n",
       "      <td id=\"T_6612d_row0_col0\" class=\"data row0 col0\" >70520.00</td>\n",
       "      <td id=\"T_6612d_row0_col1\" class=\"data row0 col1\" >31.86</td>\n",
       "      <td id=\"T_6612d_row0_col2\" class=\"data row0 col2\" >11.68</td>\n",
       "      <td id=\"T_6612d_row0_col3\" class=\"data row0 col3\" >18.00</td>\n",
       "      <td id=\"T_6612d_row0_col4\" class=\"data row0 col4\" >22.00</td>\n",
       "      <td id=\"T_6612d_row0_col5\" class=\"data row0 col5\" >28.00</td>\n",
       "      <td id=\"T_6612d_row0_col6\" class=\"data row0 col6\" >39.00</td>\n",
       "      <td id=\"T_6612d_row0_col7\" class=\"data row0 col7\" >93.00</td>\n",
       "    </tr>\n",
       "    <tr>\n",
       "      <th id=\"T_6612d_level0_row1\" class=\"row_heading level0 row1\" >KmDriven</th>\n",
       "      <td id=\"T_6612d_row1_col0\" class=\"data row1 col0\" >70520.00</td>\n",
       "      <td id=\"T_6612d_row1_col1\" class=\"data row1 col1\" >7.15</td>\n",
       "      <td id=\"T_6612d_row1_col2\" class=\"data row1 col2\" >3.76</td>\n",
       "      <td id=\"T_6612d_row1_col3\" class=\"data row1 col3\" >3.00</td>\n",
       "      <td id=\"T_6612d_row1_col4\" class=\"data row1 col4\" >4.35</td>\n",
       "      <td id=\"T_6612d_row1_col5\" class=\"data row1 col5\" >6.12</td>\n",
       "      <td id=\"T_6612d_row1_col6\" class=\"data row1 col6\" >8.78</td>\n",
       "      <td id=\"T_6612d_row1_col7\" class=\"data row1 col7\" >38.20</td>\n",
       "    </tr>\n",
       "    <tr>\n",
       "      <th id=\"T_6612d_level0_row2\" class=\"row_heading level0 row2\" >TripDurationHours</th>\n",
       "      <td id=\"T_6612d_row2_col0\" class=\"data row2 col0\" >70520.00</td>\n",
       "      <td id=\"T_6612d_row2_col1\" class=\"data row2 col1\" >0.80</td>\n",
       "      <td id=\"T_6612d_row2_col2\" class=\"data row2 col2\" >9.60</td>\n",
       "      <td id=\"T_6612d_row2_col3\" class=\"data row2 col3\" >0.04</td>\n",
       "      <td id=\"T_6612d_row2_col4\" class=\"data row2 col4\" >0.33</td>\n",
       "      <td id=\"T_6612d_row2_col5\" class=\"data row2 col5\" >0.48</td>\n",
       "      <td id=\"T_6612d_row2_col6\" class=\"data row2 col6\" >0.68</td>\n",
       "      <td id=\"T_6612d_row2_col7\" class=\"data row2 col7\" >2210.30</td>\n",
       "    </tr>\n",
       "    <tr>\n",
       "      <th id=\"T_6612d_level0_row3\" class=\"row_heading level0 row3\" >TripDurationMinutes</th>\n",
       "      <td id=\"T_6612d_row3_col0\" class=\"data row3 col0\" >70520.00</td>\n",
       "      <td id=\"T_6612d_row3_col1\" class=\"data row3 col1\" >47.73</td>\n",
       "      <td id=\"T_6612d_row3_col2\" class=\"data row3 col2\" >575.75</td>\n",
       "      <td id=\"T_6612d_row3_col3\" class=\"data row3 col3\" >2.58</td>\n",
       "      <td id=\"T_6612d_row3_col4\" class=\"data row3 col4\" >19.65</td>\n",
       "      <td id=\"T_6612d_row3_col5\" class=\"data row3 col5\" >28.77</td>\n",
       "      <td id=\"T_6612d_row3_col6\" class=\"data row3 col6\" >41.00</td>\n",
       "      <td id=\"T_6612d_row3_col7\" class=\"data row3 col7\" >132617.73</td>\n",
       "    </tr>\n",
       "    <tr>\n",
       "      <th id=\"T_6612d_level0_row4\" class=\"row_heading level0 row4\" >AvgSpeed</th>\n",
       "      <td id=\"T_6612d_row4_col0\" class=\"data row4 col0\" >70520.00</td>\n",
       "      <td id=\"T_6612d_row4_col1\" class=\"data row4 col1\" >15.51</td>\n",
       "      <td id=\"T_6612d_row4_col2\" class=\"data row4 col2\" >8.71</td>\n",
       "      <td id=\"T_6612d_row4_col3\" class=\"data row4 col3\" >0.00</td>\n",
       "      <td id=\"T_6612d_row4_col4\" class=\"data row4 col4\" >9.43</td>\n",
       "      <td id=\"T_6612d_row4_col5\" class=\"data row4 col5\" >14.05</td>\n",
       "      <td id=\"T_6612d_row4_col6\" class=\"data row4 col6\" >19.96</td>\n",
       "      <td id=\"T_6612d_row4_col7\" class=\"data row4 col7\" >88.99</td>\n",
       "    </tr>\n",
       "  </tbody>\n",
       "</table>\n"
      ],
      "text/plain": [
       "<pandas.io.formats.style.Styler at 0x16a76a250>"
      ]
     },
     "execution_count": 45,
     "metadata": {},
     "output_type": "execute_result"
    }
   ],
   "source": [
    "gm_processing = gm_processing[gm_processing['Age']>0]\n",
    "gm_processing = gm_processing.dropna(subset=['Age', 'KmDriven', 'TripDurationMinutes', 'AvgSpeed'])\n",
    "gm_processing = gm_processing[gm_processing['AvgSpeed']<100]\n",
    "gm_processing = gm_processing[gm_processing['KmDriven']>3]\n",
    "gm_processing[describecols].describe().T.style.format(\"{:.2f}\")"
   ]
  },
  {
   "cell_type": "code",
   "execution_count": null,
   "metadata": {},
   "outputs": [],
   "source": [
    "# Drop missing values in the dataset gm_processing\n",
    "gm_processing = gm_processing.dropna(subset=['Age', 'KmDriven', 'TripDurationMinutes', 'AvgSpeed'])\n",
    "gm_processing = gm_processing[(gm_processing['KmDriven']>0)]\n",
    "gm_processing = gm_processing[gm_processing['TripDurationMinutes']>3]\n",
    "gm_processing = gm_processing[gm_processing['Age']>0]\n",
    "gm_processing = gm_processing[gm_processing['AvgSpeed']<100]\n",
    "gm_processing = gm_processing[gm_processing['KmDriven']>3]\n",
    "gm_processing = gm_processing[gm_processing['TripDurationMinutes']<gm_processing['TripDurationMinutes'].quantile(0.90)]"
   ]
  },
  {
   "cell_type": "code",
   "execution_count": null,
   "metadata": {},
   "outputs": [
    {
     "data": {
      "text/html": [
       "<style type=\"text/css\">\n",
       "</style>\n",
       "<table id=\"T_1fee3\">\n",
       "  <thead>\n",
       "    <tr>\n",
       "      <th class=\"blank level0\" >&nbsp;</th>\n",
       "      <th id=\"T_1fee3_level0_col0\" class=\"col_heading level0 col0\" >count</th>\n",
       "      <th id=\"T_1fee3_level0_col1\" class=\"col_heading level0 col1\" >mean</th>\n",
       "      <th id=\"T_1fee3_level0_col2\" class=\"col_heading level0 col2\" >std</th>\n",
       "      <th id=\"T_1fee3_level0_col3\" class=\"col_heading level0 col3\" >min</th>\n",
       "      <th id=\"T_1fee3_level0_col4\" class=\"col_heading level0 col4\" >25%</th>\n",
       "      <th id=\"T_1fee3_level0_col5\" class=\"col_heading level0 col5\" >50%</th>\n",
       "      <th id=\"T_1fee3_level0_col6\" class=\"col_heading level0 col6\" >75%</th>\n",
       "      <th id=\"T_1fee3_level0_col7\" class=\"col_heading level0 col7\" >max</th>\n",
       "    </tr>\n",
       "  </thead>\n",
       "  <tbody>\n",
       "    <tr>\n",
       "      <th id=\"T_1fee3_level0_row0\" class=\"row_heading level0 row0\" >Age</th>\n",
       "      <td id=\"T_1fee3_row0_col0\" class=\"data row0 col0\" >63463.00</td>\n",
       "      <td id=\"T_1fee3_row0_col1\" class=\"data row0 col1\" >31.76</td>\n",
       "      <td id=\"T_1fee3_row0_col2\" class=\"data row0 col2\" >11.63</td>\n",
       "      <td id=\"T_1fee3_row0_col3\" class=\"data row0 col3\" >18.00</td>\n",
       "      <td id=\"T_1fee3_row0_col4\" class=\"data row0 col4\" >22.00</td>\n",
       "      <td id=\"T_1fee3_row0_col5\" class=\"data row0 col5\" >28.00</td>\n",
       "      <td id=\"T_1fee3_row0_col6\" class=\"data row0 col6\" >38.00</td>\n",
       "      <td id=\"T_1fee3_row0_col7\" class=\"data row0 col7\" >93.00</td>\n",
       "    </tr>\n",
       "    <tr>\n",
       "      <th id=\"T_1fee3_level0_row1\" class=\"row_heading level0 row1\" >KmDriven</th>\n",
       "      <td id=\"T_1fee3_row1_col0\" class=\"data row1 col0\" >63463.00</td>\n",
       "      <td id=\"T_1fee3_row1_col1\" class=\"data row1 col1\" >6.98</td>\n",
       "      <td id=\"T_1fee3_row1_col2\" class=\"data row1 col2\" >3.64</td>\n",
       "      <td id=\"T_1fee3_row1_col3\" class=\"data row1 col3\" >3.00</td>\n",
       "      <td id=\"T_1fee3_row1_col4\" class=\"data row1 col4\" >4.00</td>\n",
       "      <td id=\"T_1fee3_row1_col5\" class=\"data row1 col5\" >6.00</td>\n",
       "      <td id=\"T_1fee3_row1_col6\" class=\"data row1 col6\" >9.00</td>\n",
       "      <td id=\"T_1fee3_row1_col7\" class=\"data row1 col7\" >33.00</td>\n",
       "    </tr>\n",
       "    <tr>\n",
       "      <th id=\"T_1fee3_level0_row2\" class=\"row_heading level0 row2\" >TripDurationHours</th>\n",
       "      <td id=\"T_1fee3_row2_col0\" class=\"data row2 col0\" >63463.00</td>\n",
       "      <td id=\"T_1fee3_row2_col1\" class=\"data row2 col1\" >0.47</td>\n",
       "      <td id=\"T_1fee3_row2_col2\" class=\"data row2 col2\" >0.20</td>\n",
       "      <td id=\"T_1fee3_row2_col3\" class=\"data row2 col3\" >0.05</td>\n",
       "      <td id=\"T_1fee3_row2_col4\" class=\"data row2 col4\" >0.31</td>\n",
       "      <td id=\"T_1fee3_row2_col5\" class=\"data row2 col5\" >0.45</td>\n",
       "      <td id=\"T_1fee3_row2_col6\" class=\"data row2 col6\" >0.61</td>\n",
       "      <td id=\"T_1fee3_row2_col7\" class=\"data row2 col7\" >0.96</td>\n",
       "    </tr>\n",
       "    <tr>\n",
       "      <th id=\"T_1fee3_level0_row3\" class=\"row_heading level0 row3\" >TripDurationMinutes</th>\n",
       "      <td id=\"T_1fee3_row3_col0\" class=\"data row3 col0\" >63463.00</td>\n",
       "      <td id=\"T_1fee3_row3_col1\" class=\"data row3 col1\" >28.23</td>\n",
       "      <td id=\"T_1fee3_row3_col2\" class=\"data row3 col2\" >11.94</td>\n",
       "      <td id=\"T_1fee3_row3_col3\" class=\"data row3 col3\" >3.13</td>\n",
       "      <td id=\"T_1fee3_row3_col4\" class=\"data row3 col4\" >18.80</td>\n",
       "      <td id=\"T_1fee3_row3_col5\" class=\"data row3 col5\" >26.85</td>\n",
       "      <td id=\"T_1fee3_row3_col6\" class=\"data row3 col6\" >36.63</td>\n",
       "      <td id=\"T_1fee3_row3_col7\" class=\"data row3 col7\" >57.88</td>\n",
       "    </tr>\n",
       "    <tr>\n",
       "      <th id=\"T_1fee3_level0_row4\" class=\"row_heading level0 row4\" >AvgSpeed</th>\n",
       "      <td id=\"T_1fee3_row4_col0\" class=\"data row4 col0\" >63463.00</td>\n",
       "      <td id=\"T_1fee3_row4_col1\" class=\"data row4 col1\" >16.57</td>\n",
       "      <td id=\"T_1fee3_row4_col2\" class=\"data row4 col2\" >8.39</td>\n",
       "      <td id=\"T_1fee3_row4_col3\" class=\"data row4 col3\" >3.12</td>\n",
       "      <td id=\"T_1fee3_row4_col4\" class=\"data row4 col4\" >10.53</td>\n",
       "      <td id=\"T_1fee3_row4_col5\" class=\"data row4 col5\" >14.95</td>\n",
       "      <td id=\"T_1fee3_row4_col6\" class=\"data row4 col6\" >20.74</td>\n",
       "      <td id=\"T_1fee3_row4_col7\" class=\"data row4 col7\" >88.99</td>\n",
       "    </tr>\n",
       "  </tbody>\n",
       "</table>\n"
      ],
      "text/plain": [
       "<pandas.io.formats.style.Styler at 0x163fbbb10>"
      ]
     },
     "execution_count": 47,
     "metadata": {},
     "output_type": "execute_result"
    }
   ],
   "source": [
    "gm_processing['KmDriven']=np.round(gm_processing['KmDriven']).astype(int)\n",
    "gm_processing[describecols].describe().T.style.format(\"{:.2f}\")"
   ]
  },
  {
   "cell_type": "code",
   "execution_count": null,
   "metadata": {},
   "outputs": [
    {
     "data": {
      "image/png": "[encoded data removed]",
      "text/plain": [
       "<Figure size 1000x500 with 1 Axes>"
      ]
     },
     "metadata": {},
     "output_type": "display_data"
    }
   ],
   "source": [
    "# plot gm_processing['TripDurationHours'] histogram using seaborn\n",
    "plt.figure(figsize=(10, 5))\n",
    "sns.histplot(data=gm_processing, x='TripDurationMinutes', bins=50, color='seagreen')\n",
    "sns.set_style('whitegrid')\n",
    "plt.grid(False)\n",
    "plt.title('Trip Duration Minutes')\n",
    "plt.show()"
   ]
  },
  {
   "cell_type": "code",
   "execution_count": null,
   "metadata": {},
   "outputs": [
    {
     "data": {
      "image/png": "[encoded data removed]",
      "text/plain": [
       "<Figure size 1500x1000 with 3 Axes>"
      ]
     },
     "metadata": {},
     "output_type": "display_data"
    }
   ],
   "source": [
    "columns = ['KmDriven', 'TripDurationMinutes', 'AvgSpeed']\n",
    "\n",
    "# Set the figure size\n",
    "plt.figure(figsize=(15, 10))\n",
    "\n",
    "# Create subplots for histograms\n",
    "for i, column in enumerate(columns):\n",
    "    plt.subplot(2, 3, i+1)\n",
    "    if column == 'TripDurationMinutes':\n",
    "        sns.boxplot(data=gm_processing, y=column, color='seagreen')\n",
    "    else:\n",
    "        sns.histplot(data=gm_processing, x=column, bins=30,color='seagreen')\n",
    "    # sns.boxplot(data=gm_processing[(gm_processing['KmDriven']>=3)&(gm_processing['AvgSpeed']<100)&(gm_processing['AvgSpeed']>5)], y=column, color='seagreen')\n",
    "    # sns.color_palette('rocket_r')\n",
    "    sns.set_style('whitegrid')\n",
    "    plt.grid(False)\n",
    "    plt.title(column)\n",
    "plt.tight_layout()\n",
    "\n",
    "# Show the plot\n",
    "plt.show()\n"
   ]
  },
  {
   "cell_type": "code",
   "execution_count": null,
   "metadata": {},
   "outputs": [
    {
     "data": {
      "text/html": [
       "<div>\n",
       "<style scoped>\n",
       "    .dataframe tbody tr th:only-of-type {\n",
       "        vertical-align: middle;\n",
       "    }\n",
       "\n",
       "    .dataframe tbody tr th {\n",
       "        vertical-align: top;\n",
       "    }\n",
       "\n",
       "    .dataframe thead th {\n",
       "        text-align: right;\n",
       "    }\n",
       "</style>\n",
       "<table border=\"1\" class=\"dataframe\">\n",
       "  <thead>\n",
       "    <tr style=\"text-align: right;\">\n",
       "      <th></th>\n",
       "      <th>AgeBracket</th>\n",
       "      <th>Number of users</th>\n",
       "    </tr>\n",
       "  </thead>\n",
       "  <tbody>\n",
       "    <tr>\n",
       "      <th>0</th>\n",
       "      <td>18-29</td>\n",
       "      <td>3339</td>\n",
       "    </tr>\n",
       "    <tr>\n",
       "      <th>1</th>\n",
       "      <td>30-39</td>\n",
       "      <td>1754</td>\n",
       "    </tr>\n",
       "    <tr>\n",
       "      <th>2</th>\n",
       "      <td>40-49</td>\n",
       "      <td>1434</td>\n",
       "    </tr>\n",
       "    <tr>\n",
       "      <th>3</th>\n",
       "      <td>50-59</td>\n",
       "      <td>816</td>\n",
       "    </tr>\n",
       "    <tr>\n",
       "      <th>4</th>\n",
       "      <td>60-90</td>\n",
       "      <td>223</td>\n",
       "    </tr>\n",
       "  </tbody>\n",
       "</table>\n",
       "</div>"
      ],
      "text/plain": [
       "  AgeBracket  Number of users\n",
       "0      18-29             3339\n",
       "1      30-39             1754\n",
       "2      40-49             1434\n",
       "3      50-59              816\n",
       "4      60-90              223"
      ]
     },
     "execution_count": 50,
     "metadata": {},
     "output_type": "execute_result"
    }
   ],
   "source": [
    "gm_processing.groupby('AgeBracket')['UserID'].unique().apply(len).reset_index().rename(columns={'UserID':'Number of users'})"
   ]
  },
  {
   "cell_type": "code",
   "execution_count": null,
   "metadata": {},
   "outputs": [],
   "source": [
    "# # Initialize ShareNow and GreenMobility datasets\n",
    "# gm_original = pd.read_csv('../data/raw/GM_preparedData.csv')\n",
    "# # sn_original = pd.read_excel('../data/raw/DriveNow/DTU - data til case_LTMZones1.xlsx')\n",
    "\n",
    "# #   ----------------------------------------------------------------------------\n",
    "# #   GREENMOBILITY PART\n",
    "# #   ----------------------------------------------------------------------------\n",
    "\n",
    "# # Rename GreenMobility columns\n",
    "# dict_gm_renamecols = {'id':'TripID',\n",
    "#                         'vehicleId':'CarID',\n",
    "#                         'id2':'UserID',\n",
    "#                         'startPositionLat':'LatitudeStart',\n",
    "#                         'startPositionLng':'LongitudeStart',\n",
    "#                         'endPositionLat':'LatitudeEnd',\n",
    "#                         'endPositionLng':'LongitudeEnd',\n",
    "#                         'tripStart':'StartTime',\n",
    "#                         'tripEnd':'EndTime',\n",
    "#                         'birthday':'Age',\n",
    "#                         'key':'Gender',\n",
    "#                         'DriveLength':'KmDriven'\n",
    "#                       }\n",
    "\n",
    "# # List the columns to be kept for GreenMobility\n",
    "# gmkeepcols_list = ['TripID','CarID',\n",
    "#                    'UserID','LatitudeStart',\n",
    "#                    'LongitudeStart','LatitudeEnd',\n",
    "#                    'LongitudeEnd','StartTime',\n",
    "#                    'EndTime','Age','Gender','KmDriven',\n",
    "#                    'FromZoneID','ToZoneID']\n",
    "\n",
    "# gm_test = gm_original.rename(columns=dict_gm_renamecols)\n",
    "# gm_test = gm_test[gmkeepcols_list]\n",
    "\n",
    "# # Convert StartTime and EndTime to Datetime\n",
    "# gm_test['StartTime'] = pd.to_datetime(gm_test['StartTime'], errors='coerce', format='%d%b%y:%H:%M:%S')\n",
    "# gm_test['EndTime'] = pd.to_datetime(gm_test['EndTime'], errors='coerce' , format='%d%b%y:%H:%M:%S')\n",
    "\n",
    "# gm_test['TripDurationHours'] = (gm_test['EndTime'] - gm_test['StartTime']).dt.total_seconds()/3600\n",
    "# gm_test['TripDurationMinutes'] = gm_test['TripDurationHours']*60  #   trip duration in min\n",
    "# gm_test['AvgSpeed'] = gm_test['KmDriven']/gm_test['TripDurationHours'] #   avg speed\n",
    "# gm_test['Month'] = gm_test['StartTime'].dt.strftime(\"%B\").astype('category')  #   month\n",
    "# gm_test['Weekday'] = gm_test['StartTime'].dt.day_name().astype('category')    #   day of the week\n",
    "# gm_test['StartHour'] = gm_test['StartTime'].dt.hour.astype('category')    #   hour of the day\n",
    "# gm_test['Date'] = gm_test['StartTime'].dt.date  #   date\n",
    "# gm_test['AgeBracket'] = gm_test['Age'].apply(get_bracket)   #   age bracket\n",
    "\n",
    "# gm_test.groupby('AgeBracket')['UserID'].unique().apply(len).reset_index().rename(columns={'UserID':'Number of users'})"
   ]
  },
  {
   "cell_type": "code",
   "execution_count": null,
   "metadata": {},
   "outputs": [
    {
     "data": {
      "application/vnd.plotly.v1+json": {
       "config": {
        "plotlyServerURL": "https://plot.ly"
       },
       "data": [
        {
         "alignmentgroup": "True",
         "hovertemplate": "Age group=%{x}<br>Number of trips=%{y}<br>Km=%{marker.color}<extra></extra>",
         "legendgroup": "",
         "marker": {
          "color": [
           6.6140681107378665,
           7.027161194241543,
           7.573510845862504,
           8.316463540590787,
           7.1607843137254905
          ],
          "coloraxis": "coloraxis",
          "pattern": {
           "shape": ""
          }
         },
         "name": "",
         "offsetgroup": "",
         "orientation": "v",
         "showlegend": false,
         "textposition": "auto",
         "type": "bar",
         "x": [
          "18-29",
          "30-39",
          "40-49",
          "50-59",
          "60-90"
         ],
         "xaxis": "x",
         "y": [
          34532,
          14101,
          8713,
          4841,
          1275
         ],
         "yaxis": "y"
        }
       ],
       "layout": {
        "barmode": "relative",
        "coloraxis": {
         "colorbar": {
          "title": {
           "text": "Km"
          }
         },
         "colorscale": [
          [
           0,
           "rgb(184,226,177)"
          ],
          [
           0.25,
           "rgb(125,200,125)"
          ],
          [
           0.5,
           "rgb(58,164,88)"
          ],
          [
           0.75,
           "rgb(13,120,53)"
          ],
          [
           1,
           "rgb(0,68,27)"
          ]
         ]
        },
        "font": {
         "family": "Aptos",
         "size": 18
        },
        "height": 600,
        "legend": {
         "tracegroupgap": 0
        },
        "margin": {
         "t": 60
        },
        "template": {},
        "width": 500,
        "xaxis": {
         "anchor": "y",
         "domain": [
          0,
          1
         ],
         "showgrid": false,
         "title": {
          "text": "Age group"
         }
        },
        "yaxis": {
         "anchor": "x",
         "domain": [
          0,
          1
         ],
         "title": {
          "text": "Number of trips"
         }
        }
       }
      }
     },
     "metadata": {},
     "output_type": "display_data"
    }
   ],
   "source": [
    "n_steps = 5  # Define the number of steps you want in your color scale\n",
    "custom_green_scale = generate_custom_colorscale(n_steps, 'Greens' ,dark_start=True)\n",
    "\n",
    "agg_df = gm_processing.groupby('AgeBracket')['KmDriven'].agg(['mean','count']).reset_index()\n",
    "fig = px.bar(agg_df, x='AgeBracket', y='count', color='mean',\n",
    "             color_continuous_scale=custom_green_scale,\n",
    "             labels={'mean': 'Km', 'count': 'Number of trips', 'AgeBracket':'Age group'})\n",
    "\n",
    "fig.update_layout(width=500,height=600, template=None, font=dict(family='Aptos',size=18))\n",
    "fig.update_traces()\n",
    "# fig.update_yaxes(showgrid=False)\n",
    "fig.update_xaxes(showgrid=False)\n",
    "fig.show()\n"
   ]
  },
  {
   "cell_type": "code",
   "execution_count": null,
   "metadata": {},
   "outputs": [
    {
     "data": {
      "application/vnd.plotly.v1+json": {
       "config": {
        "plotlyServerURL": "https://plot.ly"
       },
       "data": [
        {
         "alignmentgroup": "True",
         "hovertemplate": "Age group=%{x}<br>Number of trips=%{y}<br>Km/h=%{marker.color}<extra></extra>",
         "legendgroup": "",
         "marker": {
          "color": [
           16.670618773215487,
           15.945676511733973,
           16.799610725600854,
           17.316367686075196,
           16.136725503613263
          ],
          "coloraxis": "coloraxis",
          "pattern": {
           "shape": ""
          }
         },
         "name": "",
         "offsetgroup": "",
         "orientation": "v",
         "showlegend": false,
         "textposition": "auto",
         "type": "bar",
         "x": [
          "18-29",
          "30-39",
          "40-49",
          "50-59",
          "60-90"
         ],
         "xaxis": "x",
         "y": [
          34532,
          14101,
          8713,
          4841,
          1275
         ],
         "yaxis": "y"
        }
       ],
       "layout": {
        "barmode": "relative",
        "coloraxis": {
         "colorbar": {
          "title": {
           "text": "Km/h"
          }
         },
         "colorscale": [
          [
           0,
           "rgb(184,226,177)"
          ],
          [
           0.25,
           "rgb(125,200,125)"
          ],
          [
           0.5,
           "rgb(58,164,88)"
          ],
          [
           0.75,
           "rgb(13,120,53)"
          ],
          [
           1,
           "rgb(0,68,27)"
          ]
         ]
        },
        "font": {
         "family": "Aptos",
         "size": 18
        },
        "height": 600,
        "legend": {
         "tracegroupgap": 0
        },
        "margin": {
         "t": 60
        },
        "template": {},
        "width": 500,
        "xaxis": {
         "anchor": "y",
         "domain": [
          0,
          1
         ],
         "showgrid": false,
         "title": {
          "text": "Age group"
         }
        },
        "yaxis": {
         "anchor": "x",
         "domain": [
          0,
          1
         ],
         "title": {
          "text": "Number of trips"
         }
        }
       }
      }
     },
     "metadata": {},
     "output_type": "display_data"
    }
   ],
   "source": [
    "spped = gm_processing.groupby('AgeBracket')['AvgSpeed'].agg(['mean','count']).reset_index()\n",
    "fig = px.bar(spped, x='AgeBracket', y='count', color='mean',\n",
    "             color_continuous_scale=custom_green_scale,\n",
    "             labels={'mean': 'Km/h', 'count': 'Number of trips', 'AgeBracket':'Age group'})\n",
    "\n",
    "fig.update_layout(width=500,height=600, template=None, font=dict(family='Aptos',size=18))\n",
    "fig.update_traces()\n",
    "# fig.update_yaxes(showgrid=False)\n",
    "fig.update_xaxes(showgrid=False)\n",
    "fig.show()"
   ]
  },
  {
   "cell_type": "code",
   "execution_count": null,
   "metadata": {},
   "outputs": [
    {
     "data": {
      "application/vnd.plotly.v1+json": {
       "config": {
        "plotlyServerURL": "https://plot.ly"
       },
       "data": [
        {
         "alignmentgroup": "True",
         "hovertemplate": "Weekday=%{x}<br>Number of trips=%{y}<br>Km=%{marker.color}<extra></extra>",
         "legendgroup": "",
         "marker": {
          "color": [
           6.98,
           7.04,
           6.87,
           7.03,
           6.98,
           6.94,
           7.01
          ],
          "coloraxis": "coloraxis",
          "pattern": {
           "shape": ""
          }
         },
         "name": "",
         "offsetgroup": "",
         "orientation": "v",
         "showlegend": false,
         "textposition": "auto",
         "type": "bar",
         "x": [
          "Friday",
          "Monday",
          "Saturday",
          "Sunday",
          "Thursday",
          "Tuesday",
          "Wednesday"
         ],
         "xaxis": "x",
         "y": [
          794,
          652,
          670,
          554,
          721,
          684,
          756
         ],
         "yaxis": "y"
        }
       ],
       "layout": {
        "barmode": "relative",
        "coloraxis": {
         "colorbar": {
          "title": {
           "text": "Km"
          }
         },
         "colorscale": [
          [
           0,
           "rgb(184,226,177)"
          ],
          [
           0.16666666666666666,
           "rgb(146,210,142)"
          ],
          [
           0.3333333333333333,
           "rgb(102,189,111)"
          ],
          [
           0.5,
           "rgb(58,164,88)"
          ],
          [
           0.6666666666666666,
           "rgb(29,134,65)"
          ],
          [
           0.8333333333333334,
           "rgb(0,105,42)"
          ],
          [
           1,
           "rgb(0,68,27)"
          ]
         ]
        },
        "font": {
         "family": "Aptos",
         "size": 20
        },
        "height": 600,
        "legend": {
         "tracegroupgap": 0
        },
        "margin": {
         "t": 60
        },
        "template": {},
        "width": 700,
        "xaxis": {
         "anchor": "y",
         "categoryarray": [
          "Monday",
          "Tuesday",
          "Wednesday",
          "Thursday",
          "Friday",
          "Saturday",
          "Sunday"
         ],
         "categoryorder": "array",
         "domain": [
          0,
          1
         ],
         "showgrid": false,
         "ticktext": [
          "Mon",
          "Tue",
          "Wed",
          "Thu",
          "Fri",
          "Sat",
          "Sun"
         ],
         "tickvals": [
          0,
          1,
          2,
          3,
          4,
          5,
          6
         ],
         "title": {}
        },
        "yaxis": {
         "anchor": "x",
         "domain": [
          0,
          1
         ],
         "showgrid": false,
         "title": {
          "text": "Number of trips"
         }
        }
       }
      }
     },
     "metadata": {},
     "output_type": "display_data"
    }
   ],
   "source": [
    "custom_green_scale = generate_custom_colorscale(7, 'Greens', dark_start=True)\n",
    "\n",
    "agg_trips_km = gm_processing\\\n",
    "    .groupby('Date')[['TripID','KmDriven']].agg({'TripID':'count','KmDriven':'sum'}).reset_index()\n",
    "agg_trips_km['Weekday'] = pd.to_datetime(agg_trips_km['Date']).dt.day_name()\n",
    "daily_trip_km = agg_trips_km.groupby('Weekday').agg({'TripID':'mean','KmDriven':'mean'}).reset_index()\n",
    "daily_trip_km['KmDriven'] = np.round(daily_trip_km['KmDriven']/daily_trip_km['TripID'],decimals=2)\n",
    "daily_trip_km['TripID'] = np.round(daily_trip_km['TripID'],decimals=0).astype(int)\n",
    "daily_trip_km.rename(columns={'TripID':'AvgDemand','KmDriven':'AvgDistance'},inplace=True)\n",
    "\n",
    "orderlist = ['Monday', 'Tuesday', 'Wednesday', 'Thursday', 'Friday', 'Saturday', 'Sunday']\n",
    "\n",
    "fig = px.bar(daily_trip_km, x='Weekday', y='AvgDemand',category_orders={'Weekday':orderlist},color='AvgDistance',\n",
    "             color_continuous_scale=custom_green_scale,\n",
    "             labels={'AvgDistance': 'Km', 'AvgDemand': 'Number of trips'})\n",
    "\n",
    "fig.update_layout(width=700,height=600, template=None, font=dict(family='Aptos',size=20))\n",
    "fig.update_traces()\n",
    "fig.update_yaxes(showgrid=False)\n",
    "fig.update_xaxes(\n",
    "    ticktext=['Mon', 'Tue', 'Wed', 'Thu', 'Fri', 'Sat', 'Sun'],\n",
    "    tickvals=[0, 1, 2, 3, 4, 5, 6], showgrid=False, title=None\n",
    ")\n",
    "\n",
    "fig.show()"
   ]
  },
  {
   "cell_type": "code",
   "execution_count": null,
   "metadata": {},
   "outputs": [
    {
     "data": {
      "text/html": [
       "<div>\n",
       "<style scoped>\n",
       "    .dataframe tbody tr th:only-of-type {\n",
       "        vertical-align: middle;\n",
       "    }\n",
       "\n",
       "    .dataframe tbody tr th {\n",
       "        vertical-align: top;\n",
       "    }\n",
       "\n",
       "    .dataframe thead th {\n",
       "        text-align: right;\n",
       "    }\n",
       "</style>\n",
       "<table border=\"1\" class=\"dataframe\">\n",
       "  <thead>\n",
       "    <tr style=\"text-align: right;\">\n",
       "      <th></th>\n",
       "      <th>Date</th>\n",
       "      <th>StartHour</th>\n",
       "      <th>TripID</th>\n",
       "    </tr>\n",
       "  </thead>\n",
       "  <tbody>\n",
       "    <tr>\n",
       "      <th>0</th>\n",
       "      <td>2017-07-01</td>\n",
       "      <td>0.0</td>\n",
       "      <td>16</td>\n",
       "    </tr>\n",
       "    <tr>\n",
       "      <th>1</th>\n",
       "      <td>2017-07-01</td>\n",
       "      <td>1.0</td>\n",
       "      <td>5</td>\n",
       "    </tr>\n",
       "    <tr>\n",
       "      <th>2</th>\n",
       "      <td>2017-07-01</td>\n",
       "      <td>2.0</td>\n",
       "      <td>10</td>\n",
       "    </tr>\n",
       "    <tr>\n",
       "      <th>3</th>\n",
       "      <td>2017-07-01</td>\n",
       "      <td>3.0</td>\n",
       "      <td>4</td>\n",
       "    </tr>\n",
       "    <tr>\n",
       "      <th>4</th>\n",
       "      <td>2017-07-01</td>\n",
       "      <td>4.0</td>\n",
       "      <td>10</td>\n",
       "    </tr>\n",
       "    <tr>\n",
       "      <th>...</th>\n",
       "      <td>...</td>\n",
       "      <td>...</td>\n",
       "      <td>...</td>\n",
       "    </tr>\n",
       "    <tr>\n",
       "      <th>2203</th>\n",
       "      <td>2017-09-30</td>\n",
       "      <td>19.0</td>\n",
       "      <td>57</td>\n",
       "    </tr>\n",
       "    <tr>\n",
       "      <th>2204</th>\n",
       "      <td>2017-09-30</td>\n",
       "      <td>20.0</td>\n",
       "      <td>35</td>\n",
       "    </tr>\n",
       "    <tr>\n",
       "      <th>2205</th>\n",
       "      <td>2017-09-30</td>\n",
       "      <td>21.0</td>\n",
       "      <td>32</td>\n",
       "    </tr>\n",
       "    <tr>\n",
       "      <th>2206</th>\n",
       "      <td>2017-09-30</td>\n",
       "      <td>22.0</td>\n",
       "      <td>21</td>\n",
       "    </tr>\n",
       "    <tr>\n",
       "      <th>2207</th>\n",
       "      <td>2017-09-30</td>\n",
       "      <td>23.0</td>\n",
       "      <td>28</td>\n",
       "    </tr>\n",
       "  </tbody>\n",
       "</table>\n",
       "<p>2208 rows × 3 columns</p>\n",
       "</div>"
      ],
      "text/plain": [
       "            Date StartHour  TripID\n",
       "0     2017-07-01       0.0      16\n",
       "1     2017-07-01       1.0       5\n",
       "2     2017-07-01       2.0      10\n",
       "3     2017-07-01       3.0       4\n",
       "4     2017-07-01       4.0      10\n",
       "...          ...       ...     ...\n",
       "2203  2017-09-30      19.0      57\n",
       "2204  2017-09-30      20.0      35\n",
       "2205  2017-09-30      21.0      32\n",
       "2206  2017-09-30      22.0      21\n",
       "2207  2017-09-30      23.0      28\n",
       "\n",
       "[2208 rows x 3 columns]"
      ]
     },
     "execution_count": 388,
     "metadata": {},
     "output_type": "execute_result"
    }
   ],
   "source": [
    "gm_processing.groupby(['Date','StartHour']).agg({'TripID':'count'}).reset_index()"
   ]
  },
  {
   "cell_type": "code",
   "execution_count": null,
   "metadata": {},
   "outputs": [
    {
     "data": {
      "application/vnd.plotly.v1+json": {
       "config": {
        "plotlyServerURL": "https://plot.ly"
       },
       "data": [
        {
         "marker": {
          "color": [
           11.043478260869565,
           6.891304347826087,
           4.706521739130435,
           3.8260869565217392,
           5,
           10.032608695652174,
           17.858695652173914,
           37.04347826086956,
           42.51086956521739,
           32.18478260869565,
           28.630434782608695,
           32.56521739130435,
           34.30434782608695,
           38.09782608695652,
           41.54347826086956,
           45.869565217391305,
           51.41304347826087,
           54.78260869565217,
           46.41304347826087,
           37.57608695652174,
           35.869565217391305,
           31.17391304347826,
           23.52173913043478,
           16.956521739130434
          ],
          "colorscale": [
           [
            0,
            "rgb(184,226,177)"
           ],
           [
            0.043478260869565216,
            "rgb(174,222,168)"
           ],
           [
            0.08695652173913043,
            "rgb(165,218,159)"
           ],
           [
            0.13043478260869565,
            "rgb(154,214,149)"
           ],
           [
            0.17391304347826086,
            "rgb(144,209,141)"
           ],
           [
            0.21739130434782608,
            "rgb(133,204,132)"
           ],
           [
            0.2608695652173913,
            "rgb(122,198,123)"
           ],
           [
            0.30434782608695654,
            "rgb(110,193,115)"
           ],
           [
            0.34782608695652173,
            "rgb(97,186,108)"
           ],
           [
            0.391304347826087,
            "rgb(86,181,103)"
           ],
           [
            0.43478260869565216,
            "rgb(73,175,97)"
           ],
           [
            0.4782608695652174,
            "rgb(62,168,91)"
           ],
           [
            0.5217391304347826,
            "rgb(55,160,85)"
           ],
           [
            0.5652173913043478,
            "rgb(47,152,78)"
           ],
           [
            0.6086956521739131,
            "rgb(40,145,73)"
           ],
           [
            0.6521739130434783,
            "rgb(33,137,67)"
           ],
           [
            0.6956521739130435,
            "rgb(24,129,61)"
           ],
           [
            0.7391304347826086,
            "rgb(15,122,55)"
           ],
           [
            0.782608695652174,
            "rgb(6,114,48)"
           ],
           [
            0.8260869565217391,
            "rgb(0,107,43)"
           ],
           [
            0.8695652173913043,
            "rgb(0,97,39)"
           ],
           [
            0.9130434782608695,
            "rgb(0,87,35)"
           ],
           [
            0.9565217391304348,
            "rgb(0,77,30)"
           ],
           [
            1,
            "rgb(0,68,27)"
           ]
          ],
          "line": {
           "color": "white",
           "width": 2
          }
         },
         "opacity": 0.9,
         "r": [
          11.043478260869565,
          6.891304347826087,
          4.706521739130435,
          3.8260869565217392,
          5,
          10.032608695652174,
          17.858695652173914,
          37.04347826086956,
          42.51086956521739,
          32.18478260869565,
          28.630434782608695,
          32.56521739130435,
          34.30434782608695,
          38.09782608695652,
          41.54347826086956,
          45.869565217391305,
          51.41304347826087,
          54.78260869565217,
          46.41304347826087,
          37.57608695652174,
          35.869565217391305,
          31.17391304347826,
          23.52173913043478,
          16.956521739130434
         ],
         "theta": [
          -7.5,
          7.5,
          22.5,
          37.5,
          52.5,
          67.5,
          82.5,
          97.5,
          112.5,
          127.5,
          142.5,
          157.5,
          172.5,
          187.5,
          202.5,
          217.5,
          232.5,
          247.5,
          262.5,
          277.5,
          292.5,
          307.5,
          322.5,
          337.5
         ],
         "type": "barpolar",
         "width": [
          15,
          15,
          15,
          15,
          15,
          15,
          15,
          15,
          15,
          15,
          15,
          15,
          15,
          15,
          15,
          15,
          15,
          15,
          15,
          15,
          15,
          15,
          15,
          15
         ]
        }
       ],
       "layout": {
        "polar": {
         "angularaxis": {
          "direction": "clockwise",
          "gridcolor": "white",
          "linecolor": "white",
          "period": 24,
          "showline": true,
          "showticklabels": true,
          "ticks": "",
          "ticktext": [
           "0:00",
           "",
           "",
           "",
           "",
           "",
           "6:00",
           "",
           "",
           "",
           "",
           "",
           "12:00",
           "",
           "",
           "",
           "",
           "",
           "18:00",
           "",
           "",
           "",
           "",
           ""
          ],
          "tickvals": [
           0,
           15,
           30,
           45,
           60,
           75,
           90,
           105,
           120,
           135,
           150,
           165,
           180,
           195,
           210,
           225,
           240,
           255,
           270,
           285,
           300,
           315,
           330,
           345
          ]
         },
         "bgcolor": "rgb(223, 223,223)",
         "hole": 0.4,
         "radialaxis": {
          "linecolor": "white",
          "linewidth": 2,
          "showgrid": false,
          "showticklabels": false,
          "ticks": ""
         }
        },
        "template": {}
       }
      }
     },
     "metadata": {},
     "output_type": "display_data"
    }
   ],
   "source": [
    "# sn_processing['Date'] = sn_processing['StartTime'].dt.date\n",
    "days = gm_processing.groupby(['Date','StartHour']).agg({'TripID':'count'}).reset_index()\n",
    "dfplot = days.groupby('StartHour').agg({'TripID':'mean'},).reset_index().rename(columns={'TripID':'AvgDemand'})\n",
    "\n",
    "custom_green_scale = generate_custom_colorscale(24,'Greens', dark_start=True)\n",
    "\n",
    "r = dfplot['AvgDemand'].tolist()\n",
    "theta = np.arange(0,360,15)\n",
    "width = [15]*24\n",
    "\n",
    "ticktexts = [str(i)+\":00\" if i % 6 == 0 else '' for i in np.arange(24)]\n",
    "\n",
    "fig = go.Figure(go.Barpolar(\n",
    "    r=r,\n",
    "    theta=[i-7.5 for i in theta],\n",
    "    width=width,\n",
    "    marker_color=dfplot['AvgDemand'],\n",
    "    marker_colorscale=custom_green_scale,\n",
    "    marker_line_color=\"white\",\n",
    "    marker_line_width=2,\n",
    "    opacity=0.9\n",
    "))\n",
    "\n",
    "fig.update_layout(\n",
    "    template=None,\n",
    "    polar=dict(\n",
    "        hole=0.4,\n",
    "        bgcolor='rgb(223, 223,223)',\n",
    "        radialaxis=dict(\n",
    "            showticklabels=False,\n",
    "            ticks='',\n",
    "            linewidth=2,\n",
    "            linecolor='white',\n",
    "            showgrid=False,\n",
    "        ),\n",
    "        angularaxis=dict(\n",
    "            tickvals=[i for i in theta],\n",
    "            ticktext=ticktexts,\n",
    "            showline=True,\n",
    "            direction='clockwise',\n",
    "            period=24,\n",
    "            linecolor='white',\n",
    "            gridcolor='white',\n",
    "            showticklabels=True,\n",
    "            ticks=''\n",
    "        )\n",
    "    )\n",
    ")\n",
    "\n",
    "fig.show()"
   ]
  },
  {
   "cell_type": "code",
   "execution_count": null,
   "metadata": {},
   "outputs": [],
   "source": [
    "gm_processing['UserID'] = gm_processing['UserID'].astype(int)\n",
    "gm_processing_groupusers = gm_processing.groupby('UserID')\\\n",
    "    .agg({'TripID':'count','TripDurationMinutes':'mean','KmDriven':'mean'})\\\n",
    "    .reset_index().rename(columns={'TripID':'Number of trips','TripDurationMinutes':'Time (min)','KmDriven':'Trip (km)'})\\\n",
    "    .sort_values('Number of trips',ascending=False)"
   ]
  },
  {
   "cell_type": "code",
   "execution_count": null,
   "metadata": {},
   "outputs": [
    {
     "data": {
      "text/html": [
       "<style type=\"text/css\">\n",
       "</style>\n",
       "<table id=\"T_433d6\">\n",
       "  <thead>\n",
       "    <tr>\n",
       "      <th class=\"blank level0\" >&nbsp;</th>\n",
       "      <th id=\"T_433d6_level0_col0\" class=\"col_heading level0 col0\" >UserID</th>\n",
       "      <th id=\"T_433d6_level0_col1\" class=\"col_heading level0 col1\" >Number of trips</th>\n",
       "      <th id=\"T_433d6_level0_col2\" class=\"col_heading level0 col2\" >Time (min)</th>\n",
       "      <th id=\"T_433d6_level0_col3\" class=\"col_heading level0 col3\" >Trip (km)</th>\n",
       "    </tr>\n",
       "  </thead>\n",
       "  <tbody>\n",
       "    <tr>\n",
       "      <th id=\"T_433d6_level0_row0\" class=\"row_heading level0 row0\" >2449</th>\n",
       "      <td id=\"T_433d6_row0_col0\" class=\"data row0 col0\" >6995.00</td>\n",
       "      <td id=\"T_433d6_row0_col1\" class=\"data row0 col1\" >1.00</td>\n",
       "      <td id=\"T_433d6_row0_col2\" class=\"data row0 col2\" >20.70</td>\n",
       "      <td id=\"T_433d6_row0_col3\" class=\"data row0 col3\" >4.00</td>\n",
       "    </tr>\n",
       "    <tr>\n",
       "      <th id=\"T_433d6_level0_row1\" class=\"row_heading level0 row1\" >5923</th>\n",
       "      <td id=\"T_433d6_row1_col0\" class=\"data row1 col0\" >14591.00</td>\n",
       "      <td id=\"T_433d6_row1_col1\" class=\"data row1 col1\" >1.00</td>\n",
       "      <td id=\"T_433d6_row1_col2\" class=\"data row1 col2\" >25.32</td>\n",
       "      <td id=\"T_433d6_row1_col3\" class=\"data row1 col3\" >7.00</td>\n",
       "    </tr>\n",
       "    <tr>\n",
       "      <th id=\"T_433d6_level0_row2\" class=\"row_heading level0 row2\" >2451</th>\n",
       "      <td id=\"T_433d6_row2_col0\" class=\"data row2 col0\" >7005.00</td>\n",
       "      <td id=\"T_433d6_row2_col1\" class=\"data row2 col1\" >1.00</td>\n",
       "      <td id=\"T_433d6_row2_col2\" class=\"data row2 col2\" >22.50</td>\n",
       "      <td id=\"T_433d6_row2_col3\" class=\"data row2 col3\" >4.00</td>\n",
       "    </tr>\n",
       "    <tr>\n",
       "      <th id=\"T_433d6_level0_row3\" class=\"row_heading level0 row3\" >5920</th>\n",
       "      <td id=\"T_433d6_row3_col0\" class=\"data row3 col0\" >14588.00</td>\n",
       "      <td id=\"T_433d6_row3_col1\" class=\"data row3 col1\" >1.00</td>\n",
       "      <td id=\"T_433d6_row3_col2\" class=\"data row3 col2\" >44.42</td>\n",
       "      <td id=\"T_433d6_row3_col3\" class=\"data row3 col3\" >8.00</td>\n",
       "    </tr>\n",
       "    <tr>\n",
       "      <th id=\"T_433d6_level0_row4\" class=\"row_heading level0 row4\" >2461</th>\n",
       "      <td id=\"T_433d6_row4_col0\" class=\"data row4 col0\" >7028.00</td>\n",
       "      <td id=\"T_433d6_row4_col1\" class=\"data row4 col1\" >1.00</td>\n",
       "      <td id=\"T_433d6_row4_col2\" class=\"data row4 col2\" >27.58</td>\n",
       "      <td id=\"T_433d6_row4_col3\" class=\"data row4 col3\" >7.00</td>\n",
       "    </tr>\n",
       "    <tr>\n",
       "      <th id=\"T_433d6_level0_row5\" class=\"row_heading level0 row5\" >2465</th>\n",
       "      <td id=\"T_433d6_row5_col0\" class=\"data row5 col0\" >7037.00</td>\n",
       "      <td id=\"T_433d6_row5_col1\" class=\"data row5 col1\" >1.00</td>\n",
       "      <td id=\"T_433d6_row5_col2\" class=\"data row5 col2\" >16.73</td>\n",
       "      <td id=\"T_433d6_row5_col3\" class=\"data row5 col3\" >3.00</td>\n",
       "    </tr>\n",
       "    <tr>\n",
       "      <th id=\"T_433d6_level0_row6\" class=\"row_heading level0 row6\" >2467</th>\n",
       "      <td id=\"T_433d6_row6_col0\" class=\"data row6 col0\" >7042.00</td>\n",
       "      <td id=\"T_433d6_row6_col1\" class=\"data row6 col1\" >1.00</td>\n",
       "      <td id=\"T_433d6_row6_col2\" class=\"data row6 col2\" >26.90</td>\n",
       "      <td id=\"T_433d6_row6_col3\" class=\"data row6 col3\" >14.00</td>\n",
       "    </tr>\n",
       "    <tr>\n",
       "      <th id=\"T_433d6_level0_row7\" class=\"row_heading level0 row7\" >5914</th>\n",
       "      <td id=\"T_433d6_row7_col0\" class=\"data row7 col0\" >14578.00</td>\n",
       "      <td id=\"T_433d6_row7_col1\" class=\"data row7 col1\" >1.00</td>\n",
       "      <td id=\"T_433d6_row7_col2\" class=\"data row7 col2\" >36.37</td>\n",
       "      <td id=\"T_433d6_row7_col3\" class=\"data row7 col3\" >16.00</td>\n",
       "    </tr>\n",
       "    <tr>\n",
       "      <th id=\"T_433d6_level0_row8\" class=\"row_heading level0 row8\" >5913</th>\n",
       "      <td id=\"T_433d6_row8_col0\" class=\"data row8 col0\" >14576.00</td>\n",
       "      <td id=\"T_433d6_row8_col1\" class=\"data row8 col1\" >1.00</td>\n",
       "      <td id=\"T_433d6_row8_col2\" class=\"data row8 col2\" >35.78</td>\n",
       "      <td id=\"T_433d6_row8_col3\" class=\"data row8 col3\" >6.00</td>\n",
       "    </tr>\n",
       "    <tr>\n",
       "      <th id=\"T_433d6_level0_row9\" class=\"row_heading level0 row9\" >2472</th>\n",
       "      <td id=\"T_433d6_row9_col0\" class=\"data row9 col0\" >7051.00</td>\n",
       "      <td id=\"T_433d6_row9_col1\" class=\"data row9 col1\" >1.00</td>\n",
       "      <td id=\"T_433d6_row9_col2\" class=\"data row9 col2\" >37.93</td>\n",
       "      <td id=\"T_433d6_row9_col3\" class=\"data row9 col3\" >18.00</td>\n",
       "    </tr>\n",
       "    <tr>\n",
       "      <th id=\"T_433d6_level0_row10\" class=\"row_heading level0 row10\" >5910</th>\n",
       "      <td id=\"T_433d6_row10_col0\" class=\"data row10 col0\" >14570.00</td>\n",
       "      <td id=\"T_433d6_row10_col1\" class=\"data row10 col1\" >1.00</td>\n",
       "      <td id=\"T_433d6_row10_col2\" class=\"data row10 col2\" >20.48</td>\n",
       "      <td id=\"T_433d6_row10_col3\" class=\"data row10 col3\" >6.00</td>\n",
       "    </tr>\n",
       "    <tr>\n",
       "      <th id=\"T_433d6_level0_row11\" class=\"row_heading level0 row11\" >2473</th>\n",
       "      <td id=\"T_433d6_row11_col0\" class=\"data row11 col0\" >7053.00</td>\n",
       "      <td id=\"T_433d6_row11_col1\" class=\"data row11 col1\" >1.00</td>\n",
       "      <td id=\"T_433d6_row11_col2\" class=\"data row11 col2\" >16.87</td>\n",
       "      <td id=\"T_433d6_row11_col3\" class=\"data row11 col3\" >5.00</td>\n",
       "    </tr>\n",
       "    <tr>\n",
       "      <th id=\"T_433d6_level0_row12\" class=\"row_heading level0 row12\" >2474</th>\n",
       "      <td id=\"T_433d6_row12_col0\" class=\"data row12 col0\" >7055.00</td>\n",
       "      <td id=\"T_433d6_row12_col1\" class=\"data row12 col1\" >1.00</td>\n",
       "      <td id=\"T_433d6_row12_col2\" class=\"data row12 col2\" >28.58</td>\n",
       "      <td id=\"T_433d6_row12_col3\" class=\"data row12 col3\" >7.00</td>\n",
       "    </tr>\n",
       "    <tr>\n",
       "      <th id=\"T_433d6_level0_row13\" class=\"row_heading level0 row13\" >2478</th>\n",
       "      <td id=\"T_433d6_row13_col0\" class=\"data row13 col0\" >7074.00</td>\n",
       "      <td id=\"T_433d6_row13_col1\" class=\"data row13 col1\" >1.00</td>\n",
       "      <td id=\"T_433d6_row13_col2\" class=\"data row13 col2\" >12.62</td>\n",
       "      <td id=\"T_433d6_row13_col3\" class=\"data row13 col3\" >6.00</td>\n",
       "    </tr>\n",
       "    <tr>\n",
       "      <th id=\"T_433d6_level0_row14\" class=\"row_heading level0 row14\" >7566</th>\n",
       "      <td id=\"T_433d6_row14_col0\" class=\"data row14 col0\" >19118.00</td>\n",
       "      <td id=\"T_433d6_row14_col1\" class=\"data row14 col1\" >1.00</td>\n",
       "      <td id=\"T_433d6_row14_col2\" class=\"data row14 col2\" >32.12</td>\n",
       "      <td id=\"T_433d6_row14_col3\" class=\"data row14 col3\" >7.00</td>\n",
       "    </tr>\n",
       "  </tbody>\n",
       "</table>\n"
      ],
      "text/plain": [
       "<pandas.io.formats.style.Styler at 0x1625afb10>"
      ]
     },
     "execution_count": 205,
     "metadata": {},
     "output_type": "execute_result"
    }
   ],
   "source": [
    "gm_processing_groupusers.tail(15).style.format(\"{:.2f}\")"
   ]
  },
  {
   "cell_type": "markdown",
   "metadata": {},
   "source": [
    "### 1.3 Data cleaning and processing: Donkey Republic"
   ]
  },
  {
   "cell_type": "code",
   "execution_count": null,
   "metadata": {},
   "outputs": [
    {
     "data": {
      "text/html": [
       "<style type=\"text/css\">\n",
       "</style>\n",
       "<table id=\"T_3f151\">\n",
       "  <thead>\n",
       "    <tr>\n",
       "      <th class=\"blank level0\" >&nbsp;</th>\n",
       "      <th id=\"T_3f151_level0_col0\" class=\"col_heading level0 col0\" >count</th>\n",
       "      <th id=\"T_3f151_level0_col1\" class=\"col_heading level0 col1\" >mean</th>\n",
       "      <th id=\"T_3f151_level0_col2\" class=\"col_heading level0 col2\" >min</th>\n",
       "      <th id=\"T_3f151_level0_col3\" class=\"col_heading level0 col3\" >25%</th>\n",
       "      <th id=\"T_3f151_level0_col4\" class=\"col_heading level0 col4\" >50%</th>\n",
       "      <th id=\"T_3f151_level0_col5\" class=\"col_heading level0 col5\" >75%</th>\n",
       "      <th id=\"T_3f151_level0_col6\" class=\"col_heading level0 col6\" >max</th>\n",
       "      <th id=\"T_3f151_level0_col7\" class=\"col_heading level0 col7\" >std</th>\n",
       "    </tr>\n",
       "  </thead>\n",
       "  <tbody>\n",
       "    <tr>\n",
       "      <th id=\"T_3f151_level0_row0\" class=\"row_heading level0 row0\" >StartTime</th>\n",
       "      <td id=\"T_3f151_row0_col0\" class=\"data row0 col0\" >279860.00</td>\n",
       "      <td id=\"T_3f151_row0_col1\" class=\"data row0 col1\" >.2f</td>\n",
       "      <td id=\"T_3f151_row0_col2\" class=\"data row0 col2\" >.2f</td>\n",
       "      <td id=\"T_3f151_row0_col3\" class=\"data row0 col3\" >.2f</td>\n",
       "      <td id=\"T_3f151_row0_col4\" class=\"data row0 col4\" >.2f</td>\n",
       "      <td id=\"T_3f151_row0_col5\" class=\"data row0 col5\" >.2f</td>\n",
       "      <td id=\"T_3f151_row0_col6\" class=\"data row0 col6\" >.2f</td>\n",
       "      <td id=\"T_3f151_row0_col7\" class=\"data row0 col7\" >nan</td>\n",
       "    </tr>\n",
       "    <tr>\n",
       "      <th id=\"T_3f151_level0_row1\" class=\"row_heading level0 row1\" >EndTime</th>\n",
       "      <td id=\"T_3f151_row1_col0\" class=\"data row1 col0\" >279408.00</td>\n",
       "      <td id=\"T_3f151_row1_col1\" class=\"data row1 col1\" >.2f</td>\n",
       "      <td id=\"T_3f151_row1_col2\" class=\"data row1 col2\" >.2f</td>\n",
       "      <td id=\"T_3f151_row1_col3\" class=\"data row1 col3\" >.2f</td>\n",
       "      <td id=\"T_3f151_row1_col4\" class=\"data row1 col4\" >.2f</td>\n",
       "      <td id=\"T_3f151_row1_col5\" class=\"data row1 col5\" >.2f</td>\n",
       "      <td id=\"T_3f151_row1_col6\" class=\"data row1 col6\" >.2f</td>\n",
       "      <td id=\"T_3f151_row1_col7\" class=\"data row1 col7\" >nan</td>\n",
       "    </tr>\n",
       "    <tr>\n",
       "      <th id=\"T_3f151_level0_row2\" class=\"row_heading level0 row2\" >pickup_hub_id</th>\n",
       "      <td id=\"T_3f151_row2_col0\" class=\"data row2 col0\" >279860.00</td>\n",
       "      <td id=\"T_3f151_row2_col1\" class=\"data row2 col1\" >2968.64</td>\n",
       "      <td id=\"T_3f151_row2_col2\" class=\"data row2 col2\" >49.00</td>\n",
       "      <td id=\"T_3f151_row2_col3\" class=\"data row2 col3\" >2178.00</td>\n",
       "      <td id=\"T_3f151_row2_col4\" class=\"data row2 col4\" >2413.00</td>\n",
       "      <td id=\"T_3f151_row2_col5\" class=\"data row2 col5\" >3543.00</td>\n",
       "      <td id=\"T_3f151_row2_col6\" class=\"data row2 col6\" >7521.00</td>\n",
       "      <td id=\"T_3f151_row2_col7\" class=\"data row2 col7\" >1474.51</td>\n",
       "    </tr>\n",
       "    <tr>\n",
       "      <th id=\"T_3f151_level0_row3\" class=\"row_heading level0 row3\" >dropoff_hub_id</th>\n",
       "      <td id=\"T_3f151_row3_col0\" class=\"data row3 col0\" >261293.00</td>\n",
       "      <td id=\"T_3f151_row3_col1\" class=\"data row3 col1\" >2994.72</td>\n",
       "      <td id=\"T_3f151_row3_col2\" class=\"data row3 col2\" >49.00</td>\n",
       "      <td id=\"T_3f151_row3_col3\" class=\"data row3 col3\" >2180.00</td>\n",
       "      <td id=\"T_3f151_row3_col4\" class=\"data row3 col4\" >2431.00</td>\n",
       "      <td id=\"T_3f151_row3_col5\" class=\"data row3 col5\" >3730.00</td>\n",
       "      <td id=\"T_3f151_row3_col6\" class=\"data row3 col6\" >7521.00</td>\n",
       "      <td id=\"T_3f151_row3_col7\" class=\"data row3 col7\" >1483.24</td>\n",
       "    </tr>\n",
       "    <tr>\n",
       "      <th id=\"T_3f151_level0_row4\" class=\"row_heading level0 row4\" >UserID</th>\n",
       "      <td id=\"T_3f151_row4_col0\" class=\"data row4 col0\" >279860.00</td>\n",
       "      <td id=\"T_3f151_row4_col1\" class=\"data row4 col1\" >225811.07</td>\n",
       "      <td id=\"T_3f151_row4_col2\" class=\"data row4 col2\" >1.00</td>\n",
       "      <td id=\"T_3f151_row4_col3\" class=\"data row4 col3\" >162493.00</td>\n",
       "      <td id=\"T_3f151_row4_col4\" class=\"data row4 col4\" >232322.00</td>\n",
       "      <td id=\"T_3f151_row4_col5\" class=\"data row4 col5\" >293800.00</td>\n",
       "      <td id=\"T_3f151_row4_col6\" class=\"data row4 col6\" >357173.00</td>\n",
       "      <td id=\"T_3f151_row4_col7\" class=\"data row4 col7\" >79155.08</td>\n",
       "    </tr>\n",
       "    <tr>\n",
       "      <th id=\"T_3f151_level0_row5\" class=\"row_heading level0 row5\" >LatitudeStart</th>\n",
       "      <td id=\"T_3f151_row5_col0\" class=\"data row5 col0\" >276689.00</td>\n",
       "      <td id=\"T_3f151_row5_col1\" class=\"data row5 col1\" >55.68</td>\n",
       "      <td id=\"T_3f151_row5_col2\" class=\"data row5 col2\" >50.85</td>\n",
       "      <td id=\"T_3f151_row5_col3\" class=\"data row5 col3\" >55.67</td>\n",
       "      <td id=\"T_3f151_row5_col4\" class=\"data row5 col4\" >55.68</td>\n",
       "      <td id=\"T_3f151_row5_col5\" class=\"data row5 col5\" >55.69</td>\n",
       "      <td id=\"T_3f151_row5_col6\" class=\"data row5 col6\" >55.79</td>\n",
       "      <td id=\"T_3f151_row5_col7\" class=\"data row5 col7\" >0.02</td>\n",
       "    </tr>\n",
       "    <tr>\n",
       "      <th id=\"T_3f151_level0_row6\" class=\"row_heading level0 row6\" >LongitudeStart</th>\n",
       "      <td id=\"T_3f151_row6_col0\" class=\"data row6 col0\" >276689.00</td>\n",
       "      <td id=\"T_3f151_row6_col1\" class=\"data row6 col1\" >12.57</td>\n",
       "      <td id=\"T_3f151_row6_col2\" class=\"data row6 col2\" >4.40</td>\n",
       "      <td id=\"T_3f151_row6_col3\" class=\"data row6 col3\" >12.55</td>\n",
       "      <td id=\"T_3f151_row6_col4\" class=\"data row6 col4\" >12.57</td>\n",
       "      <td id=\"T_3f151_row6_col5\" class=\"data row6 col5\" >12.58</td>\n",
       "      <td id=\"T_3f151_row6_col6\" class=\"data row6 col6\" >12.65</td>\n",
       "      <td id=\"T_3f151_row6_col7\" class=\"data row6 col7\" >0.03</td>\n",
       "    </tr>\n",
       "    <tr>\n",
       "      <th id=\"T_3f151_level0_row7\" class=\"row_heading level0 row7\" >LatitudeEnd</th>\n",
       "      <td id=\"T_3f151_row7_col0\" class=\"data row7 col0\" >258313.00</td>\n",
       "      <td id=\"T_3f151_row7_col1\" class=\"data row7 col1\" >55.68</td>\n",
       "      <td id=\"T_3f151_row7_col2\" class=\"data row7 col2\" >50.85</td>\n",
       "      <td id=\"T_3f151_row7_col3\" class=\"data row7 col3\" >55.67</td>\n",
       "      <td id=\"T_3f151_row7_col4\" class=\"data row7 col4\" >55.68</td>\n",
       "      <td id=\"T_3f151_row7_col5\" class=\"data row7 col5\" >55.69</td>\n",
       "      <td id=\"T_3f151_row7_col6\" class=\"data row7 col6\" >55.79</td>\n",
       "      <td id=\"T_3f151_row7_col7\" class=\"data row7 col7\" >0.02</td>\n",
       "    </tr>\n",
       "    <tr>\n",
       "      <th id=\"T_3f151_level0_row8\" class=\"row_heading level0 row8\" >LongitudeEnd</th>\n",
       "      <td id=\"T_3f151_row8_col0\" class=\"data row8 col0\" >258313.00</td>\n",
       "      <td id=\"T_3f151_row8_col1\" class=\"data row8 col1\" >12.57</td>\n",
       "      <td id=\"T_3f151_row8_col2\" class=\"data row8 col2\" >4.40</td>\n",
       "      <td id=\"T_3f151_row8_col3\" class=\"data row8 col3\" >12.55</td>\n",
       "      <td id=\"T_3f151_row8_col4\" class=\"data row8 col4\" >12.57</td>\n",
       "      <td id=\"T_3f151_row8_col5\" class=\"data row8 col5\" >12.58</td>\n",
       "      <td id=\"T_3f151_row8_col6\" class=\"data row8 col6\" >12.65</td>\n",
       "      <td id=\"T_3f151_row8_col7\" class=\"data row8 col7\" >0.03</td>\n",
       "    </tr>\n",
       "    <tr>\n",
       "      <th id=\"T_3f151_level0_row9\" class=\"row_heading level0 row9\" >HaversineDistance</th>\n",
       "      <td id=\"T_3f151_row9_col0\" class=\"data row9 col0\" >110444.00</td>\n",
       "      <td id=\"T_3f151_row9_col1\" class=\"data row9 col1\" >4.14</td>\n",
       "      <td id=\"T_3f151_row9_col2\" class=\"data row9 col2\" >0.00</td>\n",
       "      <td id=\"T_3f151_row9_col3\" class=\"data row9 col3\" >1.47</td>\n",
       "      <td id=\"T_3f151_row9_col4\" class=\"data row9 col4\" >3.30</td>\n",
       "      <td id=\"T_3f151_row9_col5\" class=\"data row9 col5\" >5.94</td>\n",
       "      <td id=\"T_3f151_row9_col6\" class=\"data row9 col6\" >6310.48</td>\n",
       "      <td id=\"T_3f151_row9_col7\" class=\"data row9 col7\" >19.28</td>\n",
       "    </tr>\n",
       "    <tr>\n",
       "      <th id=\"T_3f151_level0_row10\" class=\"row_heading level0 row10\" >TripDurationHours</th>\n",
       "      <td id=\"T_3f151_row10_col0\" class=\"data row10 col0\" >279408.00</td>\n",
       "      <td id=\"T_3f151_row10_col1\" class=\"data row10 col1\" >10.70</td>\n",
       "      <td id=\"T_3f151_row10_col2\" class=\"data row10 col2\" >-22.69</td>\n",
       "      <td id=\"T_3f151_row10_col3\" class=\"data row10 col3\" >0.44</td>\n",
       "      <td id=\"T_3f151_row10_col4\" class=\"data row10 col4\" >3.97</td>\n",
       "      <td id=\"T_3f151_row10_col5\" class=\"data row10 col5\" >10.36</td>\n",
       "      <td id=\"T_3f151_row10_col6\" class=\"data row10 col6\" >4100.92</td>\n",
       "      <td id=\"T_3f151_row10_col7\" class=\"data row10 col7\" >35.31</td>\n",
       "    </tr>\n",
       "    <tr>\n",
       "      <th id=\"T_3f151_level0_row11\" class=\"row_heading level0 row11\" >TripDurationMinutes</th>\n",
       "      <td id=\"T_3f151_row11_col0\" class=\"data row11 col0\" >279408.00</td>\n",
       "      <td id=\"T_3f151_row11_col1\" class=\"data row11 col1\" >642.22</td>\n",
       "      <td id=\"T_3f151_row11_col2\" class=\"data row11 col2\" >-1361.49</td>\n",
       "      <td id=\"T_3f151_row11_col3\" class=\"data row11 col3\" >26.59</td>\n",
       "      <td id=\"T_3f151_row11_col4\" class=\"data row11 col4\" >238.39</td>\n",
       "      <td id=\"T_3f151_row11_col5\" class=\"data row11 col5\" >621.58</td>\n",
       "      <td id=\"T_3f151_row11_col6\" class=\"data row11 col6\" >246055.35</td>\n",
       "      <td id=\"T_3f151_row11_col7\" class=\"data row11 col7\" >2118.44</td>\n",
       "    </tr>\n",
       "  </tbody>\n",
       "</table>\n"
      ],
      "text/plain": [
       "<pandas.io.formats.style.Styler at 0x15da33bd0>"
      ]
     },
     "execution_count": 65,
     "metadata": {},
     "output_type": "execute_result"
    }
   ],
   "source": [
    "dr_processing['TripDurationHours'] = (dr_processing['EndTime'] - dr_processing['StartTime']).dt.total_seconds()/3600\n",
    "dr_processing['TripDurationMinutes'] = dr_processing['TripDurationHours']*60  #   trip duration in min\n",
    "dr_processing.describe().T.style.format(\"{:.2f}\")"
   ]
  },
  {
   "cell_type": "code",
   "execution_count": null,
   "metadata": {},
   "outputs": [
    {
     "data": {
      "application/vnd.plotly.v1+json": {
       "config": {
        "plotlyServerURL": "https://plot.ly"
       },
       "data": [
        {
         "alignmentgroup": "True",
         "hovertemplate": "Weekday=%{x}<br>Number of trips=%{y}<br>Km=%{marker.color}<extra></extra>",
         "legendgroup": "",
         "marker": {
          "color": [
           1.38,
           1.59,
           1.53,
           1.67,
           1.58,
           1.4,
           1.52
          ],
          "coloraxis": "coloraxis",
          "pattern": {
           "shape": ""
          }
         },
         "name": "",
         "offsetgroup": "",
         "orientation": "v",
         "showlegend": false,
         "textposition": "auto",
         "type": "bar",
         "x": [
          "Friday",
          "Monday",
          "Saturday",
          "Sunday",
          "Thursday",
          "Tuesday",
          "Wednesday"
         ],
         "xaxis": "x",
         "y": [
          600,
          499,
          650,
          589,
          508,
          465,
          491
         ],
         "yaxis": "y"
        }
       ],
       "layout": {
        "barmode": "relative",
        "coloraxis": {
         "colorbar": {
          "title": {
           "text": "Km"
          }
         },
         "colorscale": [
          [
           0,
           "rgb(253,194,140)"
          ],
          [
           0.16666666666666666,
           "rgb(253,163,91)"
          ],
          [
           0.3333333333333333,
           "rgb(249,131,49)"
          ],
          [
           0.5,
           "rgb(236,98,15)"
          ],
          [
           0.6666666666666666,
           "rgb(209,69,1)"
          ],
          [
           0.8333333333333334,
           "rgb(162,52,3)"
          ],
          [
           1,
           "rgb(127,39,4)"
          ]
         ]
        },
        "font": {
         "family": "Aptos",
         "size": 20
        },
        "height": 600,
        "legend": {
         "tracegroupgap": 0
        },
        "margin": {
         "t": 60
        },
        "template": {},
        "width": 700,
        "xaxis": {
         "anchor": "y",
         "categoryarray": [
          "Monday",
          "Tuesday",
          "Wednesday",
          "Thursday",
          "Friday",
          "Saturday",
          "Sunday"
         ],
         "categoryorder": "array",
         "domain": [
          0,
          1
         ],
         "showgrid": false,
         "ticktext": [
          "Mon",
          "Tue",
          "Wed",
          "Thu",
          "Fri",
          "Sat",
          "Sun"
         ],
         "tickvals": [
          0,
          1,
          2,
          3,
          4,
          5,
          6
         ],
         "title": {}
        },
        "yaxis": {
         "anchor": "x",
         "domain": [
          0,
          1
         ],
         "showgrid": false,
         "title": {
          "text": "Number of trips"
         }
        }
       }
      }
     },
     "metadata": {},
     "output_type": "display_data"
    }
   ],
   "source": [
    "custom_orange_scale = generate_custom_colorscale(7, 'Oranges', dark_start=True)\n",
    "\n",
    "agg_trips_km = dr_processing[dr_processing['TripDurationMinutes']<720]\\\n",
    "    .groupby('Date')[['StartTime','HaversineDistance']].agg({'StartTime':'count','HaversineDistance':'sum'}).reset_index()\n",
    "agg_trips_km['Weekday'] = pd.to_datetime(agg_trips_km['Date']).dt.day_name()\n",
    "daily_trip_km = agg_trips_km.groupby('Weekday').agg({'StartTime':'mean','HaversineDistance':'mean'}).reset_index()\n",
    "daily_trip_km['HaversineDistance'] = np.round(daily_trip_km['HaversineDistance']/daily_trip_km['StartTime'],decimals=2)\n",
    "daily_trip_km['StartTime'] = np.round(daily_trip_km['StartTime'],decimals=0).astype(int)\n",
    "daily_trip_km.rename(columns={'StartTime':'AvgDemand','HaversineDistance':'AvgDistance'},inplace=True)\n",
    "\n",
    "orderlist = ['Monday', 'Tuesday', 'Wednesday', 'Thursday', 'Friday', 'Saturday', 'Sunday']\n",
    "\n",
    "fig = px.bar(daily_trip_km, x='Weekday', y='AvgDemand',category_orders={'Weekday':orderlist},\n",
    "             color='AvgDistance',\n",
    "             color_continuous_scale=custom_orange_scale,\n",
    "             labels={'AvgDemand': 'Number of trips', 'AvgDistance': 'Km'})\n",
    "\n",
    "fig.update_layout(width=700,height=600, template=None, font=dict(family='Aptos',size=20))\n",
    "fig.update_traces()\n",
    "fig.update_yaxes(showgrid=False)\n",
    "fig.update_xaxes(\n",
    "    ticktext=['Mon', 'Tue', 'Wed', 'Thu', 'Fri', 'Sat', 'Sun'],\n",
    "    tickvals=[0, 1, 2, 3, 4, 5, 6], showgrid=False, title=None\n",
    ")\n",
    "\n",
    "fig.show()"
   ]
  },
  {
   "cell_type": "code",
   "execution_count": null,
   "metadata": {},
   "outputs": [
    {
     "data": {
      "text/html": [
       "<div>\n",
       "<style scoped>\n",
       "    .dataframe tbody tr th:only-of-type {\n",
       "        vertical-align: middle;\n",
       "    }\n",
       "\n",
       "    .dataframe tbody tr th {\n",
       "        vertical-align: top;\n",
       "    }\n",
       "\n",
       "    .dataframe thead th {\n",
       "        text-align: right;\n",
       "    }\n",
       "</style>\n",
       "<table border=\"1\" class=\"dataframe\">\n",
       "  <thead>\n",
       "    <tr style=\"text-align: right;\">\n",
       "      <th></th>\n",
       "      <th>Weekday</th>\n",
       "      <th>AvgDemand</th>\n",
       "      <th>AvgDistance</th>\n",
       "    </tr>\n",
       "  </thead>\n",
       "  <tbody>\n",
       "    <tr>\n",
       "      <th>0</th>\n",
       "      <td>Friday</td>\n",
       "      <td>600</td>\n",
       "      <td>1.38</td>\n",
       "    </tr>\n",
       "    <tr>\n",
       "      <th>1</th>\n",
       "      <td>Monday</td>\n",
       "      <td>499</td>\n",
       "      <td>1.59</td>\n",
       "    </tr>\n",
       "    <tr>\n",
       "      <th>2</th>\n",
       "      <td>Saturday</td>\n",
       "      <td>650</td>\n",
       "      <td>1.53</td>\n",
       "    </tr>\n",
       "    <tr>\n",
       "      <th>3</th>\n",
       "      <td>Sunday</td>\n",
       "      <td>589</td>\n",
       "      <td>1.67</td>\n",
       "    </tr>\n",
       "    <tr>\n",
       "      <th>4</th>\n",
       "      <td>Thursday</td>\n",
       "      <td>508</td>\n",
       "      <td>1.58</td>\n",
       "    </tr>\n",
       "    <tr>\n",
       "      <th>5</th>\n",
       "      <td>Tuesday</td>\n",
       "      <td>465</td>\n",
       "      <td>1.40</td>\n",
       "    </tr>\n",
       "    <tr>\n",
       "      <th>6</th>\n",
       "      <td>Wednesday</td>\n",
       "      <td>491</td>\n",
       "      <td>1.52</td>\n",
       "    </tr>\n",
       "  </tbody>\n",
       "</table>\n",
       "</div>"
      ],
      "text/plain": [
       "     Weekday  AvgDemand  AvgDistance\n",
       "0     Friday        600         1.38\n",
       "1     Monday        499         1.59\n",
       "2   Saturday        650         1.53\n",
       "3     Sunday        589         1.67\n",
       "4   Thursday        508         1.58\n",
       "5    Tuesday        465         1.40\n",
       "6  Wednesday        491         1.52"
      ]
     },
     "execution_count": 293,
     "metadata": {},
     "output_type": "execute_result"
    }
   ],
   "source": [
    "daily_trip_km"
   ]
  },
  {
   "cell_type": "code",
   "execution_count": null,
   "metadata": {},
   "outputs": [
    {
     "data": {
      "application/vnd.plotly.v1+json": {
       "config": {
        "plotlyServerURL": "https://plot.ly"
       },
       "data": [
        {
         "marker": {
          "color": [
           5.793969849246231,
           4.339195979899498,
           3.1457286432160805,
           2.512562814070352,
           3.891959798994975,
           11.92964824120603,
           32.2713567839196,
           48.482412060301506,
           55.233668341708544,
           61.278894472361806,
           55.984924623115575,
           45.972361809045225,
           39.26381909547739,
           37.030150753768844,
           39.91206030150754,
           43.80904522613066,
           38.87688442211055,
           30.316582914572866,
           23.57286432160804,
           20.969849246231156,
           17.185929648241206,
           14.522613065326633,
           11.304020100502512,
           8.628140703517587
          ],
          "colorscale": [
           [
            0,
            "rgb(253,194,140)"
           ],
           [
            0.043478260869565216,
            "rgb(253,186,127)"
           ],
           [
            0.08695652173913043,
            "rgb(253,177,113)"
           ],
           [
            0.13043478260869565,
            "rgb(253,169,100)"
           ],
           [
            0.17391304347826086,
            "rgb(253,162,90)"
           ],
           [
            0.21739130434782608,
            "rgb(253,153,78)"
           ],
           [
            0.2608695652173913,
            "rgb(253,145,66)"
           ],
           [
            0.30434782608695654,
            "rgb(251,137,55)"
           ],
           [
            0.34782608695652173,
            "rgb(248,128,45)"
           ],
           [
            0.391304347826087,
            "rgb(246,120,36)"
           ],
           [
            0.43478260869565216,
            "rgb(243,111,25)"
           ],
           [
            0.4782608695652174,
            "rgb(239,102,17)"
           ],
           [
            0.5217391304347826,
            "rgb(233,93,13)"
           ],
           [
            0.5652173913043478,
            "rgb(226,85,8)"
           ],
           [
            0.6086956521739131,
            "rgb(221,78,4)"
           ],
           [
            0.6521739130434783,
            "rgb(214,71,1)"
           ],
           [
            0.6956521739130435,
            "rgb(201,66,1)"
           ],
           [
            0.7391304347826086,
            "rgb(188,61,2)"
           ],
           [
            0.782608695652174,
            "rgb(175,57,2)"
           ],
           [
            0.8260869565217391,
            "rgb(164,53,3)"
           ],
           [
            0.8695652173913043,
            "rgb(155,49,3)"
           ],
           [
            0.9130434782608695,
            "rgb(145,46,3)"
           ],
           [
            0.9565217391304348,
            "rgb(135,42,3)"
           ],
           [
            1,
            "rgb(127,39,4)"
           ]
          ],
          "line": {
           "color": "white",
           "width": 2
          }
         },
         "opacity": 0.9,
         "r": [
          5.793969849246231,
          4.339195979899498,
          3.1457286432160805,
          2.512562814070352,
          3.891959798994975,
          11.92964824120603,
          32.2713567839196,
          48.482412060301506,
          55.233668341708544,
          61.278894472361806,
          55.984924623115575,
          45.972361809045225,
          39.26381909547739,
          37.030150753768844,
          39.91206030150754,
          43.80904522613066,
          38.87688442211055,
          30.316582914572866,
          23.57286432160804,
          20.969849246231156,
          17.185929648241206,
          14.522613065326633,
          11.304020100502512,
          8.628140703517587
         ],
         "theta": [
          -7.5,
          7.5,
          22.5,
          37.5,
          52.5,
          67.5,
          82.5,
          97.5,
          112.5,
          127.5,
          142.5,
          157.5,
          172.5,
          187.5,
          202.5,
          217.5,
          232.5,
          247.5,
          262.5,
          277.5,
          292.5,
          307.5,
          322.5,
          337.5
         ],
         "type": "barpolar",
         "width": [
          15,
          15,
          15,
          15,
          15,
          15,
          15,
          15,
          15,
          15,
          15,
          15,
          15,
          15,
          15,
          15,
          15,
          15,
          15,
          15,
          15,
          15,
          15,
          15
         ]
        }
       ],
       "layout": {
        "polar": {
         "angularaxis": {
          "direction": "clockwise",
          "gridcolor": "white",
          "linecolor": "white",
          "period": 24,
          "showline": true,
          "showticklabels": true,
          "ticks": "",
          "ticktext": [
           "0:00",
           "",
           "",
           "",
           "",
           "",
           "6:00",
           "",
           "",
           "",
           "",
           "",
           "12:00",
           "",
           "",
           "",
           "",
           "",
           "18:00",
           "",
           "",
           "",
           "",
           ""
          ],
          "tickvals": [
           0,
           15,
           30,
           45,
           60,
           75,
           90,
           105,
           120,
           135,
           150,
           165,
           180,
           195,
           210,
           225,
           240,
           255,
           270,
           285,
           300,
           315,
           330,
           345
          ]
         },
         "bgcolor": "rgb(223, 223,223)",
         "hole": 0.4,
         "radialaxis": {
          "linecolor": "white",
          "linewidth": 2,
          "showgrid": false,
          "showticklabels": false,
          "ticks": ""
         }
        },
        "template": {}
       }
      }
     },
     "metadata": {},
     "output_type": "display_data"
    }
   ],
   "source": [
    "days = dr_processing.groupby(['Date','StartHour']).agg({'StartTime':'count'}).reset_index()\n",
    "dfplot = days.groupby('StartHour').agg({'StartTime':'mean'},).reset_index().rename(columns={'StartTime':'AvgDemand'})\n",
    "\n",
    "custom_green_scale = generate_custom_colorscale(24,'Oranges', dark_start=True)\n",
    "\n",
    "r = dfplot['AvgDemand'].tolist()\n",
    "theta = np.arange(0,360,15)\n",
    "width = [15]*24\n",
    "\n",
    "ticktexts = [str(i)+\":00\" if i % 6 == 0 else '' for i in np.arange(24)]\n",
    "\n",
    "fig = go.Figure(go.Barpolar(\n",
    "    r=r,\n",
    "    theta=[i-7.5 for i in theta],\n",
    "    width=width,\n",
    "    marker_color=dfplot['AvgDemand'],\n",
    "    marker_colorscale=custom_green_scale,\n",
    "    marker_line_color=\"white\",\n",
    "    marker_line_width=2,\n",
    "    opacity=0.9\n",
    "))\n",
    "\n",
    "fig.update_layout(\n",
    "    template=None,\n",
    "    polar=dict(\n",
    "        hole=0.4,\n",
    "        bgcolor='rgb(223, 223,223)',\n",
    "        radialaxis=dict(\n",
    "            showticklabels=False,\n",
    "            ticks='',\n",
    "            linewidth=2,\n",
    "            linecolor='white',\n",
    "            showgrid=False,\n",
    "        ),\n",
    "        angularaxis=dict(\n",
    "            tickvals=[i for i in theta],\n",
    "            ticktext=ticktexts,\n",
    "            showline=True,\n",
    "            direction='clockwise',\n",
    "            period=24,\n",
    "            linecolor='white',\n",
    "            gridcolor='white',\n",
    "            showticklabels=True,\n",
    "            ticks=''\n",
    "        )\n",
    "    )\n",
    ")\n",
    "\n",
    "fig.show()"
   ]
  },
  {
   "cell_type": "code",
   "execution_count": null,
   "metadata": {},
   "outputs": [
    {
     "data": {
      "text/html": [
       "<div>\n",
       "<style scoped>\n",
       "    .dataframe tbody tr th:only-of-type {\n",
       "        vertical-align: middle;\n",
       "    }\n",
       "\n",
       "    .dataframe tbody tr th {\n",
       "        vertical-align: top;\n",
       "    }\n",
       "\n",
       "    .dataframe thead th {\n",
       "        text-align: right;\n",
       "    }\n",
       "</style>\n",
       "<table border=\"1\" class=\"dataframe\">\n",
       "  <thead>\n",
       "    <tr style=\"text-align: right;\">\n",
       "      <th></th>\n",
       "      <th>StartHubName</th>\n",
       "      <th>Number of trips</th>\n",
       "    </tr>\n",
       "  </thead>\n",
       "  <tbody>\n",
       "    <tr>\n",
       "      <th>594</th>\n",
       "      <td>Nørreport St. (Nørre Voldgade)</td>\n",
       "      <td>454</td>\n",
       "    </tr>\n",
       "    <tr>\n",
       "      <th>593</th>\n",
       "      <td>Nørreport St. (Depot)</td>\n",
       "      <td>192</td>\n",
       "    </tr>\n",
       "    <tr>\n",
       "      <th>388</th>\n",
       "      <td>Israels Plads</td>\n",
       "      <td>158</td>\n",
       "    </tr>\n",
       "    <tr>\n",
       "      <th>857</th>\n",
       "      <td>Vandkunsten</td>\n",
       "      <td>147</td>\n",
       "    </tr>\n",
       "    <tr>\n",
       "      <th>138</th>\n",
       "      <td>Central Station</td>\n",
       "      <td>145</td>\n",
       "    </tr>\n",
       "    <tr>\n",
       "      <th>661</th>\n",
       "      <td>Reventlowsgade</td>\n",
       "      <td>141</td>\n",
       "    </tr>\n",
       "    <tr>\n",
       "      <th>817</th>\n",
       "      <td>Tourist Information Office</td>\n",
       "      <td>125</td>\n",
       "    </tr>\n",
       "    <tr>\n",
       "      <th>540</th>\n",
       "      <td>Mindeankeret</td>\n",
       "      <td>124</td>\n",
       "    </tr>\n",
       "    <tr>\n",
       "      <th>816</th>\n",
       "      <td>Torvehallerne</td>\n",
       "      <td>122</td>\n",
       "    </tr>\n",
       "    <tr>\n",
       "      <th>254</th>\n",
       "      <td>Founders House</td>\n",
       "      <td>120</td>\n",
       "    </tr>\n",
       "    <tr>\n",
       "      <th>442</th>\n",
       "      <td>Kongens Nytorv St.</td>\n",
       "      <td>119</td>\n",
       "    </tr>\n",
       "    <tr>\n",
       "      <th>387</th>\n",
       "      <td>Israels Pl. II</td>\n",
       "      <td>114</td>\n",
       "    </tr>\n",
       "    <tr>\n",
       "      <th>150</th>\n",
       "      <td>Christianshavn St.</td>\n",
       "      <td>114</td>\n",
       "    </tr>\n",
       "    <tr>\n",
       "      <th>573</th>\n",
       "      <td>Ny Carlsberg Glyptotek</td>\n",
       "      <td>113</td>\n",
       "    </tr>\n",
       "    <tr>\n",
       "      <th>830</th>\n",
       "      <td>Tycho Brahe Planetarium</td>\n",
       "      <td>109</td>\n",
       "    </tr>\n",
       "  </tbody>\n",
       "</table>\n",
       "</div>"
      ],
      "text/plain": [
       "                       StartHubName  Number of trips\n",
       "594  Nørreport St. (Nørre Voldgade)              454\n",
       "593           Nørreport St. (Depot)              192\n",
       "388                   Israels Plads              158\n",
       "857                     Vandkunsten              147\n",
       "138                 Central Station              145\n",
       "661                  Reventlowsgade              141\n",
       "817      Tourist Information Office              125\n",
       "540                    Mindeankeret              124\n",
       "816                   Torvehallerne              122\n",
       "254                  Founders House              120\n",
       "442              Kongens Nytorv St.              119\n",
       "387                  Israels Pl. II              114\n",
       "150              Christianshavn St.              114\n",
       "573          Ny Carlsberg Glyptotek              113\n",
       "830         Tycho Brahe Planetarium              109"
      ]
     },
     "execution_count": 70,
     "metadata": {},
     "output_type": "execute_result"
    }
   ],
   "source": [
    "dr_processing[dr_processing['dropoff_hub_id'].isnull()].groupby('StartHubName').agg({'StartTime':'count'}).reset_index().rename(columns={'StartTime':'Number of trips'}).sort_values(by='Number of trips',ascending=False).head(15)"
   ]
  },
  {
   "cell_type": "code",
   "execution_count": null,
   "metadata": {},
   "outputs": [
    {
     "data": {
      "text/html": [
       "<style type=\"text/css\">\n",
       "</style>\n",
       "<table id=\"T_dfbfe\">\n",
       "  <thead>\n",
       "    <tr>\n",
       "      <th class=\"blank level0\" >&nbsp;</th>\n",
       "      <th id=\"T_dfbfe_level0_col0\" class=\"col_heading level0 col0\" >count</th>\n",
       "      <th id=\"T_dfbfe_level0_col1\" class=\"col_heading level0 col1\" >mean</th>\n",
       "      <th id=\"T_dfbfe_level0_col2\" class=\"col_heading level0 col2\" >std</th>\n",
       "      <th id=\"T_dfbfe_level0_col3\" class=\"col_heading level0 col3\" >min</th>\n",
       "      <th id=\"T_dfbfe_level0_col4\" class=\"col_heading level0 col4\" >25%</th>\n",
       "      <th id=\"T_dfbfe_level0_col5\" class=\"col_heading level0 col5\" >50%</th>\n",
       "      <th id=\"T_dfbfe_level0_col6\" class=\"col_heading level0 col6\" >75%</th>\n",
       "      <th id=\"T_dfbfe_level0_col7\" class=\"col_heading level0 col7\" >max</th>\n",
       "    </tr>\n",
       "  </thead>\n",
       "  <tbody>\n",
       "    <tr>\n",
       "      <th id=\"T_dfbfe_level0_row0\" class=\"row_heading level0 row0\" >TripDurationMinutes</th>\n",
       "      <td id=\"T_dfbfe_row0_col0\" class=\"data row0 col0\" >261179.00</td>\n",
       "      <td id=\"T_dfbfe_row0_col1\" class=\"data row0 col1\" >566.33</td>\n",
       "      <td id=\"T_dfbfe_row0_col2\" class=\"data row0 col2\" >1546.58</td>\n",
       "      <td id=\"T_dfbfe_row0_col3\" class=\"data row0 col3\" >0.27</td>\n",
       "      <td id=\"T_dfbfe_row0_col4\" class=\"data row0 col4\" >25.79</td>\n",
       "      <td id=\"T_dfbfe_row0_col5\" class=\"data row0 col5\" >221.06</td>\n",
       "      <td id=\"T_dfbfe_row0_col6\" class=\"data row0 col6\" >591.80</td>\n",
       "      <td id=\"T_dfbfe_row0_col7\" class=\"data row0 col7\" >126554.99</td>\n",
       "    </tr>\n",
       "    <tr>\n",
       "      <th id=\"T_dfbfe_level0_row1\" class=\"row_heading level0 row1\" >TripDurationHours</th>\n",
       "      <td id=\"T_dfbfe_row1_col0\" class=\"data row1 col0\" >261179.00</td>\n",
       "      <td id=\"T_dfbfe_row1_col1\" class=\"data row1 col1\" >9.44</td>\n",
       "      <td id=\"T_dfbfe_row1_col2\" class=\"data row1 col2\" >25.78</td>\n",
       "      <td id=\"T_dfbfe_row1_col3\" class=\"data row1 col3\" >0.00</td>\n",
       "      <td id=\"T_dfbfe_row1_col4\" class=\"data row1 col4\" >0.43</td>\n",
       "      <td id=\"T_dfbfe_row1_col5\" class=\"data row1 col5\" >3.68</td>\n",
       "      <td id=\"T_dfbfe_row1_col6\" class=\"data row1 col6\" >9.86</td>\n",
       "      <td id=\"T_dfbfe_row1_col7\" class=\"data row1 col7\" >2109.25</td>\n",
       "    </tr>\n",
       "  </tbody>\n",
       "</table>\n"
      ],
      "text/plain": [
       "<pandas.io.formats.style.Styler at 0x157f07990>"
      ]
     },
     "execution_count": 79,
     "metadata": {},
     "output_type": "execute_result"
    }
   ],
   "source": [
    "dr_processing = dr_processing[~dr_processing['dropoff_hub_id'].isnull()]\n",
    "dr_processing = dr_processing[dr_processing['TripDurationMinutes']>0]\n",
    "dr_processing[['TripDurationMinutes','TripDurationHours']].describe().T.style.format(\"{:.2f}\")"
   ]
  },
  {
   "cell_type": "code",
   "execution_count": null,
   "metadata": {},
   "outputs": [
    {
     "data": {
      "image/png": "[encoded data removed]",
      "text/plain": [
       "<Figure size 1000x500 with 1 Axes>"
      ]
     },
     "metadata": {},
     "output_type": "display_data"
    }
   ],
   "source": [
    "# plot gm_processing['TripDurationMinutes'] histogram using seaborn\n",
    "plt.figure(figsize=(10, 5))\n",
    "sns.histplot(data=dr_processing[dr_processing['TripDurationMinutes']<20000], x='TripDurationMinutes', bins=50, color='orange')\n",
    "sns.set_style('whitegrid')\n",
    "sns.despine()\n",
    "plt.grid(False)\n",
    "plt.title('Trip Duration Minutes')\n",
    "plt.show()"
   ]
  },
  {
   "cell_type": "code",
   "execution_count": null,
   "metadata": {},
   "outputs": [
    {
     "data": {
      "image/png": "[encoded data removed]",
      "text/plain": [
       "<Figure size 1200x700 with 2 Axes>"
      ]
     },
     "metadata": {},
     "output_type": "display_data"
    }
   ],
   "source": [
    "# (dr_processing[dr_processing['TripDurationMinutes']<720].shape[0]/dr_processing.shape[0])*100\n",
    "fig, (ax1, ax2) = plt.subplots(1, 2, figsize=(12, 7))\n",
    "sns.histplot(data=dr_processing[dr_processing['TripDurationMinutes']<720], x='TripDurationMinutes', bins=50, color='orange', ax=ax1)\n",
    "sns.boxplot(data=dr_processing[dr_processing['TripDurationMinutes']<720], y='TripDurationMinutes',color='orange', ax=ax2)\n",
    "ax1.grid(False)\n",
    "ax2.grid(False)\n",
    "sns.set_style('whitegrid')\n",
    "sns.despine()\n",
    "plt.grid(False)\n",
    "# plt.title('Trip Duration Minutes')\n",
    "plt.show()"
   ]
  },
  {
   "cell_type": "code",
   "execution_count": null,
   "metadata": {},
   "outputs": [
    {
     "data": {
      "text/plain": [
       "user_id\n",
       "140961    636\n",
       "202440    423\n",
       "138203    383\n",
       "105294    382\n",
       "112336    339\n",
       "         ... \n",
       "203861      1\n",
       "204421      1\n",
       "203786      1\n",
       "204351      1\n",
       "357046      1\n",
       "Name: count, Length: 81419, dtype: int64"
      ]
     },
     "execution_count": 133,
     "metadata": {},
     "output_type": "execute_result"
    }
   ],
   "source": [
    "rentals['user_id'].value_counts()"
   ]
  },
  {
   "cell_type": "code",
   "execution_count": null,
   "metadata": {},
   "outputs": [],
   "source": [
    "dr_processing['UserID'] = dr_processing['UserID'].astype(int)\n",
    "dr_processing_groupusers = dr_processing.groupby('UserID')\\\n",
    "    .agg({'StartTime':'count','TripDurationMinutes':'mean'})\\\n",
    "    .reset_index().rename(columns={'StartTime':'Trips','TripDurationMinutes':'Time (min)'})\\\n",
    "    .sort_values('Trips',ascending=False)\n",
    "\n",
    "# dr_processing_groupusers['Trips'] = dr_processing_groupusers['Trips'].astype(int)\n",
    "# dr_processing_groupusers['Time (min)'] = dr_processing_groupusers['Time (min)'].map('{:.2f}'.format)"
   ]
  },
  {
   "cell_type": "code",
   "execution_count": null,
   "metadata": {},
   "outputs": [
    {
     "data": {
      "text/html": [
       "<div>\n",
       "<style scoped>\n",
       "    .dataframe tbody tr th:only-of-type {\n",
       "        vertical-align: middle;\n",
       "    }\n",
       "\n",
       "    .dataframe tbody tr th {\n",
       "        vertical-align: top;\n",
       "    }\n",
       "\n",
       "    .dataframe thead th {\n",
       "        text-align: right;\n",
       "    }\n",
       "</style>\n",
       "<table border=\"1\" class=\"dataframe\">\n",
       "  <thead>\n",
       "    <tr style=\"text-align: right;\">\n",
       "      <th></th>\n",
       "      <th>UserID</th>\n",
       "      <th>Trips</th>\n",
       "      <th>Time (min)</th>\n",
       "    </tr>\n",
       "  </thead>\n",
       "  <tbody>\n",
       "    <tr>\n",
       "      <th>9838</th>\n",
       "      <td>140961</td>\n",
       "      <td>634</td>\n",
       "      <td>526.32</td>\n",
       "    </tr>\n",
       "    <tr>\n",
       "      <th>28114</th>\n",
       "      <td>202440</td>\n",
       "      <td>415</td>\n",
       "      <td>602.14</td>\n",
       "    </tr>\n",
       "    <tr>\n",
       "      <th>8823</th>\n",
       "      <td>138203</td>\n",
       "      <td>381</td>\n",
       "      <td>548.44</td>\n",
       "    </tr>\n",
       "    <tr>\n",
       "      <th>2002</th>\n",
       "      <td>105294</td>\n",
       "      <td>380</td>\n",
       "      <td>746.13</td>\n",
       "    </tr>\n",
       "    <tr>\n",
       "      <th>27700</th>\n",
       "      <td>200997</td>\n",
       "      <td>332</td>\n",
       "      <td>341.38</td>\n",
       "    </tr>\n",
       "    <tr>\n",
       "      <th>8810</th>\n",
       "      <td>138159</td>\n",
       "      <td>318</td>\n",
       "      <td>456.52</td>\n",
       "    </tr>\n",
       "    <tr>\n",
       "      <th>12441</th>\n",
       "      <td>149801</td>\n",
       "      <td>316</td>\n",
       "      <td>626.67</td>\n",
       "    </tr>\n",
       "    <tr>\n",
       "      <th>33067</th>\n",
       "      <td>218607</td>\n",
       "      <td>313</td>\n",
       "      <td>395.33</td>\n",
       "    </tr>\n",
       "    <tr>\n",
       "      <th>2979</th>\n",
       "      <td>116766</td>\n",
       "      <td>310</td>\n",
       "      <td>559.28</td>\n",
       "    </tr>\n",
       "    <tr>\n",
       "      <th>26347</th>\n",
       "      <td>195931</td>\n",
       "      <td>310</td>\n",
       "      <td>187.57</td>\n",
       "    </tr>\n",
       "    <tr>\n",
       "      <th>2204</th>\n",
       "      <td>112336</td>\n",
       "      <td>307</td>\n",
       "      <td>895.24</td>\n",
       "    </tr>\n",
       "    <tr>\n",
       "      <th>4157</th>\n",
       "      <td>121448</td>\n",
       "      <td>300</td>\n",
       "      <td>311.12</td>\n",
       "    </tr>\n",
       "    <tr>\n",
       "      <th>21041</th>\n",
       "      <td>177583</td>\n",
       "      <td>296</td>\n",
       "      <td>360.77</td>\n",
       "    </tr>\n",
       "    <tr>\n",
       "      <th>2613</th>\n",
       "      <td>115252</td>\n",
       "      <td>294</td>\n",
       "      <td>722.47</td>\n",
       "    </tr>\n",
       "    <tr>\n",
       "      <th>46054</th>\n",
       "      <td>260555</td>\n",
       "      <td>293</td>\n",
       "      <td>55.02</td>\n",
       "    </tr>\n",
       "  </tbody>\n",
       "</table>\n",
       "</div>"
      ],
      "text/plain": [
       "       UserID  Trips Time (min)\n",
       "9838   140961    634     526.32\n",
       "28114  202440    415     602.14\n",
       "8823   138203    381     548.44\n",
       "2002   105294    380     746.13\n",
       "27700  200997    332     341.38\n",
       "8810   138159    318     456.52\n",
       "12441  149801    316     626.67\n",
       "33067  218607    313     395.33\n",
       "2979   116766    310     559.28\n",
       "26347  195931    310     187.57\n",
       "2204   112336    307     895.24\n",
       "4157   121448    300     311.12\n",
       "21041  177583    296     360.77\n",
       "2613   115252    294     722.47\n",
       "46054  260555    293      55.02"
      ]
     },
     "execution_count": 218,
     "metadata": {},
     "output_type": "execute_result"
    }
   ],
   "source": [
    "dr_processing_groupusers.head(15)"
   ]
  },
  {
   "cell_type": "code",
   "execution_count": null,
   "metadata": {},
   "outputs": [
    {
     "data": {
      "text/html": [
       "<style type=\"text/css\">\n",
       "</style>\n",
       "<table id=\"T_412a0\">\n",
       "  <thead>\n",
       "    <tr>\n",
       "      <th class=\"blank level0\" >&nbsp;</th>\n",
       "      <th id=\"T_412a0_level0_col0\" class=\"col_heading level0 col0\" >count</th>\n",
       "      <th id=\"T_412a0_level0_col1\" class=\"col_heading level0 col1\" >mean</th>\n",
       "      <th id=\"T_412a0_level0_col2\" class=\"col_heading level0 col2\" >std</th>\n",
       "      <th id=\"T_412a0_level0_col3\" class=\"col_heading level0 col3\" >min</th>\n",
       "      <th id=\"T_412a0_level0_col4\" class=\"col_heading level0 col4\" >25%</th>\n",
       "      <th id=\"T_412a0_level0_col5\" class=\"col_heading level0 col5\" >50%</th>\n",
       "      <th id=\"T_412a0_level0_col6\" class=\"col_heading level0 col6\" >75%</th>\n",
       "      <th id=\"T_412a0_level0_col7\" class=\"col_heading level0 col7\" >max</th>\n",
       "    </tr>\n",
       "  </thead>\n",
       "  <tbody>\n",
       "    <tr>\n",
       "      <th id=\"T_412a0_level0_row0\" class=\"row_heading level0 row0\" >UserID</th>\n",
       "      <td id=\"T_412a0_row0_col0\" class=\"data row0 col0\" >76680.00</td>\n",
       "      <td id=\"T_412a0_row0_col1\" class=\"data row0 col1\" >232820.32</td>\n",
       "      <td id=\"T_412a0_row0_col2\" class=\"data row0 col2\" >75046.76</td>\n",
       "      <td id=\"T_412a0_row0_col3\" class=\"data row0 col3\" >1.00</td>\n",
       "      <td id=\"T_412a0_row0_col4\" class=\"data row0 col4\" >171587.00</td>\n",
       "      <td id=\"T_412a0_row0_col5\" class=\"data row0 col5\" >236647.00</td>\n",
       "      <td id=\"T_412a0_row0_col6\" class=\"data row0 col6\" >297342.00</td>\n",
       "      <td id=\"T_412a0_row0_col7\" class=\"data row0 col7\" >357161.00</td>\n",
       "    </tr>\n",
       "    <tr>\n",
       "      <th id=\"T_412a0_level0_row1\" class=\"row_heading level0 row1\" >Trips</th>\n",
       "      <td id=\"T_412a0_row1_col0\" class=\"data row1 col0\" >76680.00</td>\n",
       "      <td id=\"T_412a0_row1_col1\" class=\"data row1 col1\" >3.41</td>\n",
       "      <td id=\"T_412a0_row1_col2\" class=\"data row1 col2\" >12.36</td>\n",
       "      <td id=\"T_412a0_row1_col3\" class=\"data row1 col3\" >1.00</td>\n",
       "      <td id=\"T_412a0_row1_col4\" class=\"data row1 col4\" >1.00</td>\n",
       "      <td id=\"T_412a0_row1_col5\" class=\"data row1 col5\" >1.00</td>\n",
       "      <td id=\"T_412a0_row1_col6\" class=\"data row1 col6\" >2.00</td>\n",
       "      <td id=\"T_412a0_row1_col7\" class=\"data row1 col7\" >634.00</td>\n",
       "    </tr>\n",
       "    <tr>\n",
       "      <th id=\"T_412a0_level0_row2\" class=\"row_heading level0 row2\" >Time (min)</th>\n",
       "      <td id=\"T_412a0_row2_col0\" class=\"data row2 col0\" >76680.00</td>\n",
       "      <td id=\"T_412a0_row2_col1\" class=\"data row2 col1\" >895.58</td>\n",
       "      <td id=\"T_412a0_row2_col2\" class=\"data row2 col2\" >1880.84</td>\n",
       "      <td id=\"T_412a0_row2_col3\" class=\"data row2 col3\" >0.76</td>\n",
       "      <td id=\"T_412a0_row2_col4\" class=\"data row2 col4\" >112.32</td>\n",
       "      <td id=\"T_412a0_row2_col5\" class=\"data row2 col5\" >356.54</td>\n",
       "      <td id=\"T_412a0_row2_col6\" class=\"data row2 col6\" >1180.81</td>\n",
       "      <td id=\"T_412a0_row2_col7\" class=\"data row2 col7\" >122081.77</td>\n",
       "    </tr>\n",
       "  </tbody>\n",
       "</table>\n"
      ],
      "text/plain": [
       "<pandas.io.formats.style.Styler at 0x168da74d0>"
      ]
     },
     "execution_count": 223,
     "metadata": {},
     "output_type": "execute_result"
    }
   ],
   "source": [
    "dr_processing_groupusers.describe().T.style.format(\"{:.2f}\")"
   ]
  },
  {
   "cell_type": "code",
   "execution_count": null,
   "metadata": {},
   "outputs": [
    {
     "data": {
      "text/html": [
       "<p style=\"font-size:20px; font-family:Consolas;\">Average car usage ShareNow</p>"
      ],
      "text/plain": [
       "<IPython.core.display.HTML object>"
      ]
     },
     "metadata": {},
     "output_type": "display_data"
    },
    {
     "data": {
      "text/html": [
       "<style type=\"text/css\">\n",
       "</style>\n",
       "<table id=\"T_05f61\">\n",
       "  <thead>\n",
       "    <tr>\n",
       "      <th class=\"blank level0\" >&nbsp;</th>\n",
       "      <th id=\"T_05f61_level0_col0\" class=\"col_heading level0 col0\" >Average</th>\n",
       "    </tr>\n",
       "  </thead>\n",
       "  <tbody>\n",
       "    <tr>\n",
       "      <th id=\"T_05f61_level0_row0\" class=\"row_heading level0 row0\" >TripID</th>\n",
       "      <td id=\"T_05f61_row0_col0\" class=\"data row0 col0\" >4.30</td>\n",
       "    </tr>\n",
       "    <tr>\n",
       "      <th id=\"T_05f61_level0_row1\" class=\"row_heading level0 row1\" >KmDriven</th>\n",
       "      <td id=\"T_05f61_row1_col0\" class=\"data row1 col0\" >34.95</td>\n",
       "    </tr>\n",
       "  </tbody>\n",
       "</table>\n"
      ],
      "text/plain": [
       "<pandas.io.formats.style.Styler at 0x15fcf1050>"
      ]
     },
     "execution_count": 253,
     "metadata": {},
     "output_type": "execute_result"
    }
   ],
   "source": [
    "display(HTML('<p style=\"font-size:20px; font-family:Consolas;\">Average car usage ShareNow</p>'))\n",
    "sn_processing.groupby(['CarID','Date']).agg({'TripID':'count','KmDriven':'sum'}).reset_index().agg({'TripID':'mean','KmDriven':'mean'}).to_frame().rename(columns={0:'Average'}).style.format(\"{:.2f}\")"
   ]
  },
  {
   "cell_type": "code",
   "execution_count": null,
   "metadata": {},
   "outputs": [
    {
     "ename": "NameError",
     "evalue": "name 'dr_processing' is not defined",
     "output_type": "error",
     "traceback": [
      "\u001b[0;31m---------------------------------------------------------------------------\u001b[0m",
      "\u001b[0;31mNameError\u001b[0m                                 Traceback (most recent call last)",
      "Cell \u001b[0;32mIn [1], line 1\u001b[0m\n\u001b[0;32m----> 1\u001b[0m \u001b[43mdr_processing\u001b[49m\u001b[38;5;241m.\u001b[39mcolumns\n",
      "\u001b[0;31mNameError\u001b[0m: name 'dr_processing' is not defined"
     ]
    }
   ],
   "source": [
    "dr_processing.columns"
   ]
  },
  {
   "cell_type": "code",
   "execution_count": null,
   "metadata": {},
   "outputs": [],
   "source": [
    "day_hour_sn = sn_processing.groupby(['Weekday','StartHour','Date']).agg({'CarID':'count'}).reset_index()\n",
    "day_hour_gm = gm_processing.groupby(['Weekday','StartHour','Date']).agg({'CarID':'count'}).reset_index()\n",
    "day_hour_dr = dr_processing.groupby(['Weekday','StartHour','Date']).agg({'pickup_hub_id':'count'}).reset_index()"
   ]
  },
  {
   "cell_type": "code",
   "execution_count": null,
   "metadata": {},
   "outputs": [],
   "source": [
    "test_sn = day_hour_sn.groupby(['Weekday','StartHour']).agg({'TripID':'mean'}).reset_index()\n",
    "test_gm = day_hour_gm.groupby(['Weekday','StartHour']).agg({'TripID':'mean'}).reset_index()\n",
    "test_dr = day_hour_dr.groupby(['Weekday','StartHour']).agg({'Date':'mean'}).reset_index()"
   ]
  },
  {
   "cell_type": "code",
   "execution_count": null,
   "metadata": {},
   "outputs": [
    {
     "data": {
      "image/png": "[encoded data removed]",
      "text/plain": [
       "<Figure size 1000x600 with 2 Axes>"
      ]
     },
     "metadata": {},
     "output_type": "display_data"
    }
   ],
   "source": [
    "import seaborn as sns\n",
    "import matplotlib.pyplot as plt\n",
    "# Assuming day_hour is a DataFrame you have defined earlier\n",
    "\n",
    "# Reshape the data into a matrix\n",
    "matrix = test_sn.pivot(index='StartHour', columns='Weekday', values='TripID')\n",
    "\n",
    "# Order list for the weekdays\n",
    "orderlist = ['Monday', 'Tuesday', 'Wednesday', 'Thursday', 'Friday', 'Saturday', 'Sunday']\n",
    "\n",
    "# Reindex the matrix according to the orderlist\n",
    "reordered_matrix = matrix.reindex(columns=orderlist)\n",
    "\n",
    "# Create the heatmap with the reordered matrix\n",
    "plt.figure(figsize=(10, 6))\n",
    "sns.heatmap(reordered_matrix, cmap='Blues', annot=False, fmt='d')\n",
    "plt.title('Demand for Weekday and StartHour: ShareNow')\n",
    "plt.xlabel(None)\n",
    "plt.ylabel('Hour of the day')\n",
    "plt.show()\n"
   ]
  },
  {
   "cell_type": "code",
   "execution_count": null,
   "metadata": {},
   "outputs": [
    {
     "data": {
      "image/png": "[encoded data removed]",
      "text/plain": [
       "<Figure size 1000x600 with 2 Axes>"
      ]
     },
     "metadata": {},
     "output_type": "display_data"
    }
   ],
   "source": [
    "import seaborn as sns\n",
    "import matplotlib.pyplot as plt\n",
    "# Assuming day_hour is a DataFrame you have defined earlier\n",
    "\n",
    "# Reshape the data into a matrix\n",
    "test_gm['StartHour'] = test_gm['StartHour'].astype(int)\n",
    "matrix = test_gm.pivot(index='StartHour', columns='Weekday', values='TripID')\n",
    "\n",
    "# Order list for the weekdays\n",
    "orderlist = ['Monday', 'Tuesday', 'Wednesday', 'Thursday', 'Friday', 'Saturday', 'Sunday']\n",
    "\n",
    "# Reindex the matrix according to the orderlist\n",
    "reordered_matrix = matrix.reindex(columns=orderlist)\n",
    "\n",
    "# Create the heatmap with the reordered matrix\n",
    "plt.figure(figsize=(10, 6))\n",
    "sns.heatmap(reordered_matrix, cmap='Greens', annot=False, fmt='d')\n",
    "plt.title('Demand for Weekday and StartHour: GreenMobility')\n",
    "plt.xlabel(None)\n",
    "plt.ylabel('Hour of the day')\n",
    "plt.show()\n"
   ]
  },
  {
   "cell_type": "code",
   "execution_count": null,
   "metadata": {},
   "outputs": [
    {
     "name": "stderr",
     "output_type": "stream",
     "text": [
      "/opt/anaconda3/envs/master_thesis/lib/python3.11/site-packages/seaborn/matrix.py:202: RuntimeWarning:\n",
      "\n",
      "All-NaN slice encountered\n",
      "\n",
      "/opt/anaconda3/envs/master_thesis/lib/python3.11/site-packages/seaborn/matrix.py:207: RuntimeWarning:\n",
      "\n",
      "All-NaN slice encountered\n",
      "\n"
     ]
    },
    {
     "data": {
      "image/png": "[encoded data removed]",
      "text/plain": [
       "<Figure size 1000x600 with 2 Axes>"
      ]
     },
     "metadata": {},
     "output_type": "display_data"
    }
   ],
   "source": [
    "# Reshape the data into a matrix\n",
    "day_hour_dr['StartHour'] = day_hour_dr['StartHour'].astype(int)\n",
    "matrix = day_hour_dr.pivot(index='StartHour', columns='Weekday', values='Date')\n",
    "\n",
    "# Order list for the weekdays\n",
    "orderlist = ['Monday', 'Tuesday', 'Wednesday', 'Thursday', 'Friday', 'Saturday', 'Sunday']\n",
    "\n",
    "# Reindex the matrix according to the orderlist\n",
    "reordered_matrix = test_dr.reindex(columns=orderlist)\n",
    "\n",
    "# Create the heatmap with the reordered matrix\n",
    "plt.figure(figsize=(10, 6))\n",
    "sns.heatmap(reordered_matrix, cmap='Oranges', annot=False, fmt='d')\n",
    "plt.title('Demand for Weekday and StartHour: GreenMobility')\n",
    "plt.xlabel(None)\n",
    "plt.ylabel('Hour of the day')\n",
    "plt.show()\n"
   ]
  },
  {
   "cell_type": "code",
   "execution_count": null,
   "metadata": {},
   "outputs": [
    {
     "data": {
      "text/html": [
       "<div>\n",
       "<style scoped>\n",
       "    .dataframe tbody tr th:only-of-type {\n",
       "        vertical-align: middle;\n",
       "    }\n",
       "\n",
       "    .dataframe tbody tr th {\n",
       "        vertical-align: top;\n",
       "    }\n",
       "\n",
       "    .dataframe thead th {\n",
       "        text-align: right;\n",
       "    }\n",
       "</style>\n",
       "<table border=\"1\" class=\"dataframe\">\n",
       "  <thead>\n",
       "    <tr style=\"text-align: right;\">\n",
       "      <th></th>\n",
       "      <th>CarID</th>\n",
       "      <th>TripID</th>\n",
       "      <th>KmDriven</th>\n",
       "    </tr>\n",
       "  </thead>\n",
       "  <tbody>\n",
       "    <tr>\n",
       "      <th>0</th>\n",
       "      <td>WBY1Z21000V307738</td>\n",
       "      <td>1158</td>\n",
       "      <td>8.304836</td>\n",
       "    </tr>\n",
       "    <tr>\n",
       "      <th>1</th>\n",
       "      <td>WBY1Z21000V307741</td>\n",
       "      <td>1055</td>\n",
       "      <td>8.196209</td>\n",
       "    </tr>\n",
       "    <tr>\n",
       "      <th>2</th>\n",
       "      <td>WBY1Z21000V307755</td>\n",
       "      <td>803</td>\n",
       "      <td>7.948941</td>\n",
       "    </tr>\n",
       "    <tr>\n",
       "      <th>3</th>\n",
       "      <td>WBY1Z21000V307772</td>\n",
       "      <td>993</td>\n",
       "      <td>7.789527</td>\n",
       "    </tr>\n",
       "    <tr>\n",
       "      <th>4</th>\n",
       "      <td>WBY1Z21000V307805</td>\n",
       "      <td>1019</td>\n",
       "      <td>7.760550</td>\n",
       "    </tr>\n",
       "    <tr>\n",
       "      <th>...</th>\n",
       "      <td>...</td>\n",
       "      <td>...</td>\n",
       "      <td>...</td>\n",
       "    </tr>\n",
       "    <tr>\n",
       "      <th>341</th>\n",
       "      <td>WBY1Z6107HV939137</td>\n",
       "      <td>1106</td>\n",
       "      <td>9.199819</td>\n",
       "    </tr>\n",
       "    <tr>\n",
       "      <th>342</th>\n",
       "      <td>WBY1Z6107HV939140</td>\n",
       "      <td>1087</td>\n",
       "      <td>9.454462</td>\n",
       "    </tr>\n",
       "    <tr>\n",
       "      <th>343</th>\n",
       "      <td>WBY1Z6108HV938983</td>\n",
       "      <td>1116</td>\n",
       "      <td>8.849462</td>\n",
       "    </tr>\n",
       "    <tr>\n",
       "      <th>344</th>\n",
       "      <td>WBY1Z6109HV939138</td>\n",
       "      <td>1167</td>\n",
       "      <td>8.588689</td>\n",
       "    </tr>\n",
       "    <tr>\n",
       "      <th>345</th>\n",
       "      <td>WBY1Z6109HV939141</td>\n",
       "      <td>1192</td>\n",
       "      <td>8.552013</td>\n",
       "    </tr>\n",
       "  </tbody>\n",
       "</table>\n",
       "<p>346 rows × 3 columns</p>\n",
       "</div>"
      ],
      "text/plain": [
       "                 CarID  TripID  KmDriven\n",
       "0    WBY1Z21000V307738    1158  8.304836\n",
       "1    WBY1Z21000V307741    1055  8.196209\n",
       "2    WBY1Z21000V307755     803  7.948941\n",
       "3    WBY1Z21000V307772     993  7.789527\n",
       "4    WBY1Z21000V307805    1019  7.760550\n",
       "..                 ...     ...       ...\n",
       "341  WBY1Z6107HV939137    1106  9.199819\n",
       "342  WBY1Z6107HV939140    1087  9.454462\n",
       "343  WBY1Z6108HV938983    1116  8.849462\n",
       "344  WBY1Z6109HV939138    1167  8.588689\n",
       "345  WBY1Z6109HV939141    1192  8.552013\n",
       "\n",
       "[346 rows x 3 columns]"
      ]
     },
     "execution_count": 240,
     "metadata": {},
     "output_type": "execute_result"
    }
   ],
   "source": [
    "sn_processing.groupby('CarID').agg({'TripID':'count','KmDriven':'mean'}).reset_index()"
   ]
  },
  {
   "cell_type": "code",
   "execution_count": null,
   "metadata": {},
   "outputs": [
    {
     "data": {
      "text/html": [
       "<p style=\"font-size:20px; font-family:Consolas;\">Average car usage GreenMobility</p>"
      ],
      "text/plain": [
       "<IPython.core.display.HTML object>"
      ]
     },
     "metadata": {},
     "output_type": "display_data"
    },
    {
     "data": {
      "text/html": [
       "<style type=\"text/css\">\n",
       "</style>\n",
       "<table id=\"T_60527\">\n",
       "  <thead>\n",
       "    <tr>\n",
       "      <th class=\"blank level0\" >&nbsp;</th>\n",
       "      <th id=\"T_60527_level0_col0\" class=\"col_heading level0 col0\" >Average</th>\n",
       "    </tr>\n",
       "  </thead>\n",
       "  <tbody>\n",
       "    <tr>\n",
       "      <th id=\"T_60527_level0_row0\" class=\"row_heading level0 row0\" >TripID</th>\n",
       "      <td id=\"T_60527_row0_col0\" class=\"data row0 col0\" >2.60</td>\n",
       "    </tr>\n",
       "    <tr>\n",
       "      <th id=\"T_60527_level0_row1\" class=\"row_heading level0 row1\" >KmDriven</th>\n",
       "      <td id=\"T_60527_row1_col0\" class=\"data row1 col0\" >18.17</td>\n",
       "    </tr>\n",
       "  </tbody>\n",
       "</table>\n"
      ],
      "text/plain": [
       "<pandas.io.formats.style.Styler at 0x1538bb950>"
      ]
     },
     "execution_count": 254,
     "metadata": {},
     "output_type": "execute_result"
    }
   ],
   "source": [
    "display(HTML('<p style=\"font-size:20px; font-family:Consolas;\">Average car usage GreenMobility</p>'))\n",
    "gm_processing.groupby(['CarID','Date']).agg({'TripID':'count','KmDriven':'sum'}).reset_index().agg({'TripID':'mean','KmDriven':'mean'}).to_frame().rename(columns={0:'Average'}).style.format(\"{:.2f}\")"
   ]
  },
  {
   "cell_type": "code",
   "execution_count": null,
   "metadata": {},
   "outputs": [],
   "source": [
    "alltrips = pd.read_csv('../data/processed/alltrips.csv', low_memory=False)"
   ]
  },
  {
   "cell_type": "code",
   "execution_count": null,
   "metadata": {},
   "outputs": [
    {
     "data": {
      "text/plain": [
       "Index(['vehicleId', 'PersonID', 'LatitudeStart', 'LongitudeStart',\n",
       "       'LatitudeEnd', 'LongitudeEnd', 'StartTime', 'EndTime', 'Age', 'Gender',\n",
       "       'KmDriven', 'FromZoneID', 'ToZoneID', 'TripDurationHours',\n",
       "       'TripDurationMinutes', 'AvgSpeed', 'Month', 'Weekday', 'StartHour',\n",
       "       'HaversineDistance', 'StartTimeUpdated', 'TotalDurationMin',\n",
       "       'TripDistanceKm', 'TotalWalkingTimeMin', 'TotalTransitTimeMin',\n",
       "       'Changes', 'PickupStationProximity', 'DropoffStationProximity',\n",
       "       'CarDurationMin', 'CarDistanceKm', 'source'],\n",
       "      dtype='object')"
      ]
     },
     "execution_count": 259,
     "metadata": {},
     "output_type": "execute_result"
    }
   ],
   "source": [
    "alltrips.columns"
   ]
  },
  {
   "cell_type": "code",
   "execution_count": null,
   "metadata": {},
   "outputs": [
    {
     "name": "stderr",
     "output_type": "stream",
     "text": [
      "/opt/anaconda3/envs/master_thesis/lib/python3.11/site-packages/sklearn/cluster/_kmeans.py:1416: FutureWarning:\n",
      "\n",
      "The default value of `n_init` will change from 10 to 'auto' in 1.4. Set the value of `n_init` explicitly to suppress the warning\n",
      "\n",
      "/opt/anaconda3/envs/master_thesis/lib/python3.11/site-packages/sklearn/cluster/_kmeans.py:1416: FutureWarning:\n",
      "\n",
      "The default value of `n_init` will change from 10 to 'auto' in 1.4. Set the value of `n_init` explicitly to suppress the warning\n",
      "\n",
      "/opt/anaconda3/envs/master_thesis/lib/python3.11/site-packages/sklearn/cluster/_kmeans.py:1416: FutureWarning:\n",
      "\n",
      "The default value of `n_init` will change from 10 to 'auto' in 1.4. Set the value of `n_init` explicitly to suppress the warning\n",
      "\n",
      "/opt/anaconda3/envs/master_thesis/lib/python3.11/site-packages/sklearn/cluster/_kmeans.py:1416: FutureWarning:\n",
      "\n",
      "The default value of `n_init` will change from 10 to 'auto' in 1.4. Set the value of `n_init` explicitly to suppress the warning\n",
      "\n",
      "/opt/anaconda3/envs/master_thesis/lib/python3.11/site-packages/sklearn/cluster/_kmeans.py:1416: FutureWarning:\n",
      "\n",
      "The default value of `n_init` will change from 10 to 'auto' in 1.4. Set the value of `n_init` explicitly to suppress the warning\n",
      "\n",
      "/opt/anaconda3/envs/master_thesis/lib/python3.11/site-packages/sklearn/cluster/_kmeans.py:1416: FutureWarning:\n",
      "\n",
      "The default value of `n_init` will change from 10 to 'auto' in 1.4. Set the value of `n_init` explicitly to suppress the warning\n",
      "\n",
      "/opt/anaconda3/envs/master_thesis/lib/python3.11/site-packages/sklearn/cluster/_kmeans.py:1416: FutureWarning:\n",
      "\n",
      "The default value of `n_init` will change from 10 to 'auto' in 1.4. Set the value of `n_init` explicitly to suppress the warning\n",
      "\n",
      "/opt/anaconda3/envs/master_thesis/lib/python3.11/site-packages/sklearn/cluster/_kmeans.py:1416: FutureWarning:\n",
      "\n",
      "The default value of `n_init` will change from 10 to 'auto' in 1.4. Set the value of `n_init` explicitly to suppress the warning\n",
      "\n",
      "/opt/anaconda3/envs/master_thesis/lib/python3.11/site-packages/sklearn/cluster/_kmeans.py:1416: FutureWarning:\n",
      "\n",
      "The default value of `n_init` will change from 10 to 'auto' in 1.4. Set the value of `n_init` explicitly to suppress the warning\n",
      "\n",
      "/opt/anaconda3/envs/master_thesis/lib/python3.11/site-packages/sklearn/cluster/_kmeans.py:1416: FutureWarning:\n",
      "\n",
      "The default value of `n_init` will change from 10 to 'auto' in 1.4. Set the value of `n_init` explicitly to suppress the warning\n",
      "\n"
     ]
    },
    {
     "data": {
      "image/png": "[encoded data removed]",
      "text/plain": [
       "<Figure size 1000x500 with 1 Axes>"
      ]
     },
     "metadata": {},
     "output_type": "display_data"
    }
   ],
   "source": [
    "alltrips['RowID'] = alltrips.index\n",
    "features = alltrips[['RowID','KmDriven','Age','TripDurationMinutes','HaversineDistance','AvgSpeed']]\n",
    "scaler = StandardScaler()\n",
    "features_scaled = scaler.fit_transform(features)\n",
    "\n",
    "wcss = []\n",
    "\n",
    "for i in range(1, 11):\n",
    "    kmeans = KMeans(n_clusters=i, init='k-means++', random_state=42)\n",
    "    kmeans.fit(features_scaled)\n",
    "    wcss.append(kmeans.inertia_)\n",
    "\n",
    "\n",
    "plt.figure(figsize=(10, 5))\n",
    "sns.lineplot(x=range(1, 11), y=wcss, marker='o', linestyle='-')\n",
    "# sns.scatterplot(x=range(1, 11), y=wcss, palette='coolwarm', s=100)\n",
    "sns.despine()\n",
    "y_min, y_max = plt.ylim()\n",
    "y_lim = (y_min, y_max*0.9)\n",
    "# set xticks font size\n",
    "plt.xticks(fontsize=14)\n",
    "plt.yticks(fontsize=14)\n",
    "\n",
    "# Draw a vertical line at x=3 with custom y limits\n",
    "plt.vlines(x=2, ymin=y_lim[0], ymax=y_lim[1], colors='firebrick', linestyles='--', linewidth=2)\n",
    "\n",
    "# Optionally, you can add annotations to mark the optimal number of clusters\n",
    "plt.text(3, y_max * 0.95, 'Optimal\\nclusters=2', color='black', horizontalalignment='center', fontsize=16)\n",
    "plt.title('Elbow Method')\n",
    "plt.ylabel('WCSS')\n",
    "plt.xlabel('Number of Clusters')\n",
    "plt.grid(False)\n",
    "plt.show()"
   ]
  },
  {
   "cell_type": "code",
   "execution_count": null,
   "metadata": {},
   "outputs": [
    {
     "data": {
      "image/png": "[encoded data removed]",
      "text/plain": [
       "<Figure size 640x480 with 1 Axes>"
      ]
     },
     "metadata": {},
     "output_type": "display_data"
    }
   ],
   "source": [
    "# Plotting code\n",
    "sns.scatterplot(data=alltrips, x='HaversineDistance', y='KmDriven', hue='Cluster',palette='viridis', alpha=0.005)\n",
    "\n",
    "# Rename the legend\n",
    "new_labels = ['Round trips', 'One-way trips']\n",
    "for t,l in zip(plt.gca().get_legend().texts, new_labels): \n",
    "    t.set_text(l)\n",
    "\n",
    "# Display the plot\n",
    "sns.set_style('whitegrid')\n",
    "plt.grid(False)\n",
    "plt.title('KmDriven vs HaversineDistance')\n",
    "plt.show()"
   ]
  },
  {
   "cell_type": "code",
   "execution_count": 11,
   "metadata": {},
   "outputs": [
    {
     "data": {
      "text/html": [
       "<div>\n",
       "<style scoped>\n",
       "    .dataframe tbody tr th:only-of-type {\n",
       "        vertical-align: middle;\n",
       "    }\n",
       "\n",
       "    .dataframe tbody tr th {\n",
       "        vertical-align: top;\n",
       "    }\n",
       "\n",
       "    .dataframe thead th {\n",
       "        text-align: right;\n",
       "    }\n",
       "</style>\n",
       "<table border=\"1\" class=\"dataframe\">\n",
       "  <thead>\n",
       "    <tr style=\"text-align: right;\">\n",
       "      <th></th>\n",
       "      <th>Date</th>\n",
       "      <th>Weekday</th>\n",
       "      <th>TripID</th>\n",
       "    </tr>\n",
       "  </thead>\n",
       "  <tbody>\n",
       "    <tr>\n",
       "      <th>0</th>\n",
       "      <td>2017-07-31</td>\n",
       "      <td>Friday</td>\n",
       "      <td>0</td>\n",
       "    </tr>\n",
       "    <tr>\n",
       "      <th>1</th>\n",
       "      <td>2017-07-31</td>\n",
       "      <td>Monday</td>\n",
       "      <td>15</td>\n",
       "    </tr>\n",
       "    <tr>\n",
       "      <th>2</th>\n",
       "      <td>2017-07-31</td>\n",
       "      <td>Saturday</td>\n",
       "      <td>0</td>\n",
       "    </tr>\n",
       "    <tr>\n",
       "      <th>3</th>\n",
       "      <td>2017-07-31</td>\n",
       "      <td>Sunday</td>\n",
       "      <td>0</td>\n",
       "    </tr>\n",
       "    <tr>\n",
       "      <th>4</th>\n",
       "      <td>2017-07-31</td>\n",
       "      <td>Thursday</td>\n",
       "      <td>0</td>\n",
       "    </tr>\n",
       "    <tr>\n",
       "      <th>...</th>\n",
       "      <td>...</td>\n",
       "      <td>...</td>\n",
       "      <td>...</td>\n",
       "    </tr>\n",
       "    <tr>\n",
       "      <th>1969</th>\n",
       "      <td>2018-05-08</td>\n",
       "      <td>Saturday</td>\n",
       "      <td>0</td>\n",
       "    </tr>\n",
       "    <tr>\n",
       "      <th>1970</th>\n",
       "      <td>2018-05-08</td>\n",
       "      <td>Sunday</td>\n",
       "      <td>0</td>\n",
       "    </tr>\n",
       "    <tr>\n",
       "      <th>1971</th>\n",
       "      <td>2018-05-08</td>\n",
       "      <td>Thursday</td>\n",
       "      <td>0</td>\n",
       "    </tr>\n",
       "    <tr>\n",
       "      <th>1972</th>\n",
       "      <td>2018-05-08</td>\n",
       "      <td>Tuesday</td>\n",
       "      <td>1404</td>\n",
       "    </tr>\n",
       "    <tr>\n",
       "      <th>1973</th>\n",
       "      <td>2018-05-08</td>\n",
       "      <td>Wednesday</td>\n",
       "      <td>0</td>\n",
       "    </tr>\n",
       "  </tbody>\n",
       "</table>\n",
       "<p>1974 rows × 3 columns</p>\n",
       "</div>"
      ],
      "text/plain": [
       "            Date    Weekday  TripID\n",
       "0     2017-07-31     Friday       0\n",
       "1     2017-07-31     Monday      15\n",
       "2     2017-07-31   Saturday       0\n",
       "3     2017-07-31     Sunday       0\n",
       "4     2017-07-31   Thursday       0\n",
       "...          ...        ...     ...\n",
       "1969  2018-05-08   Saturday       0\n",
       "1970  2018-05-08     Sunday       0\n",
       "1971  2018-05-08   Thursday       0\n",
       "1972  2018-05-08    Tuesday    1404\n",
       "1973  2018-05-08  Wednesday       0\n",
       "\n",
       "[1974 rows x 3 columns]"
      ]
     },
     "execution_count": 11,
     "metadata": {},
     "output_type": "execute_result"
    }
   ],
   "source": [
    "sn_processing.groupby(['Date','Weekday'])['TripID'].count().reset_index()\n",
    "    # .groupby(['Weekday','StartHour'])['TripID'].mean().reset_index()\n"
   ]
  }
 ],
 "metadata": {
  "kernelspec": {
   "display_name": "master_thesis",
   "language": "python",
   "name": "python3"
  },
  "language_info": {
   "codemirror_mode": {
    "name": "ipython",
    "version": 3
   },
   "file_extension": ".py",
   "mimetype": "text/x-python",
   "name": "python",
   "nbconvert_exporter": "python",
   "pygments_lexer": "ipython3",
   "version": "3.11.5"
  }
 },
 "nbformat": 4,
 "nbformat_minor": 2
}
