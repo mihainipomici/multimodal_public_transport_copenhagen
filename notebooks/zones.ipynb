{
 "cells": [
  {
   "cell_type": "code",
   "execution_count": 8,
   "metadata": {},
   "outputs": [],
   "source": [
    "import pandas as pd\n",
    "import geopandas as gpd\n",
    "import numpy as np"
   ]
  },
  {
   "cell_type": "code",
   "execution_count": 93,
   "metadata": {},
   "outputs": [],
   "source": [
    "greenmobility = pd.read_csv('../data/raw/GM_preparedData.csv')\n",
    "shapefile = gpd.read_file('../data/processed/cop_area.shp')\n",
    "\n",
    "# Create dictionary of 4 digit Zone ID and Zone Name\n",
    "shapefile['4digitzoneid'] = shapefile['zoneid'].astype(str).str[:4]\n",
    "zones_dict = shapefile.loc[:,['4digitzoneid','zonedescri']].set_index('4digitzoneid').to_dict()['zonedescri']\n",
    "pd.DataFrame.from_dict(zones_dict, orient='index').to_csv('../data/processed/zones_dict.csv')\n"
   ]
  }
 ],
 "metadata": {
  "kernelspec": {
   "display_name": "master_thesis",
   "language": "python",
   "name": "python3"
  },
  "language_info": {
   "codemirror_mode": {
    "name": "ipython",
    "version": 3
   },
   "file_extension": ".py",
   "mimetype": "text/x-python",
   "name": "python",
   "nbconvert_exporter": "python",
   "pygments_lexer": "ipython3",
   "version": "3.11.5"
  }
 },
 "nbformat": 4,
 "nbformat_minor": 2
}
