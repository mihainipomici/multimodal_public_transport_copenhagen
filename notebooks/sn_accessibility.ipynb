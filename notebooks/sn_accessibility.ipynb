{
 "cells": [
  {
   "cell_type": "code",
   "execution_count": null,
   "metadata": {},
   "outputs": [],
   "source": [
    "import matplotlib.pyplot as plt\n",
    "import seaborn as sns\n",
    "import pandas as pd\n",
    "import numpy as np\n",
    "import pandas as pd\n",
    "import numpy as np\n",
    "import matplotlib.pyplot as plt\n",
    "import seaborn as sns\n",
    "import geopandas as gpd\n",
    "from sklearn.cluster import DBSCAN\n",
    "# from haversine import haversine as hs\n",
    "import requests\n",
    "%matplotlib inline\n",
    "# from pydantic_settings import BaseSettings\n",
    "#from ydata_profiling import ProfileReport\n",
    "\n",
    "import sys\n",
    "import os\n",
    "sys.path.append('../utils/')\n",
    "#sys.path.append('..\\\\utils\\\\')\n",
    "from functions import *"
   ]
  },
  {
   "cell_type": "code",
   "execution_count": null,
   "metadata": {},
   "outputs": [],
   "source": [
    "short_trips = pd.read_csv(\"../data/processed/sn_shorttrips_accessibility.csv\", parse_dates=[\"ReservationTime\", \"StartTime\", \"EndTime\", 'StartTimeUpdated'])\n",
    "short_trips.head()"
   ]
  },
  {
   "cell_type": "code",
   "execution_count": null,
   "metadata": {},
   "outputs": [],
   "source": [
    "# Assuming df is your dataframe and it contains 'Weekday' and 'StartDate' columns\n",
    "# You would use the function as follows:\n",
    "#short_trips.loc[:, 'StartTimeUpdated'] = update_start_date_vectorized(short_trips['Weekday'], short_trips['StartTime'])"
   ]
  },
  {
   "cell_type": "code",
   "execution_count": null,
   "metadata": {},
   "outputs": [],
   "source": [
    "#main_concurrent_sn(short_trips, num_itineraries=3)"
   ]
  },
  {
   "cell_type": "code",
   "execution_count": null,
   "metadata": {},
   "outputs": [],
   "source": [
    "short_trips.head()"
   ]
  },
  {
   "cell_type": "code",
   "execution_count": null,
   "metadata": {},
   "outputs": [],
   "source": [
    "# see the descriptive statistics of the last 7 columns\n",
    "short_trips.iloc[:, -7:].describe()"
   ]
  },
  {
   "cell_type": "code",
   "execution_count": null,
   "metadata": {},
   "outputs": [],
   "source": [
    "# check for nan values in the last 7 columns\n",
    "short_trips.iloc[:, -7:].isna().sum()"
   ]
  },
  {
   "cell_type": "code",
   "execution_count": null,
   "metadata": {},
   "outputs": [],
   "source": [
    "# save short_trips to csv\n",
    "#short_trips.to_csv(\"../data/processed/sn_shorttrips_accessibility.csv\", index=False)"
   ]
  },
  {
   "cell_type": "code",
   "execution_count": null,
   "metadata": {},
   "outputs": [],
   "source": [
    "# see row 299002\n",
    "short_trips.iloc[308945, :]"
   ]
  },
  {
   "cell_type": "code",
   "execution_count": null,
   "metadata": {},
   "outputs": [],
   "source": [
    "def fetch_and_process_itinerary(response):\n",
    "    try:\n",
    "        # Extract itineraries and find the fastest one\n",
    "        itineraries = response['plan']['itineraries']\n",
    "        fastest_itinerary = min(itineraries, key=lambda x: x['duration'])\n",
    "        \n",
    "        \n",
    "        total_distance = sum(leg['distance'] for leg in fastest_itinerary['legs']) / 1000\n",
    "        \n",
    "        \n",
    "\n",
    "     \n",
    "\n",
    "        # Construct the details dictionary\n",
    "        details = {\n",
    "            \"CarDurationMin\": fastest_itinerary['duration'] / 60.0,\n",
    "            \"CarDistanceKm\": total_distance,\n",
    "        }\n",
    "        return details\n",
    "    except KeyError as e:\n",
    "        print(f\"Error processing itinerary: {e}\")\n",
    "        # Return NaN values if there's an error in the response format\n",
    "        return {\n",
    "            \"TotalDurationMin\": np.nan,\n",
    "            \"TripDistanceKm\": np.nan,\n",
    "        }\n",
    "    \n",
    "\n",
    "# Example usage:\n",
    "# Assuming `result` is the JSON response parsed into a dictionary\n",
    "fastest_itinerary = fetch_and_process_itinerary(result)\n",
    "fastest_itinerary\n"
   ]
  },
  {
   "cell_type": "code",
   "execution_count": null,
   "metadata": {},
   "outputs": [],
   "source": [
    "from concurrent.futures import ThreadPoolExecutor, as_completed\n",
    "# function to get the fastest itinerary\n",
    "# function to get the fastest itinerary\n",
    "def fetch_and_process_fastest_itinerary(response):\n",
    "    \"\"\"\n",
    "    Fetches and processes the fastest itinerary from the response.\n",
    "\n",
    "    Args:\n",
    "        response (dict): The response containing itinerary information.\n",
    "\n",
    "    Returns:\n",
    "        dict: A dictionary containing the processed details of the fastest itinerary.\n",
    "            The dictionary has the following keys:\n",
    "            - \"TotalDurationMin\": The total duration of the itinerary in minutes.\n",
    "            - \"TripDistanceKm\": The total distance of the itinerary in kilometers.\n",
    "            - \"TotalWalkingTimeMin\": The total walking time of the itinerary in minutes.\n",
    "            - \"TotalTransitTimeMin\": The total transit time of the itinerary in minutes.\n",
    "            - \"Changes\": The number of mode changes in the itinerary.\n",
    "            - \"PickupStationProximity\": The distance to the pickup station in meters, or 0 if not available.\n",
    "            - \"DropoffStationProximity\": The distance to the dropoff station in meters, or 0 if not available.\n",
    "    \"\"\"\n",
    "    try:\n",
    "        # Extract itineraries and find the fastest one\n",
    "        itineraries = response['plan']['itineraries']\n",
    "        fastest_itinerary = min(itineraries, key=lambda x: x['duration'])\n",
    "        \n",
    "        \n",
    "        total_distance = sum(leg['distance'] for leg in fastest_itinerary['legs']) / 1000\n",
    "        \n",
    "        \n",
    "\n",
    "     \n",
    "\n",
    "        # Construct the details dictionary\n",
    "        details = {\n",
    "            \"CarDurationMin\": fastest_itinerary['duration'] / 60.0,\n",
    "            \"CarDistanceKm\": total_distance,\n",
    "        }\n",
    "        return details\n",
    "    except KeyError as e:\n",
    "        print(f\"Error processing itinerary: {e}\")\n",
    "        # Return NaN values if there's an error in the response format\n",
    "        return {\n",
    "            \"CarDurationMin\": np.nan,\n",
    "            \"CarDistanceKm\": np.nan,\n",
    "        }\n",
    "    \n",
    "\n",
    "\n",
    "\n",
    "# This function is a wrapper around the 'fetch_and_process_fastest_itinerary' for concurrent processing\n",
    "def fetch_and_process_itinerary_concurrent(start_lat, start_lon, end_lat, end_lon, start_time, mode, num_itineraries):\n",
    "    response = get_top_itineraries(start_lat, start_lon, end_lat, end_lon, start_time, mode=mode, num_itineraries=num_itineraries)\n",
    "    return fetch_and_process_fastest_itinerary(response)\n",
    "\n",
    "# The main function to process the DataFrame concurrently and update the results\n",
    "def main_concurrent_sn(df, num_itineraries, mode):\n",
    "    \"\"\"\n",
    "    Process itineraries concurrently using a thread pool executor.\n",
    "\n",
    "    Args:\n",
    "        df (pandas.DataFrame): The input DataFrame containing itinerary data.\n",
    "        num_itineraries (int): The number of itineraries to fetch and process for each row.\n",
    "\n",
    "    Returns:\n",
    "        None\n",
    "    \"\"\"\n",
    "    # Temporary dictionary to hold the results\n",
    "    results = {}\n",
    "    with ThreadPoolExecutor(max_workers=50) as executor:\n",
    "        # Prepare and submit all futures\n",
    "        futures_to_index = {\n",
    "            executor.submit(\n",
    "                fetch_and_process_itinerary_concurrent,\n",
    "                row['LatitudeStart'], row['LongitudeStart'],\n",
    "                row['LatitudeEnd'], row['LongitudeEnd'],\n",
    "                row['StartTimeUpdated'], mode,\n",
    "                num_itineraries\n",
    "            ): index for index, row in df.iterrows()\n",
    "        }\n",
    "        \n",
    "        # Process futures as they complete and show progress\n",
    "        for future in tqdm(as_completed(futures_to_index), total=len(futures_to_index), desc=\"Processing itineraries\"):\n",
    "            index = futures_to_index[future]\n",
    "            try:\n",
    "                results[index] = future.result()\n",
    "            except Exception as exc:\n",
    "                print(f'Row {index} generated an exception: {exc}')\n",
    "                results[index] = {\n",
    "                    \"CarDurationMin\": np.nan,\n",
    "                    \"CarDistanceKm\": np.nan,\n",
    "                }\n",
    "    \n",
    "    # Update the DataFrame outside the thread pool\n",
    "    for index, data in results.items():\n",
    "        for key, value in data.items():\n",
    "            df.at[index, key] = value"
   ]
  },
  {
   "cell_type": "code",
   "execution_count": null,
   "metadata": {},
   "outputs": [],
   "source": [
    "#main_concurrent_sn(short_trips, num_itineraries=2, mode = \"CAR_PICKUP\")"
   ]
  },
  {
   "cell_type": "code",
   "execution_count": null,
   "metadata": {},
   "outputs": [],
   "source": [
    "# see all the columns with pd\n",
    "pd.set_option('display.max_columns', None)\n",
    "short_trips.head()"
   ]
  },
  {
   "cell_type": "code",
   "execution_count": null,
   "metadata": {},
   "outputs": [],
   "source": [
    "# drop CarDurationMin\n",
    "short_trips = short_trips.drop(columns=[\"CarDurationMin\"])\n",
    "\n",
    "# rename CaarDurationMin to CarDurationMin\n",
    "short_trips = short_trips.rename(columns={\"CaarDurationMin\": \"CarDurationMin\"})"
   ]
  },
  {
   "cell_type": "code",
   "execution_count": null,
   "metadata": {},
   "outputs": [],
   "source": [
    "short_trips.head()"
   ]
  },
  {
   "cell_type": "code",
   "execution_count": null,
   "metadata": {},
   "outputs": [],
   "source": [
    "short_trips.CarDistanceKm.isna().sum()"
   ]
  },
  {
   "cell_type": "code",
   "execution_count": null,
   "metadata": {},
   "outputs": [],
   "source": [
    "# return the descriptive statistics of HaversineDistance for the rows where CarDistanceKm is null\n",
    "short_trips.loc[short_trips.CarDistanceKm.isna(), 'HaversineDistance'].describe()"
   ]
  },
  {
   "cell_type": "code",
   "execution_count": null,
   "metadata": {},
   "outputs": [],
   "source": [
    "# plot the KmDriven against CarDistanceKm\n",
    "# set figure size\n",
    "plt.figure(figsize=(10, 8))\n",
    "sns.scatterplot(data=short_trips, x=\"HaversineDistance\", y=\"CarDistanceKm\", alpha=0.9)\n",
    "plt.title(\"KmDriven vs CarDistanceKm\")\n",
    "sns.despine()\n",
    "plt.show()"
   ]
  },
  {
   "cell_type": "code",
   "execution_count": null,
   "metadata": {},
   "outputs": [],
   "source": [
    "# save short_trips to csv\n",
    "#short_trips.to_csv(\"../data/processed/sn_shtrips_access_complete.csv\", index=False)\n"
   ]
  },
  {
   "cell_type": "code",
   "execution_count": null,
   "metadata": {},
   "outputs": [],
   "source": []
  }
 ],
 "metadata": {
  "kernelspec": {
   "display_name": "thesis",
   "language": "python",
   "name": "python3"
  },
  "language_info": {
   "codemirror_mode": {
    "name": "ipython",
    "version": 3
   },
   "file_extension": ".py",
   "mimetype": "text/x-python",
   "name": "python",
   "nbconvert_exporter": "python",
   "pygments_lexer": "ipython3",
   "version": "3.11.5"
  }
 },
 "nbformat": 4,
 "nbformat_minor": 2
}
