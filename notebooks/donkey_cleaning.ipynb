{
 "cells": [
  {
   "cell_type": "code",
   "execution_count": 304,
   "metadata": {},
   "outputs": [],
   "source": [
    "# imports \n",
    "import pandas as pd\n",
    "import numpy as np\n",
    "import matplotlib.pyplot as plt\n",
    "import seaborn as sns\n",
    "import os\n",
    "import re\n",
    "import datetime\n",
    "# see all columns\n",
    "pd.set_option('display.max_columns', None)\n",
    "# see all rows\n",
    "pd.set_option('display.max_rows', None)\n",
    "# set seaborn style\n",
    "sns.set_style('whitegrid')\n",
    "# set context to notebook\n",
    "sns.set_context('notebook')\n"
   ]
  },
  {
   "cell_type": "code",
   "execution_count": 305,
   "metadata": {},
   "outputs": [],
   "source": [
    "# import data\n",
    "\n",
    "# set path\n",
    "path = '../data/raw/DonkeyRepublic/'\n",
    "\n",
    "hubs = pd.read_excel(path + 'Hubs_2019-4-2_1201.xlsx', parse_dates=['created_at'])\n",
    "rentals = pd.read_excel(path + 'Rentals_2019-4-2_1456.xlsx', parse_dates=['created_at', 'finished_at'])"
   ]
  },
  {
   "cell_type": "code",
   "execution_count": 306,
   "metadata": {},
   "outputs": [
    {
     "data": {
      "text/html": [
       "<div>\n",
       "<style scoped>\n",
       "    .dataframe tbody tr th:only-of-type {\n",
       "        vertical-align: middle;\n",
       "    }\n",
       "\n",
       "    .dataframe tbody tr th {\n",
       "        vertical-align: top;\n",
       "    }\n",
       "\n",
       "    .dataframe thead th {\n",
       "        text-align: right;\n",
       "    }\n",
       "</style>\n",
       "<table border=\"1\" class=\"dataframe\">\n",
       "  <thead>\n",
       "    <tr style=\"text-align: right;\">\n",
       "      <th></th>\n",
       "      <th>created_at</th>\n",
       "      <th>latitude</th>\n",
       "      <th>longitude</th>\n",
       "      <th>id</th>\n",
       "      <th>name</th>\n",
       "      <th>deleted_at</th>\n",
       "    </tr>\n",
       "  </thead>\n",
       "  <tbody>\n",
       "    <tr>\n",
       "      <th>0</th>\n",
       "      <td>2018-05-21 09:35:00.697175</td>\n",
       "      <td>48.864936</td>\n",
       "      <td>2.310624</td>\n",
       "      <td>3268</td>\n",
       "      <td>Cours la Reine</td>\n",
       "      <td>2018-05-21 16:17:24.722283</td>\n",
       "    </tr>\n",
       "    <tr>\n",
       "      <th>1</th>\n",
       "      <td>2018-11-26 09:06:05.590590</td>\n",
       "      <td>55.695252</td>\n",
       "      <td>12.547185</td>\n",
       "      <td>6367</td>\n",
       "      <td>Heinesgade</td>\n",
       "      <td>NaN</td>\n",
       "    </tr>\n",
       "    <tr>\n",
       "      <th>2</th>\n",
       "      <td>2018-06-05 12:12:28.639837</td>\n",
       "      <td>55.676916</td>\n",
       "      <td>12.564896</td>\n",
       "      <td>3642</td>\n",
       "      <td>Concert Hall Pumpehuset</td>\n",
       "      <td>2018-11-15 10:45:34.468962</td>\n",
       "    </tr>\n",
       "    <tr>\n",
       "      <th>3</th>\n",
       "      <td>2018-05-28 20:07:34.173984</td>\n",
       "      <td>55.668700</td>\n",
       "      <td>12.551114</td>\n",
       "      <td>3526</td>\n",
       "      <td>Saxogade</td>\n",
       "      <td>NaN</td>\n",
       "    </tr>\n",
       "    <tr>\n",
       "      <th>4</th>\n",
       "      <td>2018-11-08 09:36:50.440822</td>\n",
       "      <td>55.699557</td>\n",
       "      <td>12.515065</td>\n",
       "      <td>6233</td>\n",
       "      <td>GrÃ¸ndal Multicenter</td>\n",
       "      <td>NaN</td>\n",
       "    </tr>\n",
       "  </tbody>\n",
       "</table>\n",
       "</div>"
      ],
      "text/plain": [
       "                  created_at   latitude  longitude    id  \\\n",
       "0 2018-05-21 09:35:00.697175  48.864936   2.310624  3268   \n",
       "1 2018-11-26 09:06:05.590590  55.695252  12.547185  6367   \n",
       "2 2018-06-05 12:12:28.639837  55.676916  12.564896  3642   \n",
       "3 2018-05-28 20:07:34.173984  55.668700  12.551114  3526   \n",
       "4 2018-11-08 09:36:50.440822  55.699557  12.515065  6233   \n",
       "\n",
       "                      name                  deleted_at  \n",
       "0           Cours la Reine  2018-05-21 16:17:24.722283  \n",
       "1               Heinesgade                         NaN  \n",
       "2  Concert Hall Pumpehuset  2018-11-15 10:45:34.468962  \n",
       "3                 Saxogade                         NaN  \n",
       "4     GrÃ¸ndal Multicenter                         NaN  "
      ]
     },
     "execution_count": 306,
     "metadata": {},
     "output_type": "execute_result"
    }
   ],
   "source": [
    "# check data\n",
    "hubs.head()\n"
   ]
  },
  {
   "cell_type": "code",
   "execution_count": 307,
   "metadata": {},
   "outputs": [
    {
     "name": "stdout",
     "output_type": "stream",
     "text": [
      "<class 'pandas.core.frame.DataFrame'>\n",
      "RangeIndex: 1266 entries, 0 to 1265\n",
      "Data columns (total 6 columns):\n",
      " #   Column      Non-Null Count  Dtype         \n",
      "---  ------      --------------  -----         \n",
      " 0   created_at  1266 non-null   datetime64[ns]\n",
      " 1   latitude    1266 non-null   float64       \n",
      " 2   longitude   1266 non-null   float64       \n",
      " 3   id          1266 non-null   int64         \n",
      " 4   name        1266 non-null   object        \n",
      " 5   deleted_at  119 non-null    object        \n",
      "dtypes: datetime64[ns](1), float64(2), int64(1), object(2)\n",
      "memory usage: 59.5+ KB\n"
     ]
    }
   ],
   "source": [
    "hubs.info()"
   ]
  },
  {
   "cell_type": "code",
   "execution_count": 308,
   "metadata": {},
   "outputs": [],
   "source": [
    "# remove deleted_at column\n",
    "hubs.drop('deleted_at', axis=1, inplace=True)"
   ]
  },
  {
   "cell_type": "code",
   "execution_count": 309,
   "metadata": {},
   "outputs": [
    {
     "name": "stdout",
     "output_type": "stream",
     "text": [
      "<class 'pandas.core.frame.DataFrame'>\n",
      "RangeIndex: 1266 entries, 0 to 1265\n",
      "Data columns (total 5 columns):\n",
      " #   Column      Non-Null Count  Dtype         \n",
      "---  ------      --------------  -----         \n",
      " 0   created_at  1266 non-null   datetime64[ns]\n",
      " 1   latitude    1266 non-null   float64       \n",
      " 2   longitude   1266 non-null   float64       \n",
      " 3   id          1266 non-null   int64         \n",
      " 4   name        1266 non-null   object        \n",
      "dtypes: datetime64[ns](1), float64(2), int64(1), object(1)\n",
      "memory usage: 49.6+ KB\n"
     ]
    }
   ],
   "source": [
    "hubs.info()"
   ]
  },
  {
   "cell_type": "code",
   "execution_count": 310,
   "metadata": {},
   "outputs": [
    {
     "data": {
      "text/html": [
       "<div>\n",
       "<style scoped>\n",
       "    .dataframe tbody tr th:only-of-type {\n",
       "        vertical-align: middle;\n",
       "    }\n",
       "\n",
       "    .dataframe tbody tr th {\n",
       "        vertical-align: top;\n",
       "    }\n",
       "\n",
       "    .dataframe thead th {\n",
       "        text-align: right;\n",
       "    }\n",
       "</style>\n",
       "<table border=\"1\" class=\"dataframe\">\n",
       "  <thead>\n",
       "    <tr style=\"text-align: right;\">\n",
       "      <th></th>\n",
       "      <th>created_at</th>\n",
       "      <th>finished_at</th>\n",
       "      <th>pickup_hub_id</th>\n",
       "      <th>dropoff_hub_id</th>\n",
       "      <th>user_id</th>\n",
       "    </tr>\n",
       "  </thead>\n",
       "  <tbody>\n",
       "    <tr>\n",
       "      <th>0</th>\n",
       "      <td>2018-03-01 17:43:14.707445</td>\n",
       "      <td>2018-03-01 18:14:12.145</td>\n",
       "      <td>2163</td>\n",
       "      <td>2449.0</td>\n",
       "      <td>108186</td>\n",
       "    </tr>\n",
       "    <tr>\n",
       "      <th>1</th>\n",
       "      <td>2018-03-02 09:55:18.823405</td>\n",
       "      <td>2018-03-02 16:56:35.013</td>\n",
       "      <td>2381</td>\n",
       "      <td>2381.0</td>\n",
       "      <td>113852</td>\n",
       "    </tr>\n",
       "    <tr>\n",
       "      <th>2</th>\n",
       "      <td>2018-03-02 14:00:10.755516</td>\n",
       "      <td>2018-03-02 17:13:08.047</td>\n",
       "      <td>1513</td>\n",
       "      <td>1513.0</td>\n",
       "      <td>113912</td>\n",
       "    </tr>\n",
       "    <tr>\n",
       "      <th>3</th>\n",
       "      <td>2018-03-01 10:25:34.429934</td>\n",
       "      <td>2018-03-02 20:23:46.544</td>\n",
       "      <td>2337</td>\n",
       "      <td>2337.0</td>\n",
       "      <td>113822</td>\n",
       "    </tr>\n",
       "    <tr>\n",
       "      <th>4</th>\n",
       "      <td>2018-03-02 08:51:47.459257</td>\n",
       "      <td>2018-03-02 21:18:48.813</td>\n",
       "      <td>2153</td>\n",
       "      <td>233.0</td>\n",
       "      <td>113881</td>\n",
       "    </tr>\n",
       "  </tbody>\n",
       "</table>\n",
       "</div>"
      ],
      "text/plain": [
       "                   created_at              finished_at  pickup_hub_id  \\\n",
       "0  2018-03-01 17:43:14.707445  2018-03-01 18:14:12.145           2163   \n",
       "1  2018-03-02 09:55:18.823405  2018-03-02 16:56:35.013           2381   \n",
       "2  2018-03-02 14:00:10.755516  2018-03-02 17:13:08.047           1513   \n",
       "3  2018-03-01 10:25:34.429934  2018-03-02 20:23:46.544           2337   \n",
       "4  2018-03-02 08:51:47.459257  2018-03-02 21:18:48.813           2153   \n",
       "\n",
       "   dropoff_hub_id  user_id  \n",
       "0          2449.0   108186  \n",
       "1          2381.0   113852  \n",
       "2          1513.0   113912  \n",
       "3          2337.0   113822  \n",
       "4           233.0   113881  "
      ]
     },
     "execution_count": 310,
     "metadata": {},
     "output_type": "execute_result"
    }
   ],
   "source": [
    "rentals.head()"
   ]
  },
  {
   "cell_type": "code",
   "execution_count": 311,
   "metadata": {},
   "outputs": [
    {
     "name": "stdout",
     "output_type": "stream",
     "text": [
      "<class 'pandas.core.frame.DataFrame'>\n",
      "RangeIndex: 279860 entries, 0 to 279859\n",
      "Data columns (total 5 columns):\n",
      " #   Column          Non-Null Count   Dtype  \n",
      "---  ------          --------------   -----  \n",
      " 0   created_at      279860 non-null  object \n",
      " 1   finished_at     279408 non-null  object \n",
      " 2   pickup_hub_id   279860 non-null  int64  \n",
      " 3   dropoff_hub_id  261293 non-null  float64\n",
      " 4   user_id         279860 non-null  int64  \n",
      "dtypes: float64(1), int64(2), object(2)\n",
      "memory usage: 10.7+ MB\n"
     ]
    }
   ],
   "source": [
    "rentals.info()"
   ]
  },
  {
   "cell_type": "code",
   "execution_count": 312,
   "metadata": {},
   "outputs": [
    {
     "name": "stdout",
     "output_type": "stream",
     "text": [
      "Hubs id unique values:  1266\n",
      "Pickup hub id unique values:  1244\n",
      "Dropoff hub id unique values:  1227\n"
     ]
    }
   ],
   "source": [
    "# print unique values for id in hubs and for pickup_hub_id and dropoff_hub_id in rentals\n",
    "print('Hubs id unique values: ', hubs.id.nunique())\n",
    "print('Pickup hub id unique values: ', rentals.pickup_hub_id.nunique())\n",
    "print('Dropoff hub id unique values: ', rentals.dropoff_hub_id.nunique())"
   ]
  },
  {
   "cell_type": "code",
   "execution_count": 313,
   "metadata": {},
   "outputs": [
    {
     "name": "stdout",
     "output_type": "stream",
     "text": [
      "Nr of nan values in dropoff_hub_id:  18567\n"
     ]
    }
   ],
   "source": [
    "# count nr of nan values in dropoff_hub_id\n",
    "print('Nr of nan values in dropoff_hub_id: ', rentals.dropoff_hub_id.isna().sum())"
   ]
  },
  {
   "cell_type": "code",
   "execution_count": 314,
   "metadata": {},
   "outputs": [
    {
     "data": {
      "text/html": [
       "<div>\n",
       "<style scoped>\n",
       "    .dataframe tbody tr th:only-of-type {\n",
       "        vertical-align: middle;\n",
       "    }\n",
       "\n",
       "    .dataframe tbody tr th {\n",
       "        vertical-align: top;\n",
       "    }\n",
       "\n",
       "    .dataframe thead th {\n",
       "        text-align: right;\n",
       "    }\n",
       "</style>\n",
       "<table border=\"1\" class=\"dataframe\">\n",
       "  <thead>\n",
       "    <tr style=\"text-align: right;\">\n",
       "      <th></th>\n",
       "      <th>created_at</th>\n",
       "      <th>finished_at</th>\n",
       "      <th>pickup_hub_id</th>\n",
       "      <th>dropoff_hub_id</th>\n",
       "      <th>user_id</th>\n",
       "    </tr>\n",
       "  </thead>\n",
       "  <tbody>\n",
       "    <tr>\n",
       "      <th>24</th>\n",
       "      <td>2018-03-03 11:50:26.336953</td>\n",
       "      <td>2018-03-05 09:54:43.594933</td>\n",
       "      <td>2251</td>\n",
       "      <td>NaN</td>\n",
       "      <td>113998</td>\n",
       "    </tr>\n",
       "    <tr>\n",
       "      <th>47</th>\n",
       "      <td>2018-03-07 15:07:37.999381</td>\n",
       "      <td>2018-03-08 09:14:28.575214</td>\n",
       "      <td>2281</td>\n",
       "      <td>NaN</td>\n",
       "      <td>114435</td>\n",
       "    </tr>\n",
       "    <tr>\n",
       "      <th>62</th>\n",
       "      <td>2018-03-10 11:00:33.847099</td>\n",
       "      <td>2018-03-10 13:54:22.669873</td>\n",
       "      <td>2227</td>\n",
       "      <td>NaN</td>\n",
       "      <td>27688</td>\n",
       "    </tr>\n",
       "    <tr>\n",
       "      <th>118</th>\n",
       "      <td>2018-03-09 15:30:12.161583</td>\n",
       "      <td>2018-03-12 10:00:32.844345</td>\n",
       "      <td>152</td>\n",
       "      <td>NaN</td>\n",
       "      <td>16</td>\n",
       "    </tr>\n",
       "    <tr>\n",
       "      <th>132</th>\n",
       "      <td>2018-03-12 10:18:23.874653</td>\n",
       "      <td>2018-03-12 15:45:00.200976</td>\n",
       "      <td>2337</td>\n",
       "      <td>NaN</td>\n",
       "      <td>115368</td>\n",
       "    </tr>\n",
       "  </tbody>\n",
       "</table>\n",
       "</div>"
      ],
      "text/plain": [
       "                     created_at                 finished_at  pickup_hub_id  \\\n",
       "24   2018-03-03 11:50:26.336953  2018-03-05 09:54:43.594933           2251   \n",
       "47   2018-03-07 15:07:37.999381  2018-03-08 09:14:28.575214           2281   \n",
       "62   2018-03-10 11:00:33.847099  2018-03-10 13:54:22.669873           2227   \n",
       "118  2018-03-09 15:30:12.161583  2018-03-12 10:00:32.844345            152   \n",
       "132  2018-03-12 10:18:23.874653  2018-03-12 15:45:00.200976           2337   \n",
       "\n",
       "     dropoff_hub_id  user_id  \n",
       "24              NaN   113998  \n",
       "47              NaN   114435  \n",
       "62              NaN    27688  \n",
       "118             NaN       16  \n",
       "132             NaN   115368  "
      ]
     },
     "execution_count": 314,
     "metadata": {},
     "output_type": "execute_result"
    }
   ],
   "source": [
    "# print dataframe head for rentals with nan values in dropoff_hub_id\n",
    "rentals[rentals.dropoff_hub_id.isna()].head()"
   ]
  },
  {
   "cell_type": "code",
   "execution_count": 315,
   "metadata": {},
   "outputs": [
    {
     "name": "stdout",
     "output_type": "stream",
     "text": [
      "Proportion of nan values in dropoff_hub_id:  0.0663438862288287\n"
     ]
    }
   ],
   "source": [
    "# see the proportion of nan values in dropoff_hub_id\n",
    "print('Proportion of nan values in dropoff_hub_id: ', rentals.dropoff_hub_id.isna().sum() / len(rentals))"
   ]
  },
  {
   "cell_type": "code",
   "execution_count": 316,
   "metadata": {},
   "outputs": [],
   "source": [
    "# drop rows with nan values in rentals\n",
    "\n",
    "rentals.dropna(inplace=True)"
   ]
  },
  {
   "cell_type": "code",
   "execution_count": 317,
   "metadata": {},
   "outputs": [
    {
     "name": "stdout",
     "output_type": "stream",
     "text": [
      "<class 'pandas.core.frame.DataFrame'>\n",
      "Index: 261189 entries, 0 to 279859\n",
      "Data columns (total 5 columns):\n",
      " #   Column          Non-Null Count   Dtype  \n",
      "---  ------          --------------   -----  \n",
      " 0   created_at      261189 non-null  object \n",
      " 1   finished_at     261189 non-null  object \n",
      " 2   pickup_hub_id   261189 non-null  int64  \n",
      " 3   dropoff_hub_id  261189 non-null  float64\n",
      " 4   user_id         261189 non-null  int64  \n",
      "dtypes: float64(1), int64(2), object(2)\n",
      "memory usage: 12.0+ MB\n"
     ]
    }
   ],
   "source": [
    "rentals.info()"
   ]
  },
  {
   "cell_type": "code",
   "execution_count": 318,
   "metadata": {},
   "outputs": [
    {
     "name": "stdout",
     "output_type": "stream",
     "text": [
      "Rentals time interval:  2018-03-01 08:12:40.421178 2019-04-02 12:39:57.98495\n"
     ]
    }
   ],
   "source": [
    "# see rentals time interval\n",
    "print('Rentals time interval: ', rentals.created_at.min(), rentals.created_at.max())"
   ]
  },
  {
   "cell_type": "code",
   "execution_count": 319,
   "metadata": {},
   "outputs": [
    {
     "data": {
      "text/html": [
       "<div>\n",
       "<style scoped>\n",
       "    .dataframe tbody tr th:only-of-type {\n",
       "        vertical-align: middle;\n",
       "    }\n",
       "\n",
       "    .dataframe tbody tr th {\n",
       "        vertical-align: top;\n",
       "    }\n",
       "\n",
       "    .dataframe thead th {\n",
       "        text-align: right;\n",
       "    }\n",
       "</style>\n",
       "<table border=\"1\" class=\"dataframe\">\n",
       "  <thead>\n",
       "    <tr style=\"text-align: right;\">\n",
       "      <th></th>\n",
       "      <th>created_at</th>\n",
       "      <th>latitude</th>\n",
       "      <th>longitude</th>\n",
       "      <th>id</th>\n",
       "      <th>name</th>\n",
       "    </tr>\n",
       "  </thead>\n",
       "  <tbody>\n",
       "    <tr>\n",
       "      <th>0</th>\n",
       "      <td>2018-05-21 09:35:00.697175</td>\n",
       "      <td>48.864936</td>\n",
       "      <td>2.310624</td>\n",
       "      <td>3268</td>\n",
       "      <td>Cours la Reine</td>\n",
       "    </tr>\n",
       "    <tr>\n",
       "      <th>1</th>\n",
       "      <td>2018-11-26 09:06:05.590590</td>\n",
       "      <td>55.695252</td>\n",
       "      <td>12.547185</td>\n",
       "      <td>6367</td>\n",
       "      <td>Heinesgade</td>\n",
       "    </tr>\n",
       "    <tr>\n",
       "      <th>2</th>\n",
       "      <td>2018-06-05 12:12:28.639837</td>\n",
       "      <td>55.676916</td>\n",
       "      <td>12.564896</td>\n",
       "      <td>3642</td>\n",
       "      <td>Concert Hall Pumpehuset</td>\n",
       "    </tr>\n",
       "    <tr>\n",
       "      <th>3</th>\n",
       "      <td>2018-05-28 20:07:34.173984</td>\n",
       "      <td>55.668700</td>\n",
       "      <td>12.551114</td>\n",
       "      <td>3526</td>\n",
       "      <td>Saxogade</td>\n",
       "    </tr>\n",
       "    <tr>\n",
       "      <th>4</th>\n",
       "      <td>2018-11-08 09:36:50.440822</td>\n",
       "      <td>55.699557</td>\n",
       "      <td>12.515065</td>\n",
       "      <td>6233</td>\n",
       "      <td>GrÃ¸ndal Multicenter</td>\n",
       "    </tr>\n",
       "  </tbody>\n",
       "</table>\n",
       "</div>"
      ],
      "text/plain": [
       "                  created_at   latitude  longitude    id  \\\n",
       "0 2018-05-21 09:35:00.697175  48.864936   2.310624  3268   \n",
       "1 2018-11-26 09:06:05.590590  55.695252  12.547185  6367   \n",
       "2 2018-06-05 12:12:28.639837  55.676916  12.564896  3642   \n",
       "3 2018-05-28 20:07:34.173984  55.668700  12.551114  3526   \n",
       "4 2018-11-08 09:36:50.440822  55.699557  12.515065  6233   \n",
       "\n",
       "                      name  \n",
       "0           Cours la Reine  \n",
       "1               Heinesgade  \n",
       "2  Concert Hall Pumpehuset  \n",
       "3                 Saxogade  \n",
       "4     GrÃ¸ndal Multicenter  "
      ]
     },
     "execution_count": 319,
     "metadata": {},
     "output_type": "execute_result"
    }
   ],
   "source": [
    "hubs.head()"
   ]
  },
  {
   "cell_type": "code",
   "execution_count": 320,
   "metadata": {},
   "outputs": [
    {
     "data": {
      "text/html": [
       "<div>\n",
       "<style scoped>\n",
       "    .dataframe tbody tr th:only-of-type {\n",
       "        vertical-align: middle;\n",
       "    }\n",
       "\n",
       "    .dataframe tbody tr th {\n",
       "        vertical-align: top;\n",
       "    }\n",
       "\n",
       "    .dataframe thead th {\n",
       "        text-align: right;\n",
       "    }\n",
       "</style>\n",
       "<table border=\"1\" class=\"dataframe\">\n",
       "  <thead>\n",
       "    <tr style=\"text-align: right;\">\n",
       "      <th></th>\n",
       "      <th>created_at</th>\n",
       "      <th>latitude</th>\n",
       "      <th>longitude</th>\n",
       "      <th>id</th>\n",
       "      <th>name</th>\n",
       "    </tr>\n",
       "  </thead>\n",
       "  <tbody>\n",
       "    <tr>\n",
       "      <th>4</th>\n",
       "      <td>2018-11-08 09:36:50.440822</td>\n",
       "      <td>55.699557</td>\n",
       "      <td>12.515065</td>\n",
       "      <td>6233</td>\n",
       "      <td>GrÃ¸ndal Multicenter</td>\n",
       "    </tr>\n",
       "    <tr>\n",
       "      <th>7</th>\n",
       "      <td>2019-03-14 11:39:00.814359</td>\n",
       "      <td>55.697218</td>\n",
       "      <td>12.584605</td>\n",
       "      <td>7148</td>\n",
       "      <td>SÃ¸nderborggade</td>\n",
       "    </tr>\n",
       "    <tr>\n",
       "      <th>8</th>\n",
       "      <td>2018-07-22 15:03:16.438551</td>\n",
       "      <td>55.669671</td>\n",
       "      <td>12.545823</td>\n",
       "      <td>4947</td>\n",
       "      <td>MatthÃ¦usgade</td>\n",
       "    </tr>\n",
       "    <tr>\n",
       "      <th>14</th>\n",
       "      <td>2018-11-29 18:53:59.393007</td>\n",
       "      <td>55.616528</td>\n",
       "      <td>12.585753</td>\n",
       "      <td>6411</td>\n",
       "      <td>PilegÃ¥rd Alle</td>\n",
       "    </tr>\n",
       "    <tr>\n",
       "      <th>17</th>\n",
       "      <td>2018-12-03 12:31:53.789002</td>\n",
       "      <td>55.637874</td>\n",
       "      <td>12.590540</td>\n",
       "      <td>6434</td>\n",
       "      <td>Hf. Elmebo</td>\n",
       "    </tr>\n",
       "  </tbody>\n",
       "</table>\n",
       "</div>"
      ],
      "text/plain": [
       "                   created_at   latitude  longitude    id  \\\n",
       "4  2018-11-08 09:36:50.440822  55.699557  12.515065  6233   \n",
       "7  2019-03-14 11:39:00.814359  55.697218  12.584605  7148   \n",
       "8  2018-07-22 15:03:16.438551  55.669671  12.545823  4947   \n",
       "14 2018-11-29 18:53:59.393007  55.616528  12.585753  6411   \n",
       "17 2018-12-03 12:31:53.789002  55.637874  12.590540  6434   \n",
       "\n",
       "                    name  \n",
       "4   GrÃ¸ndal Multicenter  \n",
       "7        SÃ¸nderborggade  \n",
       "8          MatthÃ¦usgade  \n",
       "14        PilegÃ¥rd Alle  \n",
       "17            Hf. Elmebo  "
      ]
     },
     "execution_count": 320,
     "metadata": {},
     "output_type": "execute_result"
    }
   ],
   "source": [
    "# in hubs explore names that contain non english characters\n",
    "hubs[hubs.name.str.contains('[^a-zA-Z0-9\\s]')].head()"
   ]
  },
  {
   "cell_type": "code",
   "execution_count": 321,
   "metadata": {},
   "outputs": [],
   "source": [
    "# replace Ã¦ with æ in hubs names\n",
    "# replace Ã¸Ã˜ with ø, Ø in hubs names\n",
    "# replace Ã¥ with å in hubs names\n",
    "# replace Ã… with Å in hubs names\n",
    "# replace Ã© with é in hubs names\n",
    "# replace Ã¼ with ü in hubs names\n",
    "# replace Ã¶ with ö in hubs names\n",
    "# replace non-ascii characters in hubs names\n",
    "hubs['name'] = hubs['name'].str.replace('Ã¦', 'æ', regex=True)\n",
    "hubs['name'] = hubs['name'].str.replace('Ã¸', 'ø', regex=True)\n",
    "hubs['name'] = hubs['name'].str.replace('Ã¥', 'å', regex=True)\n",
    "hubs['name'] = hubs['name'].str.replace('Ã…', 'Å', regex=True)\n",
    "hubs['name'] = hubs['name'].str.replace('Ã˜', 'Ø', regex=True)\n",
    "hubs['name'] = hubs['name'].str.replace('Ã©', 'é', regex=True)\n",
    "hubs['name'] = hubs['name'].str.replace('Ã¼', 'ü', regex=True)\n",
    "hubs['name'] = hubs['name'].str.replace('Ã¶', 'ö', regex=True)\n",
    "\n",
    "# remove entire substring if it is in between [] like [N], [G]...\n",
    "hubs['name'] = hubs['name'].str.replace('\\[[^\\]]*\\]', '', regex=True)"
   ]
  },
  {
   "cell_type": "code",
   "execution_count": 322,
   "metadata": {},
   "outputs": [
    {
     "data": {
      "text/html": [
       "<div>\n",
       "<style scoped>\n",
       "    .dataframe tbody tr th:only-of-type {\n",
       "        vertical-align: middle;\n",
       "    }\n",
       "\n",
       "    .dataframe tbody tr th {\n",
       "        vertical-align: top;\n",
       "    }\n",
       "\n",
       "    .dataframe thead th {\n",
       "        text-align: right;\n",
       "    }\n",
       "</style>\n",
       "<table border=\"1\" class=\"dataframe\">\n",
       "  <thead>\n",
       "    <tr style=\"text-align: right;\">\n",
       "      <th></th>\n",
       "      <th>created_at</th>\n",
       "      <th>latitude</th>\n",
       "      <th>longitude</th>\n",
       "      <th>id</th>\n",
       "      <th>name</th>\n",
       "    </tr>\n",
       "  </thead>\n",
       "  <tbody>\n",
       "    <tr>\n",
       "      <th>0</th>\n",
       "      <td>2018-05-21 09:35:00.697175</td>\n",
       "      <td>48.864936</td>\n",
       "      <td>2.310624</td>\n",
       "      <td>3268</td>\n",
       "      <td>Cours la Reine</td>\n",
       "    </tr>\n",
       "    <tr>\n",
       "      <th>1</th>\n",
       "      <td>2018-11-26 09:06:05.590590</td>\n",
       "      <td>55.695252</td>\n",
       "      <td>12.547185</td>\n",
       "      <td>6367</td>\n",
       "      <td>Heinesgade</td>\n",
       "    </tr>\n",
       "    <tr>\n",
       "      <th>2</th>\n",
       "      <td>2018-06-05 12:12:28.639837</td>\n",
       "      <td>55.676916</td>\n",
       "      <td>12.564896</td>\n",
       "      <td>3642</td>\n",
       "      <td>Concert Hall Pumpehuset</td>\n",
       "    </tr>\n",
       "    <tr>\n",
       "      <th>3</th>\n",
       "      <td>2018-05-28 20:07:34.173984</td>\n",
       "      <td>55.668700</td>\n",
       "      <td>12.551114</td>\n",
       "      <td>3526</td>\n",
       "      <td>Saxogade</td>\n",
       "    </tr>\n",
       "    <tr>\n",
       "      <th>4</th>\n",
       "      <td>2018-11-08 09:36:50.440822</td>\n",
       "      <td>55.699557</td>\n",
       "      <td>12.515065</td>\n",
       "      <td>6233</td>\n",
       "      <td>Grøndal Multicenter</td>\n",
       "    </tr>\n",
       "  </tbody>\n",
       "</table>\n",
       "</div>"
      ],
      "text/plain": [
       "                  created_at   latitude  longitude    id  \\\n",
       "0 2018-05-21 09:35:00.697175  48.864936   2.310624  3268   \n",
       "1 2018-11-26 09:06:05.590590  55.695252  12.547185  6367   \n",
       "2 2018-06-05 12:12:28.639837  55.676916  12.564896  3642   \n",
       "3 2018-05-28 20:07:34.173984  55.668700  12.551114  3526   \n",
       "4 2018-11-08 09:36:50.440822  55.699557  12.515065  6233   \n",
       "\n",
       "                      name  \n",
       "0           Cours la Reine  \n",
       "1               Heinesgade  \n",
       "2  Concert Hall Pumpehuset  \n",
       "3                 Saxogade  \n",
       "4      Grøndal Multicenter  "
      ]
     },
     "execution_count": 322,
     "metadata": {},
     "output_type": "execute_result"
    }
   ],
   "source": [
    "hubs.head()"
   ]
  },
  {
   "cell_type": "code",
   "execution_count": 323,
   "metadata": {},
   "outputs": [
    {
     "name": "stdout",
     "output_type": "stream",
     "text": [
      "Nr of dropoff_hub_id not in hubs id:  36\n"
     ]
    }
   ],
   "source": [
    "# check how man dropoff_hub_id are not in hubs id\n",
    "print('Nr of dropoff_hub_id not in hubs id: ', rentals[~rentals.dropoff_hub_id.isin(hubs.id)].dropoff_hub_id.nunique())"
   ]
  },
  {
   "cell_type": "code",
   "execution_count": 324,
   "metadata": {},
   "outputs": [
    {
     "data": {
      "text/html": [
       "<div>\n",
       "<style scoped>\n",
       "    .dataframe tbody tr th:only-of-type {\n",
       "        vertical-align: middle;\n",
       "    }\n",
       "\n",
       "    .dataframe tbody tr th {\n",
       "        vertical-align: top;\n",
       "    }\n",
       "\n",
       "    .dataframe thead th {\n",
       "        text-align: right;\n",
       "    }\n",
       "</style>\n",
       "<table border=\"1\" class=\"dataframe\">\n",
       "  <thead>\n",
       "    <tr style=\"text-align: right;\">\n",
       "      <th></th>\n",
       "      <th>created_at</th>\n",
       "      <th>finished_at</th>\n",
       "      <th>pickup_hub_id</th>\n",
       "      <th>dropoff_hub_id</th>\n",
       "      <th>user_id</th>\n",
       "      <th>id</th>\n",
       "      <th>latitude</th>\n",
       "      <th>longitude</th>\n",
       "      <th>name</th>\n",
       "    </tr>\n",
       "  </thead>\n",
       "  <tbody>\n",
       "    <tr>\n",
       "      <th>0</th>\n",
       "      <td>2018-03-01 17:43:14.707445</td>\n",
       "      <td>2018-03-01 18:14:12.145</td>\n",
       "      <td>2163</td>\n",
       "      <td>2449.0</td>\n",
       "      <td>108186</td>\n",
       "      <td>2163.0</td>\n",
       "      <td>55.673440</td>\n",
       "      <td>12.564409</td>\n",
       "      <td>Central Station</td>\n",
       "    </tr>\n",
       "    <tr>\n",
       "      <th>1</th>\n",
       "      <td>2018-03-02 09:55:18.823405</td>\n",
       "      <td>2018-03-02 16:56:35.013</td>\n",
       "      <td>2381</td>\n",
       "      <td>2381.0</td>\n",
       "      <td>113852</td>\n",
       "      <td>2381.0</td>\n",
       "      <td>55.688937</td>\n",
       "      <td>12.562486</td>\n",
       "      <td>Ravnsborggade</td>\n",
       "    </tr>\n",
       "    <tr>\n",
       "      <th>2</th>\n",
       "      <td>2018-03-02 14:00:10.755516</td>\n",
       "      <td>2018-03-02 17:13:08.047</td>\n",
       "      <td>1513</td>\n",
       "      <td>1513.0</td>\n",
       "      <td>113912</td>\n",
       "      <td>1513.0</td>\n",
       "      <td>55.682558</td>\n",
       "      <td>12.580462</td>\n",
       "      <td>Møntergade</td>\n",
       "    </tr>\n",
       "    <tr>\n",
       "      <th>3</th>\n",
       "      <td>2018-03-01 10:25:34.429934</td>\n",
       "      <td>2018-03-02 20:23:46.544</td>\n",
       "      <td>2337</td>\n",
       "      <td>2337.0</td>\n",
       "      <td>113822</td>\n",
       "      <td>2337.0</td>\n",
       "      <td>55.670289</td>\n",
       "      <td>12.565058</td>\n",
       "      <td>København H - Bus Stops</td>\n",
       "    </tr>\n",
       "    <tr>\n",
       "      <th>4</th>\n",
       "      <td>2018-03-02 08:51:47.459257</td>\n",
       "      <td>2018-03-02 21:18:48.813</td>\n",
       "      <td>2153</td>\n",
       "      <td>233.0</td>\n",
       "      <td>113881</td>\n",
       "      <td>2153.0</td>\n",
       "      <td>55.680517</td>\n",
       "      <td>12.587455</td>\n",
       "      <td>Nyhavn</td>\n",
       "    </tr>\n",
       "  </tbody>\n",
       "</table>\n",
       "</div>"
      ],
      "text/plain": [
       "                   created_at              finished_at  pickup_hub_id  \\\n",
       "0  2018-03-01 17:43:14.707445  2018-03-01 18:14:12.145           2163   \n",
       "1  2018-03-02 09:55:18.823405  2018-03-02 16:56:35.013           2381   \n",
       "2  2018-03-02 14:00:10.755516  2018-03-02 17:13:08.047           1513   \n",
       "3  2018-03-01 10:25:34.429934  2018-03-02 20:23:46.544           2337   \n",
       "4  2018-03-02 08:51:47.459257  2018-03-02 21:18:48.813           2153   \n",
       "\n",
       "   dropoff_hub_id  user_id      id   latitude  longitude  \\\n",
       "0          2449.0   108186  2163.0  55.673440  12.564409   \n",
       "1          2381.0   113852  2381.0  55.688937  12.562486   \n",
       "2          1513.0   113912  1513.0  55.682558  12.580462   \n",
       "3          2337.0   113822  2337.0  55.670289  12.565058   \n",
       "4           233.0   113881  2153.0  55.680517  12.587455   \n",
       "\n",
       "                      name  \n",
       "0          Central Station  \n",
       "1            Ravnsborggade  \n",
       "2               Møntergade  \n",
       "3  København H - Bus Stops  \n",
       "4                   Nyhavn  "
      ]
     },
     "execution_count": 324,
     "metadata": {},
     "output_type": "execute_result"
    }
   ],
   "source": [
    "# merge hubs and rentals on pickup_hub_id\n",
    "rentals = rentals.merge(hubs[['id', 'latitude', 'longitude', 'name']], how='left', left_on='pickup_hub_id', right_on='id', suffixes=('', 'Start'))\n",
    "rentals.head()"
   ]
  },
  {
   "cell_type": "code",
   "execution_count": 325,
   "metadata": {},
   "outputs": [],
   "source": [
    "# for each unique id in dropoff_hub_id, get the corresponding latitude, longitude and name from hubs\n",
    "# add these columns to rentals named LatitudeEnd, LongitudeEnd, NameEnd\n",
    "rentals = rentals.merge(hubs[['id', 'latitude', 'longitude', 'name']], how='left', left_on='dropoff_hub_id', right_on='id', suffixes=('', 'End'))"
   ]
  },
  {
   "cell_type": "code",
   "execution_count": 326,
   "metadata": {},
   "outputs": [
    {
     "name": "stdout",
     "output_type": "stream",
     "text": [
      "<class 'pandas.core.frame.DataFrame'>\n",
      "RangeIndex: 261189 entries, 0 to 261188\n",
      "Data columns (total 13 columns):\n",
      " #   Column          Non-Null Count   Dtype  \n",
      "---  ------          --------------   -----  \n",
      " 0   created_at      261189 non-null  object \n",
      " 1   finished_at     261189 non-null  object \n",
      " 2   pickup_hub_id   261189 non-null  int64  \n",
      " 3   dropoff_hub_id  261189 non-null  float64\n",
      " 4   user_id         261189 non-null  int64  \n",
      " 5   id              258232 non-null  float64\n",
      " 6   latitude        258232 non-null  float64\n",
      " 7   longitude       258232 non-null  float64\n",
      " 8   name            258232 non-null  object \n",
      " 9   idEnd           258209 non-null  float64\n",
      " 10  latitudeEnd     258209 non-null  float64\n",
      " 11  longitudeEnd    258209 non-null  float64\n",
      " 12  nameEnd         258209 non-null  object \n",
      "dtypes: float64(7), int64(2), object(4)\n",
      "memory usage: 25.9+ MB\n"
     ]
    }
   ],
   "source": [
    "rentals.info()  "
   ]
  },
  {
   "cell_type": "code",
   "execution_count": 327,
   "metadata": {},
   "outputs": [],
   "source": [
    "# drop nan values in rentals\n",
    "rentals.dropna(inplace=True)"
   ]
  },
  {
   "cell_type": "code",
   "execution_count": 328,
   "metadata": {},
   "outputs": [],
   "source": [
    "# rename columns, created_at to StartTime, finished_at to EndTime, name to PickupHubName, latitude to LatitudeStart, longitude to LongitudeStart\n",
    "rentals.rename(columns={'created_at': 'StartTime', 'finished_at': 'EndTime', 'latitude': 'latitudeStart', \n",
    "                        'longitude': 'longitudeStart', \"pickup_hub_id\": \"StartHubId\", \"dropoff_hub_id\": \"EndHubId\",\n",
    "                        \"user_id\": \"UserId\", \"name\":\"nameStart\"}, inplace=True)"
   ]
  },
  {
   "cell_type": "code",
   "execution_count": 329,
   "metadata": {},
   "outputs": [
    {
     "data": {
      "text/html": [
       "<div>\n",
       "<style scoped>\n",
       "    .dataframe tbody tr th:only-of-type {\n",
       "        vertical-align: middle;\n",
       "    }\n",
       "\n",
       "    .dataframe tbody tr th {\n",
       "        vertical-align: top;\n",
       "    }\n",
       "\n",
       "    .dataframe thead th {\n",
       "        text-align: right;\n",
       "    }\n",
       "</style>\n",
       "<table border=\"1\" class=\"dataframe\">\n",
       "  <thead>\n",
       "    <tr style=\"text-align: right;\">\n",
       "      <th></th>\n",
       "      <th>StartTime</th>\n",
       "      <th>EndTime</th>\n",
       "      <th>StartHubId</th>\n",
       "      <th>EndHubId</th>\n",
       "      <th>UserId</th>\n",
       "      <th>id</th>\n",
       "      <th>latitudeStart</th>\n",
       "      <th>longitudeStart</th>\n",
       "      <th>nameStart</th>\n",
       "      <th>idEnd</th>\n",
       "      <th>latitudeEnd</th>\n",
       "      <th>longitudeEnd</th>\n",
       "      <th>nameEnd</th>\n",
       "    </tr>\n",
       "  </thead>\n",
       "  <tbody>\n",
       "    <tr>\n",
       "      <th>0</th>\n",
       "      <td>2018-03-01 17:43:14.707445</td>\n",
       "      <td>2018-03-01 18:14:12.145</td>\n",
       "      <td>2163</td>\n",
       "      <td>2449.0</td>\n",
       "      <td>108186</td>\n",
       "      <td>2163.0</td>\n",
       "      <td>55.673440</td>\n",
       "      <td>12.564409</td>\n",
       "      <td>Central Station</td>\n",
       "      <td>2449.0</td>\n",
       "      <td>55.658239</td>\n",
       "      <td>12.605434</td>\n",
       "      <td>Skotlands Plads</td>\n",
       "    </tr>\n",
       "    <tr>\n",
       "      <th>1</th>\n",
       "      <td>2018-03-02 09:55:18.823405</td>\n",
       "      <td>2018-03-02 16:56:35.013</td>\n",
       "      <td>2381</td>\n",
       "      <td>2381.0</td>\n",
       "      <td>113852</td>\n",
       "      <td>2381.0</td>\n",
       "      <td>55.688937</td>\n",
       "      <td>12.562486</td>\n",
       "      <td>Ravnsborggade</td>\n",
       "      <td>2381.0</td>\n",
       "      <td>55.688937</td>\n",
       "      <td>12.562486</td>\n",
       "      <td>Ravnsborggade</td>\n",
       "    </tr>\n",
       "    <tr>\n",
       "      <th>2</th>\n",
       "      <td>2018-03-02 14:00:10.755516</td>\n",
       "      <td>2018-03-02 17:13:08.047</td>\n",
       "      <td>1513</td>\n",
       "      <td>1513.0</td>\n",
       "      <td>113912</td>\n",
       "      <td>1513.0</td>\n",
       "      <td>55.682558</td>\n",
       "      <td>12.580462</td>\n",
       "      <td>Møntergade</td>\n",
       "      <td>1513.0</td>\n",
       "      <td>55.682558</td>\n",
       "      <td>12.580462</td>\n",
       "      <td>Møntergade</td>\n",
       "    </tr>\n",
       "    <tr>\n",
       "      <th>3</th>\n",
       "      <td>2018-03-01 10:25:34.429934</td>\n",
       "      <td>2018-03-02 20:23:46.544</td>\n",
       "      <td>2337</td>\n",
       "      <td>2337.0</td>\n",
       "      <td>113822</td>\n",
       "      <td>2337.0</td>\n",
       "      <td>55.670289</td>\n",
       "      <td>12.565058</td>\n",
       "      <td>København H - Bus Stops</td>\n",
       "      <td>2337.0</td>\n",
       "      <td>55.670289</td>\n",
       "      <td>12.565058</td>\n",
       "      <td>København H - Bus Stops</td>\n",
       "    </tr>\n",
       "    <tr>\n",
       "      <th>4</th>\n",
       "      <td>2018-03-02 08:51:47.459257</td>\n",
       "      <td>2018-03-02 21:18:48.813</td>\n",
       "      <td>2153</td>\n",
       "      <td>233.0</td>\n",
       "      <td>113881</td>\n",
       "      <td>2153.0</td>\n",
       "      <td>55.680517</td>\n",
       "      <td>12.587455</td>\n",
       "      <td>Nyhavn</td>\n",
       "      <td>233.0</td>\n",
       "      <td>55.668475</td>\n",
       "      <td>12.557384</td>\n",
       "      <td>Høkerboderne</td>\n",
       "    </tr>\n",
       "  </tbody>\n",
       "</table>\n",
       "</div>"
      ],
      "text/plain": [
       "                    StartTime                  EndTime  StartHubId  EndHubId  \\\n",
       "0  2018-03-01 17:43:14.707445  2018-03-01 18:14:12.145        2163    2449.0   \n",
       "1  2018-03-02 09:55:18.823405  2018-03-02 16:56:35.013        2381    2381.0   \n",
       "2  2018-03-02 14:00:10.755516  2018-03-02 17:13:08.047        1513    1513.0   \n",
       "3  2018-03-01 10:25:34.429934  2018-03-02 20:23:46.544        2337    2337.0   \n",
       "4  2018-03-02 08:51:47.459257  2018-03-02 21:18:48.813        2153     233.0   \n",
       "\n",
       "   UserId      id  latitudeStart  longitudeStart                nameStart  \\\n",
       "0  108186  2163.0      55.673440       12.564409          Central Station   \n",
       "1  113852  2381.0      55.688937       12.562486            Ravnsborggade   \n",
       "2  113912  1513.0      55.682558       12.580462               Møntergade   \n",
       "3  113822  2337.0      55.670289       12.565058  København H - Bus Stops   \n",
       "4  113881  2153.0      55.680517       12.587455                   Nyhavn   \n",
       "\n",
       "    idEnd  latitudeEnd  longitudeEnd                  nameEnd  \n",
       "0  2449.0    55.658239     12.605434          Skotlands Plads  \n",
       "1  2381.0    55.688937     12.562486            Ravnsborggade  \n",
       "2  1513.0    55.682558     12.580462               Møntergade  \n",
       "3  2337.0    55.670289     12.565058  København H - Bus Stops  \n",
       "4   233.0    55.668475     12.557384             Høkerboderne  "
      ]
     },
     "execution_count": 329,
     "metadata": {},
     "output_type": "execute_result"
    }
   ],
   "source": [
    "rentals.head()"
   ]
  },
  {
   "cell_type": "code",
   "execution_count": 330,
   "metadata": {},
   "outputs": [],
   "source": [
    "# drop id and idEnd columns\n",
    "rentals.drop(['id', 'idEnd'], axis=1, inplace=True)"
   ]
  },
  {
   "cell_type": "code",
   "execution_count": 331,
   "metadata": {},
   "outputs": [
    {
     "name": "stdout",
     "output_type": "stream",
     "text": [
      "<class 'pandas.core.frame.DataFrame'>\n",
      "Index: 255990 entries, 0 to 261188\n",
      "Data columns (total 11 columns):\n",
      " #   Column          Non-Null Count   Dtype  \n",
      "---  ------          --------------   -----  \n",
      " 0   StartTime       255990 non-null  object \n",
      " 1   EndTime         255990 non-null  object \n",
      " 2   StartHubId      255990 non-null  int64  \n",
      " 3   EndHubId        255990 non-null  float64\n",
      " 4   UserId          255990 non-null  int64  \n",
      " 5   latitudeStart   255990 non-null  float64\n",
      " 6   longitudeStart  255990 non-null  float64\n",
      " 7   nameStart       255990 non-null  object \n",
      " 8   latitudeEnd     255990 non-null  float64\n",
      " 9   longitudeEnd    255990 non-null  float64\n",
      " 10  nameEnd         255990 non-null  object \n",
      "dtypes: float64(5), int64(2), object(4)\n",
      "memory usage: 23.4+ MB\n"
     ]
    }
   ],
   "source": [
    "rentals.info()  "
   ]
  },
  {
   "cell_type": "code",
   "execution_count": 335,
   "metadata": {},
   "outputs": [],
   "source": [
    "# set StartTime and EndTime to datetime\n",
    "rentals['StartTime'] = pd.to_datetime(rentals['StartTime'], format=\"mixed\")\n",
    "rentals['EndTime'] = pd.to_datetime(rentals['EndTime'], format=\"mixed\")\n",
    "# set EndHubId to int\n",
    "rentals['EndHubId'] = rentals['EndHubId'].astype(int)"
   ]
  },
  {
   "cell_type": "code",
   "execution_count": 336,
   "metadata": {},
   "outputs": [
    {
     "name": "stdout",
     "output_type": "stream",
     "text": [
      "<class 'pandas.core.frame.DataFrame'>\n",
      "Index: 255990 entries, 0 to 261188\n",
      "Data columns (total 11 columns):\n",
      " #   Column          Non-Null Count   Dtype         \n",
      "---  ------          --------------   -----         \n",
      " 0   StartTime       255990 non-null  datetime64[ns]\n",
      " 1   EndTime         255990 non-null  datetime64[ns]\n",
      " 2   StartHubId      255990 non-null  int64         \n",
      " 3   EndHubId        255990 non-null  int32         \n",
      " 4   UserId          255990 non-null  int64         \n",
      " 5   latitudeStart   255990 non-null  float64       \n",
      " 6   longitudeStart  255990 non-null  float64       \n",
      " 7   nameStart       255990 non-null  object        \n",
      " 8   latitudeEnd     255990 non-null  float64       \n",
      " 9   longitudeEnd    255990 non-null  float64       \n",
      " 10  nameEnd         255990 non-null  object        \n",
      "dtypes: datetime64[ns](2), float64(4), int32(1), int64(2), object(2)\n",
      "memory usage: 22.5+ MB\n"
     ]
    }
   ],
   "source": [
    "rentals.info()"
   ]
  },
  {
   "cell_type": "code",
   "execution_count": 338,
   "metadata": {},
   "outputs": [],
   "source": [
    "duplicate_rows_new = rentals.duplicated().sum()"
   ]
  },
  {
   "cell_type": "code",
   "execution_count": 339,
   "metadata": {},
   "outputs": [
    {
     "data": {
      "text/plain": [
       "207"
      ]
     },
     "execution_count": 339,
     "metadata": {},
     "output_type": "execute_result"
    }
   ],
   "source": [
    "duplicate_rows_new"
   ]
  },
  {
   "cell_type": "code",
   "execution_count": 340,
   "metadata": {},
   "outputs": [],
   "source": [
    "# drop duplicates\n",
    "rentals.drop_duplicates(inplace=True)"
   ]
  },
  {
   "cell_type": "code",
   "execution_count": 341,
   "metadata": {},
   "outputs": [],
   "source": [
    "# save rentals to csv\n",
    "rentals.to_csv('../data/processed/donkey_rentals.csv', index=False)"
   ]
  },
  {
   "cell_type": "code",
   "execution_count": null,
   "metadata": {},
   "outputs": [],
   "source": []
  }
 ],
 "metadata": {
  "kernelspec": {
   "display_name": "base",
   "language": "python",
   "name": "python3"
  },
  "language_info": {
   "codemirror_mode": {
    "name": "ipython",
    "version": 3
   },
   "file_extension": ".py",
   "mimetype": "text/x-python",
   "name": "python",
   "nbconvert_exporter": "python",
   "pygments_lexer": "ipython3",
   "version": "3.11.5"
  }
 },
 "nbformat": 4,
 "nbformat_minor": 2
}
