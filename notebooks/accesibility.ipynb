{
 "cells": [
  {
   "cell_type": "markdown",
   "metadata": {},
   "source": [
    "## Complementarity & Accessibilty"
   ]
  },
  {
   "cell_type": "markdown",
   "metadata": {},
   "source": [
    "### 1.  Imports & Declarations"
   ]
  },
  {
   "cell_type": "code",
   "execution_count": 5,
   "metadata": {},
   "outputs": [],
   "source": [
    "import pandas as pd\n",
    "import numpy as np\n",
    "import matplotlib.pyplot as plt\n",
    "import seaborn as sns\n",
    "import geopandas as gpd\n",
    "from haversine import haversine as hs\n",
    "import requests\n",
    "%matplotlib inline\n",
    "# from pydantic_settings import BaseSettings\n",
    "from ydata_profiling import ProfileReport\n",
    "\n",
    "import sys\n",
    "sys.path.append('../utils/')\n",
    "from functions import get_zone_info\n",
    "# from functions import haversine_distance as hs"
   ]
  },
  {
   "cell_type": "code",
   "execution_count": 6,
   "metadata": {},
   "outputs": [
    {
     "name": "stderr",
     "output_type": "stream",
     "text": [
      "/var/folders/77/lfxftc1s7_bch_43_w38l1zh0000gn/T/ipykernel_56910/1177208554.py:25: DtypeWarning: Columns (12,13) have mixed types. Specify dtype option on import or set low_memory=False.\n",
      "  sn_source = pd.read_csv(file_path, sep=\";\")\n",
      "/var/folders/77/lfxftc1s7_bch_43_w38l1zh0000gn/T/ipykernel_56910/1177208554.py:60: UserWarning: Parsing dates in %d/%m/%Y %H:%M format when dayfirst=False (the default) was specified. Pass `dayfirst=True` or specify a format to silence this warning.\n",
      "  sn_source['EndTime'] = pd.to_datetime(sn_source['EndTime'], errors='coerce')    #   to DateTime\n",
      "/var/folders/77/lfxftc1s7_bch_43_w38l1zh0000gn/T/ipykernel_56910/1177208554.py:61: UserWarning: Parsing dates in %d/%m/%Y %H:%M format when dayfirst=False (the default) was specified. Pass `dayfirst=True` or specify a format to silence this warning.\n",
      "  sn_source['StartTime'] = pd.to_datetime(sn_source['StartTime'], errors='coerce')    #   to Datetime\n"
     ]
    }
   ],
   "source": [
    "##############################################################################################################\n",
    "# GREEN MOBILITY\n",
    "##############################################################################################################\n",
    "\n",
    "# Initialize dataframe\n",
    "file_path = \"../data/processed/gm_raw.csv\"\n",
    "gm_source = pd.read_csv(file_path)\n",
    "\n",
    "# Rename columns if necessary\n",
    "\n",
    "# Drop columns if necessary\n",
    "\n",
    "# Descriptive statistics\n",
    "\n",
    "# Drop outliers, missing values, etc.\n",
    "\n",
    "# Add columns if necessary\n",
    "\n",
    "#################################################################################################################\n",
    "# DRIVE NOW\n",
    "#################################################################################################################\n",
    "\n",
    "# 1. Initialize dataframe\n",
    "file_path = \"../data/raw/DriveNow/DTU - data til case_LTMZones1.csv\"\n",
    "sn_source = pd.read_csv(file_path, sep=\";\")\n",
    "\n",
    "# 2. Rename columns if necessary\n",
    "sn_source.rename(columns= {\n",
    "                            \"Latitude (Start)\": \"LatitudeStart\", \n",
    "                            \"Longitude (Start)\": \"LongitudeStart\", \n",
    "                            'Latitude (Slut)': \"LatitudeEnd\", \n",
    "                            'Longitude (Slut)':'LongitudeEnd',\n",
    "                            'Reservationstidspunkt': \"ReservationTime\",\n",
    "                            'Start tidspunkt': \"StartTime\",\n",
    "                            'Slut tidspunkt': \"EndTime\",\n",
    "                            'Alder': \"Age\",\n",
    "                            'Køn': \"Gender\",\n",
    "                            'Batteristatus (start)': \"BatteryStart\",\n",
    "                            'Batteristatus (slut)':\"BatteryEnd\",\n",
    "                            'Km kørt': \"KmDriven\"\n",
    "                            }, inplace=True)\n",
    "\n",
    "# 3. Drop columns if necessary\n",
    "sn_source.drop(columns=['TurID'],inplace=True)\n",
    "\n",
    "# 4. Convert to appropriate data types\n",
    "# Convert to Numeric the following columns:\n",
    "target_ls = [\n",
    "    'KmDriven',\n",
    "    'BatteryStart',\n",
    "    'BatteryEnd',\n",
    "    'LatitudeEnd',\n",
    "    'LatitudeStart',\n",
    "    'LongitudeEnd',\n",
    "    'LongitudeStart'\n",
    "]\n",
    "for col in target_ls:\n",
    "    sn_source[col] = pd.to_numeric(sn_source[col],errors='coerce')\n",
    "\n",
    "sn_source['EndTime'] = pd.to_datetime(sn_source['EndTime'], errors='coerce')    #   to DateTime\n",
    "sn_source['StartTime'] = pd.to_datetime(sn_source['StartTime'], errors='coerce')    #   to Datetime\n",
    "\n",
    "\n",
    "# 5. Auxiliary columns\n",
    "sn_source['TripDurationHours'] = (sn_source['EndTime'] - sn_source['StartTime']).dt.total_seconds()/3600\n",
    "sn_source['TripDurationMinutes'] = sn_source['TripDurationHours']*60  #   trip duration in min\n",
    "sn_source['AvgSpeed'] = sn_source['KmDriven']/sn_source['TripDurationHours'] #   avg speed\n",
    "\n",
    "sn_source['Month'] = sn_source['StartTime'].dt.strftime(\"%B\").astype('category')  #   month\n",
    "sn_source['Weekday'] = sn_source['StartTime'].dt.day_name().astype('category')    #   day of the week\n",
    "sn_source['StartHour'] = sn_source['StartTime'].dt.hour.astype('category')    #   hour of the day\n",
    "\n",
    "# 6. Descriptive statistics\n",
    "sn_source.describe()\n",
    "\n",
    "# 7. Drop outliers, missing values, etc.\n",
    "\n",
    "# drop rows with missing values\n",
    "sn_source.dropna(inplace=True)\n",
    "\n",
    "# drop rows with BatteryEnd less than BatteryStart\n",
    "sn_source = sn_source[sn_source['BatteryStart'] <= sn_source['BatteryEnd']]\n",
    "\n",
    "# replace negative BatteryEnd with 0\n",
    "sn_source['BatteryEnd'] = sn_source['BatteryEnd'].apply(lambda x: 0 if x < 0 else x)\n",
    "\n",
    "# drop rows with negative and avg speed > 100 km/h\n",
    "sn_source = sn_source[(sn_source['AvgSpeed'] > 0) & (sn_source['AvgSpeed'] < 100)]\n",
    "\n",
    "# 8. Add columns if necessary\n",
    "# Add haversise distance to the dataframe\n",
    "\n",
    "# sn_source['HaversineDistance'] = hs((sn_source['LatitudeStart'], sn_source['LongitudeStart']),(sn_source['LatitudeEnd'], sn_source['LongitudeEnd']))\n",
    "\n",
    "\n",
    "##################################################################################################################\n",
    "# DONKEY REPUBLIC\n",
    "##################################################################################################################\n",
    "\n",
    "\n",
    "# Initialize Donkey Republic dataframe\n",
    "file_path = \"\"\n",
    "donkey_source = \"\"\n",
    "\n",
    "# Rename columns if necessary\n",
    "\n",
    "# Drop columns if necessary\n",
    "\n",
    "# Descriptive statistics\n",
    "\n",
    "# Drop outliers, missing values, etc."
   ]
  },
  {
   "cell_type": "code",
   "execution_count": 24,
   "metadata": {},
   "outputs": [
    {
     "name": "stdout",
     "output_type": "stream",
     "text": [
      "None\n"
     ]
    }
   ],
   "source": [
    "# ProfileReport(sn_source, title=\"DriveNow\", explorative=True)\n",
    "def get_osrm_route_distance(start_lat, start_lon, end_lat, end_lon):\n",
    "    route_service_url = f\"http://router.project-osrm.org/route/v1/driving/{start_lon},{start_lat};{end_lon},{end_lat}?overview=false\"\n",
    "    response = requests.get(route_service_url)\n",
    "    # Check if the response was successful\n",
    "    if response.status_code != 200:\n",
    "        return None\n",
    "    routes = response.json().get('routes')\n",
    "    if routes:\n",
    "        return routes[0]['distance'] / 1000.0  # convert to km\n",
    "    \n",
    "\n",
    "_ = sn_source\n",
    "\n",
    "print(get_osrm_route_distance(_['LatitudeStart'].iloc[0], _['LongitudeStart'].iloc[0], _['LatitudeEnd'].iloc[0], _['LongitudeEnd'].iloc[0]))\n",
    "\n"
   ]
  },
  {
   "cell_type": "code",
   "execution_count": 7,
   "metadata": {},
   "outputs": [
    {
     "data": {
      "image/png": "[encoded data removed]",
      "text/plain": [
       "<Figure size 640x480 with 1 Axes>"
      ]
     },
     "metadata": {},
     "output_type": "display_data"
    }
   ],
   "source": [
    "# plot histogram of average speed between 0 and 90 km/h using seaborn \n",
    "sns.histplot(data=sn_source[(sn_source['AvgSpeed']>0) & (sn_source['AvgSpeed']<90)], x=\"AvgSpeed\", bins=30, color='blue', kde=True)\n",
    "# change color of histogram\n",
    "sns.set_palette('Blues_r')\n",
    "sns.set_style('whitegrid')\n",
    "\n",
    "sns.despine()\n",
    "\n",
    "# add title and labels\n",
    "plt.title(\"Average speed of DriveNow trips\")\n",
    "plt.xlabel(\"Average speed (km/h)\")\n",
    "plt.ylabel(\"Number of trips\")\n",
    "plt.grid(False)\n",
    "# plt.show()\n",
    "\n",
    "# show median on the plot\n",
    "plt.axvline(x=sn_source['AvgSpeed'].median(), color='red', linestyle='--', linewidth=1)\n",
    "plt.show()"
   ]
  },
  {
   "cell_type": "code",
   "execution_count": 106,
   "metadata": {},
   "outputs": [
    {
     "data": {
      "text/html": [
       "<div>\n",
       "<style scoped>\n",
       "    .dataframe tbody tr th:only-of-type {\n",
       "        vertical-align: middle;\n",
       "    }\n",
       "\n",
       "    .dataframe tbody tr th {\n",
       "        vertical-align: top;\n",
       "    }\n",
       "\n",
       "    .dataframe thead th {\n",
       "        text-align: right;\n",
       "    }\n",
       "</style>\n",
       "<table border=\"1\" class=\"dataframe\">\n",
       "  <thead>\n",
       "    <tr style=\"text-align: right;\">\n",
       "      <th></th>\n",
       "      <th>BilID</th>\n",
       "      <th>PersonID</th>\n",
       "      <th>LatitudeStart</th>\n",
       "      <th>LongitudeStart</th>\n",
       "      <th>LatitudeEnd</th>\n",
       "      <th>LongitudeEnd</th>\n",
       "      <th>ReservationTime</th>\n",
       "      <th>StartTime</th>\n",
       "      <th>EndTime</th>\n",
       "      <th>Age</th>\n",
       "      <th>...</th>\n",
       "      <th>BatteryEnd</th>\n",
       "      <th>KmDriven</th>\n",
       "      <th>FromZoneID</th>\n",
       "      <th>ToZoneID</th>\n",
       "      <th>TripDurationHours</th>\n",
       "      <th>TripDurationMinutes</th>\n",
       "      <th>AvgSpeed</th>\n",
       "      <th>Month</th>\n",
       "      <th>Weekday</th>\n",
       "      <th>StartHour</th>\n",
       "    </tr>\n",
       "  </thead>\n",
       "  <tbody>\n",
       "  </tbody>\n",
       "</table>\n",
       "<p>0 rows × 22 columns</p>\n",
       "</div>"
      ],
      "text/plain": [
       "Empty DataFrame\n",
       "Columns: [BilID, PersonID, LatitudeStart, LongitudeStart, LatitudeEnd, LongitudeEnd, ReservationTime, StartTime, EndTime, Age, Gender, BatteryStart, BatteryEnd, KmDriven, FromZoneID, ToZoneID, TripDurationHours, TripDurationMinutes, AvgSpeed, Month, Weekday, StartHour]\n",
       "Index: []\n",
       "\n",
       "[0 rows x 22 columns]"
      ]
     },
     "execution_count": 106,
     "metadata": {},
     "output_type": "execute_result"
    }
   ],
   "source": [
    "sn_source"
   ]
  },
  {
   "cell_type": "markdown",
   "metadata": {},
   "source": [
    "### 2.  Trips profiling and statistics"
   ]
  },
  {
   "cell_type": "markdown",
   "metadata": {},
   "source": [
    "#### 2.1 GreenMobility Dataset"
   ]
  },
  {
   "cell_type": "code",
   "execution_count": 4,
   "metadata": {},
   "outputs": [
    {
     "data": {
      "text/plain": [
       "nan"
      ]
     },
     "execution_count": 4,
     "metadata": {},
     "output_type": "execute_result"
    }
   ],
   "source": [
    "sn_source['AvgSpeed'].median()"
   ]
  },
  {
   "cell_type": "code",
   "execution_count": null,
   "metadata": {},
   "outputs": [
    {
     "name": "stderr",
     "output_type": "stream",
     "text": [
      "/var/folders/77/lfxftc1s7_bch_43_w38l1zh0000gn/T/ipykernel_88003/1427624344.py:6: UserWarning: Ignoring `palette` because no `hue` variable has been assigned.\n",
      "  sns.histplot(gm_data['HaversineDistance'], bins=100, color='blue', palette='Blues_r', kde=True)\n"
     ]
    },
    {
     "data": {
      "image/png": "[encoded data removed]",
      "text/plain": [
       "<Figure size 1000x600 with 1 Axes>"
      ]
     },
     "metadata": {},
     "output_type": "display_data"
    }
   ],
   "source": [
    "# distribution of haversine distance visuzaliations\n",
    "plt.figure(figsize=(10,6))\n",
    "sns.set_style('whitegrid')\n",
    "sns.set_palette('Blues_r')\n",
    "sns.despine()\n",
    "sns.histplot(gm_data['HaversineDistance'], bins=100, color='blue', palette='Blues_r', kde=True)\n",
    "plt.ylabel('Percentage')\n",
    "# plt.yticks(np.arange(0, 0.06, 0.01))\n",
    "# plt.gca().yaxis.set_major_formatter('{:.0f}%'.format)\n",
    "plt.xlabel('Haversine Distance (km)')\n",
    "plt.title('Distribution of Haversine Distance')\n",
    "# plt.savefig('../reports/figures/haversine_distance.png')\n",
    "plt.show()"
   ]
  },
  {
   "cell_type": "code",
   "execution_count": null,
   "metadata": {},
   "outputs": [],
   "source": [
    "# Generate the profile report\n",
    "profile = ProfileReport(sn_source, title='Pandas Profiling Report', explorative=True)\n",
    "\n",
    "# Or to view it in a Jupyter Notebook\n",
    "profile.to_notebook_iframe()\n"
   ]
  },
  {
   "cell_type": "code",
   "execution_count": 90,
   "metadata": {},
   "outputs": [
    {
     "data": {
      "text/html": [
       "<div>\n",
       "<style scoped>\n",
       "    .dataframe tbody tr th:only-of-type {\n",
       "        vertical-align: middle;\n",
       "    }\n",
       "\n",
       "    .dataframe tbody tr th {\n",
       "        vertical-align: top;\n",
       "    }\n",
       "\n",
       "    .dataframe thead th {\n",
       "        text-align: right;\n",
       "    }\n",
       "</style>\n",
       "<table border=\"1\" class=\"dataframe\">\n",
       "  <thead>\n",
       "    <tr style=\"text-align: right;\">\n",
       "      <th></th>\n",
       "      <th>LatitudeEnd</th>\n",
       "      <th>LatitudeStart</th>\n",
       "      <th>LongitudeEnd</th>\n",
       "      <th>LongitudeStart</th>\n",
       "    </tr>\n",
       "  </thead>\n",
       "  <tbody>\n",
       "    <tr>\n",
       "      <th>2</th>\n",
       "      <td>55,775655</td>\n",
       "      <td>55,692382</td>\n",
       "      <td>12,513962</td>\n",
       "      <td>12,583143</td>\n",
       "    </tr>\n",
       "    <tr>\n",
       "      <th>3</th>\n",
       "      <td>55,706866</td>\n",
       "      <td>55,630274</td>\n",
       "      <td>12,587122</td>\n",
       "      <td>12,648864</td>\n",
       "    </tr>\n",
       "    <tr>\n",
       "      <th>4</th>\n",
       "      <td>55,677484</td>\n",
       "      <td>55,693602</td>\n",
       "      <td>12,489247</td>\n",
       "      <td>12,53821</td>\n",
       "    </tr>\n",
       "    <tr>\n",
       "      <th>5</th>\n",
       "      <td>55,630263</td>\n",
       "      <td>55,700745</td>\n",
       "      <td>12,648955</td>\n",
       "      <td>12,473436</td>\n",
       "    </tr>\n",
       "    <tr>\n",
       "      <th>6</th>\n",
       "      <td>55,692454</td>\n",
       "      <td>55,680014</td>\n",
       "      <td>12,504951</td>\n",
       "      <td>12,507755</td>\n",
       "    </tr>\n",
       "    <tr>\n",
       "      <th>...</th>\n",
       "      <td>...</td>\n",
       "      <td>...</td>\n",
       "      <td>...</td>\n",
       "      <td>...</td>\n",
       "    </tr>\n",
       "    <tr>\n",
       "      <th>365424</th>\n",
       "      <td>55,665031</td>\n",
       "      <td>55,668776</td>\n",
       "      <td>12,516615</td>\n",
       "      <td>12,516638</td>\n",
       "    </tr>\n",
       "    <tr>\n",
       "      <th>365442</th>\n",
       "      <td>55,656599</td>\n",
       "      <td>55,665624</td>\n",
       "      <td>12,487849</td>\n",
       "      <td>12,483596</td>\n",
       "    </tr>\n",
       "    <tr>\n",
       "      <th>365448</th>\n",
       "      <td>55,671479</td>\n",
       "      <td>55,676891</td>\n",
       "      <td>12,533911</td>\n",
       "      <td>12,538845</td>\n",
       "    </tr>\n",
       "    <tr>\n",
       "      <th>365464</th>\n",
       "      <td>55,671468</td>\n",
       "      <td>55,672062</td>\n",
       "      <td>12,534098</td>\n",
       "      <td>12,495884</td>\n",
       "    </tr>\n",
       "    <tr>\n",
       "      <th>365739</th>\n",
       "      <td>55,647584</td>\n",
       "      <td>55,655323</td>\n",
       "      <td>12,502876</td>\n",
       "      <td>12,537171</td>\n",
       "    </tr>\n",
       "  </tbody>\n",
       "</table>\n",
       "<p>3281 rows × 4 columns</p>\n",
       "</div>"
      ],
      "text/plain": [
       "       LatitudeEnd LatitudeStart LongitudeEnd LongitudeStart\n",
       "2        55,775655     55,692382    12,513962      12,583143\n",
       "3        55,706866     55,630274    12,587122      12,648864\n",
       "4        55,677484     55,693602    12,489247       12,53821\n",
       "5        55,630263     55,700745    12,648955      12,473436\n",
       "6        55,692454     55,680014    12,504951      12,507755\n",
       "...            ...           ...          ...            ...\n",
       "365424   55,665031     55,668776    12,516615      12,516638\n",
       "365442   55,656599     55,665624    12,487849      12,483596\n",
       "365448   55,671479     55,676891    12,533911      12,538845\n",
       "365464   55,671468     55,672062    12,534098      12,495884\n",
       "365739   55,647584     55,655323    12,502876      12,537171\n",
       "\n",
       "[3281 rows x 4 columns]"
      ]
     },
     "execution_count": 90,
     "metadata": {},
     "output_type": "execute_result"
    }
   ],
   "source": [
    "sn_source[['LatitudeEnd','LatitudeStart','LongitudeEnd','LongitudeStart']]"
   ]
  },
  {
   "cell_type": "code",
   "execution_count": null,
   "metadata": {},
   "outputs": [],
   "source": []
  },
  {
   "cell_type": "markdown",
   "metadata": {},
   "source": [
    "## STATISTICAL ANALYSIS : Hypothesis testing"
   ]
  }
 ],
 "metadata": {
  "kernelspec": {
   "display_name": "master_thesis",
   "language": "python",
   "name": "python3"
  },
  "language_info": {
   "codemirror_mode": {
    "name": "ipython",
    "version": 3
   },
   "file_extension": ".py",
   "mimetype": "text/x-python",
   "name": "python",
   "nbconvert_exporter": "python",
   "pygments_lexer": "ipython3",
   "version": "3.11.5"
  }
 },
 "nbformat": 4,
 "nbformat_minor": 2
}
