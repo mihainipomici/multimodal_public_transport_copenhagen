{
 "cells": [
  {
   "cell_type": "code",
   "execution_count": 1,
   "metadata": {},
   "outputs": [],
   "source": [
    "import requests\n",
    "\n",
    "def get_quickest_itinerary(start_lat, start_lon, end_lat, end_lon, start_datetime, num_itineraries, waitAtBeginningFactor):\n",
    "\n",
    "    return requests.get(\n",
    "\n",
    "        'http://localhost:8080/otp/routers/cph/plan?fromPlace=%f,%f&toPlace=%f,%f&optimize=QUICK&numItineraries=%d&waitAtBeginningFactor=%.1f&date=%s&time=%s' % (\n",
    "\n",
    "            start_lat,\n",
    "\n",
    "            start_lon,\n",
    "\n",
    "            end_lat,\n",
    "\n",
    "            end_lon,\n",
    "\n",
    "            num_itineraries,\n",
    "\n",
    "            waitAtBeginningFactor,\n",
    "\n",
    "            start_datetime.strftime('%m-%d-%Y'),\n",
    "\n",
    "            start_datetime.strftime('%H:%M:%S')\n",
    "\n",
    "    )).content"
   ]
  },
  {
   "cell_type": "code",
   "execution_count": null,
   "metadata": {},
   "outputs": [],
   "source": []
  }
 ],
 "metadata": {
  "kernelspec": {
   "display_name": "thesis",
   "language": "python",
   "name": "python3"
  },
  "language_info": {
   "codemirror_mode": {
    "name": "ipython",
    "version": 3
   },
   "file_extension": ".py",
   "mimetype": "text/x-python",
   "name": "python",
   "nbconvert_exporter": "python",
   "pygments_lexer": "ipython3",
   "version": "3.11.5"
  }
 },
 "nbformat": 4,
 "nbformat_minor": 2
}
